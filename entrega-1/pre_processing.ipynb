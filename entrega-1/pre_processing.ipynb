{
 "cells": [
  {
   "cell_type": "markdown",
   "metadata": {},
   "source": [
    "# Trabalho 1 - MC853B"
   ]
  },
  {
   "cell_type": "markdown",
   "metadata": {},
   "source": [
    "**Alunos:** \n",
    "\n",
    "Lucca Miranda Nunes - 230554\n",
    "\n",
    "Luiz Felipe Corradini Rego Costa - 230613\n",
    "\n",
    "Pablo Henrique Almeida Mendes - 230977\n"
   ]
  },
  {
   "cell_type": "markdown",
   "metadata": {},
   "source": [
    "\n",
    "\n",
    "**Doença de notificação compulsória escolhida:** Esquistossomose"
   ]
  },
  {
   "cell_type": "markdown",
   "metadata": {},
   "source": [
    "****"
   ]
  },
  {
   "cell_type": "markdown",
   "metadata": {},
   "source": [
    "## 1) Upload e investigação dos dados"
   ]
  },
  {
   "cell_type": "markdown",
   "metadata": {},
   "source": [
    "### 1.1) Análise Exploratória dos dados\n",
    "\n",
    "Os dados escolhidos para treinamento foram os da doença esquistossomose dos anos de 2020, 2021, 2022 e 2023. Os anos de 2024 em diante não estavam disponibilizados na base do SINAN. Todos os dados estão no diretório source/csv."
   ]
  },
  {
   "cell_type": "code",
   "execution_count": 342,
   "metadata": {},
   "outputs": [],
   "source": [
    "import pandas as pd\n",
    "\n",
    "esq_19 = pd.read_csv('../source/csv/ESQUBR19.csv')\n",
    "esq_20 = pd.read_csv('../source/csv/ESQUBR20.csv')\n",
    "esq_21 = pd.read_csv('../source/csv/ESQUBR21.csv')\n",
    "esq_22 = pd.read_csv('../source/csv/ESQUBR22.csv')\n",
    "esq_23 = pd.read_csv('../source/csv/ESQUBR23.csv')"
   ]
  },
  {
   "cell_type": "code",
   "execution_count": 343,
   "metadata": {},
   "outputs": [
    {
     "name": "stdout",
     "output_type": "stream",
     "text": [
      "(3608, 54)\n",
      "(1873, 54)\n",
      "(2395, 54)\n",
      "(2640, 54)\n",
      "(3059, 54)\n"
     ]
    }
   ],
   "source": [
    "print(esq_19.shape)\n",
    "print(esq_20.shape)\n",
    "print(esq_21.shape)\n",
    "print(esq_22.shape)\n",
    "print(esq_23.shape)"
   ]
  },
  {
   "cell_type": "markdown",
   "metadata": {},
   "source": [
    "Criando uma coluna para identificar o ano de cada notificação:"
   ]
  },
  {
   "cell_type": "code",
   "execution_count": 344,
   "metadata": {},
   "outputs": [],
   "source": [
    "esq_19['Ano_atual'] = 2019\n",
    "esq_20['Ano_atual'] = 2020\n",
    "esq_21['Ano_atual'] = 2021\n",
    "esq_22['Ano_atual'] = 2022\n",
    "esq_23['Ano_atual'] = 2023"
   ]
  },
  {
   "cell_type": "code",
   "execution_count": 345,
   "metadata": {},
   "outputs": [
    {
     "data": {
      "text/plain": [
       "Index(['Unnamed: 0', 'TP_NOT', 'ID_AGRAVO', 'DT_NOTIFIC', 'SEM_NOT', 'NU_ANO',\n",
       "       'SG_UF_NOT', 'ID_MUNICIP', 'ID_REGIONA', 'ID_UNIDADE', 'DT_SIN_PRI',\n",
       "       'SEM_PRI', 'ANO_NASC', 'NU_IDADE_N', 'CS_SEXO', 'CS_GESTANT', 'CS_RACA',\n",
       "       'CS_ESCOL_N', 'SG_UF', 'ID_MN_RESI', 'ID_RG_RESI', 'ID_PAIS',\n",
       "       'DT_INVEST', 'ID_OCUPA_N', 'DT_COPRO', 'AN_QUANT', 'OUTROS', 'TRATAM',\n",
       "       'TRATANAO', 'STCURA1', 'STCURA2', 'STCURA3', 'FORMA', 'TPAUTOCTO',\n",
       "       'COUFINF', 'COPAISINF', 'COMUNINF', 'NOPROPIN', 'NOCOLINF',\n",
       "       'DOENCA_TRA', 'EVOLUCAO', 'DT_ENCERRA', 'DT_DIGITA', 'DT_TRANSUS',\n",
       "       'DT_TRANSDM', 'DT_TRANSSM', 'DT_TRANSRS', 'DT_TRANSSE', 'DT_OBITO',\n",
       "       'DS_FORMA', 'AN_QUALI', 'DTTRAT', 'DT_RESU3', 'OUTRO_EX', 'Ano_atual'],\n",
       "      dtype='object')"
      ]
     },
     "execution_count": 345,
     "metadata": {},
     "output_type": "execute_result"
    }
   ],
   "source": [
    "esq_23.columns"
   ]
  },
  {
   "cell_type": "markdown",
   "metadata": {},
   "source": [
    "Precisamos investigar a quantidade de atributos-alvo em cada ano, a fim de garantir balanceamento nas classes dentro dos datasets de treino e de teste:\n",
    "\n",
    "Valores correspondentes a cada desfecho possível do paciente:\n",
    "\n",
    "\n",
    "1 - Cura\n",
    "\n",
    "2 - Não Cura\n",
    "\n",
    "3 - Óbito por \n",
    "esquistossomose \n",
    "\n",
    "4 -  Óbito por outras \n",
    "causas \n",
    "\n",
    "9 - Ignorado\n"
   ]
  },
  {
   "cell_type": "markdown",
   "metadata": {},
   "source": [
    "Como iremos usar os dados dos três anos, faz mais sentido concatená-los em um único DataFrame, a fim de realizar a análise em um único comando"
   ]
  },
  {
   "cell_type": "code",
   "execution_count": 346,
   "metadata": {},
   "outputs": [
    {
     "name": "stdout",
     "output_type": "stream",
     "text": [
      "1.0    7081\n",
      "9.0    1452\n",
      "3.0     330\n",
      "2.0     273\n",
      "4.0     142\n",
      "Name: EVOLUCAO, dtype: int64\n"
     ]
    }
   ],
   "source": [
    "esq_total = pd.concat([esq_19, esq_20, esq_21, esq_22, esq_23])\n",
    "print(esq_total['EVOLUCAO'].value_counts())\n",
    "\n",
    "# Reajustando os índices\n",
    "esq_total.reset_index(drop=True, inplace=True)"
   ]
  },
  {
   "cell_type": "code",
   "execution_count": 347,
   "metadata": {},
   "outputs": [
    {
     "data": {
      "text/plain": [
       "13575"
      ]
     },
     "execution_count": 347,
     "metadata": {},
     "output_type": "execute_result"
    }
   ],
   "source": [
    "len(esq_total)"
   ]
  },
  {
   "cell_type": "code",
   "execution_count": 348,
   "metadata": {},
   "outputs": [
    {
     "name": "stdout",
     "output_type": "stream",
     "text": [
      "Tratamento depois do óbito 3\n"
     ]
    }
   ],
   "source": [
    "print(\"Tratamento depois do óbito\",len(esq_total[esq_total['DTTRAT'] > esq_total['DT_OBITO']]))"
   ]
  },
  {
   "cell_type": "markdown",
   "metadata": {},
   "source": [
    "Como o problema que iremos prever é de natureza binária (óbito ou não-óbito), precisamos remover todas as instâncias que a resposta foi \"Ignorado\" ou \"Não-Cura\". Se o caso foi ignorado, não podemos inserí-lo em nenhuma das duas classes, e a classificação de \"Não-Cura\" também não torna possível avaliar se o paciente veio a óbito ou não. \n",
    "\n",
    "Com isso, levaremos em consideração também os pacientes que vieram a óbito por outros casos no peródo de tempo além da doença."
   ]
  },
  {
   "cell_type": "code",
   "execution_count": 349,
   "metadata": {},
   "outputs": [
    {
     "name": "stdout",
     "output_type": "stream",
     "text": [
      "1.0    7081\n",
      "3.0     330\n",
      "4.0     142\n",
      "Name: EVOLUCAO, dtype: int64\n",
      "(7553, 55)\n"
     ]
    }
   ],
   "source": [
    "esq_total = esq_total[(esq_total['EVOLUCAO'] == 1) | (esq_total['EVOLUCAO'] == 3) | (esq_total['EVOLUCAO'] == 4)]\n",
    "print(esq_total['EVOLUCAO'].value_counts())\n",
    "print(esq_total.shape)"
   ]
  },
  {
   "cell_type": "markdown",
   "metadata": {},
   "source": [
    "---"
   ]
  },
  {
   "cell_type": "code",
   "execution_count": 350,
   "metadata": {},
   "outputs": [
    {
     "name": "stdout",
     "output_type": "stream",
     "text": [
      "6329\n"
     ]
    }
   ],
   "source": [
    "print(len(esq_total[esq_total['DTTRAT'].notnull()]))"
   ]
  },
  {
   "cell_type": "markdown",
   "metadata": {},
   "source": [
    "Avaliando a distribuição da diferença dos óbitos para os treinamentos."
   ]
  },
  {
   "cell_type": "code",
   "execution_count": 351,
   "metadata": {},
   "outputs": [
    {
     "name": "stdout",
     "output_type": "stream",
     "text": [
      "1224\n",
      "7081\n"
     ]
    }
   ],
   "source": [
    "print(esq_total['DTTRAT'].isnull().sum())\n",
    "print(esq_total['DT_OBITO'].isnull().sum())"
   ]
  },
  {
   "cell_type": "markdown",
   "metadata": {},
   "source": [
    "Primeiramente, obteremos apenas aqueles pacientes cuja data de óbito não é nula."
   ]
  },
  {
   "cell_type": "code",
   "execution_count": 352,
   "metadata": {},
   "outputs": [
    {
     "name": "stdout",
     "output_type": "stream",
     "text": [
      "472\n",
      "91\n"
     ]
    }
   ],
   "source": [
    "esq_mortos = esq_total[esq_total['DT_OBITO'].notnull()]\n",
    "print(len(esq_mortos))\n",
    "\n",
    "print(len(esq_mortos[esq_mortos['DTTRAT'].notnull()]))"
   ]
  },
  {
   "cell_type": "markdown",
   "metadata": {},
   "source": [
    "Pudemos ver que, se considerarmos apenas os pacientes com data de tratamento mapeada, temos 10361 casos totais, sendo 91 mortes, o que dá uma taxa de mortalidade de 0,88%"
   ]
  },
  {
   "cell_type": "code",
   "execution_count": 353,
   "metadata": {},
   "outputs": [
    {
     "name": "stdout",
     "output_type": "stream",
     "text": [
      "Pacientes mortos cuja data de tratamento não é nula:  472\n",
      "(472, 57)\n"
     ]
    },
    {
     "data": {
      "text/html": [
       "<div>\n",
       "<style scoped>\n",
       "    .dataframe tbody tr th:only-of-type {\n",
       "        vertical-align: middle;\n",
       "    }\n",
       "\n",
       "    .dataframe tbody tr th {\n",
       "        vertical-align: top;\n",
       "    }\n",
       "\n",
       "    .dataframe thead th {\n",
       "        text-align: right;\n",
       "    }\n",
       "</style>\n",
       "<table border=\"1\" class=\"dataframe\">\n",
       "  <thead>\n",
       "    <tr style=\"text-align: right;\">\n",
       "      <th></th>\n",
       "      <th>difference_trat</th>\n",
       "      <th>DT_OBITO</th>\n",
       "      <th>DTTRAT</th>\n",
       "      <th>difference_not</th>\n",
       "      <th>DT_NOTIFIC</th>\n",
       "    </tr>\n",
       "  </thead>\n",
       "  <tbody>\n",
       "    <tr>\n",
       "      <th>17</th>\n",
       "      <td>NaT</td>\n",
       "      <td>2018-12-27</td>\n",
       "      <td>NaN</td>\n",
       "      <td>-8 days</td>\n",
       "      <td>2019-01-04</td>\n",
       "    </tr>\n",
       "    <tr>\n",
       "      <th>59</th>\n",
       "      <td>NaT</td>\n",
       "      <td>2018-02-21</td>\n",
       "      <td>NaN</td>\n",
       "      <td>-322 days</td>\n",
       "      <td>2019-01-09</td>\n",
       "    </tr>\n",
       "    <tr>\n",
       "      <th>80</th>\n",
       "      <td>NaT</td>\n",
       "      <td>2017-05-11</td>\n",
       "      <td>NaN</td>\n",
       "      <td>-610 days</td>\n",
       "      <td>2019-01-11</td>\n",
       "    </tr>\n",
       "    <tr>\n",
       "      <th>89</th>\n",
       "      <td>NaT</td>\n",
       "      <td>2019-01-06</td>\n",
       "      <td>NaN</td>\n",
       "      <td>-7 days</td>\n",
       "      <td>2019-01-13</td>\n",
       "    </tr>\n",
       "    <tr>\n",
       "      <th>93</th>\n",
       "      <td>NaT</td>\n",
       "      <td>2017-11-22</td>\n",
       "      <td>NaN</td>\n",
       "      <td>-418 days</td>\n",
       "      <td>2019-01-14</td>\n",
       "    </tr>\n",
       "    <tr>\n",
       "      <th>...</th>\n",
       "      <td>...</td>\n",
       "      <td>...</td>\n",
       "      <td>...</td>\n",
       "      <td>...</td>\n",
       "      <td>...</td>\n",
       "    </tr>\n",
       "    <tr>\n",
       "      <th>13423</th>\n",
       "      <td>4331 days</td>\n",
       "      <td>2023-06-17</td>\n",
       "      <td>2011-08-08</td>\n",
       "      <td>-170 days</td>\n",
       "      <td>2023-12-04</td>\n",
       "    </tr>\n",
       "    <tr>\n",
       "      <th>13484</th>\n",
       "      <td>NaT</td>\n",
       "      <td>2023-12-08</td>\n",
       "      <td>NaN</td>\n",
       "      <td>-4 days</td>\n",
       "      <td>2023-12-12</td>\n",
       "    </tr>\n",
       "    <tr>\n",
       "      <th>13502</th>\n",
       "      <td>NaT</td>\n",
       "      <td>2023-02-11</td>\n",
       "      <td>NaN</td>\n",
       "      <td>-306 days</td>\n",
       "      <td>2023-12-14</td>\n",
       "    </tr>\n",
       "    <tr>\n",
       "      <th>13511</th>\n",
       "      <td>NaT</td>\n",
       "      <td>2023-12-15</td>\n",
       "      <td>NaN</td>\n",
       "      <td>-3 days</td>\n",
       "      <td>2023-12-18</td>\n",
       "    </tr>\n",
       "    <tr>\n",
       "      <th>13512</th>\n",
       "      <td>NaT</td>\n",
       "      <td>2023-02-28</td>\n",
       "      <td>NaN</td>\n",
       "      <td>-293 days</td>\n",
       "      <td>2023-12-18</td>\n",
       "    </tr>\n",
       "  </tbody>\n",
       "</table>\n",
       "<p>472 rows × 5 columns</p>\n",
       "</div>"
      ],
      "text/plain": [
       "      difference_trat    DT_OBITO      DTTRAT difference_not  DT_NOTIFIC\n",
       "17                NaT  2018-12-27         NaN        -8 days  2019-01-04\n",
       "59                NaT  2018-02-21         NaN      -322 days  2019-01-09\n",
       "80                NaT  2017-05-11         NaN      -610 days  2019-01-11\n",
       "89                NaT  2019-01-06         NaN        -7 days  2019-01-13\n",
       "93                NaT  2017-11-22         NaN      -418 days  2019-01-14\n",
       "...               ...         ...         ...            ...         ...\n",
       "13423       4331 days  2023-06-17  2011-08-08      -170 days  2023-12-04\n",
       "13484             NaT  2023-12-08         NaN        -4 days  2023-12-12\n",
       "13502             NaT  2023-02-11         NaN      -306 days  2023-12-14\n",
       "13511             NaT  2023-12-15         NaN        -3 days  2023-12-18\n",
       "13512             NaT  2023-02-28         NaN      -293 days  2023-12-18\n",
       "\n",
       "[472 rows x 5 columns]"
      ]
     },
     "execution_count": 353,
     "metadata": {},
     "output_type": "execute_result"
    }
   ],
   "source": [
    "diff_trat = pd.concat([pd.DataFrame(pd.to_datetime(esq_mortos['DT_OBITO']) - pd.to_datetime(esq_mortos['DTTRAT']), columns=[\"difference_trat\"]),esq_mortos], axis=1)\n",
    "\n",
    "# Diferença da data de notificação e data de óbito\n",
    "diff = pd.concat([pd.DataFrame(pd.to_datetime(esq_mortos['DT_OBITO']) - pd.to_datetime(esq_mortos['DT_NOTIFIC']), columns=[\"difference_not\"]),diff_trat], axis=1)\n",
    "\n",
    "dead_difference = diff\n",
    "print(\"Pacientes mortos cuja data de tratamento não é nula: \", len(dead_difference))\n",
    "print(dead_difference.shape)\n",
    "dead_difference[['difference_trat', 'DT_OBITO', 'DTTRAT','difference_not','DT_NOTIFIC']]\n"
   ]
  },
  {
   "cell_type": "markdown",
   "metadata": {},
   "source": [
    "Problema: apenas 91 pacientes dos 473 mortos especificaram a data de início do tratamento"
   ]
  },
  {
   "cell_type": "code",
   "execution_count": 354,
   "metadata": {},
   "outputs": [],
   "source": [
    "# Create the 'difference class' column\n",
    "def classify_difference(diff):\n",
    "    if diff < pd.Timedelta(days=0):\n",
    "        return '<0 dias'\n",
    "    elif diff < pd.Timedelta(days=30):\n",
    "        return '<30 dias'\n",
    "    elif diff <= pd.Timedelta(days=60):\n",
    "        return '<60 dias'\n",
    "    elif diff <= pd.Timedelta(days=180):\n",
    "        return '<180 dias'\n",
    "    elif diff >= pd.Timedelta(days=180):\n",
    "        return '> 180 dias'\n",
    "    else:\n",
    "        return \"N classificado\"\n",
    "\n",
    "dead_difference['difference trat class'] = dead_difference['difference_trat'].apply(classify_difference)\n",
    "dead_difference['difference not class'] = dead_difference['difference_not'].apply(classify_difference)\n",
    "\n",
    "full_difference = diff\n",
    "full_difference['difference trat class'] = full_difference['difference_trat'].apply(classify_difference)\n",
    "full_difference['difference not class'] = full_difference['difference_not'].apply(classify_difference)\n"
   ]
  },
  {
   "cell_type": "code",
   "execution_count": 355,
   "metadata": {},
   "outputs": [
    {
     "data": {
      "image/png": "[encoded data removed]",
      "text/plain": [
       "<Figure size 640x480 with 1 Axes>"
      ]
     },
     "metadata": {},
     "output_type": "display_data"
    }
   ],
   "source": [
    "import matplotlib.pyplot as plt\n",
    "import seaborn as sns\n",
    "from matplotlib.ticker import MaxNLocator\n",
    "\n",
    "plt.scatter(y=dead_difference['difference_trat'].dt.days, x=dead_difference['Ano_atual'])\n",
    "plt.gca().xaxis.set_major_locator(MaxNLocator(integer=True))\n",
    "\n",
    "plt.title(\"Dias entre tratamento e óbito\")\n",
    "\n",
    "plt.ylabel(\"Data de Morte - Data de Tratamento (dias)\")\n",
    "plt.xlabel(\"Ano do início do tratamento\")\n",
    "plt.grid()\n"
   ]
  },
  {
   "cell_type": "code",
   "execution_count": 356,
   "metadata": {},
   "outputs": [
    {
     "data": {
      "image/png": "[encoded data removed]",
      "text/plain": [
       "<Figure size 640x480 with 1 Axes>"
      ]
     },
     "metadata": {},
     "output_type": "display_data"
    }
   ],
   "source": [
    "plt.grid(axis='y', zorder=3)\n",
    "plt.bar(x=dead_difference['difference trat class'].value_counts().index, height=dead_difference['difference trat class'].value_counts(), zorder=2)\n",
    "\n",
    "plt.title(\"Diferença entre a morte e o início do tratamento (dias)\")\n",
    "plt.ylabel(\"Número de pacientes\")\n",
    "plt.xlabel(\"Diferença entre a morte e o início do tratamento (dias)\")\n",
    "plt.savefig('../figures/diferenca_mortes.png')"
   ]
  },
  {
   "cell_type": "code",
   "execution_count": 357,
   "metadata": {},
   "outputs": [
    {
     "data": {
      "image/png": "[encoded data removed]",
      "text/plain": [
       "<Figure size 640x480 with 1 Axes>"
      ]
     },
     "metadata": {},
     "output_type": "display_data"
    }
   ],
   "source": [
    "plt.grid(axis='y', zorder=3)\n",
    "plt.bar(x=dead_difference['difference not class'].value_counts().index, height=dead_difference['difference not class'].value_counts(), zorder=2)\n",
    "\n",
    "plt.title(\"Diferença entre a morte e a data de notificação (dias)\")\n",
    "plt.ylabel(\"Número de pacientes\")\n",
    "plt.xlabel(\"Diferença entre a morte e a data de notificação (dias)\")\n",
    "plt.savefig('../figures/diferenca_mortes.png')"
   ]
  },
  {
   "cell_type": "markdown",
   "metadata": {},
   "source": [
    "Chegamos em um consenso que precisamos retirar aquelas que a diferença é menor do que 0 dias e maior que 180 dias. esses dados serão considerados \"confiáveis\" para o nosso tratamento."
   ]
  },
  {
   "cell_type": "code",
   "execution_count": 358,
   "metadata": {},
   "outputs": [
    {
     "name": "stdout",
     "output_type": "stream",
     "text": [
      "(7274, 55)\n"
     ]
    }
   ],
   "source": [
    "dead_difference['difference not class'].value_counts()\n",
    "\n",
    "# Removing from esq_valid all death instances that are less than 0 or more than 180 days\n",
    "wrong_ids = dead_difference[(dead_difference['difference_not'] < pd.Timedelta(days=0)) | (dead_difference['difference_not'] > pd.Timedelta(days=180))].index\n",
    "\n",
    "esq_total.drop(index=wrong_ids, inplace=True)\n",
    "esq_total.reset_index(drop=True, inplace=True)\n",
    "print(esq_total.shape)"
   ]
  },
  {
   "cell_type": "markdown",
   "metadata": {},
   "source": [
    "---"
   ]
  },
  {
   "cell_type": "code",
   "execution_count": 359,
   "metadata": {},
   "outputs": [
    {
     "name": "stdout",
     "output_type": "stream",
     "text": [
      "Porcentagem de mortes por esquistossomose: 2.65%\n"
     ]
    }
   ],
   "source": [
    "print(f\"Porcentagem de mortes por esquistossomose: {len(esq_total[esq_total['EVOLUCAO'].isin([3,4])]) / len(esq_total) * 100 :.2f}%\")"
   ]
  },
  {
   "cell_type": "markdown",
   "metadata": {},
   "source": [
    "Inicialmente, pensamos em filtrar as doenças pela que a data de notificação e a data dos primeiros sintomas tenha diferença de até 40 dias. Porém, como a esquistossomose é uma doença que também apresenta uma fase crônica (que pode durar até 6 meses)[FONTE], então optamos por não utilizar esse critério como excludente de instâncias no dataset. "
   ]
  },
  {
   "cell_type": "markdown",
   "metadata": {},
   "source": [
    "### 1.2) Tratamento de dados incorretos\n",
    "\n",
    "Para garantir que não estaremos inserindo no modelo dados contraditórios, tais como o óbito ser registrado depois da data dos primeiros sintomas ou data de encerramento ser registrada antes dos primeiros sintomas."
   ]
  },
  {
   "cell_type": "code",
   "execution_count": 360,
   "metadata": {},
   "outputs": [
    {
     "data": {
      "text/html": [
       "<div>\n",
       "<style scoped>\n",
       "    .dataframe tbody tr th:only-of-type {\n",
       "        vertical-align: middle;\n",
       "    }\n",
       "\n",
       "    .dataframe tbody tr th {\n",
       "        vertical-align: top;\n",
       "    }\n",
       "\n",
       "    .dataframe thead th {\n",
       "        text-align: right;\n",
       "    }\n",
       "</style>\n",
       "<table border=\"1\" class=\"dataframe\">\n",
       "  <thead>\n",
       "    <tr style=\"text-align: right;\">\n",
       "      <th></th>\n",
       "      <th>DT_NOTIFIC</th>\n",
       "      <th>DT_OBITO</th>\n",
       "      <th>EVOLUCAO</th>\n",
       "    </tr>\n",
       "  </thead>\n",
       "  <tbody>\n",
       "    <tr>\n",
       "      <th>63</th>\n",
       "      <td>2019-01-14</td>\n",
       "      <td>2019-01-18</td>\n",
       "      <td>3.0</td>\n",
       "    </tr>\n",
       "    <tr>\n",
       "      <th>104</th>\n",
       "      <td>2019-01-21</td>\n",
       "      <td>2019-02-17</td>\n",
       "      <td>4.0</td>\n",
       "    </tr>\n",
       "    <tr>\n",
       "      <th>159</th>\n",
       "      <td>2019-01-29</td>\n",
       "      <td>2019-01-29</td>\n",
       "      <td>3.0</td>\n",
       "    </tr>\n",
       "    <tr>\n",
       "      <th>170</th>\n",
       "      <td>2019-01-31</td>\n",
       "      <td>2019-01-31</td>\n",
       "      <td>3.0</td>\n",
       "    </tr>\n",
       "    <tr>\n",
       "      <th>178</th>\n",
       "      <td>2019-02-01</td>\n",
       "      <td>2019-02-01</td>\n",
       "      <td>3.0</td>\n",
       "    </tr>\n",
       "    <tr>\n",
       "      <th>...</th>\n",
       "      <td>...</td>\n",
       "      <td>...</td>\n",
       "      <td>...</td>\n",
       "    </tr>\n",
       "    <tr>\n",
       "      <th>6945</th>\n",
       "      <td>2023-08-31</td>\n",
       "      <td>2023-10-23</td>\n",
       "      <td>4.0</td>\n",
       "    </tr>\n",
       "    <tr>\n",
       "      <th>7001</th>\n",
       "      <td>2023-09-22</td>\n",
       "      <td>2023-09-22</td>\n",
       "      <td>3.0</td>\n",
       "    </tr>\n",
       "    <tr>\n",
       "      <th>7010</th>\n",
       "      <td>2023-09-26</td>\n",
       "      <td>2023-10-19</td>\n",
       "      <td>4.0</td>\n",
       "    </tr>\n",
       "    <tr>\n",
       "      <th>7012</th>\n",
       "      <td>2023-09-26</td>\n",
       "      <td>2023-10-01</td>\n",
       "      <td>4.0</td>\n",
       "    </tr>\n",
       "    <tr>\n",
       "      <th>7137</th>\n",
       "      <td>2023-10-30</td>\n",
       "      <td>2023-11-03</td>\n",
       "      <td>4.0</td>\n",
       "    </tr>\n",
       "  </tbody>\n",
       "</table>\n",
       "<p>193 rows × 3 columns</p>\n",
       "</div>"
      ],
      "text/plain": [
       "      DT_NOTIFIC    DT_OBITO  EVOLUCAO\n",
       "63    2019-01-14  2019-01-18       3.0\n",
       "104   2019-01-21  2019-02-17       4.0\n",
       "159   2019-01-29  2019-01-29       3.0\n",
       "170   2019-01-31  2019-01-31       3.0\n",
       "178   2019-02-01  2019-02-01       3.0\n",
       "...          ...         ...       ...\n",
       "6945  2023-08-31  2023-10-23       4.0\n",
       "7001  2023-09-22  2023-09-22       3.0\n",
       "7010  2023-09-26  2023-10-19       4.0\n",
       "7012  2023-09-26  2023-10-01       4.0\n",
       "7137  2023-10-30  2023-11-03       4.0\n",
       "\n",
       "[193 rows x 3 columns]"
      ]
     },
     "execution_count": 360,
     "metadata": {},
     "output_type": "execute_result"
    }
   ],
   "source": [
    "# Salvando casos que a data de óbito é não-nula (ou seja, a pessoa veio a óbito)\n",
    "datas_obito_para_analise = esq_total[['DT_SIN_PRI','DT_NOTIFIC', 'DT_ENCERRA','DT_OBITO','EVOLUCAO']]\n",
    "\n",
    "datas_obito_nao_nulas = datas_obito_para_analise.filter(['DT_NOTIFIC', 'DT_OBITO','EVOLUCAO']).dropna()\n",
    "\n",
    "# Datas sem retirar óbitos nulos \n",
    "datas_para_analise = esq_total[['DT_SIN_PRI','DT_NOTIFIC', 'DT_ENCERRA','EVOLUCAO']]\n",
    "\n",
    "datas_nao_nulas = datas_para_analise.filter(['DT_NOTIFIC','EVOLUCAO']).dropna()\n",
    "\n",
    "datas_obito_nao_nulas"
   ]
  },
  {
   "cell_type": "code",
   "execution_count": 361,
   "metadata": {},
   "outputs": [
    {
     "data": {
      "text/plain": [
       "63       4\n",
       "104     27\n",
       "159      0\n",
       "170      0\n",
       "178      0\n",
       "        ..\n",
       "6945    53\n",
       "7001     0\n",
       "7010    23\n",
       "7012     5\n",
       "7137     4\n",
       "Length: 193, dtype: int64"
      ]
     },
     "execution_count": 361,
     "metadata": {},
     "output_type": "execute_result"
    }
   ],
   "source": [
    "\n",
    "# Analisando os casos que os óbitos ocorreram antes da data de notificação\n",
    "diferenca_obitos = datas_obito_nao_nulas.apply(lambda x: pd.to_datetime(x['DT_OBITO']) - pd.to_datetime(x['DT_NOTIFIC']), axis=1)\n",
    "diferenca_obitos = diferenca_obitos.apply(lambda x: x.days)\n",
    "\n",
    "diferenca_obitos"
   ]
  },
  {
   "cell_type": "code",
   "execution_count": 362,
   "metadata": {},
   "outputs": [
    {
     "name": "stdout",
     "output_type": "stream",
     "text": [
      "Casos que o óbito foi registrado antes da notificação:  0\n",
      "Casos que a data de encerramento foi registrada antes dos primeiros sintomas:  0\n"
     ]
    }
   ],
   "source": [
    "\n",
    "obitos_negativos = diferenca_obitos[diferenca_obitos < 0]\n",
    "\n",
    "print(\"Casos que o óbito foi registrado antes da notificação: \",diferenca_obitos[diferenca_obitos < 0].count())\n",
    "\n",
    "# Analisando os casos que a data de encerramento foi registrada antes dos primeiros sintomas\n",
    "diferenca_notifica = datas_para_analise.apply(lambda x: pd.to_datetime(x['DT_ENCERRA']) - pd.to_datetime(x['DT_SIN_PRI']), axis=1)\n",
    "diferenca_notifica = diferenca_notifica.apply(lambda x: x.days)  \n",
    "print(\"Casos que a data de encerramento foi registrada antes dos primeiros sintomas: \",diferenca_notifica[diferenca_notifica < 0].count())\n"
   ]
  },
  {
   "cell_type": "markdown",
   "metadata": {},
   "source": [
    "Pudemos ver que um número considerável de óbitos foram registrados depois da data de notificação, ou seja, são dados notificados incorretamente, e por isso, temos que removê-los."
   ]
  },
  {
   "cell_type": "code",
   "execution_count": 363,
   "metadata": {},
   "outputs": [
    {
     "data": {
      "text/plain": [
       "Int64Index([], dtype='int64')"
      ]
     },
     "execution_count": 363,
     "metadata": {},
     "output_type": "execute_result"
    }
   ],
   "source": [
    "obitos_negativos.index"
   ]
  },
  {
   "cell_type": "code",
   "execution_count": 364,
   "metadata": {},
   "outputs": [
    {
     "name": "stdout",
     "output_type": "stream",
     "text": [
      "(7274, 55)\n",
      "Series([], dtype: int64)\n",
      "(7274, 55)\n"
     ]
    }
   ],
   "source": [
    "print(esq_total.shape)\n",
    "morreu_tot = esq_total.drop(obitos_negativos.index, axis=0)\n",
    "print(morreu_tot.value_counts())\n",
    "print(esq_total.drop(obitos_negativos.index, axis=0).shape)"
   ]
  },
  {
   "cell_type": "markdown",
   "metadata": {},
   "source": [
    "****"
   ]
  },
  {
   "cell_type": "markdown",
   "metadata": {},
   "source": [
    "## 2) Pré-processamento dos dados"
   ]
  },
  {
   "cell_type": "markdown",
   "metadata": {},
   "source": [
    "Podemos ver que, pelo número elevado de colunas, será necessário realizar uma análise quanto às colunas necessárias, para posteriormente avaliar se o total de instâncias apresentadas nos três anos serão suficientes para treinar o modelo."
   ]
  },
  {
   "cell_type": "markdown",
   "metadata": {},
   "source": [
    "### 2.1) Removendo Colunas desnecessárias\n",
    "\n",
    "O primeiro passo para pré-processar será **remover colunas desnecessárias do dataset**. \n",
    "\n",
    "Depois de uma primeira análise, a equipe selecionou 11 colunas que julgamos como mais relevantes para o treinamento do modelo:\n",
    "\n",
    "\n",
    "*colocar info das colunas*\n"
   ]
  },
  {
   "cell_type": "code",
   "execution_count": 365,
   "metadata": {},
   "outputs": [
    {
     "data": {
      "text/plain": [
       "Index(['Unnamed: 0', 'TP_NOT', 'ID_AGRAVO', 'DT_NOTIFIC', 'SEM_NOT', 'NU_ANO',\n",
       "       'SG_UF_NOT', 'ID_MUNICIP', 'ID_REGIONA', 'ID_UNIDADE', 'DT_SIN_PRI',\n",
       "       'SEM_PRI', 'ANO_NASC', 'NU_IDADE_N', 'CS_SEXO', 'CS_GESTANT', 'CS_RACA',\n",
       "       'CS_ESCOL_N', 'SG_UF', 'ID_MN_RESI', 'ID_RG_RESI', 'ID_PAIS',\n",
       "       'DT_INVEST', 'ID_OCUPA_N', 'DT_COPRO', 'AN_QUANT', 'OUTROS', 'TRATAM',\n",
       "       'TRATANAO', 'STCURA1', 'STCURA2', 'STCURA3', 'FORMA', 'TPAUTOCTO',\n",
       "       'COUFINF', 'COPAISINF', 'COMUNINF', 'NOPROPIN', 'NOCOLINF',\n",
       "       'DOENCA_TRA', 'EVOLUCAO', 'DT_ENCERRA', 'DT_DIGITA', 'DT_TRANSUS',\n",
       "       'DT_TRANSDM', 'DT_TRANSSM', 'DT_TRANSRS', 'DT_TRANSSE', 'DT_OBITO',\n",
       "       'DS_FORMA', 'AN_QUALI', 'DTTRAT', 'DT_RESU3', 'OUTRO_EX', 'Ano_atual'],\n",
       "      dtype='object')"
      ]
     },
     "execution_count": 365,
     "metadata": {},
     "output_type": "execute_result"
    }
   ],
   "source": [
    "esq_total.columns"
   ]
  },
  {
   "cell_type": "code",
   "execution_count": 366,
   "metadata": {},
   "outputs": [
    {
     "data": {
      "text/html": [
       "<div>\n",
       "<style scoped>\n",
       "    .dataframe tbody tr th:only-of-type {\n",
       "        vertical-align: middle;\n",
       "    }\n",
       "\n",
       "    .dataframe tbody tr th {\n",
       "        vertical-align: top;\n",
       "    }\n",
       "\n",
       "    .dataframe thead th {\n",
       "        text-align: right;\n",
       "    }\n",
       "</style>\n",
       "<table border=\"1\" class=\"dataframe\">\n",
       "  <thead>\n",
       "    <tr style=\"text-align: right;\">\n",
       "      <th></th>\n",
       "      <th>CS_GESTANT</th>\n",
       "      <th>AN_QUANT</th>\n",
       "      <th>AN_QUALI</th>\n",
       "      <th>TRATAM</th>\n",
       "      <th>FORMA</th>\n",
       "      <th>CS_ESCOL_N</th>\n",
       "      <th>CS_SEXO</th>\n",
       "      <th>ANO_NASC</th>\n",
       "      <th>COUFINF</th>\n",
       "      <th>EVOLUCAO</th>\n",
       "      <th>Ano_atual</th>\n",
       "    </tr>\n",
       "  </thead>\n",
       "  <tbody>\n",
       "    <tr>\n",
       "      <th>0</th>\n",
       "      <td>6</td>\n",
       "      <td>0.0</td>\n",
       "      <td>1.0</td>\n",
       "      <td>1.0</td>\n",
       "      <td>1.0</td>\n",
       "      <td>4.0</td>\n",
       "      <td>M</td>\n",
       "      <td>1994.0</td>\n",
       "      <td>29.0</td>\n",
       "      <td>1.0</td>\n",
       "      <td>2019</td>\n",
       "    </tr>\n",
       "    <tr>\n",
       "      <th>1</th>\n",
       "      <td>6</td>\n",
       "      <td>1.0</td>\n",
       "      <td>1.0</td>\n",
       "      <td>1.0</td>\n",
       "      <td>1.0</td>\n",
       "      <td>5.0</td>\n",
       "      <td>M</td>\n",
       "      <td>1985.0</td>\n",
       "      <td>31.0</td>\n",
       "      <td>1.0</td>\n",
       "      <td>2019</td>\n",
       "    </tr>\n",
       "    <tr>\n",
       "      <th>2</th>\n",
       "      <td>6</td>\n",
       "      <td>0.0</td>\n",
       "      <td>3.0</td>\n",
       "      <td>1.0</td>\n",
       "      <td>1.0</td>\n",
       "      <td>9.0</td>\n",
       "      <td>M</td>\n",
       "      <td>1997.0</td>\n",
       "      <td>31.0</td>\n",
       "      <td>1.0</td>\n",
       "      <td>2019</td>\n",
       "    </tr>\n",
       "    <tr>\n",
       "      <th>3</th>\n",
       "      <td>6</td>\n",
       "      <td>0.0</td>\n",
       "      <td>3.0</td>\n",
       "      <td>1.0</td>\n",
       "      <td>1.0</td>\n",
       "      <td>9.0</td>\n",
       "      <td>M</td>\n",
       "      <td>1992.0</td>\n",
       "      <td>32.0</td>\n",
       "      <td>1.0</td>\n",
       "      <td>2019</td>\n",
       "    </tr>\n",
       "    <tr>\n",
       "      <th>4</th>\n",
       "      <td>5</td>\n",
       "      <td>1.0</td>\n",
       "      <td>1.0</td>\n",
       "      <td>1.0</td>\n",
       "      <td>1.0</td>\n",
       "      <td>0.0</td>\n",
       "      <td>F</td>\n",
       "      <td>1956.0</td>\n",
       "      <td>NaN</td>\n",
       "      <td>1.0</td>\n",
       "      <td>2019</td>\n",
       "    </tr>\n",
       "  </tbody>\n",
       "</table>\n",
       "</div>"
      ],
      "text/plain": [
       "   CS_GESTANT  AN_QUANT  AN_QUALI  TRATAM  FORMA  CS_ESCOL_N CS_SEXO  \\\n",
       "0           6       0.0       1.0     1.0    1.0         4.0       M   \n",
       "1           6       1.0       1.0     1.0    1.0         5.0       M   \n",
       "2           6       0.0       3.0     1.0    1.0         9.0       M   \n",
       "3           6       0.0       3.0     1.0    1.0         9.0       M   \n",
       "4           5       1.0       1.0     1.0    1.0         0.0       F   \n",
       "\n",
       "   ANO_NASC  COUFINF  EVOLUCAO  Ano_atual  \n",
       "0    1994.0     29.0       1.0       2019  \n",
       "1    1985.0     31.0       1.0       2019  \n",
       "2    1997.0     31.0       1.0       2019  \n",
       "3    1992.0     32.0       1.0       2019  \n",
       "4    1956.0      NaN       1.0       2019  "
      ]
     },
     "execution_count": 366,
     "metadata": {},
     "output_type": "execute_result"
    }
   ],
   "source": [
    "# Lista das colunas conforme dicionário SINAN\n",
    "colunas_selecionadas = [\n",
    "    'CS_GESTANT',                     \n",
    "    'AN_QUANT',\n",
    "    'AN_QUALI',            \n",
    "    'TRATAM', \n",
    "    'FORMA',      \n",
    "    'CS_ESCOL_N', \n",
    "    'CS_SEXO',  \n",
    "    'ANO_NASC',\n",
    "    'COUFINF',\n",
    "    'EVOLUCAO',\n",
    "    'Ano_atual'\n",
    "]\n",
    "\n",
    "# Seleção das colunas\n",
    "esq_filtrado = esq_total[colunas_selecionadas]\n",
    "\n",
    "esq_filtrado.head()\n"
   ]
  },
  {
   "cell_type": "markdown",
   "metadata": {},
   "source": [
    "Renomeando as colunas selecionadas para garantir melhor entendimento:"
   ]
  },
  {
   "cell_type": "code",
   "execution_count": 367,
   "metadata": {},
   "outputs": [
    {
     "name": "stdout",
     "output_type": "stream",
     "text": [
      "(7274, 11)\n"
     ]
    },
    {
     "data": {
      "text/html": [
       "<div>\n",
       "<style scoped>\n",
       "    .dataframe tbody tr th:only-of-type {\n",
       "        vertical-align: middle;\n",
       "    }\n",
       "\n",
       "    .dataframe tbody tr th {\n",
       "        vertical-align: top;\n",
       "    }\n",
       "\n",
       "    .dataframe thead th {\n",
       "        text-align: right;\n",
       "    }\n",
       "</style>\n",
       "<table border=\"1\" class=\"dataframe\">\n",
       "  <thead>\n",
       "    <tr style=\"text-align: right;\">\n",
       "      <th></th>\n",
       "      <th>Gestante</th>\n",
       "      <th>Quantidade ovos encontrados</th>\n",
       "      <th>Exame_qualitativo</th>\n",
       "      <th>Tratamento realizado</th>\n",
       "      <th>Forma clínica</th>\n",
       "      <th>Escolaridade</th>\n",
       "      <th>Sexo</th>\n",
       "      <th>Ano de nascimento</th>\n",
       "      <th>Unidade Federativa</th>\n",
       "      <th>Resultado</th>\n",
       "      <th>Ano_atual</th>\n",
       "    </tr>\n",
       "  </thead>\n",
       "  <tbody>\n",
       "    <tr>\n",
       "      <th>0</th>\n",
       "      <td>6</td>\n",
       "      <td>0.0</td>\n",
       "      <td>1.0</td>\n",
       "      <td>1.0</td>\n",
       "      <td>1.0</td>\n",
       "      <td>4.0</td>\n",
       "      <td>M</td>\n",
       "      <td>1994.0</td>\n",
       "      <td>29.0</td>\n",
       "      <td>1.0</td>\n",
       "      <td>2019</td>\n",
       "    </tr>\n",
       "    <tr>\n",
       "      <th>1</th>\n",
       "      <td>6</td>\n",
       "      <td>1.0</td>\n",
       "      <td>1.0</td>\n",
       "      <td>1.0</td>\n",
       "      <td>1.0</td>\n",
       "      <td>5.0</td>\n",
       "      <td>M</td>\n",
       "      <td>1985.0</td>\n",
       "      <td>31.0</td>\n",
       "      <td>1.0</td>\n",
       "      <td>2019</td>\n",
       "    </tr>\n",
       "    <tr>\n",
       "      <th>2</th>\n",
       "      <td>6</td>\n",
       "      <td>0.0</td>\n",
       "      <td>3.0</td>\n",
       "      <td>1.0</td>\n",
       "      <td>1.0</td>\n",
       "      <td>9.0</td>\n",
       "      <td>M</td>\n",
       "      <td>1997.0</td>\n",
       "      <td>31.0</td>\n",
       "      <td>1.0</td>\n",
       "      <td>2019</td>\n",
       "    </tr>\n",
       "    <tr>\n",
       "      <th>3</th>\n",
       "      <td>6</td>\n",
       "      <td>0.0</td>\n",
       "      <td>3.0</td>\n",
       "      <td>1.0</td>\n",
       "      <td>1.0</td>\n",
       "      <td>9.0</td>\n",
       "      <td>M</td>\n",
       "      <td>1992.0</td>\n",
       "      <td>32.0</td>\n",
       "      <td>1.0</td>\n",
       "      <td>2019</td>\n",
       "    </tr>\n",
       "    <tr>\n",
       "      <th>4</th>\n",
       "      <td>5</td>\n",
       "      <td>1.0</td>\n",
       "      <td>1.0</td>\n",
       "      <td>1.0</td>\n",
       "      <td>1.0</td>\n",
       "      <td>0.0</td>\n",
       "      <td>F</td>\n",
       "      <td>1956.0</td>\n",
       "      <td>NaN</td>\n",
       "      <td>1.0</td>\n",
       "      <td>2019</td>\n",
       "    </tr>\n",
       "  </tbody>\n",
       "</table>\n",
       "</div>"
      ],
      "text/plain": [
       "   Gestante  Quantidade ovos encontrados  Exame_qualitativo  \\\n",
       "0         6                          0.0                1.0   \n",
       "1         6                          1.0                1.0   \n",
       "2         6                          0.0                3.0   \n",
       "3         6                          0.0                3.0   \n",
       "4         5                          1.0                1.0   \n",
       "\n",
       "   Tratamento realizado  Forma clínica  Escolaridade Sexo  Ano de nascimento  \\\n",
       "0                   1.0            1.0           4.0    M             1994.0   \n",
       "1                   1.0            1.0           5.0    M             1985.0   \n",
       "2                   1.0            1.0           9.0    M             1997.0   \n",
       "3                   1.0            1.0           9.0    M             1992.0   \n",
       "4                   1.0            1.0           0.0    F             1956.0   \n",
       "\n",
       "   Unidade Federativa  Resultado  Ano_atual  \n",
       "0                29.0        1.0       2019  \n",
       "1                31.0        1.0       2019  \n",
       "2                31.0        1.0       2019  \n",
       "3                32.0        1.0       2019  \n",
       "4                 NaN        1.0       2019  "
      ]
     },
     "execution_count": 367,
     "metadata": {},
     "output_type": "execute_result"
    }
   ],
   "source": [
    "novos_nomes_doenças = {\n",
    "    'CS_GESTANT': 'Gestante',\n",
    "    'AN_QUANT': 'Quantidade ovos encontrados',\n",
    "    'AN_QUALI': 'Exame_qualitativo',\n",
    "    'TRATAM': 'Tratamento realizado',\n",
    "    'FORMA': 'Forma clínica',\n",
    "    'CS_ESCOL_N': 'Escolaridade',\n",
    "    'CS_SEXO': 'Sexo',\n",
    "    'ANO_NASC': 'Ano de nascimento',\n",
    "    'COUFINF': 'Unidade Federativa',\n",
    "    'EVOLUCAO': 'Resultado'\n",
    "\n",
    "}\n",
    "\n",
    "esq_filtrado = esq_filtrado.rename(columns=novos_nomes_doenças)\n",
    "\n",
    "print(esq_filtrado.shape)\n",
    "esq_filtrado.head()"
   ]
  },
  {
   "cell_type": "markdown",
   "metadata": {},
   "source": [
    "### 2.2) Selecionando os dados a serem usados"
   ]
  },
  {
   "cell_type": "code",
   "execution_count": 368,
   "metadata": {},
   "outputs": [
    {
     "data": {
      "text/plain": [
       "1.0    7081\n",
       "3.0     103\n",
       "4.0      90\n",
       "Name: Resultado, dtype: int64"
      ]
     },
     "execution_count": 368,
     "metadata": {},
     "output_type": "execute_result"
    }
   ],
   "source": [
    "esq_valid = esq_filtrado[(esq_filtrado['Resultado'] == 1) | (esq_filtrado['Resultado'] == 3) | (esq_filtrado['Resultado'] == 4)]\n",
    "esq_valid['Resultado'].value_counts()"
   ]
  },
  {
   "cell_type": "code",
   "execution_count": 369,
   "metadata": {},
   "outputs": [
    {
     "name": "stdout",
     "output_type": "stream",
     "text": [
      "Porcentagem de mortes por esquistossomose: 1.42%\n"
     ]
    }
   ],
   "source": [
    "print(f\"Porcentagem de mortes por esquistossomose: {len(esq_valid[esq_valid['Resultado'] == 3]) / len(esq_valid) * 100 :.2f}%\")"
   ]
  },
  {
   "cell_type": "code",
   "execution_count": 370,
   "metadata": {},
   "outputs": [
    {
     "name": "stdout",
     "output_type": "stream",
     "text": [
      "Porcentagem de mortes: 2.65%\n"
     ]
    }
   ],
   "source": [
    "print(f\"Porcentagem de mortes: {len( esq_filtrado[(esq_filtrado['Resultado'] == 3) | (esq_filtrado['Resultado'] == 4)] ) / len(esq_valid) * 100 :.2f}%\")"
   ]
  },
  {
   "cell_type": "markdown",
   "metadata": {},
   "source": [
    "### 2.3) Tratamento de atributos categóricos"
   ]
  },
  {
   "cell_type": "markdown",
   "metadata": {},
   "source": [
    "Primeiramente, vamos visualizar nossos dados a fim de transformar os atributos categóricos em numéricos:"
   ]
  },
  {
   "cell_type": "code",
   "execution_count": 371,
   "metadata": {},
   "outputs": [
    {
     "name": "stdout",
     "output_type": "stream",
     "text": [
      "<class 'pandas.core.frame.DataFrame'>\n",
      "Int64Index: 7274 entries, 0 to 7273\n",
      "Data columns (total 11 columns):\n",
      " #   Column                       Non-Null Count  Dtype  \n",
      "---  ------                       --------------  -----  \n",
      " 0   Gestante                     7274 non-null   int64  \n",
      " 1   Quantidade ovos encontrados  7274 non-null   float64\n",
      " 2   Exame_qualitativo            5852 non-null   float64\n",
      " 3   Tratamento realizado         7274 non-null   float64\n",
      " 4   Forma clínica                5558 non-null   float64\n",
      " 5   Escolaridade                 6573 non-null   float64\n",
      " 6   Sexo                         7274 non-null   object \n",
      " 7   Ano de nascimento            7227 non-null   float64\n",
      " 8   Unidade Federativa           5913 non-null   float64\n",
      " 9   Resultado                    7274 non-null   float64\n",
      " 10  Ano_atual                    7274 non-null   int64  \n",
      "dtypes: float64(8), int64(2), object(1)\n",
      "memory usage: 681.9+ KB\n"
     ]
    }
   ],
   "source": [
    "esq_valid.info()"
   ]
  },
  {
   "cell_type": "markdown",
   "metadata": {},
   "source": [
    "Podemos notar que, apesar de que o tipo de muitos dos atributos esteja definido como 'float', de acordo com o dicionário da doença, cada número representa uma característica distinta. Por isso, a ideia será realizar o One-Hot encoding para separar tais atributos categóricos."
   ]
  },
  {
   "cell_type": "markdown",
   "metadata": {},
   "source": [
    "#### 2.3.1) Gestante"
   ]
  },
  {
   "cell_type": "code",
   "execution_count": 372,
   "metadata": {},
   "outputs": [
    {
     "data": {
      "text/plain": [
       "6    5105\n",
       "5    1969\n",
       "9     152\n",
       "2      18\n",
       "1      13\n",
       "4      12\n",
       "3       5\n",
       "Name: Gestante, dtype: int64"
      ]
     },
     "execution_count": 372,
     "metadata": {},
     "output_type": "execute_result"
    }
   ],
   "source": [
    "esq_valid['Gestante'].value_counts()"
   ]
  },
  {
   "cell_type": "code",
   "execution_count": 373,
   "metadata": {},
   "outputs": [],
   "source": [
    "# Para gestante, consideraremos apenas como uma variável binária. \n",
    "# 5, 6 e 9 indica que não é gestante, e todas as demais indicam que é gestante\n",
    "\n",
    "esq_valid['nao_gestante'] = (esq_valid['Gestante'].isin([5, 6, 9])).astype(int)\n",
    "esq_valid['gestante'] = (~esq_valid['Gestante'].isin([5, 6, 9])).astype(int)\n"
   ]
  },
  {
   "cell_type": "code",
   "execution_count": 374,
   "metadata": {},
   "outputs": [
    {
     "data": {
      "text/plain": [
       "1.0    48\n",
       "Name: Resultado, dtype: int64"
      ]
     },
     "execution_count": 374,
     "metadata": {},
     "output_type": "execute_result"
    }
   ],
   "source": [
    "esq_valid[esq_valid['nao_gestante'] == 0]['Resultado'].value_counts()"
   ]
  },
  {
   "cell_type": "markdown",
   "metadata": {},
   "source": [
    "Após análise do fator gestante, é possível notar que um número inexpressivo de pessoas na base de dados são gestantes, e nenhuma delas apresenta veio a óbito. Adicionar tal feature na base pode corroborar com o viés do modelo, por isso optamos por retirar a categoria da base de dados."
   ]
  },
  {
   "cell_type": "code",
   "execution_count": 375,
   "metadata": {},
   "outputs": [],
   "source": [
    "esq_valid = esq_valid.drop(columns=['Gestante', 'nao_gestante','gestante'])"
   ]
  },
  {
   "cell_type": "markdown",
   "metadata": {},
   "source": [
    "#### 2.3.2) Quantidade de ovos de schistossoma encontrados"
   ]
  },
  {
   "cell_type": "markdown",
   "metadata": {},
   "source": [
    "Para o atributo \"Quantidade de Ovos encontrados\", este já está em forma binária, indicando se não foram encontrados ovos da Schistossoma no exame de fezes (0) ou se foram encontrados (1)"
   ]
  },
  {
   "cell_type": "code",
   "execution_count": 376,
   "metadata": {},
   "outputs": [
    {
     "data": {
      "text/plain": [
       "0.0    3776\n",
       "1.0    3498\n",
       "Name: Quantidade ovos encontrados, dtype: int64"
      ]
     },
     "execution_count": 376,
     "metadata": {},
     "output_type": "execute_result"
    }
   ],
   "source": [
    "esq_valid['Quantidade ovos encontrados'].value_counts()"
   ]
  },
  {
   "cell_type": "code",
   "execution_count": 377,
   "metadata": {},
   "outputs": [],
   "source": [
    "# Transformando o atributo de float para inteiro\n",
    "esq_valid['Quantidade ovos encontrados'] = esq_valid['Quantidade ovos encontrados'].astype(int)"
   ]
  },
  {
   "cell_type": "markdown",
   "metadata": {},
   "source": [
    "#### 2.3.3) Exame qualitativo"
   ]
  },
  {
   "cell_type": "markdown",
   "metadata": {},
   "source": [
    "Já para o atributo \"Resultado exame ovos qualitativo\", que indica o resultado (1=Positivo, 2=Negativo e 3=Não realizado), como são apresentadas mais de duas categorias, será necessário transformar em mais colunas.\n",
    "\n",
    "Além disso, como existem muitos valores nulos na coluna, vamos atribuí-los a uma quarta categoria: Desconhecido"
   ]
  },
  {
   "cell_type": "code",
   "execution_count": 378,
   "metadata": {},
   "outputs": [
    {
     "name": "stdout",
     "output_type": "stream",
     "text": [
      "1.0    3203\n",
      "3.0    2044\n",
      "2.0     605\n",
      "Name: Exame_qualitativo, dtype: int64\n",
      "Valores nulos:  1422\n"
     ]
    }
   ],
   "source": [
    "print(esq_valid['Exame_qualitativo'].value_counts())\n",
    "print(\"Valores nulos: \", esq_valid['Exame_qualitativo'].isna().sum())"
   ]
  },
  {
   "cell_type": "code",
   "execution_count": 379,
   "metadata": {},
   "outputs": [],
   "source": [
    "# Adicionando \"Desconhecido\"\n",
    "esq_valid['Exame_qualitativo'].fillna(\"Desconhecido\", inplace=True)"
   ]
  },
  {
   "cell_type": "code",
   "execution_count": 380,
   "metadata": {},
   "outputs": [],
   "source": [
    "# Definindo valores numéricos como texto\n",
    "esq_valid['Exame_qualitativo'].replace(1, \"Positivo\", inplace=True)\n",
    "esq_valid['Exame_qualitativo'].replace(2, \"Negativo\", inplace=True)\n",
    "esq_valid['Exame_qualitativo'].replace(3, \"Nao_Realizado\", inplace=True)"
   ]
  },
  {
   "cell_type": "code",
   "execution_count": 381,
   "metadata": {},
   "outputs": [],
   "source": [
    "# Criando novas colunas com one-hot-encoding\n",
    "df_onehot = pd.get_dummies(esq_valid['Exame_qualitativo'], prefix='Exame', dtype=int)\n",
    "\n",
    "# Concatenando com o DataFrame original\n",
    "esq_valid = pd.concat([esq_valid, df_onehot], axis=1)\n",
    "\n",
    "# Removendo a coluna original\n",
    "esq_valid.drop(columns=['Exame_qualitativo'], inplace=True)"
   ]
  },
  {
   "cell_type": "markdown",
   "metadata": {},
   "source": [
    "#### 2.3.4) Tratamento realizado"
   ]
  },
  {
   "cell_type": "markdown",
   "metadata": {},
   "source": [
    "A categoria apresenta o tratamento que foi realizado pelo paciente no combate à doença, sendo 1=  Sim  –  Praziquantel,  2=  Sim,  Oxaminiquine,  3=  Não  ou  9=  Ignorado"
   ]
  },
  {
   "cell_type": "code",
   "execution_count": 382,
   "metadata": {},
   "outputs": [
    {
     "name": "stdout",
     "output_type": "stream",
     "text": [
      "1.0    6261\n",
      "3.0     649\n",
      "9.0     335\n",
      "2.0      29\n",
      "Name: Tratamento realizado, dtype: int64\n",
      "Valores nulos:  0\n"
     ]
    }
   ],
   "source": [
    "print(esq_valid['Tratamento realizado'].value_counts())\n",
    "print(\"Valores nulos: \", esq_valid['Tratamento realizado'].isna().sum())"
   ]
  },
  {
   "cell_type": "markdown",
   "metadata": {},
   "source": [
    "Como não existem valores nulos, podemos apenas atribuir a cada valor numérico a string relativa ao output:"
   ]
  },
  {
   "cell_type": "code",
   "execution_count": 383,
   "metadata": {},
   "outputs": [],
   "source": [
    "# Substituição dos valores numéricos por rótulos\n",
    "esq_valid['Tratamento realizado'].replace(\n",
    "    {\n",
    "        1: \"Sim_Praziquantel\",\n",
    "        2: \"Sim_Oxaminiquine\", \n",
    "        3: \"Nao\",\n",
    "        9: \"Ignorado\"\n",
    "    }, \n",
    "    inplace=True\n",
    ")"
   ]
  },
  {
   "cell_type": "code",
   "execution_count": 384,
   "metadata": {},
   "outputs": [],
   "source": [
    "# Criar colunas one-hot para cada categoria\n",
    "df_onehot = pd.get_dummies(\n",
    "    esq_valid['Tratamento realizado'], \n",
    "    prefix='Tratamento', \n",
    "    dtype=int\n",
    ")\n",
    "\n",
    "# Concatenar com o DataFrame original\n",
    "esq_valid = pd.concat([esq_valid, df_onehot], axis=1)\n",
    "\n",
    "# Remover a coluna original (opcional)\n",
    "esq_valid.drop(columns=['Tratamento realizado'], inplace=True)"
   ]
  },
  {
   "cell_type": "markdown",
   "metadata": {},
   "source": [
    "#### 2.3.5) Forma clínica avaliada"
   ]
  },
  {
   "cell_type": "code",
   "execution_count": 385,
   "metadata": {},
   "outputs": [
    {
     "name": "stdout",
     "output_type": "stream",
     "text": [
      "1.0    4146\n",
      "5.0     467\n",
      "2.0     325\n",
      "3.0     324\n",
      "4.0     296\n",
      "Name: Forma clínica, dtype: int64\n",
      "Valores nulos:  1716\n"
     ]
    }
   ],
   "source": [
    "print(esq_valid['Forma clínica'].value_counts())\n",
    "print(\"Valores nulos: \", esq_valid['Forma clínica'].isna().sum())"
   ]
  },
  {
   "cell_type": "code",
   "execution_count": 386,
   "metadata": {},
   "outputs": [],
   "source": [
    "# Substituindo valores nulos para \"Nao_especificado\"\n",
    "esq_valid['Forma clínica'].fillna(\"Nao_especificado\", inplace=True)"
   ]
  },
  {
   "cell_type": "code",
   "execution_count": 387,
   "metadata": {},
   "outputs": [],
   "source": [
    "# Dicionário de mapeamento dos valores\n",
    "mapeamento_forma = {\n",
    "    1: \"Intestinal\",\n",
    "    2: \"Hepato_Intestinal\",\n",
    "    3: \"Hepato_Esplenica\",\n",
    "    4: \"Aguda\",\n",
    "    5: \"Outra\"\n",
    "}\n",
    "\n",
    "# Substituição inplace\n",
    "esq_valid['Forma clínica'].replace(mapeamento_forma, inplace=True)"
   ]
  },
  {
   "cell_type": "code",
   "execution_count": 388,
   "metadata": {},
   "outputs": [],
   "source": [
    "# Criando colunas one-hot\n",
    "df_onehot = pd.get_dummies(\n",
    "    esq_valid['Forma clínica'],\n",
    "    prefix='Forma',     \n",
    "    dtype=int          \n",
    ")\n",
    "\n",
    "# Concatenar com o DataFrame original\n",
    "esq_valid = pd.concat([esq_valid, df_onehot], axis=1)\n",
    "\n",
    "# Remover a coluna original\n",
    "esq_valid.drop(columns=['Forma clínica'], inplace=True)"
   ]
  },
  {
   "cell_type": "markdown",
   "metadata": {},
   "source": [
    "#### 2.3.6) Escolaridade"
   ]
  },
  {
   "cell_type": "code",
   "execution_count": 389,
   "metadata": {},
   "outputs": [
    {
     "name": "stdout",
     "output_type": "stream",
     "text": [
      "9.0     1438\n",
      "6.0     1142\n",
      "3.0      852\n",
      "1.0      845\n",
      "5.0      522\n",
      "2.0      502\n",
      "4.0      500\n",
      "8.0      263\n",
      "10.0     211\n",
      "0.0      196\n",
      "7.0      102\n",
      "Name: Escolaridade, dtype: int64\n",
      "Valores nulos:  701\n"
     ]
    }
   ],
   "source": [
    "print(esq_valid['Escolaridade'].value_counts())\n",
    "print(\"Valores nulos: \", esq_valid['Escolaridade'].isna().sum())"
   ]
  },
  {
   "cell_type": "markdown",
   "metadata": {},
   "source": [
    "Como o campo escolaridade apresenta uma cardinalidade lógica, ou seja, o 1 = 1º a 4º série incompleta e 8 = Educação superior completa, podemos considerá-lo como um atributo numérico, e não é necessário realizar o One-Hot-Encoding.\n",
    "\n",
    "Porém, como os atributos 9 = Ignorado e 10 = Não se aplica, transformaremos-os em 0 para garantir que não sejam considerados com uma cardinalidade maior que a Educação superior completa."
   ]
  },
  {
   "cell_type": "code",
   "execution_count": 390,
   "metadata": {},
   "outputs": [],
   "source": [
    "esq_valid['Escolaridade'].fillna(0, inplace=True)\n",
    "esq_valid['Escolaridade'].replace(9, 0, inplace=True)\n",
    "esq_valid['Escolaridade'].replace(10, 0, inplace=True)\n",
    "esq_valid['Escolaridade'] = esq_valid['Escolaridade'].astype(int)"
   ]
  },
  {
   "cell_type": "markdown",
   "metadata": {},
   "source": [
    "#### 2.3.7) Sexo"
   ]
  },
  {
   "cell_type": "code",
   "execution_count": 391,
   "metadata": {},
   "outputs": [
    {
     "data": {
      "text/plain": [
       "M    4380\n",
       "F    2892\n",
       "I       2\n",
       "Name: Sexo, dtype: int64"
      ]
     },
     "execution_count": 391,
     "metadata": {},
     "output_type": "execute_result"
    }
   ],
   "source": [
    "esq_valid['Sexo'].value_counts()"
   ]
  },
  {
   "cell_type": "markdown",
   "metadata": {},
   "source": [
    "Como temos apenas dois valores \"Ignorado\", podemos desconsiderá-los:"
   ]
  },
  {
   "cell_type": "code",
   "execution_count": 392,
   "metadata": {},
   "outputs": [],
   "source": [
    "esq_valid = esq_valid[esq_valid['Sexo'] != \"I\"]"
   ]
  },
  {
   "cell_type": "code",
   "execution_count": 393,
   "metadata": {},
   "outputs": [],
   "source": [
    "esq_valid['Sexo'].replace(\"M\", 0, inplace=True)\n",
    "esq_valid['Sexo'].replace(\"F\", 1, inplace=True)"
   ]
  },
  {
   "cell_type": "markdown",
   "metadata": {},
   "source": [
    "#### 2.3.8) Ano de Nascimento"
   ]
  },
  {
   "cell_type": "code",
   "execution_count": 394,
   "metadata": {},
   "outputs": [
    {
     "name": "stdout",
     "output_type": "stream",
     "text": [
      "1978.0    158\n",
      "1973.0    157\n",
      "1982.0    153\n",
      "1976.0    153\n",
      "1981.0    152\n",
      "         ... \n",
      "1931.0      2\n",
      "1928.0      2\n",
      "1926.0      1\n",
      "1906.0      1\n",
      "1911.0      1\n",
      "Name: Ano de nascimento, Length: 100, dtype: int64\n",
      "Valores nulos:  47\n"
     ]
    }
   ],
   "source": [
    "print(esq_valid['Ano de nascimento'].value_counts())\n",
    "print(\"Valores nulos: \", esq_valid['Ano de nascimento'].isna().sum())"
   ]
  },
  {
   "cell_type": "code",
   "execution_count": 395,
   "metadata": {},
   "outputs": [],
   "source": [
    "# Removendo as 31 pessoas sem um ano de nascimento definido\n",
    "esq_valid.dropna(subset=['Ano de nascimento'], inplace=True)"
   ]
  },
  {
   "cell_type": "markdown",
   "metadata": {},
   "source": [
    "Primeiramente, precisamos extrair a idade de cada paciente conforme o ano de nascimento. \n",
    "\n",
    "Como foram concatenados datasets de 4 anos diferentes, usaremos a coluna \"Ano_atual\" a fim de calcular a idade correta de cada paciente:"
   ]
  },
  {
   "cell_type": "code",
   "execution_count": 396,
   "metadata": {},
   "outputs": [],
   "source": [
    "esq_valid['Idade'] = (esq_valid['Ano_atual'] - esq_valid['Ano de nascimento']).astype(int)"
   ]
  },
  {
   "cell_type": "code",
   "execution_count": 397,
   "metadata": {},
   "outputs": [],
   "source": [
    "# Remover as colunas que não serão mais utilizadas\n",
    "esq_valid.drop(columns=['Ano de nascimento'], inplace=True)"
   ]
  },
  {
   "cell_type": "markdown",
   "metadata": {},
   "source": [
    "#### 2.3.9) Unidade Federativa"
   ]
  },
  {
   "cell_type": "markdown",
   "metadata": {},
   "source": [
    "Para a utilização da unidade federativa, a escolha realizada pelo grupo foi dividir por regiões ao invés de por estados, reduzindo a complexidade total do modelo. \n",
    "\n",
    "Para isso, é necessário identificar cada estado e atribuí-lo à região correspondente. "
   ]
  },
  {
   "cell_type": "code",
   "execution_count": 398,
   "metadata": {},
   "outputs": [
    {
     "name": "stdout",
     "output_type": "stream",
     "text": [
      "31.0    3622\n",
      "29.0     573\n",
      "26.0     365\n",
      "32.0     324\n",
      "27.0     222\n",
      "25.0     178\n",
      "28.0     148\n",
      "35.0     103\n",
      "33.0      72\n",
      "41.0      59\n",
      "23.0      52\n",
      "21.0      47\n",
      "15.0      27\n",
      "24.0      24\n",
      "11.0      17\n",
      "52.0       9\n",
      "51.0       7\n",
      "50.0       6\n",
      "17.0       6\n",
      "22.0       4\n",
      "42.0       4\n",
      "43.0       3\n",
      "53.0       3\n",
      "13.0       2\n",
      "Name: Unidade Federativa, dtype: int64\n",
      "Valores nulos:  1348\n"
     ]
    }
   ],
   "source": [
    "print(esq_valid['Unidade Federativa'].value_counts())\n",
    "print(\"Valores nulos: \", esq_valid['Unidade Federativa'].isna().sum())"
   ]
  },
  {
   "cell_type": "markdown",
   "metadata": {},
   "source": [
    "Como temos uma quantidade significativa de valores nulos, os definiremos como \"Não especificado\""
   ]
  },
  {
   "cell_type": "code",
   "execution_count": 399,
   "metadata": {},
   "outputs": [],
   "source": [
    "esq_valid['Unidade Federativa'].fillna(\"Nao_especificado\", inplace=True)"
   ]
  },
  {
   "cell_type": "markdown",
   "metadata": {},
   "source": [
    "Para identificar as fontes, foi preciso acessar a Tabela de Códigos de Municípios do IBGE:\n",
    "\n",
    "https://www.ibge.gov.br/explica/codigos-dos-municipios.php"
   ]
  },
  {
   "cell_type": "code",
   "execution_count": 400,
   "metadata": {},
   "outputs": [],
   "source": [
    "replace_uf_para_regiao = {\n",
    "    11: 'Norte',  # Rondônia\n",
    "    12: 'Norte',  # Acre\n",
    "    13: 'Norte',  # Amazonas\n",
    "    14: 'Norte',  # Roraima\n",
    "    15: 'Norte',  # Pará\n",
    "    16: 'Norte',  # Amapá\n",
    "    17: 'Norte',  # Tocantins\n",
    "    \n",
    "    21: 'Nordeste',  # Maranhão\n",
    "    22: 'Nordeste',  # Piauí\n",
    "    23: 'Nordeste',  # Ceará\n",
    "    24: 'Nordeste',  # Rio Grande do Norte\n",
    "    25: 'Nordeste',  # Paraíba\n",
    "    26: 'Nordeste',  # Pernambuco\n",
    "    27: 'Nordeste',  # Alagoas\n",
    "    28: 'Nordeste',  # Sergipe\n",
    "    29: 'Nordeste',  # Bahia\n",
    "    \n",
    "    31: 'Sudeste',  # Minas Gerais\n",
    "    32: 'Sudeste',  # Espírito Santo\n",
    "    33: 'Sudeste',  # Rio de Janeiro\n",
    "    35: 'Sudeste',  # São Paulo\n",
    "    \n",
    "    41: 'Sul',  # Paraná\n",
    "    42: 'Sul',  # Santa Catarina\n",
    "    43: 'Sul',  # Rio Grande do Sul\n",
    "    \n",
    "    50: 'Centro-Oeste',  # Mato Grosso do Sul\n",
    "    51: 'Centro-Oeste',  # Mato Grosso\n",
    "    52: 'Centro-Oeste',  # Goiás\n",
    "    53: 'Centro-Oeste'   # Distrito Federal\n",
    "}"
   ]
  },
  {
   "cell_type": "code",
   "execution_count": 401,
   "metadata": {},
   "outputs": [
    {
     "name": "stdout",
     "output_type": "stream",
     "text": [
      "['Nordeste' 'Sudeste' 'Nao_especificado' 'Sul' 'Centro-Oeste' 'Norte']\n"
     ]
    }
   ],
   "source": [
    "# Substituindo os códigos pelas regiões\n",
    "esq_valid['Unidade Federativa'] = esq_valid['Unidade Federativa'].replace(replace_uf_para_regiao)\n",
    "\n",
    "# Verificando o resultado\n",
    "print(esq_valid['Unidade Federativa'].unique())"
   ]
  },
  {
   "cell_type": "markdown",
   "metadata": {},
   "source": [
    "Agora, definindo uma coluna por One-Hot encoding para cada região distinta:"
   ]
  },
  {
   "cell_type": "code",
   "execution_count": 402,
   "metadata": {},
   "outputs": [],
   "source": [
    "# Criando colunas one-hot\n",
    "df_onehot = pd.get_dummies(\n",
    "    esq_valid['Unidade Federativa'],\n",
    "    prefix='Regiao',     \n",
    "    dtype=int          \n",
    ")\n",
    "\n",
    "# Concatenando com o DataFrame original\n",
    "esq_valid = pd.concat([esq_valid, df_onehot], axis=1)\n",
    "\n",
    "# Removendo a coluna original\n",
    "esq_valid.drop(columns=['Unidade Federativa'], inplace=True)"
   ]
  },
  {
   "cell_type": "code",
   "execution_count": 403,
   "metadata": {},
   "outputs": [
    {
     "name": "stdout",
     "output_type": "stream",
     "text": [
      "<class 'pandas.core.frame.DataFrame'>\n",
      "Int64Index: 7225 entries, 0 to 7273\n",
      "Data columns (total 26 columns):\n",
      " #   Column                       Non-Null Count  Dtype  \n",
      "---  ------                       --------------  -----  \n",
      " 0   Quantidade ovos encontrados  7225 non-null   int64  \n",
      " 1   Escolaridade                 7225 non-null   int64  \n",
      " 2   Sexo                         7225 non-null   int64  \n",
      " 3   Resultado                    7225 non-null   float64\n",
      " 4   Ano_atual                    7225 non-null   int64  \n",
      " 5   Exame_Desconhecido           7225 non-null   int64  \n",
      " 6   Exame_Nao_Realizado          7225 non-null   int64  \n",
      " 7   Exame_Negativo               7225 non-null   int64  \n",
      " 8   Exame_Positivo               7225 non-null   int64  \n",
      " 9   Tratamento_Ignorado          7225 non-null   int64  \n",
      " 10  Tratamento_Nao               7225 non-null   int64  \n",
      " 11  Tratamento_Sim_Oxaminiquine  7225 non-null   int64  \n",
      " 12  Tratamento_Sim_Praziquantel  7225 non-null   int64  \n",
      " 13  Forma_Aguda                  7225 non-null   int64  \n",
      " 14  Forma_Hepato_Esplenica       7225 non-null   int64  \n",
      " 15  Forma_Hepato_Intestinal      7225 non-null   int64  \n",
      " 16  Forma_Intestinal             7225 non-null   int64  \n",
      " 17  Forma_Nao_especificado       7225 non-null   int64  \n",
      " 18  Forma_Outra                  7225 non-null   int64  \n",
      " 19  Idade                        7225 non-null   int64  \n",
      " 20  Regiao_Centro-Oeste          7225 non-null   int64  \n",
      " 21  Regiao_Nao_especificado      7225 non-null   int64  \n",
      " 22  Regiao_Nordeste              7225 non-null   int64  \n",
      " 23  Regiao_Norte                 7225 non-null   int64  \n",
      " 24  Regiao_Sudeste               7225 non-null   int64  \n",
      " 25  Regiao_Sul                   7225 non-null   int64  \n",
      "dtypes: float64(1), int64(25)\n",
      "memory usage: 1.5 MB\n"
     ]
    }
   ],
   "source": [
    "esq_valid.info()"
   ]
  },
  {
   "cell_type": "code",
   "execution_count": 404,
   "metadata": {},
   "outputs": [
    {
     "name": "stdout",
     "output_type": "stream",
     "text": [
      "0    7173\n",
      "1      52\n",
      "Name: Regiao_Norte, dtype: int64\n",
      "0    5612\n",
      "1    1613\n",
      "Name: Regiao_Nordeste, dtype: int64\n",
      "1    4121\n",
      "0    3104\n",
      "Name: Regiao_Sudeste, dtype: int64\n",
      "0    7159\n",
      "1      66\n",
      "Name: Regiao_Sul, dtype: int64\n",
      "0    7200\n",
      "1      25\n",
      "Name: Regiao_Centro-Oeste, dtype: int64\n"
     ]
    }
   ],
   "source": [
    "print(esq_valid['Regiao_Norte'].value_counts())\n",
    "print(esq_valid['Regiao_Nordeste'].value_counts())\n",
    "print(esq_valid['Regiao_Sudeste'].value_counts())\n",
    "print(esq_valid['Regiao_Sul'].value_counts())\n",
    "print(esq_valid['Regiao_Centro-Oeste'].value_counts())"
   ]
  },
  {
   "cell_type": "code",
   "execution_count": 405,
   "metadata": {},
   "outputs": [
    {
     "name": "stdout",
     "output_type": "stream",
     "text": [
      "Porcentagem da região nordeste:  22.325259515570934\n",
      "Taxa de mortalidade da região nordeste: 21.38%\n"
     ]
    }
   ],
   "source": [
    "nordeste = esq_valid[esq_valid['Regiao_Nordeste'] == 1]\n",
    "print(\"Porcentagem da região nordeste: \", len(nordeste) / len(esq_valid) * 100)\n",
    "print(f\"Taxa de mortalidade da região nordeste: { len(nordeste[nordeste['Resultado'] == 1]) / len(esq_valid) * 100:.2f}%\")"
   ]
  },
  {
   "cell_type": "code",
   "execution_count": 406,
   "metadata": {},
   "outputs": [
    {
     "name": "stdout",
     "output_type": "stream",
     "text": [
      "Porcentagem do ano de 2023:  19.94463667820069\n",
      "Taxa de mortalidade do ano de 2023: 19.50%\n"
     ]
    }
   ],
   "source": [
    "ano_2023 = esq_valid[esq_valid['Ano_atual'] == 2023]\n",
    "print(\"Porcentagem do ano de 2023: \", len(esq_valid[esq_valid['Ano_atual'] == 2023]) / len(esq_valid) * 100)\n",
    "print(f\"Taxa de mortalidade do ano de 2023: {len(ano_2023[ano_2023['Resultado'] == 1]) / len(esq_valid) * 100:.2f}%\")"
   ]
  },
  {
   "cell_type": "code",
   "execution_count": 407,
   "metadata": {},
   "outputs": [
    {
     "name": "stdout",
     "output_type": "stream",
     "text": [
      "Porcentagem de mortes em relação ao total:  97.37024221453288\n"
     ]
    }
   ],
   "source": [
    "print(\"Porcentagem de mortes em relação ao total: \", len(esq_valid[esq_valid['Resultado'] == 1]) / len(esq_valid) * 100)"
   ]
  },
  {
   "cell_type": "markdown",
   "metadata": {},
   "source": [
    "Podemos ver que, como a distribuição por região dos casos se mostra muito desbalanceada, talvez não seja ideal realizar a divisão de treino por região. Por isso, optamos por realizar a divisão em função de tempo."
   ]
  },
  {
   "cell_type": "code",
   "execution_count": 408,
   "metadata": {},
   "outputs": [
    {
     "data": {
      "text/plain": [
       "2019    2205\n",
       "2023    1441\n",
       "2022    1379\n",
       "2021    1228\n",
       "2020     972\n",
       "Name: Ano_atual, dtype: int64"
      ]
     },
     "execution_count": 408,
     "metadata": {},
     "output_type": "execute_result"
    }
   ],
   "source": [
    "esq_valid[\"Ano_atual\"].value_counts()"
   ]
  },
  {
   "cell_type": "markdown",
   "metadata": {},
   "source": [
    "Podemos verificar que o ano de 2021 apresenta aproximadamente 17.15% das instâncias, o que é suficiente para o conjunto de testes."
   ]
  },
  {
   "cell_type": "markdown",
   "metadata": {},
   "source": [
    "Note que a coluna \"Resultado\" ainda apresenta 3 valores distintos: cura, óbito por esquistossomose e óbito por outras causas."
   ]
  },
  {
   "cell_type": "code",
   "execution_count": 409,
   "metadata": {},
   "outputs": [
    {
     "data": {
      "text/plain": [
       "array([1., 3., 4.])"
      ]
     },
     "execution_count": 409,
     "metadata": {},
     "output_type": "execute_result"
    }
   ],
   "source": [
    "esq_valid[\"Resultado\"].unique()"
   ]
  },
  {
   "cell_type": "markdown",
   "metadata": {},
   "source": [
    "Para usarmos *one-hot* encoding na coluna \"Resultado\", mapeamos os valores correspondentes a cura (1) para 0 e os valores correspondentes a óbito (3 e 4) para 1."
   ]
  },
  {
   "cell_type": "code",
   "execution_count": 410,
   "metadata": {},
   "outputs": [],
   "source": [
    "esq_valid['Resultado'] = esq_valid['Resultado'].map({1: 0, 3: 1, 4: 1})\n"
   ]
  },
  {
   "cell_type": "code",
   "execution_count": 411,
   "metadata": {},
   "outputs": [
    {
     "data": {
      "text/plain": [
       "array([0, 1])"
      ]
     },
     "execution_count": 411,
     "metadata": {},
     "output_type": "execute_result"
    }
   ],
   "source": [
    "esq_valid[\"Resultado\"].unique()"
   ]
  },
  {
   "cell_type": "markdown",
   "metadata": {},
   "source": [
    "Analisando as colunas e removendo colunas pouco representativas (como colunas que identificam dados vazios) a fim de mitigar o viés no modelo:"
   ]
  },
  {
   "cell_type": "code",
   "execution_count": 412,
   "metadata": {},
   "outputs": [
    {
     "data": {
      "text/plain": [
       "Index(['Quantidade ovos encontrados', 'Escolaridade', 'Sexo', 'Resultado',\n",
       "       'Ano_atual', 'Exame_Desconhecido', 'Exame_Nao_Realizado',\n",
       "       'Exame_Negativo', 'Exame_Positivo', 'Tratamento_Ignorado',\n",
       "       'Tratamento_Nao', 'Tratamento_Sim_Oxaminiquine',\n",
       "       'Tratamento_Sim_Praziquantel', 'Forma_Aguda', 'Forma_Hepato_Esplenica',\n",
       "       'Forma_Hepato_Intestinal', 'Forma_Intestinal', 'Forma_Nao_especificado',\n",
       "       'Forma_Outra', 'Idade', 'Regiao_Centro-Oeste',\n",
       "       'Regiao_Nao_especificado', 'Regiao_Nordeste', 'Regiao_Norte',\n",
       "       'Regiao_Sudeste', 'Regiao_Sul'],\n",
       "      dtype='object')"
      ]
     },
     "execution_count": 412,
     "metadata": {},
     "output_type": "execute_result"
    }
   ],
   "source": [
    "esq_valid.columns"
   ]
  },
  {
   "cell_type": "code",
   "execution_count": 413,
   "metadata": {},
   "outputs": [],
   "source": [
    "esq_valid.drop(['Exame_Desconhecido', 'Tratamento_Ignorado', 'Forma_Nao_especificado','Regiao_Nao_especificado'], axis=1, inplace=True)"
   ]
  },
  {
   "cell_type": "code",
   "execution_count": 414,
   "metadata": {},
   "outputs": [
    {
     "name": "stdout",
     "output_type": "stream",
     "text": [
      "<class 'pandas.core.frame.DataFrame'>\n",
      "Int64Index: 7225 entries, 0 to 7273\n",
      "Data columns (total 22 columns):\n",
      " #   Column                       Non-Null Count  Dtype\n",
      "---  ------                       --------------  -----\n",
      " 0   Quantidade ovos encontrados  7225 non-null   int64\n",
      " 1   Escolaridade                 7225 non-null   int64\n",
      " 2   Sexo                         7225 non-null   int64\n",
      " 3   Resultado                    7225 non-null   int64\n",
      " 4   Ano_atual                    7225 non-null   int64\n",
      " 5   Exame_Nao_Realizado          7225 non-null   int64\n",
      " 6   Exame_Negativo               7225 non-null   int64\n",
      " 7   Exame_Positivo               7225 non-null   int64\n",
      " 8   Tratamento_Nao               7225 non-null   int64\n",
      " 9   Tratamento_Sim_Oxaminiquine  7225 non-null   int64\n",
      " 10  Tratamento_Sim_Praziquantel  7225 non-null   int64\n",
      " 11  Forma_Aguda                  7225 non-null   int64\n",
      " 12  Forma_Hepato_Esplenica       7225 non-null   int64\n",
      " 13  Forma_Hepato_Intestinal      7225 non-null   int64\n",
      " 14  Forma_Intestinal             7225 non-null   int64\n",
      " 15  Forma_Outra                  7225 non-null   int64\n",
      " 16  Idade                        7225 non-null   int64\n",
      " 17  Regiao_Centro-Oeste          7225 non-null   int64\n",
      " 18  Regiao_Nordeste              7225 non-null   int64\n",
      " 19  Regiao_Norte                 7225 non-null   int64\n",
      " 20  Regiao_Sudeste               7225 non-null   int64\n",
      " 21  Regiao_Sul                   7225 non-null   int64\n",
      "dtypes: int64(22)\n",
      "memory usage: 1.3 MB\n"
     ]
    }
   ],
   "source": [
    "esq_valid.info()"
   ]
  },
  {
   "cell_type": "code",
   "execution_count": 415,
   "metadata": {},
   "outputs": [],
   "source": [
    "esq_valid['Sexo'] = esq_valid['Sexo'].astype(int)"
   ]
  },
  {
   "cell_type": "markdown",
   "metadata": {},
   "source": [
    "Finalmente, dividimos os dados entre teste e treino."
   ]
  },
  {
   "cell_type": "code",
   "execution_count": 416,
   "metadata": {},
   "outputs": [],
   "source": [
    "# Criar conjuntos de teste (2021) e treino (outros anos)\n",
    "df_teste = esq_valid[esq_valid['Ano_atual'] == 2023].copy()\n",
    "df_treino = esq_valid[esq_valid['Ano_atual'] != 2023].copy()\n",
    "\n",
    "# Remover a coluna 'Ano_atual' de ambos os DataFrames\n",
    "df_teste = df_teste.drop(columns=['Ano_atual'])\n",
    "df_treino = df_treino.drop(columns=['Ano_atual'])\n",
    "\n",
    "# Exportar para CSV\n",
    "df_teste.to_csv('../source/datasets/df_teste.csv', index=False)\n",
    "df_treino.to_csv('../source/datasets/df_treino.csv', index=False)"
   ]
  },
  {
   "cell_type": "code",
   "execution_count": 419,
   "metadata": {},
   "outputs": [
    {
     "name": "stdout",
     "output_type": "stream",
     "text": [
      "Pacientes mortos no dataset de treino:  158\n",
      "Pacientes mortos no dataset de teste: 32\n"
     ]
    }
   ],
   "source": [
    "print(\"Pacientes mortos no dataset de treino: \", df_treino[df_treino['Resultado'] == 1].shape[0])\n",
    "print(\"Pacientes mortos no dataset de teste:\", df_teste[df_teste['Resultado'] == 1].shape[0])"
   ]
  }
 ],
 "metadata": {
  "kernelspec": {
   "display_name": "Python 3",
   "language": "python",
   "name": "python3"
  },
  "language_info": {
   "codemirror_mode": {
    "name": "ipython",
    "version": 3
   },
   "file_extension": ".py",
   "mimetype": "text/x-python",
   "name": "python",
   "nbconvert_exporter": "python",
   "pygments_lexer": "ipython3",
   "version": "3.10.12"
  }
 },
 "nbformat": 4,
 "nbformat_minor": 2
}
