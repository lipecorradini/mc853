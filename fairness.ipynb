{
 "cells": [
  {
   "cell_type": "markdown",
   "metadata": {},
   "source": [
    "# Avaliação de Fairness no modelo"
   ]
  },
  {
   "cell_type": "markdown",
   "metadata": {},
   "source": [
    "Para a avaliação de fairness, será utilizada a métrica Equal opportunity, e será realizada a análise na classe \"sexo\""
   ]
  },
  {
   "cell_type": "markdown",
   "metadata": {},
   "source": [
    "Primeiramente, vamos calcular a métrica de fairness para a classe sexo, analisar, e utilizar técnicas de mitigação de viés a fim de comparar os resultados com o modelo anterior"
   ]
  },
  {
   "cell_type": "code",
   "execution_count": 33,
   "metadata": {},
   "outputs": [
    {
     "name": "stdout",
     "output_type": "stream",
     "text": [
      "Index(['Quantidade ovos encontrados', 'Escolaridade', 'Sexo', 'Resultado',\n",
      "       'Exame_Desconhecido', 'Exame_Nao_Realizado', 'Exame_Negativo',\n",
      "       'Exame_Positivo', 'Tratamento_Ignorado', 'Tratamento_Nao',\n",
      "       'Tratamento_Sim_Oxaminiquine', 'Tratamento_Sim_Praziquantel',\n",
      "       'Forma_Aguda', 'Forma_Hepato_Esplenica', 'Forma_Hepato_Intestinal',\n",
      "       'Forma_Intestinal', 'Forma_Nao_especificado', 'Forma_Outra', 'Idade',\n",
      "       'Regiao_Centro-Oeste', 'Regiao_Nao_especificado', 'Regiao_Nordeste',\n",
      "       'Regiao_Norte', 'Regiao_Sudeste', 'Regiao_Sul'],\n",
      "      dtype='object')\n"
     ]
    }
   ],
   "source": [
    "# Carregando os dados de teste\n",
    "import pandas as pd\n",
    "test_data = pd.read_csv('entrega-1/df_teste.csv')\n",
    "print(test_data.columns)\n"
   ]
  },
  {
   "cell_type": "code",
   "execution_count": 34,
   "metadata": {},
   "outputs": [],
   "source": [
    "# Removendo colunas que não agregam na avaliação (Assim como realizado no treinamento)\n",
    "test_data = test_data.drop(columns=['Exame_Desconhecido', 'Tratamento_Ignorado', 'Forma_Nao_especificado', 'Regiao_Nao_especificado'])"
   ]
  },
  {
   "cell_type": "code",
   "execution_count": 35,
   "metadata": {},
   "outputs": [],
   "source": [
    "# Dividindo os conjuntos de predições e target\n",
    "X_test = test_data.drop(columns=['Resultado'])\n",
    "y_test = test_data['Resultado']\n",
    "sexo = test_data['Sexo']\n",
    "escolaridade = test_data['Escolaridade']"
   ]
  },
  {
   "cell_type": "code",
   "execution_count": 36,
   "metadata": {},
   "outputs": [],
   "source": [
    "# Carregando o modelo\n",
    "import pickle\n",
    "with open('source/models/best_model.pkl', 'rb') as file:\n",
    "    best_model = pickle.load(file)\n"
   ]
  },
  {
   "cell_type": "markdown",
   "metadata": {},
   "source": [
    "Realizando as predições no conjunto de teste para o melhor modelo encontrado: "
   ]
  },
  {
   "cell_type": "code",
   "execution_count": 37,
   "metadata": {},
   "outputs": [
    {
     "data": {
      "text/plain": [
       "Index(['Quantidade ovos encontrados', 'Escolaridade', 'Sexo',\n",
       "       'Exame_Nao_Realizado', 'Exame_Negativo', 'Exame_Positivo',\n",
       "       'Tratamento_Nao', 'Tratamento_Sim_Oxaminiquine',\n",
       "       'Tratamento_Sim_Praziquantel', 'Forma_Aguda', 'Forma_Hepato_Esplenica',\n",
       "       'Forma_Hepato_Intestinal', 'Forma_Intestinal', 'Forma_Outra', 'Idade',\n",
       "       'Regiao_Centro-Oeste', 'Regiao_Nordeste', 'Regiao_Norte',\n",
       "       'Regiao_Sudeste', 'Regiao_Sul'],\n",
       "      dtype='object')"
      ]
     },
     "execution_count": 37,
     "metadata": {},
     "output_type": "execute_result"
    }
   ],
   "source": [
    "X_test.columns"
   ]
  },
  {
   "cell_type": "code",
   "execution_count": 38,
   "metadata": {},
   "outputs": [
    {
     "name": "stdout",
     "output_type": "stream",
     "text": [
      "[1 0]\n"
     ]
    },
    {
     "name": "stderr",
     "output_type": "stream",
     "text": [
      "/home/lipecorradini/.local/lib/python3.10/site-packages/sklearn/base.py:486: UserWarning: X has feature names, but KNeighborsClassifier was fitted without feature names\n",
      "  warnings.warn(\n"
     ]
    }
   ],
   "source": [
    "y_pred = best_model.predict(X_test)\n",
    "\n",
    "print(sexo.unique())"
   ]
  },
  {
   "cell_type": "markdown",
   "metadata": {},
   "source": [
    "No nosso caso, o valor 0 é masculino e 0 é feminino"
   ]
  },
  {
   "cell_type": "code",
   "execution_count": 39,
   "metadata": {},
   "outputs": [
    {
     "name": "stdout",
     "output_type": "stream",
     "text": [
      "Recall para o grupo Feminino: 0.7000\n",
      "Recall para o grupo Masculino: 0.7600\n"
     ]
    }
   ],
   "source": [
    "from sklearn.metrics import recall_score\n",
    "\n",
    "grupos = sexo.unique()\n",
    "labels = ['Masculino', 'Feminino']\n",
    "for value in grupos:\n",
    "    idx_gp = sexo == value # Escolhe o sexo definido e calcula o recall\n",
    "    recall = recall_score(y_test[idx_gp], y_pred[idx_gp])\n",
    "    print(f'Recall para o grupo {labels[value]}: {recall:.4f}')"
   ]
  },
  {
   "cell_type": "markdown",
   "metadata": {},
   "source": [
    "Testando para escolaridade"
   ]
  },
  {
   "cell_type": "code",
   "execution_count": 41,
   "metadata": {},
   "outputs": [
    {
     "name": "stdout",
     "output_type": "stream",
     "text": [
      "Recall para o grupo Analfabeto: 0.7636\n",
      "Recall para o grupo 1ª a 4ª série incompleta: 0.7500\n",
      "Recall para o grupo 4ª série completa: 1.0000\n",
      "Recall para o grupo 5ª a 8ª série incompleta: 0.5000\n",
      "Recall para o grupo Ensino fundamental completo: 0.6250\n",
      "Recall para o grupo Ensino médio incompleto: 1.0000\n",
      "Recall para o grupo Ensino médio completo: 0.0000\n",
      "Recall para o grupo Educação superior incompleta: 0.0000\n",
      "Recall para o grupo Educação superior completa: 0.0000\n"
     ]
    },
    {
     "name": "stderr",
     "output_type": "stream",
     "text": [
      "/home/lipecorradini/.local/lib/python3.10/site-packages/sklearn/metrics/_classification.py:1531: UndefinedMetricWarning: Recall is ill-defined and being set to 0.0 due to no true samples. Use `zero_division` parameter to control this behavior.\n",
      "  _warn_prf(average, modifier, f\"{metric.capitalize()} is\", len(result))\n",
      "/home/lipecorradini/.local/lib/python3.10/site-packages/sklearn/metrics/_classification.py:1531: UndefinedMetricWarning: Recall is ill-defined and being set to 0.0 due to no true samples. Use `zero_division` parameter to control this behavior.\n",
      "  _warn_prf(average, modifier, f\"{metric.capitalize()} is\", len(result))\n"
     ]
    }
   ],
   "source": [
    "escolaridade_labels = {\n",
    "    0: \"Analfabeto\",\n",
    "    1: \"1ª a 4ª série incompleta\",\n",
    "    2: \"4ª série completa\",\n",
    "    3: \"5ª a 8ª série incompleta\",\n",
    "    4: \"Ensino fundamental completo\",\n",
    "    5: \"Ensino médio incompleto\",\n",
    "    6: \"Ensino médio completo\",\n",
    "    7: \"Educação superior incompleta\",\n",
    "    8: \"Educação superior completa\",\n",
    "}\n",
    "\n",
    "\n",
    "for value in escolaridade_labels.keys():\n",
    "    idx_gp = escolaridade == value # Escolhe a escolaridade definida e calcula o recall\n",
    "    recall = recall_score(y_test[idx_gp], y_pred[idx_gp])\n",
    "    print(f'Recall para o grupo {escolaridade_labels[value]}: {recall:.4f}')"
   ]
  },
  {
   "cell_type": "markdown",
   "metadata": {},
   "source": [
    "Como não temos representantes de todas as classes para graus mais altos de educação nos dois conjuntos alvo (óbito e sobrevivência), torna-se inviável de avaliar tal métrica"
   ]
  }
 ],
 "metadata": {
  "kernelspec": {
   "display_name": "Python 3",
   "language": "python",
   "name": "python3"
  },
  "language_info": {
   "codemirror_mode": {
    "name": "ipython",
    "version": 3
   },
   "file_extension": ".py",
   "mimetype": "text/x-python",
   "name": "python",
   "nbconvert_exporter": "python",
   "pygments_lexer": "ipython3",
   "version": "3.10.12"
  }
 },
 "nbformat": 4,
 "nbformat_minor": 2
}
