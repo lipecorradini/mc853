{
 "cells": [
  {
   "cell_type": "code",
   "execution_count": 28,
   "metadata": {},
   "outputs": [],
   "source": [
    "import pandas as pd\n",
    "df_train = pd.read_csv('./source/datasets/df_treino.csv')\n",
    "df_test = pd.read_csv('./source/datasets/df_teste.csv')\n"
   ]
  },
  {
   "cell_type": "code",
   "execution_count": 29,
   "metadata": {},
   "outputs": [
    {
     "name": "stdout",
     "output_type": "stream",
     "text": [
      "0    5626\n",
      "1     158\n",
      "Name: Resultado, dtype: int64\n",
      "0    1409\n",
      "1      32\n",
      "Name: Resultado, dtype: int64\n"
     ]
    }
   ],
   "source": [
    "print(df_train['Resultado'].value_counts())\n",
    "print(df_test['Resultado'].value_counts())"
   ]
  },
  {
   "cell_type": "code",
   "execution_count": 139,
   "metadata": {},
   "outputs": [
    {
     "data": {
      "image/png": "[encoded data removed]",
      "text/plain": [
       "<Figure size 1200x600 with 2 Axes>"
      ]
     },
     "metadata": {},
     "output_type": "display_data"
    }
   ],
   "source": [
    "# Plotando a divisão de classes para conjunto de treino e teste lado a lado\n",
    "import matplotlib.pyplot as plt\n",
    "import seaborn as sns\n",
    "\n",
    "plt.figure(figsize=(12, 6))\n",
    "ax1 = plt.subplot(121)\n",
    "\n",
    "classes = [0,1]\n",
    "counts = [df_train['Resultado'].value_counts().get(c, 0) for c in classes]\n",
    "plt.bar(x=classes, height=counts, tick_label=classes)\n",
    "plt.title('Distribuição de Classes - Treino')\n",
    "\n",
    "\n",
    "ax2 = plt.subplot(122)\n",
    "counts = [df_test['Resultado'].value_counts().get(c, 0) for c in classes]\n",
    "plt.bar(x=classes, height=counts, tick_label=classes)\n",
    "plt.title('Distribuição de Classes - Teste')\n",
    "\n",
    "plt.savefig('./source/images/distribuicao_classes.png')"
   ]
  },
  {
   "cell_type": "code",
   "execution_count": 96,
   "metadata": {},
   "outputs": [],
   "source": [
    "y_test = df_test['Resultado'].to_numpy()\n",
    "X_test = df_test.drop(['Resultado'], axis=1).to_numpy()"
   ]
  },
  {
   "cell_type": "code",
   "execution_count": 30,
   "metadata": {},
   "outputs": [],
   "source": [
    "y_train = df_train['Resultado'].to_numpy()\n",
    "X_train = df_train.drop(['Resultado'], axis=1).to_numpy()"
   ]
  },
  {
   "cell_type": "code",
   "execution_count": 31,
   "metadata": {},
   "outputs": [],
   "source": [
    "y_train_save = y_train\n",
    "X_train_save = X_train"
   ]
  },
  {
   "cell_type": "markdown",
   "metadata": {},
   "source": [
    "## 1) Balanceando as classes"
   ]
  },
  {
   "cell_type": "markdown",
   "metadata": {},
   "source": [
    "Primeiramente, precisamos garantir representatividade de ao menos 1,5x da classe majoritária sobre a minoritária. Como temos consideravelmente mais instâncias de pessoas que não faleceram, vamos buscar utilizar diferentes técnicas tanto para selecionar instâncias da classe majoritária quanto para aumentar as instâncias da classe majoritária"
   ]
  },
  {
   "cell_type": "markdown",
   "metadata": {},
   "source": [
    "Para isso, iremos utilizar a biblioteca imblearn"
   ]
  },
  {
   "cell_type": "code",
   "execution_count": 32,
   "metadata": {},
   "outputs": [],
   "source": [
    "# !pip install imblearn"
   ]
  },
  {
   "cell_type": "markdown",
   "metadata": {},
   "source": [
    "Primeiramente, aumentar a instância da classe minoritaria até atingir 20% da majoritária"
   ]
  },
  {
   "cell_type": "code",
   "execution_count": 33,
   "metadata": {},
   "outputs": [
    {
     "name": "stdout",
     "output_type": "stream",
     "text": [
      "Quantidade da classe minoritária antes da aumentação:  (array([0, 1]), array([5626,  158]))\n",
      "Quantidade da classe minoritária após aumentação:  (array([0, 1]), array([5626, 1125]))\n"
     ]
    }
   ],
   "source": [
    "from imblearn.over_sampling import SMOTE\n",
    "import numpy as np\n",
    "\n",
    "oversample = SMOTE(sampling_strategy=0.2, random_state=42)\n",
    "print(\"Quantidade da classe minoritária antes da aumentação: \", np.unique(y_train, return_counts=True))\n",
    "\n",
    "X_train, y_train = oversample.fit_resample(X_train, y_train)\n",
    "print(\"Quantidade da classe minoritária após aumentação: \", np.unique(y_train, return_counts=True))"
   ]
  },
  {
   "cell_type": "markdown",
   "metadata": {},
   "source": [
    "Agora, vamos utilizar undersampling para reduzir a classe majoritária. "
   ]
  },
  {
   "cell_type": "code",
   "execution_count": 34,
   "metadata": {},
   "outputs": [
    {
     "name": "stdout",
     "output_type": "stream",
     "text": [
      "(2812, 20)\n",
      "(2812,)\n"
     ]
    }
   ],
   "source": [
    "from imblearn.under_sampling import NearMiss\n",
    "\n",
    "nm = NearMiss(sampling_strategy={0:1687,1:1125})\n",
    "X_train, y_train = nm.fit_resample(X_train, y_train)\n",
    "print(X_train.shape)\n",
    "print(y_train.shape)"
   ]
  },
  {
   "cell_type": "code",
   "execution_count": 35,
   "metadata": {},
   "outputs": [
    {
     "name": "stdout",
     "output_type": "stream",
     "text": [
      "(array([0, 1]), array([1687, 1125]))\n"
     ]
    }
   ],
   "source": [
    "import numpy as np\n",
    "print(np.unique(y_train, return_counts=True))"
   ]
  },
  {
   "cell_type": "markdown",
   "metadata": {},
   "source": [
    "## 2) Treinamento do modelo"
   ]
  },
  {
   "cell_type": "markdown",
   "metadata": {},
   "source": [
    "A análise anterior foi usada apenas para demonstrar como devem ser balanceados os modelos. O balanceamento será realizado dentro dos folds de treinamento para cada iteração do k-fold, a fim de que a valicação reflita melhor os padrões que serão vistos nos conjuntos de teste"
   ]
  },
  {
   "cell_type": "code",
   "execution_count": 36,
   "metadata": {},
   "outputs": [
    {
     "name": "stdout",
     "output_type": "stream",
     "text": [
      "(array([0, 1]), array([5626,  158]))\n"
     ]
    }
   ],
   "source": [
    "from sklearn.model_selection import GridSearchCV, cross_val_score, StratifiedKFold\n",
    "from sklearn.pipeline import Pipeline as SKPipeline\n",
    "from sklearn.metrics import classification_report\n",
    "\n",
    "X_train = X_train_save\n",
    "y_train = y_train_save\n",
    "\n",
    "print(np.unique(y_train, return_counts=True))"
   ]
  },
  {
   "cell_type": "code",
   "execution_count": 43,
   "metadata": {},
   "outputs": [],
   "source": [
    "from sklearn.neighbors import KNeighborsClassifier\n",
    "from sklearn.linear_model import LogisticRegression\n",
    "from sklearn.ensemble import RandomForestClassifier\n",
    "\n",
    "param_grids = {\n",
    "    'kNN': {\n",
    "        'n_neighbors': [1, 5, 10],\n",
    "        'p': [1, 2],\n",
    "        'weights': ['uniform', 'distance']\n",
    "    },\n",
    "    'Logistic Regression': {\n",
    "        'class_weight': ['balanced', {0: 1, 1: 1}]\n",
    "    },\n",
    "    'Random Forest': {\n",
    "        'n_estimators': [10, 100, 200],\n",
    "        'max_depth': [10, 50],\n",
    "        'min_samples_split': [2, 10, 30]\n",
    "    }\n",
    "}\n"
   ]
  },
  {
   "cell_type": "markdown",
   "metadata": {},
   "source": [
    "Agora que já temos os parâmetros iniciais, instanciando os modelos:"
   ]
  },
  {
   "cell_type": "code",
   "execution_count": 44,
   "metadata": {},
   "outputs": [],
   "source": [
    "# Modelos base\n",
    "knn = KNeighborsClassifier()\n",
    "lr = LogisticRegression(max_iter=1000)\n",
    "rf = RandomForestClassifier(random_state=42)\n",
    "\n",
    "models = [('kNN', knn), ('Logistic Regression', lr), ('Random Forest', rf)]"
   ]
  },
  {
   "cell_type": "code",
   "execution_count": 109,
   "metadata": {},
   "outputs": [
    {
     "name": "stdout",
     "output_type": "stream",
     "text": [
      "MODELO: kNN\n",
      "Fold 1\n",
      "Distribuição y treino:  (array([0, 1]), array([1500,  900]))\n",
      "Fold 2\n",
      "Distribuição y treino:  (array([0, 1]), array([1500,  900]))\n",
      "Fold 3\n",
      "Distribuição y treino:  (array([0, 1]), array([1500,  900]))\n",
      "Fold 4\n",
      "Distribuição y treino:  (array([0, 1]), array([1500,  900]))\n",
      "Fold 5\n",
      "Distribuição y treino:  (array([0, 1]), array([1500,  900]))\n",
      "MODELO: Logistic Regression\n",
      "Fold 1\n",
      "Distribuição y treino:  (array([0, 1]), array([1500,  900]))\n",
      "Fold 2\n",
      "Distribuição y treino:  (array([0, 1]), array([1500,  900]))\n",
      "Fold 3\n",
      "Distribuição y treino:  (array([0, 1]), array([1500,  900]))\n",
      "Fold 4\n",
      "Distribuição y treino:  (array([0, 1]), array([1500,  900]))\n",
      "Fold 5\n",
      "Distribuição y treino:  (array([0, 1]), array([1500,  900]))\n",
      "MODELO: Random Forest\n",
      "Fold 1\n",
      "Distribuição y treino:  (array([0, 1]), array([1500,  900]))\n",
      "Fold 2\n",
      "Distribuição y treino:  (array([0, 1]), array([1500,  900]))\n",
      "Fold 3\n",
      "Distribuição y treino:  (array([0, 1]), array([1500,  900]))\n",
      "Fold 4\n",
      "Distribuição y treino:  (array([0, 1]), array([1500,  900]))\n",
      "Fold 5\n",
      "Distribuição y treino:  (array([0, 1]), array([1500,  900]))\n"
     ]
    }
   ],
   "source": [
    "from sklearn.base import clone\n",
    "from sklearn.metrics import accuracy_score, balanced_accuracy_score, recall_score, f1_score, precision_score\n",
    "\n",
    "\n",
    "cv = StratifiedKFold(n_splits=5, shuffle=True, random_state=42)\n",
    "\n",
    "save_best_models = {'kNN':[], 'Logistic Regression':[], 'Random Forest':[]}\n",
    "predictions_per_model = {'kNN':[], 'Logistic Regression':[], 'Random Forest':[]}\n",
    "\n",
    "all_reports = {}\n",
    "for name, base_model in models:\n",
    "\n",
    "    print(f\"MODELO: {name}\")\n",
    "    all_reports[name] = []\n",
    "    predictions_per_model[name] = []\n",
    "    \n",
    "    for fold, (train_idx, val_idx) in enumerate(cv.split(X_train, y_train)):\n",
    "        print(f'Fold {fold+1}')\n",
    "        X_train_fold, X_val = X_train[train_idx], X_train[val_idx]\n",
    "        y_train_fold, y_val = y_train[train_idx], y_train[val_idx]\n",
    "\n",
    "        # Transformando classe minoritária em 20% da classe majoritária\n",
    "        oversample = SMOTE(sampling_strategy=0.2, random_state=42)\n",
    "        X_train_fold, y_train_fold = oversample.fit_resample(X_train_fold, y_train_fold)\n",
    "\n",
    "        # Transformando classe majoritária em 1.5x da minoritária\n",
    "        nm = NearMiss(sampling_strategy=0.6)\n",
    "        X_train_fold, y_train_fold = nm.fit_resample(X_train_fold, y_train_fold)\n",
    "\n",
    "        # Mostrando a distribuição do y treino, para ver se o 60% foi respeitado\n",
    "        print(\"Distribuição y treino: \", np.unique(y_train_fold, return_counts=True))\n",
    "\n",
    "        # Clonando o modelo\n",
    "        model = clone(base_model)\n",
    "\n",
    "        # Definindo o GridSearch\n",
    "        grid = GridSearchCV(\n",
    "            model,\n",
    "            param_grid=param_grids[name],\n",
    "            scoring={'recall': 'recall', 'precision': 'precision'},\n",
    "            refit='recall',  # Mais importante para prever o nosso modelo\n",
    "            cv=5,\n",
    "            n_jobs=1)\n",
    "\n",
    "        # Ajustando o modelo com os dados balanceados\n",
    "        grid.fit(X_train_fold, y_train_fold)\n",
    "\n",
    "        # Usando o melhor modelo\n",
    "        best_model = grid.best_estimator_\n",
    "\n",
    "        # Avaliando o modelo\n",
    "        y_pred = best_model.predict(X_val)\n",
    "\n",
    "        # Calculando as métricas\n",
    "        accuracy = accuracy_score(y_val, y_pred)\n",
    "        balanced_acc = balanced_accuracy_score(y_val, y_pred)\n",
    "        recall = recall_score(y_val, y_pred, zero_division=0)\n",
    "        f1 = f1_score(y_val, y_pred, zero_division=0)\n",
    "        precision = precision_score(y_val, y_pred, zero_division=0)\n",
    "\n",
    "        # Salvando como lista [acc, balanced_acc, recall, f1]\n",
    "        metrics = {'model_iteration': f'{name}_{fold}','precision': precision,'accuracy': accuracy, 'balanced_accuracy': balanced_acc, 'recall': recall, 'f1_score': f1}\n",
    "        all_reports[name].append(metrics)\n",
    "\n",
    "        save_best_models[name].append(best_model)\n",
    "        predictions_per_model[name].append({'predicted': y_pred, 'actual': y_val})\n",
    "    "
   ]
  },
  {
   "cell_type": "markdown",
   "metadata": {},
   "source": [
    "Para cada modelo treinado, avaliaremos os folds, escolhendo um melhor. O critério principal será o f1 score, e como desempate o recall, e posteriormente a acurácia balanceada."
   ]
  },
  {
   "cell_type": "code",
   "execution_count": 110,
   "metadata": {},
   "outputs": [
    {
     "data": {
      "text/html": [
       "<div>\n",
       "<style scoped>\n",
       "    .dataframe tbody tr th:only-of-type {\n",
       "        vertical-align: middle;\n",
       "    }\n",
       "\n",
       "    .dataframe tbody tr th {\n",
       "        vertical-align: top;\n",
       "    }\n",
       "\n",
       "    .dataframe thead th {\n",
       "        text-align: right;\n",
       "    }\n",
       "</style>\n",
       "<table border=\"1\" class=\"dataframe\">\n",
       "  <thead>\n",
       "    <tr style=\"text-align: right;\">\n",
       "      <th></th>\n",
       "      <th>model_iteration</th>\n",
       "      <th>precision</th>\n",
       "      <th>accuracy</th>\n",
       "      <th>balanced_accuracy</th>\n",
       "      <th>recall</th>\n",
       "      <th>f1_score</th>\n",
       "    </tr>\n",
       "  </thead>\n",
       "  <tbody>\n",
       "    <tr>\n",
       "      <th>0</th>\n",
       "      <td>kNN_0</td>\n",
       "      <td>0.182796</td>\n",
       "      <td>0.922213</td>\n",
       "      <td>0.740446</td>\n",
       "      <td>0.548387</td>\n",
       "      <td>0.274194</td>\n",
       "    </tr>\n",
       "    <tr>\n",
       "      <th>1</th>\n",
       "      <td>kNN_1</td>\n",
       "      <td>0.180952</td>\n",
       "      <td>0.914434</td>\n",
       "      <td>0.758653</td>\n",
       "      <td>0.593750</td>\n",
       "      <td>0.277372</td>\n",
       "    </tr>\n",
       "    <tr>\n",
       "      <th>2</th>\n",
       "      <td>kNN_2</td>\n",
       "      <td>0.180556</td>\n",
       "      <td>0.892826</td>\n",
       "      <td>0.853806</td>\n",
       "      <td>0.812500</td>\n",
       "      <td>0.295455</td>\n",
       "    </tr>\n",
       "    <tr>\n",
       "      <th>3</th>\n",
       "      <td>kNN_3</td>\n",
       "      <td>0.208333</td>\n",
       "      <td>0.923941</td>\n",
       "      <td>0.778722</td>\n",
       "      <td>0.625000</td>\n",
       "      <td>0.312500</td>\n",
       "    </tr>\n",
       "    <tr>\n",
       "      <th>4</th>\n",
       "      <td>kNN_4</td>\n",
       "      <td>0.193798</td>\n",
       "      <td>0.904844</td>\n",
       "      <td>0.857004</td>\n",
       "      <td>0.806452</td>\n",
       "      <td>0.312500</td>\n",
       "    </tr>\n",
       "    <tr>\n",
       "      <th>0</th>\n",
       "      <td>Logistic Regression_0</td>\n",
       "      <td>0.222222</td>\n",
       "      <td>0.938634</td>\n",
       "      <td>0.733198</td>\n",
       "      <td>0.516129</td>\n",
       "      <td>0.310680</td>\n",
       "    </tr>\n",
       "    <tr>\n",
       "      <th>1</th>\n",
       "      <td>Logistic Regression_1</td>\n",
       "      <td>0.183099</td>\n",
       "      <td>0.933449</td>\n",
       "      <td>0.677347</td>\n",
       "      <td>0.406250</td>\n",
       "      <td>0.252427</td>\n",
       "    </tr>\n",
       "    <tr>\n",
       "      <th>2</th>\n",
       "      <td>Logistic Regression_2</td>\n",
       "      <td>0.255814</td>\n",
       "      <td>0.936041</td>\n",
       "      <td>0.815306</td>\n",
       "      <td>0.687500</td>\n",
       "      <td>0.372881</td>\n",
       "    </tr>\n",
       "    <tr>\n",
       "      <th>3</th>\n",
       "      <td>Logistic Regression_3</td>\n",
       "      <td>0.273973</td>\n",
       "      <td>0.943820</td>\n",
       "      <td>0.788944</td>\n",
       "      <td>0.625000</td>\n",
       "      <td>0.380952</td>\n",
       "    </tr>\n",
       "    <tr>\n",
       "      <th>4</th>\n",
       "      <td>Logistic Regression_4</td>\n",
       "      <td>0.282353</td>\n",
       "      <td>0.941176</td>\n",
       "      <td>0.859986</td>\n",
       "      <td>0.774194</td>\n",
       "      <td>0.413793</td>\n",
       "    </tr>\n",
       "    <tr>\n",
       "      <th>0</th>\n",
       "      <td>Random Forest_0</td>\n",
       "      <td>0.268293</td>\n",
       "      <td>0.956785</td>\n",
       "      <td>0.664098</td>\n",
       "      <td>0.354839</td>\n",
       "      <td>0.305556</td>\n",
       "    </tr>\n",
       "    <tr>\n",
       "      <th>1</th>\n",
       "      <td>Random Forest_1</td>\n",
       "      <td>0.181818</td>\n",
       "      <td>0.954192</td>\n",
       "      <td>0.581750</td>\n",
       "      <td>0.187500</td>\n",
       "      <td>0.184615</td>\n",
       "    </tr>\n",
       "    <tr>\n",
       "      <th>2</th>\n",
       "      <td>Random Forest_2</td>\n",
       "      <td>0.311475</td>\n",
       "      <td>0.952463</td>\n",
       "      <td>0.778208</td>\n",
       "      <td>0.593750</td>\n",
       "      <td>0.408602</td>\n",
       "    </tr>\n",
       "    <tr>\n",
       "      <th>3</th>\n",
       "      <td>Random Forest_3</td>\n",
       "      <td>0.457143</td>\n",
       "      <td>0.969749</td>\n",
       "      <td>0.741556</td>\n",
       "      <td>0.500000</td>\n",
       "      <td>0.477612</td>\n",
       "    </tr>\n",
       "    <tr>\n",
       "      <th>4</th>\n",
       "      <td>Random Forest_4</td>\n",
       "      <td>0.325581</td>\n",
       "      <td>0.960208</td>\n",
       "      <td>0.712918</td>\n",
       "      <td>0.451613</td>\n",
       "      <td>0.378378</td>\n",
       "    </tr>\n",
       "  </tbody>\n",
       "</table>\n",
       "</div>"
      ],
      "text/plain": [
       "         model_iteration  precision  accuracy  balanced_accuracy    recall  \\\n",
       "0                  kNN_0   0.182796  0.922213           0.740446  0.548387   \n",
       "1                  kNN_1   0.180952  0.914434           0.758653  0.593750   \n",
       "2                  kNN_2   0.180556  0.892826           0.853806  0.812500   \n",
       "3                  kNN_3   0.208333  0.923941           0.778722  0.625000   \n",
       "4                  kNN_4   0.193798  0.904844           0.857004  0.806452   \n",
       "0  Logistic Regression_0   0.222222  0.938634           0.733198  0.516129   \n",
       "1  Logistic Regression_1   0.183099  0.933449           0.677347  0.406250   \n",
       "2  Logistic Regression_2   0.255814  0.936041           0.815306  0.687500   \n",
       "3  Logistic Regression_3   0.273973  0.943820           0.788944  0.625000   \n",
       "4  Logistic Regression_4   0.282353  0.941176           0.859986  0.774194   \n",
       "0        Random Forest_0   0.268293  0.956785           0.664098  0.354839   \n",
       "1        Random Forest_1   0.181818  0.954192           0.581750  0.187500   \n",
       "2        Random Forest_2   0.311475  0.952463           0.778208  0.593750   \n",
       "3        Random Forest_3   0.457143  0.969749           0.741556  0.500000   \n",
       "4        Random Forest_4   0.325581  0.960208           0.712918  0.451613   \n",
       "\n",
       "   f1_score  \n",
       "0  0.274194  \n",
       "1  0.277372  \n",
       "2  0.295455  \n",
       "3  0.312500  \n",
       "4  0.312500  \n",
       "0  0.310680  \n",
       "1  0.252427  \n",
       "2  0.372881  \n",
       "3  0.380952  \n",
       "4  0.413793  \n",
       "0  0.305556  \n",
       "1  0.184615  \n",
       "2  0.408602  \n",
       "3  0.477612  \n",
       "4  0.378378  "
      ]
     },
     "execution_count": 110,
     "metadata": {},
     "output_type": "execute_result"
    }
   ],
   "source": [
    "metrics_knn = pd.DataFrame(all_reports['kNN'], columns=['model_iteration','precision','accuracy', 'balanced_accuracy', 'recall', 'f1_score'])\n",
    "metrics_logreg = pd.DataFrame(all_reports['Logistic Regression'], columns=['model_iteration', 'precision', 'accuracy', 'balanced_accuracy', 'recall', 'f1_score'])\n",
    "metrics_rf = pd.DataFrame(all_reports['Random Forest'], columns=['model_iteration', 'precision', 'accuracy', 'balanced_accuracy', 'recall', 'f1_score'])\n",
    "\n",
    "metrics = pd.concat([metrics_knn, metrics_logreg, metrics_rf], axis=0)\n",
    "metrics"
   ]
  },
  {
   "cell_type": "markdown",
   "metadata": {},
   "source": [
    "Escolhendo o melhor fold para cada algoritmo, considerando o recall como métrica principal"
   ]
  },
  {
   "cell_type": "code",
   "execution_count": 111,
   "metadata": {},
   "outputs": [
    {
     "data": {
      "text/html": [
       "<div>\n",
       "<style scoped>\n",
       "    .dataframe tbody tr th:only-of-type {\n",
       "        vertical-align: middle;\n",
       "    }\n",
       "\n",
       "    .dataframe tbody tr th {\n",
       "        vertical-align: top;\n",
       "    }\n",
       "\n",
       "    .dataframe thead th {\n",
       "        text-align: right;\n",
       "    }\n",
       "</style>\n",
       "<table border=\"1\" class=\"dataframe\">\n",
       "  <thead>\n",
       "    <tr style=\"text-align: right;\">\n",
       "      <th></th>\n",
       "      <th>model_iteration</th>\n",
       "      <th>precision</th>\n",
       "      <th>accuracy</th>\n",
       "      <th>balanced_accuracy</th>\n",
       "      <th>recall</th>\n",
       "      <th>f1_score</th>\n",
       "    </tr>\n",
       "  </thead>\n",
       "  <tbody>\n",
       "    <tr>\n",
       "      <th>0</th>\n",
       "      <td>kNN_0</td>\n",
       "      <td>0.182796</td>\n",
       "      <td>0.922213</td>\n",
       "      <td>0.740446</td>\n",
       "      <td>0.548387</td>\n",
       "      <td>0.274194</td>\n",
       "    </tr>\n",
       "    <tr>\n",
       "      <th>1</th>\n",
       "      <td>kNN_1</td>\n",
       "      <td>0.180952</td>\n",
       "      <td>0.914434</td>\n",
       "      <td>0.758653</td>\n",
       "      <td>0.593750</td>\n",
       "      <td>0.277372</td>\n",
       "    </tr>\n",
       "    <tr>\n",
       "      <th>2</th>\n",
       "      <td>kNN_2</td>\n",
       "      <td>0.180556</td>\n",
       "      <td>0.892826</td>\n",
       "      <td>0.853806</td>\n",
       "      <td>0.812500</td>\n",
       "      <td>0.295455</td>\n",
       "    </tr>\n",
       "    <tr>\n",
       "      <th>3</th>\n",
       "      <td>kNN_3</td>\n",
       "      <td>0.208333</td>\n",
       "      <td>0.923941</td>\n",
       "      <td>0.778722</td>\n",
       "      <td>0.625000</td>\n",
       "      <td>0.312500</td>\n",
       "    </tr>\n",
       "    <tr>\n",
       "      <th>4</th>\n",
       "      <td>kNN_4</td>\n",
       "      <td>0.193798</td>\n",
       "      <td>0.904844</td>\n",
       "      <td>0.857004</td>\n",
       "      <td>0.806452</td>\n",
       "      <td>0.312500</td>\n",
       "    </tr>\n",
       "  </tbody>\n",
       "</table>\n",
       "</div>"
      ],
      "text/plain": [
       "  model_iteration  precision  accuracy  balanced_accuracy    recall  f1_score\n",
       "0           kNN_0   0.182796  0.922213           0.740446  0.548387  0.274194\n",
       "1           kNN_1   0.180952  0.914434           0.758653  0.593750  0.277372\n",
       "2           kNN_2   0.180556  0.892826           0.853806  0.812500  0.295455\n",
       "3           kNN_3   0.208333  0.923941           0.778722  0.625000  0.312500\n",
       "4           kNN_4   0.193798  0.904844           0.857004  0.806452  0.312500"
      ]
     },
     "execution_count": 111,
     "metadata": {},
     "output_type": "execute_result"
    }
   ],
   "source": [
    "# O que obteve o melhor resultado foi o Knn_4\n",
    "metrics_knn"
   ]
  },
  {
   "cell_type": "code",
   "execution_count": 112,
   "metadata": {},
   "outputs": [
    {
     "data": {
      "text/html": [
       "<div>\n",
       "<style scoped>\n",
       "    .dataframe tbody tr th:only-of-type {\n",
       "        vertical-align: middle;\n",
       "    }\n",
       "\n",
       "    .dataframe tbody tr th {\n",
       "        vertical-align: top;\n",
       "    }\n",
       "\n",
       "    .dataframe thead th {\n",
       "        text-align: right;\n",
       "    }\n",
       "</style>\n",
       "<table border=\"1\" class=\"dataframe\">\n",
       "  <thead>\n",
       "    <tr style=\"text-align: right;\">\n",
       "      <th></th>\n",
       "      <th>model_iteration</th>\n",
       "      <th>precision</th>\n",
       "      <th>accuracy</th>\n",
       "      <th>balanced_accuracy</th>\n",
       "      <th>recall</th>\n",
       "      <th>f1_score</th>\n",
       "    </tr>\n",
       "  </thead>\n",
       "  <tbody>\n",
       "    <tr>\n",
       "      <th>0</th>\n",
       "      <td>Logistic Regression_0</td>\n",
       "      <td>0.222222</td>\n",
       "      <td>0.938634</td>\n",
       "      <td>0.733198</td>\n",
       "      <td>0.516129</td>\n",
       "      <td>0.310680</td>\n",
       "    </tr>\n",
       "    <tr>\n",
       "      <th>1</th>\n",
       "      <td>Logistic Regression_1</td>\n",
       "      <td>0.183099</td>\n",
       "      <td>0.933449</td>\n",
       "      <td>0.677347</td>\n",
       "      <td>0.406250</td>\n",
       "      <td>0.252427</td>\n",
       "    </tr>\n",
       "    <tr>\n",
       "      <th>2</th>\n",
       "      <td>Logistic Regression_2</td>\n",
       "      <td>0.255814</td>\n",
       "      <td>0.936041</td>\n",
       "      <td>0.815306</td>\n",
       "      <td>0.687500</td>\n",
       "      <td>0.372881</td>\n",
       "    </tr>\n",
       "    <tr>\n",
       "      <th>3</th>\n",
       "      <td>Logistic Regression_3</td>\n",
       "      <td>0.273973</td>\n",
       "      <td>0.943820</td>\n",
       "      <td>0.788944</td>\n",
       "      <td>0.625000</td>\n",
       "      <td>0.380952</td>\n",
       "    </tr>\n",
       "    <tr>\n",
       "      <th>4</th>\n",
       "      <td>Logistic Regression_4</td>\n",
       "      <td>0.282353</td>\n",
       "      <td>0.941176</td>\n",
       "      <td>0.859986</td>\n",
       "      <td>0.774194</td>\n",
       "      <td>0.413793</td>\n",
       "    </tr>\n",
       "  </tbody>\n",
       "</table>\n",
       "</div>"
      ],
      "text/plain": [
       "         model_iteration  precision  accuracy  balanced_accuracy    recall  \\\n",
       "0  Logistic Regression_0   0.222222  0.938634           0.733198  0.516129   \n",
       "1  Logistic Regression_1   0.183099  0.933449           0.677347  0.406250   \n",
       "2  Logistic Regression_2   0.255814  0.936041           0.815306  0.687500   \n",
       "3  Logistic Regression_3   0.273973  0.943820           0.788944  0.625000   \n",
       "4  Logistic Regression_4   0.282353  0.941176           0.859986  0.774194   \n",
       "\n",
       "   f1_score  \n",
       "0  0.310680  \n",
       "1  0.252427  \n",
       "2  0.372881  \n",
       "3  0.380952  \n",
       "4  0.413793  "
      ]
     },
     "execution_count": 112,
     "metadata": {},
     "output_type": "execute_result"
    }
   ],
   "source": [
    "# O que obteve o melhor resultado foi o log_4\n",
    "metrics_logreg"
   ]
  },
  {
   "cell_type": "code",
   "execution_count": 113,
   "metadata": {},
   "outputs": [
    {
     "data": {
      "text/html": [
       "<div>\n",
       "<style scoped>\n",
       "    .dataframe tbody tr th:only-of-type {\n",
       "        vertical-align: middle;\n",
       "    }\n",
       "\n",
       "    .dataframe tbody tr th {\n",
       "        vertical-align: top;\n",
       "    }\n",
       "\n",
       "    .dataframe thead th {\n",
       "        text-align: right;\n",
       "    }\n",
       "</style>\n",
       "<table border=\"1\" class=\"dataframe\">\n",
       "  <thead>\n",
       "    <tr style=\"text-align: right;\">\n",
       "      <th></th>\n",
       "      <th>model_iteration</th>\n",
       "      <th>precision</th>\n",
       "      <th>accuracy</th>\n",
       "      <th>balanced_accuracy</th>\n",
       "      <th>recall</th>\n",
       "      <th>f1_score</th>\n",
       "    </tr>\n",
       "  </thead>\n",
       "  <tbody>\n",
       "    <tr>\n",
       "      <th>0</th>\n",
       "      <td>Random Forest_0</td>\n",
       "      <td>0.268293</td>\n",
       "      <td>0.956785</td>\n",
       "      <td>0.664098</td>\n",
       "      <td>0.354839</td>\n",
       "      <td>0.305556</td>\n",
       "    </tr>\n",
       "    <tr>\n",
       "      <th>1</th>\n",
       "      <td>Random Forest_1</td>\n",
       "      <td>0.181818</td>\n",
       "      <td>0.954192</td>\n",
       "      <td>0.581750</td>\n",
       "      <td>0.187500</td>\n",
       "      <td>0.184615</td>\n",
       "    </tr>\n",
       "    <tr>\n",
       "      <th>2</th>\n",
       "      <td>Random Forest_2</td>\n",
       "      <td>0.311475</td>\n",
       "      <td>0.952463</td>\n",
       "      <td>0.778208</td>\n",
       "      <td>0.593750</td>\n",
       "      <td>0.408602</td>\n",
       "    </tr>\n",
       "    <tr>\n",
       "      <th>3</th>\n",
       "      <td>Random Forest_3</td>\n",
       "      <td>0.457143</td>\n",
       "      <td>0.969749</td>\n",
       "      <td>0.741556</td>\n",
       "      <td>0.500000</td>\n",
       "      <td>0.477612</td>\n",
       "    </tr>\n",
       "    <tr>\n",
       "      <th>4</th>\n",
       "      <td>Random Forest_4</td>\n",
       "      <td>0.325581</td>\n",
       "      <td>0.960208</td>\n",
       "      <td>0.712918</td>\n",
       "      <td>0.451613</td>\n",
       "      <td>0.378378</td>\n",
       "    </tr>\n",
       "  </tbody>\n",
       "</table>\n",
       "</div>"
      ],
      "text/plain": [
       "   model_iteration  precision  accuracy  balanced_accuracy    recall  f1_score\n",
       "0  Random Forest_0   0.268293  0.956785           0.664098  0.354839  0.305556\n",
       "1  Random Forest_1   0.181818  0.954192           0.581750  0.187500  0.184615\n",
       "2  Random Forest_2   0.311475  0.952463           0.778208  0.593750  0.408602\n",
       "3  Random Forest_3   0.457143  0.969749           0.741556  0.500000  0.477612\n",
       "4  Random Forest_4   0.325581  0.960208           0.712918  0.451613  0.378378"
      ]
     },
     "execution_count": 113,
     "metadata": {},
     "output_type": "execute_result"
    }
   ],
   "source": [
    "# O que obteve o melhor resultado foi o rf_3\n",
    "metrics_rf"
   ]
  },
  {
   "cell_type": "markdown",
   "metadata": {},
   "source": [
    "Agora, selecionaremos o melhor de cada um dos algoritmos, para efeito de comparação:"
   ]
  },
  {
   "cell_type": "code",
   "execution_count": 115,
   "metadata": {},
   "outputs": [
    {
     "data": {
      "text/html": [
       "<div>\n",
       "<style scoped>\n",
       "    .dataframe tbody tr th:only-of-type {\n",
       "        vertical-align: middle;\n",
       "    }\n",
       "\n",
       "    .dataframe tbody tr th {\n",
       "        vertical-align: top;\n",
       "    }\n",
       "\n",
       "    .dataframe thead th {\n",
       "        text-align: right;\n",
       "    }\n",
       "</style>\n",
       "<table border=\"1\" class=\"dataframe\">\n",
       "  <thead>\n",
       "    <tr style=\"text-align: right;\">\n",
       "      <th></th>\n",
       "      <th>model_iteration</th>\n",
       "      <th>precision</th>\n",
       "      <th>accuracy</th>\n",
       "      <th>balanced_accuracy</th>\n",
       "      <th>recall</th>\n",
       "      <th>f1_score</th>\n",
       "    </tr>\n",
       "  </thead>\n",
       "  <tbody>\n",
       "    <tr>\n",
       "      <th>4</th>\n",
       "      <td>kNN_4</td>\n",
       "      <td>0.193798</td>\n",
       "      <td>0.904844</td>\n",
       "      <td>0.857004</td>\n",
       "      <td>0.806452</td>\n",
       "      <td>0.312500</td>\n",
       "    </tr>\n",
       "    <tr>\n",
       "      <th>4</th>\n",
       "      <td>Logistic Regression_4</td>\n",
       "      <td>0.282353</td>\n",
       "      <td>0.941176</td>\n",
       "      <td>0.859986</td>\n",
       "      <td>0.774194</td>\n",
       "      <td>0.413793</td>\n",
       "    </tr>\n",
       "    <tr>\n",
       "      <th>3</th>\n",
       "      <td>Random Forest_3</td>\n",
       "      <td>0.457143</td>\n",
       "      <td>0.969749</td>\n",
       "      <td>0.741556</td>\n",
       "      <td>0.500000</td>\n",
       "      <td>0.477612</td>\n",
       "    </tr>\n",
       "  </tbody>\n",
       "</table>\n",
       "</div>"
      ],
      "text/plain": [
       "         model_iteration  precision  accuracy  balanced_accuracy    recall  \\\n",
       "4                  kNN_4   0.193798  0.904844           0.857004  0.806452   \n",
       "4  Logistic Regression_4   0.282353  0.941176           0.859986  0.774194   \n",
       "3        Random Forest_3   0.457143  0.969749           0.741556  0.500000   \n",
       "\n",
       "   f1_score  \n",
       "4  0.312500  \n",
       "4  0.413793  \n",
       "3  0.477612  "
      ]
     },
     "execution_count": 115,
     "metadata": {},
     "output_type": "execute_result"
    }
   ],
   "source": [
    "best_metrics = metrics.loc[\n",
    "    (metrics['model_iteration'] == 'kNN_4') | \n",
    "    (metrics['model_iteration'] == 'Logistic Regression_4') |\n",
    "    (metrics['model_iteration'] == 'Random Forest_3')\n",
    "]\n",
    "best_metrics\n"
   ]
  },
  {
   "cell_type": "markdown",
   "metadata": {},
   "source": [
    "Apesar de ter o melhor f1_score, em virtude do recall baixo em comparação os outros modelos, o random forest foi desconsiderado, já que o recall é uma métrica mais importante para o objetivo da predição.\n",
    "Apesar da regressão logística ser consideravelmente superior na precisão, teve um recall um pouco mais baixo. Portanto, como no nosso caso é importante que, caso uma pessoa vá a óbito, o nosso modelo acerte, mesmo que ainda preveja errado algumas outras, consideraremos o recall como métrica mais importante nesse caso, e o Knn se mostrou mais robusto nesse sentido."
   ]
  },
  {
   "cell_type": "code",
   "execution_count": 120,
   "metadata": {},
   "outputs": [
    {
     "data": {
      "image/png": "[encoded data removed]",
      "text/plain": [
       "<Figure size 800x600 with 2 Axes>"
      ]
     },
     "metadata": {},
     "output_type": "display_data"
    }
   ],
   "source": [
    "# Mostrando a matriz de confusão para o melhor modelo\n",
    "import matplotlib.pyplot as plt\n",
    "import seaborn as sns\n",
    "from sklearn.metrics import confusion_matrix\n",
    "\n",
    "y_true = predictions_per_model['kNN'][4]['actual']\n",
    "y_pred = predictions_per_model['kNN'][4]['predicted']\n",
    "\n",
    "cm = confusion_matrix(y_true, y_pred)\n",
    "plt.figure(figsize=(8, 6))\n",
    "sns.heatmap(cm, annot=True, fmt='d', cmap='Blues', xticklabels=['Cura', 'Óbito'], yticklabels=['Cura', 'Óbito'])\n",
    "plt.xlabel('Previsão do modelo')\n",
    "plt.ylabel('Classificação real')\n",
    "plt.title('Matriz de Confusão para o melhor modelo na validação')\n",
    "plt.savefig('./source/images/matriz_confusao_validacao.png')\n"
   ]
  },
  {
   "cell_type": "markdown",
   "metadata": {},
   "source": [
    "## Testando o melhor modelo"
   ]
  },
  {
   "cell_type": "code",
   "execution_count": 121,
   "metadata": {},
   "outputs": [],
   "source": [
    "melhor_modelo = save_best_models['kNN'][4]\n",
    "y_pred = melhor_modelo.predict(X_test)\n"
   ]
  },
  {
   "cell_type": "markdown",
   "metadata": {},
   "source": [
    "Calculando as métricas para o melhor modelo no conjunto de testes:"
   ]
  },
  {
   "cell_type": "code",
   "execution_count": 122,
   "metadata": {},
   "outputs": [
    {
     "data": {
      "text/html": [
       "<div>\n",
       "<style scoped>\n",
       "    .dataframe tbody tr th:only-of-type {\n",
       "        vertical-align: middle;\n",
       "    }\n",
       "\n",
       "    .dataframe tbody tr th {\n",
       "        vertical-align: top;\n",
       "    }\n",
       "\n",
       "    .dataframe thead th {\n",
       "        text-align: right;\n",
       "    }\n",
       "</style>\n",
       "<table border=\"1\" class=\"dataframe\">\n",
       "  <thead>\n",
       "    <tr style=\"text-align: right;\">\n",
       "      <th></th>\n",
       "      <th>precision</th>\n",
       "      <th>recall</th>\n",
       "      <th>f1_score</th>\n",
       "    </tr>\n",
       "  </thead>\n",
       "  <tbody>\n",
       "    <tr>\n",
       "      <th>0</th>\n",
       "      <td>0.179104</td>\n",
       "      <td>0.75</td>\n",
       "      <td>0.289157</td>\n",
       "    </tr>\n",
       "  </tbody>\n",
       "</table>\n",
       "</div>"
      ],
      "text/plain": [
       "   precision  recall  f1_score\n",
       "0   0.179104    0.75  0.289157"
      ]
     },
     "execution_count": 122,
     "metadata": {},
     "output_type": "execute_result"
    }
   ],
   "source": [
    "results = pd.DataFrame({'precision': [precision_score(y_test, y_pred)],\n",
    "              'recall': [recall_score(y_test, y_pred)],\n",
    "              'f1_score': [f1_score(y_test, y_pred)]})\n",
    "\n",
    "results\n",
    "\n"
   ]
  },
  {
   "cell_type": "code",
   "execution_count": 123,
   "metadata": {},
   "outputs": [
    {
     "data": {
      "image/png": "[encoded data removed]",
      "text/plain": [
       "<Figure size 800x600 with 2 Axes>"
      ]
     },
     "metadata": {},
     "output_type": "display_data"
    }
   ],
   "source": [
    "\n",
    "# Mostrando a matriz de confusão para o melhor modelo\n",
    "cm = confusion_matrix(y_test, y_pred)\n",
    "plt.figure(figsize=(8, 6))\n",
    "sns.heatmap(cm, annot=True, fmt='d', cmap='Blues', xticklabels=['Cura', 'Óbito'], yticklabels=['Cura', 'Óbito'])\n",
    "plt.xlabel('Previsão do modelo')\n",
    "plt.ylabel('Classificação real')\n",
    "plt.title('Matriz de Confusão no conjunto de testes')\n",
    "plt.savefig('./source/images/matriz_confusao_teste.png')"
   ]
  }
 ],
 "metadata": {
  "kernelspec": {
   "display_name": "Python 3",
   "language": "python",
   "name": "python3"
  },
  "language_info": {
   "codemirror_mode": {
    "name": "ipython",
    "version": 3
   },
   "file_extension": ".py",
   "mimetype": "text/x-python",
   "name": "python",
   "nbconvert_exporter": "python",
   "pygments_lexer": "ipython3",
   "version": "3.10.12"
  }
 },
 "nbformat": 4,
 "nbformat_minor": 2
}
