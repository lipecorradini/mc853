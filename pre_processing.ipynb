{
 "cells": [
  {
   "cell_type": "markdown",
   "metadata": {},
   "source": [
    "# Trabalho 1 - MC853B"
   ]
  },
  {
   "cell_type": "markdown",
   "metadata": {},
   "source": [
    "**Alunos:** \n",
    "\n",
    "Lucca Miranda Nunes - 230554\n",
    "\n",
    "Luiz Felipe Corradini Rego Costa - 230613\n",
    "\n",
    "Pablo Henrique Almeida Mendes - 230977\n"
   ]
  },
  {
   "cell_type": "markdown",
   "metadata": {},
   "source": [
    "\n",
    "\n",
    "**Doença de notificação compulsória escolhida:** Esquistossomose"
   ]
  },
  {
   "cell_type": "markdown",
   "metadata": {},
   "source": [
    "****"
   ]
  },
  {
   "cell_type": "markdown",
   "metadata": {},
   "source": [
    "## 1) Upload e investigação dos dados"
   ]
  },
  {
   "cell_type": "markdown",
   "metadata": {},
   "source": [
    "### 1.1) Análise Exploratória dos dados\n",
    "\n",
    "Os dados escolhidos para treinamento foram os da doença esquistossomose dos anos de 2020, 2021, 2022 e 2023. Os anos de 2024 em diante não estavam disponibilizados na base do SINAN. Todos os dados estão no diretório source/csv."
   ]
  },
  {
   "cell_type": "code",
   "execution_count": 403,
   "metadata": {},
   "outputs": [],
   "source": [
    "import pandas as pd\n",
    "\n",
    "esq_19 = pd.read_csv('source/csv/ESQUBR19.csv')\n",
    "esq_20 = pd.read_csv('source/csv/ESQUBR20.csv')\n",
    "esq_21 = pd.read_csv('source/csv/ESQUBR21.csv')\n",
    "esq_22 = pd.read_csv('source/csv/ESQUBR22.csv')\n",
    "esq_23 = pd.read_csv('source/csv/ESQUBR23.csv')"
   ]
  },
  {
   "cell_type": "code",
   "execution_count": 404,
   "metadata": {},
   "outputs": [
    {
     "name": "stdout",
     "output_type": "stream",
     "text": [
      "(3608, 54)\n",
      "(1873, 54)\n",
      "(2395, 54)\n",
      "(2640, 54)\n",
      "(3059, 54)\n"
     ]
    }
   ],
   "source": [
    "print(esq_19.shape)\n",
    "print(esq_20.shape)\n",
    "print(esq_21.shape)\n",
    "print(esq_22.shape)\n",
    "print(esq_23.shape)"
   ]
  },
  {
   "cell_type": "markdown",
   "metadata": {},
   "source": [
    "Criando uma coluna para identificar o ano de cada notificação:"
   ]
  },
  {
   "cell_type": "code",
   "execution_count": 405,
   "metadata": {},
   "outputs": [],
   "source": [
    "esq_19['Ano_atual'] = 2019\n",
    "esq_20['Ano_atual'] = 2020\n",
    "esq_21['Ano_atual'] = 2021\n",
    "esq_22['Ano_atual'] = 2022\n",
    "esq_23['Ano_atual'] = 2023"
   ]
  },
  {
   "cell_type": "code",
   "execution_count": 406,
   "metadata": {},
   "outputs": [
    {
     "data": {
      "text/plain": [
       "Index(['Unnamed: 0', 'TP_NOT', 'ID_AGRAVO', 'DT_NOTIFIC', 'SEM_NOT', 'NU_ANO',\n",
       "       'SG_UF_NOT', 'ID_MUNICIP', 'ID_REGIONA', 'ID_UNIDADE', 'DT_SIN_PRI',\n",
       "       'SEM_PRI', 'ANO_NASC', 'NU_IDADE_N', 'CS_SEXO', 'CS_GESTANT', 'CS_RACA',\n",
       "       'CS_ESCOL_N', 'SG_UF', 'ID_MN_RESI', 'ID_RG_RESI', 'ID_PAIS',\n",
       "       'DT_INVEST', 'ID_OCUPA_N', 'DT_COPRO', 'AN_QUANT', 'OUTROS', 'TRATAM',\n",
       "       'TRATANAO', 'STCURA1', 'STCURA2', 'STCURA3', 'FORMA', 'TPAUTOCTO',\n",
       "       'COUFINF', 'COPAISINF', 'COMUNINF', 'NOPROPIN', 'NOCOLINF',\n",
       "       'DOENCA_TRA', 'EVOLUCAO', 'DT_ENCERRA', 'DT_DIGITA', 'DT_TRANSUS',\n",
       "       'DT_TRANSDM', 'DT_TRANSSM', 'DT_TRANSRS', 'DT_TRANSSE', 'DT_OBITO',\n",
       "       'DS_FORMA', 'AN_QUALI', 'DTTRAT', 'DT_RESU3', 'OUTRO_EX', 'Ano_atual'],\n",
       "      dtype='object')"
      ]
     },
     "execution_count": 406,
     "metadata": {},
     "output_type": "execute_result"
    }
   ],
   "source": [
    "esq_23.columns"
   ]
  },
  {
   "cell_type": "markdown",
   "metadata": {},
   "source": [
    "Precisamos investigar a quantidade de atributos-alvo em cada ano, a fim de garantir balanceamento nas classes dentro dos datasets de treino e de teste:\n",
    "\n",
    "Valores correspondentes a cada desfecho possível do paciente:\n",
    "\n",
    "\n",
    "1 - Cura\n",
    "\n",
    "2 - Não Cura\n",
    "\n",
    "3 - Óbito por \n",
    "esquistossomose \n",
    "\n",
    "4 -  Óbito por outras \n",
    "causas \n",
    "\n",
    "9 - Ignorado\n"
   ]
  },
  {
   "cell_type": "markdown",
   "metadata": {},
   "source": [
    "Como iremos usar os dados dos três anos, faz mais sentido concatená-los em um único DataFrame, a fim de realizar a análise em um único comando"
   ]
  },
  {
   "cell_type": "code",
   "execution_count": 407,
   "metadata": {},
   "outputs": [
    {
     "name": "stdout",
     "output_type": "stream",
     "text": [
      "1.0    7081\n",
      "9.0    1452\n",
      "3.0     330\n",
      "2.0     273\n",
      "4.0     142\n",
      "Name: EVOLUCAO, dtype: int64\n"
     ]
    }
   ],
   "source": [
    "esq_total = pd.concat([esq_19, esq_20, esq_21, esq_22, esq_23])\n",
    "print(esq_total['EVOLUCAO'].value_counts())\n",
    "\n",
    "# Reajustando os índices\n",
    "esq_total.reset_index(drop=True, inplace=True)"
   ]
  },
  {
   "cell_type": "markdown",
   "metadata": {},
   "source": [
    "Como o problema que iremos prever é de natureza binária (óbito ou não-óbito), precisamos remover todas as instâncias que a resposta foi \"Ignorado\" ou \"Não-Cura\". Se o caso foi ignorado, não podemos inserí-lo em nenhuma das duas classes, e a classificação de \"Não-Cura\" também não torna possível avaliar se o paciente veio a óbito ou não. \n",
    "\n",
    "Com isso, levaremos em consideração também os pacientes que vieram a óbito por outros casos no peródo de tempo além da doença."
   ]
  },
  {
   "cell_type": "code",
   "execution_count": 408,
   "metadata": {},
   "outputs": [
    {
     "name": "stdout",
     "output_type": "stream",
     "text": [
      "1.0    7081\n",
      "3.0     330\n",
      "4.0     142\n",
      "Name: EVOLUCAO, dtype: int64\n",
      "(7553, 55)\n"
     ]
    }
   ],
   "source": [
    "esq_total = esq_total[(esq_total['EVOLUCAO'] == 1) | (esq_total['EVOLUCAO'] == 3) | (esq_total['EVOLUCAO'] == 4)]\n",
    "print(esq_total['EVOLUCAO'].value_counts())\n",
    "print(esq_total.shape)"
   ]
  },
  {
   "cell_type": "code",
   "execution_count": 409,
   "metadata": {},
   "outputs": [
    {
     "name": "stdout",
     "output_type": "stream",
     "text": [
      "Porcentagem de mortes por esquistossomose: 6.25%\n"
     ]
    }
   ],
   "source": [
    "print(f\"Porcentagem de mortes por esquistossomose: {len(esq_total[esq_total['EVOLUCAO'].isin([3,4])]) / len(esq_total) * 100 :.2f}%\")"
   ]
  },
  {
   "cell_type": "markdown",
   "metadata": {},
   "source": [
    "Inicialmente, pensamos em filtrar as doenças pela que a data de notificação e a data dos primeiros sintomas tenha diferença de até 40 dias. Porém, como a esquistossomose é uma doença que também apresenta uma fase crônica (que pode durar até 6 meses)[FONTE], então optamos por não utilizar esse critério como excludente de instâncias no dataset. "
   ]
  },
  {
   "cell_type": "markdown",
   "metadata": {},
   "source": [
    "### 1.2) Tratamento de dados incorretos\n",
    "\n",
    "Para garantir que não estaremos inserindo no modelo dados contraditórios, tais como o óbito ser registrado depois da data dos primeiros sintomas ou data de encerramento ser registrada antes dos primeiros sintomas."
   ]
  },
  {
   "cell_type": "code",
   "execution_count": 410,
   "metadata": {},
   "outputs": [
    {
     "data": {
      "text/html": [
       "<div>\n",
       "<style scoped>\n",
       "    .dataframe tbody tr th:only-of-type {\n",
       "        vertical-align: middle;\n",
       "    }\n",
       "\n",
       "    .dataframe tbody tr th {\n",
       "        vertical-align: top;\n",
       "    }\n",
       "\n",
       "    .dataframe thead th {\n",
       "        text-align: right;\n",
       "    }\n",
       "</style>\n",
       "<table border=\"1\" class=\"dataframe\">\n",
       "  <thead>\n",
       "    <tr style=\"text-align: right;\">\n",
       "      <th></th>\n",
       "      <th>DT_NOTIFIC</th>\n",
       "      <th>DT_OBITO</th>\n",
       "      <th>EVOLUCAO</th>\n",
       "    </tr>\n",
       "  </thead>\n",
       "  <tbody>\n",
       "    <tr>\n",
       "      <th>17</th>\n",
       "      <td>2019-01-04</td>\n",
       "      <td>2018-12-27</td>\n",
       "      <td>3.0</td>\n",
       "    </tr>\n",
       "    <tr>\n",
       "      <th>59</th>\n",
       "      <td>2019-01-09</td>\n",
       "      <td>2018-02-21</td>\n",
       "      <td>3.0</td>\n",
       "    </tr>\n",
       "    <tr>\n",
       "      <th>80</th>\n",
       "      <td>2019-01-11</td>\n",
       "      <td>2017-05-11</td>\n",
       "      <td>3.0</td>\n",
       "    </tr>\n",
       "    <tr>\n",
       "      <th>89</th>\n",
       "      <td>2019-01-13</td>\n",
       "      <td>2019-01-06</td>\n",
       "      <td>3.0</td>\n",
       "    </tr>\n",
       "    <tr>\n",
       "      <th>93</th>\n",
       "      <td>2019-01-14</td>\n",
       "      <td>2017-11-22</td>\n",
       "      <td>3.0</td>\n",
       "    </tr>\n",
       "    <tr>\n",
       "      <th>...</th>\n",
       "      <td>...</td>\n",
       "      <td>...</td>\n",
       "      <td>...</td>\n",
       "    </tr>\n",
       "    <tr>\n",
       "      <th>13423</th>\n",
       "      <td>2023-12-04</td>\n",
       "      <td>2023-06-17</td>\n",
       "      <td>3.0</td>\n",
       "    </tr>\n",
       "    <tr>\n",
       "      <th>13484</th>\n",
       "      <td>2023-12-12</td>\n",
       "      <td>2023-12-08</td>\n",
       "      <td>3.0</td>\n",
       "    </tr>\n",
       "    <tr>\n",
       "      <th>13502</th>\n",
       "      <td>2023-12-14</td>\n",
       "      <td>2023-02-11</td>\n",
       "      <td>3.0</td>\n",
       "    </tr>\n",
       "    <tr>\n",
       "      <th>13511</th>\n",
       "      <td>2023-12-18</td>\n",
       "      <td>2023-12-15</td>\n",
       "      <td>3.0</td>\n",
       "    </tr>\n",
       "    <tr>\n",
       "      <th>13512</th>\n",
       "      <td>2023-12-18</td>\n",
       "      <td>2023-02-28</td>\n",
       "      <td>3.0</td>\n",
       "    </tr>\n",
       "  </tbody>\n",
       "</table>\n",
       "<p>472 rows × 3 columns</p>\n",
       "</div>"
      ],
      "text/plain": [
       "       DT_NOTIFIC    DT_OBITO  EVOLUCAO\n",
       "17     2019-01-04  2018-12-27       3.0\n",
       "59     2019-01-09  2018-02-21       3.0\n",
       "80     2019-01-11  2017-05-11       3.0\n",
       "89     2019-01-13  2019-01-06       3.0\n",
       "93     2019-01-14  2017-11-22       3.0\n",
       "...           ...         ...       ...\n",
       "13423  2023-12-04  2023-06-17       3.0\n",
       "13484  2023-12-12  2023-12-08       3.0\n",
       "13502  2023-12-14  2023-02-11       3.0\n",
       "13511  2023-12-18  2023-12-15       3.0\n",
       "13512  2023-12-18  2023-02-28       3.0\n",
       "\n",
       "[472 rows x 3 columns]"
      ]
     },
     "execution_count": 410,
     "metadata": {},
     "output_type": "execute_result"
    }
   ],
   "source": [
    "# Salvando casos que a data de óbito é não-nula (ou seja, a pessoa veio a óbito)\n",
    "datas_obito_para_analise = esq_total[['DT_SIN_PRI','DT_NOTIFIC', 'DT_ENCERRA','DT_OBITO','EVOLUCAO']]\n",
    "\n",
    "datas_obito_nao_nulas = datas_obito_para_analise.filter(['DT_NOTIFIC', 'DT_OBITO','EVOLUCAO']).dropna()\n",
    "\n",
    "# Datas sem retirar óbitos nulos \n",
    "datas_para_analise = esq_total[['DT_SIN_PRI','DT_NOTIFIC', 'DT_ENCERRA','EVOLUCAO']]\n",
    "\n",
    "datas_nao_nulas = datas_para_analise.filter(['DT_NOTIFIC','EVOLUCAO']).dropna()\n",
    "\n",
    "datas_obito_nao_nulas"
   ]
  },
  {
   "cell_type": "code",
   "execution_count": 411,
   "metadata": {},
   "outputs": [
    {
     "data": {
      "text/plain": [
       "17        -8\n",
       "59      -322\n",
       "80      -610\n",
       "89        -7\n",
       "93      -418\n",
       "        ... \n",
       "13423   -170\n",
       "13484     -4\n",
       "13502   -306\n",
       "13511     -3\n",
       "13512   -293\n",
       "Length: 472, dtype: int64"
      ]
     },
     "execution_count": 411,
     "metadata": {},
     "output_type": "execute_result"
    }
   ],
   "source": [
    "\n",
    "# Analisando os casos que os óbitos ocorreram antes da data de notificação\n",
    "diferenca_obitos = datas_obito_nao_nulas.apply(lambda x: pd.to_datetime(x['DT_OBITO']) - pd.to_datetime(x['DT_NOTIFIC']), axis=1)\n",
    "diferenca_obitos = diferenca_obitos.apply(lambda x: x.days)\n",
    "\n",
    "diferenca_obitos"
   ]
  },
  {
   "cell_type": "code",
   "execution_count": 412,
   "metadata": {},
   "outputs": [
    {
     "name": "stdout",
     "output_type": "stream",
     "text": [
      "Casos que o óbito foi registrado antes da notificação:  271\n",
      "Casos que a data de encerramento foi registrada antes dos primeiros sintomas:  0\n"
     ]
    }
   ],
   "source": [
    "\n",
    "obitos_negativos = diferenca_obitos[diferenca_obitos < 0]\n",
    "\n",
    "print(\"Casos que o óbito foi registrado antes da notificação: \",diferenca_obitos[diferenca_obitos < 0].count())\n",
    "\n",
    "# Analisando os casos que a data de encerramento foi registrada antes dos primeiros sintomas\n",
    "diferenca_notifica = datas_para_analise.apply(lambda x: pd.to_datetime(x['DT_ENCERRA']) - pd.to_datetime(x['DT_SIN_PRI']), axis=1)\n",
    "diferenca_notifica = diferenca_notifica.apply(lambda x: x.days)  \n",
    "print(\"Casos que a data de encerramento foi registrada antes dos primeiros sintomas: \",diferenca_notifica[diferenca_notifica < 0].count())\n"
   ]
  },
  {
   "cell_type": "markdown",
   "metadata": {},
   "source": [
    "Pudemos ver que um número considerável de óbitos foram registrados depois da data de notificação, ou seja, são dados notificados incorretamente, e por isso, temos que removê-los."
   ]
  },
  {
   "cell_type": "code",
   "execution_count": 413,
   "metadata": {},
   "outputs": [
    {
     "data": {
      "text/plain": [
       "Int64Index([   17,    59,    80,    89,    93,    94,   116,   128,   139,\n",
       "              262,\n",
       "            ...\n",
       "            13245, 13246, 13254, 13277, 13330, 13423, 13484, 13502, 13511,\n",
       "            13512],\n",
       "           dtype='int64', length=271)"
      ]
     },
     "execution_count": 413,
     "metadata": {},
     "output_type": "execute_result"
    }
   ],
   "source": [
    "obitos_negativos.index"
   ]
  },
  {
   "cell_type": "code",
   "execution_count": 415,
   "metadata": {},
   "outputs": [
    {
     "name": "stdout",
     "output_type": "stream",
     "text": [
      "(7553, 55)\n",
      "Series([], dtype: int64)\n",
      "(7282, 55)\n"
     ]
    }
   ],
   "source": [
    "print(esq_total.shape)\n",
    "morreu_tot = esq_total.drop(obitos_negativos.index, axis=0)\n",
    "print(morreu_tot.value_counts())\n",
    "print(esq_total.drop(obitos_negativos.index, axis=0).shape)"
   ]
  },
  {
   "cell_type": "markdown",
   "metadata": {},
   "source": [
    "**TODO**"
   ]
  },
  {
   "cell_type": "code",
   "execution_count": 416,
   "metadata": {},
   "outputs": [],
   "source": [
    "# Avaliar a janela de tempo entre o primeiro atendimento e a morte (não pode ser muito grande, em média uns 30/40 dias)\n",
    "#       - remover caso esteja fora dessa janela. ver se não vão ficar muito poucos exemplos\n",
    "#       - caso fiquem, podemos pegar mais anos para complementar\n",
    "#       - ver também se não tem nenhum dado que a morte é antes do diagnóstico, coisas assim\n",
    "# Remover dados duplicados da base. provavelmente vai ter que fazer isso antes de filtrar as colunas\n",
    "# Avaliar como vai ser a divisão dos dados de treino e teste por tempo\n",
    "#    - essa divisão tem que ser feita antes de fazer qualquer tipo de tratamento nos dados. depois, continua o tratamento apenas com os dados de TREINO\n",
    "# Avaliar também como garantir 10% de representatividade de cada classe nos conjuntos de treino e teste (atualmente temos uns 3% de mortes)\n",
    "#   - Dezin falou que tem uma técnica chamada near miss que ajuda a fazer isso, quem for puxar isso fala com ele\n",
    "# Olhar outliers (que eu acho que nao precisa), plotar graficos das distribuições dos dados tambem (ela pede pro trabalho)"
   ]
  },
  {
   "cell_type": "markdown",
   "metadata": {},
   "source": [
    "****"
   ]
  },
  {
   "cell_type": "markdown",
   "metadata": {},
   "source": [
    "## 2) Pré-processamento dos dados"
   ]
  },
  {
   "cell_type": "markdown",
   "metadata": {},
   "source": [
    "Podemos ver que, pelo número elevado de colunas, será necessário realizar uma análise quanto às colunas necessárias, para posteriormente avaliar se o total de instâncias apresentadas nos três anos serão suficientes para treinar o modelo."
   ]
  },
  {
   "cell_type": "markdown",
   "metadata": {},
   "source": [
    "### 2.1) Removendo Colunas desnecessárias\n",
    "\n",
    "O primeiro passo para pré-processar será **remover colunas desnecessárias do dataset**. \n",
    "\n",
    "Depois de uma primeira análise, a equipe selecionou 11 colunas que julgamos como mais relevantes para o treinamento do modelo:\n",
    "\n",
    "\n",
    "*colocar info das colunas*\n"
   ]
  },
  {
   "cell_type": "code",
   "execution_count": 417,
   "metadata": {},
   "outputs": [
    {
     "data": {
      "text/plain": [
       "Index(['Unnamed: 0', 'TP_NOT', 'ID_AGRAVO', 'DT_NOTIFIC', 'SEM_NOT', 'NU_ANO',\n",
       "       'SG_UF_NOT', 'ID_MUNICIP', 'ID_REGIONA', 'ID_UNIDADE', 'DT_SIN_PRI',\n",
       "       'SEM_PRI', 'ANO_NASC', 'NU_IDADE_N', 'CS_SEXO', 'CS_GESTANT', 'CS_RACA',\n",
       "       'CS_ESCOL_N', 'SG_UF', 'ID_MN_RESI', 'ID_RG_RESI', 'ID_PAIS',\n",
       "       'DT_INVEST', 'ID_OCUPA_N', 'DT_COPRO', 'AN_QUANT', 'OUTROS', 'TRATAM',\n",
       "       'TRATANAO', 'STCURA1', 'STCURA2', 'STCURA3', 'FORMA', 'TPAUTOCTO',\n",
       "       'COUFINF', 'COPAISINF', 'COMUNINF', 'NOPROPIN', 'NOCOLINF',\n",
       "       'DOENCA_TRA', 'EVOLUCAO', 'DT_ENCERRA', 'DT_DIGITA', 'DT_TRANSUS',\n",
       "       'DT_TRANSDM', 'DT_TRANSSM', 'DT_TRANSRS', 'DT_TRANSSE', 'DT_OBITO',\n",
       "       'DS_FORMA', 'AN_QUALI', 'DTTRAT', 'DT_RESU3', 'OUTRO_EX', 'Ano_atual'],\n",
       "      dtype='object')"
      ]
     },
     "execution_count": 417,
     "metadata": {},
     "output_type": "execute_result"
    }
   ],
   "source": [
    "esq_total.columns"
   ]
  },
  {
   "cell_type": "code",
   "execution_count": 418,
   "metadata": {},
   "outputs": [
    {
     "data": {
      "text/html": [
       "<div>\n",
       "<style scoped>\n",
       "    .dataframe tbody tr th:only-of-type {\n",
       "        vertical-align: middle;\n",
       "    }\n",
       "\n",
       "    .dataframe tbody tr th {\n",
       "        vertical-align: top;\n",
       "    }\n",
       "\n",
       "    .dataframe thead th {\n",
       "        text-align: right;\n",
       "    }\n",
       "</style>\n",
       "<table border=\"1\" class=\"dataframe\">\n",
       "  <thead>\n",
       "    <tr style=\"text-align: right;\">\n",
       "      <th></th>\n",
       "      <th>CS_GESTANT</th>\n",
       "      <th>AN_QUANT</th>\n",
       "      <th>AN_QUALI</th>\n",
       "      <th>TRATAM</th>\n",
       "      <th>FORMA</th>\n",
       "      <th>CS_ESCOL_N</th>\n",
       "      <th>CS_SEXO</th>\n",
       "      <th>ANO_NASC</th>\n",
       "      <th>COUFINF</th>\n",
       "      <th>EVOLUCAO</th>\n",
       "      <th>Ano_atual</th>\n",
       "    </tr>\n",
       "  </thead>\n",
       "  <tbody>\n",
       "    <tr>\n",
       "      <th>0</th>\n",
       "      <td>6</td>\n",
       "      <td>0.0</td>\n",
       "      <td>1.0</td>\n",
       "      <td>1.0</td>\n",
       "      <td>1.0</td>\n",
       "      <td>4.0</td>\n",
       "      <td>M</td>\n",
       "      <td>1994.0</td>\n",
       "      <td>29.0</td>\n",
       "      <td>1.0</td>\n",
       "      <td>2019</td>\n",
       "    </tr>\n",
       "    <tr>\n",
       "      <th>1</th>\n",
       "      <td>6</td>\n",
       "      <td>1.0</td>\n",
       "      <td>1.0</td>\n",
       "      <td>1.0</td>\n",
       "      <td>1.0</td>\n",
       "      <td>5.0</td>\n",
       "      <td>M</td>\n",
       "      <td>1985.0</td>\n",
       "      <td>31.0</td>\n",
       "      <td>1.0</td>\n",
       "      <td>2019</td>\n",
       "    </tr>\n",
       "    <tr>\n",
       "      <th>3</th>\n",
       "      <td>6</td>\n",
       "      <td>0.0</td>\n",
       "      <td>3.0</td>\n",
       "      <td>1.0</td>\n",
       "      <td>1.0</td>\n",
       "      <td>9.0</td>\n",
       "      <td>M</td>\n",
       "      <td>1997.0</td>\n",
       "      <td>31.0</td>\n",
       "      <td>1.0</td>\n",
       "      <td>2019</td>\n",
       "    </tr>\n",
       "    <tr>\n",
       "      <th>4</th>\n",
       "      <td>6</td>\n",
       "      <td>0.0</td>\n",
       "      <td>3.0</td>\n",
       "      <td>1.0</td>\n",
       "      <td>1.0</td>\n",
       "      <td>9.0</td>\n",
       "      <td>M</td>\n",
       "      <td>1992.0</td>\n",
       "      <td>32.0</td>\n",
       "      <td>1.0</td>\n",
       "      <td>2019</td>\n",
       "    </tr>\n",
       "    <tr>\n",
       "      <th>5</th>\n",
       "      <td>5</td>\n",
       "      <td>1.0</td>\n",
       "      <td>1.0</td>\n",
       "      <td>1.0</td>\n",
       "      <td>1.0</td>\n",
       "      <td>0.0</td>\n",
       "      <td>F</td>\n",
       "      <td>1956.0</td>\n",
       "      <td>NaN</td>\n",
       "      <td>1.0</td>\n",
       "      <td>2019</td>\n",
       "    </tr>\n",
       "  </tbody>\n",
       "</table>\n",
       "</div>"
      ],
      "text/plain": [
       "   CS_GESTANT  AN_QUANT  AN_QUALI  TRATAM  FORMA  CS_ESCOL_N CS_SEXO  \\\n",
       "0           6       0.0       1.0     1.0    1.0         4.0       M   \n",
       "1           6       1.0       1.0     1.0    1.0         5.0       M   \n",
       "3           6       0.0       3.0     1.0    1.0         9.0       M   \n",
       "4           6       0.0       3.0     1.0    1.0         9.0       M   \n",
       "5           5       1.0       1.0     1.0    1.0         0.0       F   \n",
       "\n",
       "   ANO_NASC  COUFINF  EVOLUCAO  Ano_atual  \n",
       "0    1994.0     29.0       1.0       2019  \n",
       "1    1985.0     31.0       1.0       2019  \n",
       "3    1997.0     31.0       1.0       2019  \n",
       "4    1992.0     32.0       1.0       2019  \n",
       "5    1956.0      NaN       1.0       2019  "
      ]
     },
     "execution_count": 418,
     "metadata": {},
     "output_type": "execute_result"
    }
   ],
   "source": [
    "# Lista das colunas conforme dicionário SINAN\n",
    "colunas_selecionadas = [\n",
    "    'CS_GESTANT',                     \n",
    "    'AN_QUANT',\n",
    "    'AN_QUALI',            \n",
    "    'TRATAM', \n",
    "    'FORMA',      \n",
    "    'CS_ESCOL_N', \n",
    "    'CS_SEXO',  \n",
    "    'ANO_NASC',\n",
    "    'COUFINF',\n",
    "    'EVOLUCAO',\n",
    "    'Ano_atual'\n",
    "]\n",
    "\n",
    "# Seleção das colunas\n",
    "esq_filtrado = esq_total[colunas_selecionadas]\n",
    "\n",
    "esq_filtrado.head()\n"
   ]
  },
  {
   "cell_type": "markdown",
   "metadata": {},
   "source": [
    "Renomeando as colunas selecionadas para garantir melhor entendimento:"
   ]
  },
  {
   "cell_type": "code",
   "execution_count": 419,
   "metadata": {},
   "outputs": [
    {
     "name": "stdout",
     "output_type": "stream",
     "text": [
      "(7553, 11)\n"
     ]
    },
    {
     "data": {
      "text/html": [
       "<div>\n",
       "<style scoped>\n",
       "    .dataframe tbody tr th:only-of-type {\n",
       "        vertical-align: middle;\n",
       "    }\n",
       "\n",
       "    .dataframe tbody tr th {\n",
       "        vertical-align: top;\n",
       "    }\n",
       "\n",
       "    .dataframe thead th {\n",
       "        text-align: right;\n",
       "    }\n",
       "</style>\n",
       "<table border=\"1\" class=\"dataframe\">\n",
       "  <thead>\n",
       "    <tr style=\"text-align: right;\">\n",
       "      <th></th>\n",
       "      <th>Gestante</th>\n",
       "      <th>Quantidade ovos encontrados</th>\n",
       "      <th>Exame_qualitativo</th>\n",
       "      <th>Tratamento realizado</th>\n",
       "      <th>Forma clínica</th>\n",
       "      <th>Escolaridade</th>\n",
       "      <th>Sexo</th>\n",
       "      <th>Ano de nascimento</th>\n",
       "      <th>Unidade Federativa</th>\n",
       "      <th>Resultado</th>\n",
       "      <th>Ano_atual</th>\n",
       "    </tr>\n",
       "  </thead>\n",
       "  <tbody>\n",
       "    <tr>\n",
       "      <th>0</th>\n",
       "      <td>6</td>\n",
       "      <td>0.0</td>\n",
       "      <td>1.0</td>\n",
       "      <td>1.0</td>\n",
       "      <td>1.0</td>\n",
       "      <td>4.0</td>\n",
       "      <td>M</td>\n",
       "      <td>1994.0</td>\n",
       "      <td>29.0</td>\n",
       "      <td>1.0</td>\n",
       "      <td>2019</td>\n",
       "    </tr>\n",
       "    <tr>\n",
       "      <th>1</th>\n",
       "      <td>6</td>\n",
       "      <td>1.0</td>\n",
       "      <td>1.0</td>\n",
       "      <td>1.0</td>\n",
       "      <td>1.0</td>\n",
       "      <td>5.0</td>\n",
       "      <td>M</td>\n",
       "      <td>1985.0</td>\n",
       "      <td>31.0</td>\n",
       "      <td>1.0</td>\n",
       "      <td>2019</td>\n",
       "    </tr>\n",
       "    <tr>\n",
       "      <th>3</th>\n",
       "      <td>6</td>\n",
       "      <td>0.0</td>\n",
       "      <td>3.0</td>\n",
       "      <td>1.0</td>\n",
       "      <td>1.0</td>\n",
       "      <td>9.0</td>\n",
       "      <td>M</td>\n",
       "      <td>1997.0</td>\n",
       "      <td>31.0</td>\n",
       "      <td>1.0</td>\n",
       "      <td>2019</td>\n",
       "    </tr>\n",
       "    <tr>\n",
       "      <th>4</th>\n",
       "      <td>6</td>\n",
       "      <td>0.0</td>\n",
       "      <td>3.0</td>\n",
       "      <td>1.0</td>\n",
       "      <td>1.0</td>\n",
       "      <td>9.0</td>\n",
       "      <td>M</td>\n",
       "      <td>1992.0</td>\n",
       "      <td>32.0</td>\n",
       "      <td>1.0</td>\n",
       "      <td>2019</td>\n",
       "    </tr>\n",
       "    <tr>\n",
       "      <th>5</th>\n",
       "      <td>5</td>\n",
       "      <td>1.0</td>\n",
       "      <td>1.0</td>\n",
       "      <td>1.0</td>\n",
       "      <td>1.0</td>\n",
       "      <td>0.0</td>\n",
       "      <td>F</td>\n",
       "      <td>1956.0</td>\n",
       "      <td>NaN</td>\n",
       "      <td>1.0</td>\n",
       "      <td>2019</td>\n",
       "    </tr>\n",
       "  </tbody>\n",
       "</table>\n",
       "</div>"
      ],
      "text/plain": [
       "   Gestante  Quantidade ovos encontrados  Exame_qualitativo  \\\n",
       "0         6                          0.0                1.0   \n",
       "1         6                          1.0                1.0   \n",
       "3         6                          0.0                3.0   \n",
       "4         6                          0.0                3.0   \n",
       "5         5                          1.0                1.0   \n",
       "\n",
       "   Tratamento realizado  Forma clínica  Escolaridade Sexo  Ano de nascimento  \\\n",
       "0                   1.0            1.0           4.0    M             1994.0   \n",
       "1                   1.0            1.0           5.0    M             1985.0   \n",
       "3                   1.0            1.0           9.0    M             1997.0   \n",
       "4                   1.0            1.0           9.0    M             1992.0   \n",
       "5                   1.0            1.0           0.0    F             1956.0   \n",
       "\n",
       "   Unidade Federativa  Resultado  Ano_atual  \n",
       "0                29.0        1.0       2019  \n",
       "1                31.0        1.0       2019  \n",
       "3                31.0        1.0       2019  \n",
       "4                32.0        1.0       2019  \n",
       "5                 NaN        1.0       2019  "
      ]
     },
     "execution_count": 419,
     "metadata": {},
     "output_type": "execute_result"
    }
   ],
   "source": [
    "novos_nomes_doenças = {\n",
    "    'CS_GESTANT': 'Gestante',\n",
    "    'AN_QUANT': 'Quantidade ovos encontrados',\n",
    "    'AN_QUALI': 'Exame_qualitativo',\n",
    "    'TRATAM': 'Tratamento realizado',\n",
    "    'FORMA': 'Forma clínica',\n",
    "    'CS_ESCOL_N': 'Escolaridade',\n",
    "    'CS_SEXO': 'Sexo',\n",
    "    'ANO_NASC': 'Ano de nascimento',\n",
    "    'COUFINF': 'Unidade Federativa',\n",
    "    'EVOLUCAO': 'Resultado'\n",
    "\n",
    "}\n",
    "\n",
    "esq_filtrado = esq_filtrado.rename(columns=novos_nomes_doenças)\n",
    "\n",
    "print(esq_filtrado.shape)\n",
    "esq_filtrado.head()"
   ]
  },
  {
   "cell_type": "markdown",
   "metadata": {},
   "source": [
    "### 2.2) Selecionando os dados a serem usados"
   ]
  },
  {
   "cell_type": "code",
   "execution_count": 420,
   "metadata": {},
   "outputs": [
    {
     "data": {
      "text/plain": [
       "1.0    7081\n",
       "3.0     330\n",
       "Name: Resultado, dtype: int64"
      ]
     },
     "execution_count": 420,
     "metadata": {},
     "output_type": "execute_result"
    }
   ],
   "source": [
    "esq_valid = esq_filtrado[(esq_filtrado['Resultado'] == 1) | (esq_filtrado['Resultado'] == 3)]\n",
    "esq_valid['Resultado'].value_counts()"
   ]
  },
  {
   "cell_type": "code",
   "execution_count": 421,
   "metadata": {},
   "outputs": [
    {
     "name": "stdout",
     "output_type": "stream",
     "text": [
      "Porcentagem de mortes por esquistossomose: 4.45%\n"
     ]
    }
   ],
   "source": [
    "print(f\"Porcentagem de mortes por esquistossomose: {len(esq_valid[esq_valid['Resultado'] == 3]) / len(esq_valid) * 100 :.2f}%\")"
   ]
  },
  {
   "cell_type": "markdown",
   "metadata": {},
   "source": [
    "### 2.3) Tratamento de atributos categóricos"
   ]
  },
  {
   "cell_type": "markdown",
   "metadata": {},
   "source": [
    "Primeiramente, vamos visualizar nossos dados a fim de transformar os atributos categóricos em numéricos:"
   ]
  },
  {
   "cell_type": "code",
   "execution_count": 422,
   "metadata": {},
   "outputs": [
    {
     "name": "stdout",
     "output_type": "stream",
     "text": [
      "<class 'pandas.core.frame.DataFrame'>\n",
      "Int64Index: 7411 entries, 0 to 13574\n",
      "Data columns (total 11 columns):\n",
      " #   Column                       Non-Null Count  Dtype  \n",
      "---  ------                       --------------  -----  \n",
      " 0   Gestante                     7411 non-null   int64  \n",
      " 1   Quantidade ovos encontrados  7411 non-null   float64\n",
      " 2   Exame_qualitativo            5907 non-null   float64\n",
      " 3   Tratamento realizado         7411 non-null   float64\n",
      " 4   Forma clínica                5662 non-null   float64\n",
      " 5   Escolaridade                 6708 non-null   float64\n",
      " 6   Sexo                         7411 non-null   object \n",
      " 7   Ano de nascimento            7363 non-null   float64\n",
      " 8   Unidade Federativa           5973 non-null   float64\n",
      " 9   Resultado                    7411 non-null   float64\n",
      " 10  Ano_atual                    7411 non-null   int64  \n",
      "dtypes: float64(8), int64(2), object(1)\n",
      "memory usage: 694.8+ KB\n"
     ]
    }
   ],
   "source": [
    "esq_valid.info()"
   ]
  },
  {
   "cell_type": "markdown",
   "metadata": {},
   "source": [
    "Podemos notar que, apesar de que o tipo de muitos dos atributos esteja definido como 'float', de acordo com o dicionário da doença, cada número representa uma característica distinta. Por isso, a ideia será realizar o One-Hot encoding para separar tais atributos categóricos."
   ]
  },
  {
   "cell_type": "markdown",
   "metadata": {},
   "source": [
    "#### 2.3.1) Gestante"
   ]
  },
  {
   "cell_type": "code",
   "execution_count": 423,
   "metadata": {},
   "outputs": [
    {
     "data": {
      "text/plain": [
       "6    5206\n",
       "5    2003\n",
       "9     154\n",
       "2      18\n",
       "1      13\n",
       "4      12\n",
       "3       5\n",
       "Name: Gestante, dtype: int64"
      ]
     },
     "execution_count": 423,
     "metadata": {},
     "output_type": "execute_result"
    }
   ],
   "source": [
    "esq_valid['Gestante'].value_counts()"
   ]
  },
  {
   "cell_type": "code",
   "execution_count": 424,
   "metadata": {},
   "outputs": [
    {
     "name": "stderr",
     "output_type": "stream",
     "text": [
      "/tmp/ipykernel_15556/433438737.py:4: SettingWithCopyWarning: \n",
      "A value is trying to be set on a copy of a slice from a DataFrame.\n",
      "Try using .loc[row_indexer,col_indexer] = value instead\n",
      "\n",
      "See the caveats in the documentation: https://pandas.pydata.org/pandas-docs/stable/user_guide/indexing.html#returning-a-view-versus-a-copy\n",
      "  esq_valid['nao_gestante'] = (esq_valid['Gestante'].isin([5, 6, 9])).astype(int)\n",
      "/tmp/ipykernel_15556/433438737.py:5: SettingWithCopyWarning: \n",
      "A value is trying to be set on a copy of a slice from a DataFrame.\n",
      "Try using .loc[row_indexer,col_indexer] = value instead\n",
      "\n",
      "See the caveats in the documentation: https://pandas.pydata.org/pandas-docs/stable/user_guide/indexing.html#returning-a-view-versus-a-copy\n",
      "  esq_valid['gestante'] = (~esq_valid['Gestante'].isin([5, 6, 9])).astype(int)\n"
     ]
    }
   ],
   "source": [
    "# Para gestante, consideraremos apenas como uma variável binária. \n",
    "# 5, 6 e 9 indica que não é gestante, e todas as demais indicam que é gestante\n",
    "\n",
    "esq_valid['nao_gestante'] = (esq_valid['Gestante'].isin([5, 6, 9])).astype(int)\n",
    "esq_valid['gestante'] = (~esq_valid['Gestante'].isin([5, 6, 9])).astype(int)\n"
   ]
  },
  {
   "cell_type": "code",
   "execution_count": 425,
   "metadata": {},
   "outputs": [
    {
     "data": {
      "text/plain": [
       "1.0    48\n",
       "Name: Resultado, dtype: int64"
      ]
     },
     "execution_count": 425,
     "metadata": {},
     "output_type": "execute_result"
    }
   ],
   "source": [
    "esq_valid[esq_valid['nao_gestante'] == 0]['Resultado'].value_counts()"
   ]
  },
  {
   "cell_type": "markdown",
   "metadata": {},
   "source": [
    "Após análise do fator gestante, é possível notar que um número inexpressivo de pessoas na base de dados são gestantes, e nenhuma delas apresenta veio a óbito. Adicionar tal feature na base pode corroborar com o viés do modelo, por isso optamos por retirar a categoria da base de dados."
   ]
  },
  {
   "cell_type": "code",
   "execution_count": 426,
   "metadata": {},
   "outputs": [],
   "source": [
    "esq_valid = esq_valid.drop(columns=['Gestante', 'nao_gestante','gestante'])"
   ]
  },
  {
   "cell_type": "markdown",
   "metadata": {},
   "source": [
    "#### 2.3.2) Quantidade de ovos de schistossoma encontrados"
   ]
  },
  {
   "cell_type": "markdown",
   "metadata": {},
   "source": [
    "Para o atributo \"Quantidade de Ovos encontrados\", este já está em forma binária, indicando se não foram encontrados ovos da Schistossoma no exame de fezes (0) ou se foram encontrados (1)"
   ]
  },
  {
   "cell_type": "code",
   "execution_count": 427,
   "metadata": {},
   "outputs": [
    {
     "data": {
      "text/plain": [
       "0.0    3880\n",
       "1.0    3531\n",
       "Name: Quantidade ovos encontrados, dtype: int64"
      ]
     },
     "execution_count": 427,
     "metadata": {},
     "output_type": "execute_result"
    }
   ],
   "source": [
    "esq_valid['Quantidade ovos encontrados'].value_counts()"
   ]
  },
  {
   "cell_type": "code",
   "execution_count": 428,
   "metadata": {},
   "outputs": [],
   "source": [
    "# Transformando o atributo de float para inteiro\n",
    "esq_valid['Quantidade ovos encontrados'] = esq_valid['Quantidade ovos encontrados'].astype(int)"
   ]
  },
  {
   "cell_type": "markdown",
   "metadata": {},
   "source": [
    "#### 2.3.3) Exame qualitativo"
   ]
  },
  {
   "cell_type": "markdown",
   "metadata": {},
   "source": [
    "Já para o atributo \"Resultado exame ovos qualitativo\", que indica o resultado (1=Positivo, 2=Negativo e 3=Não realizado), como são apresentadas mais de duas categorias, será necessário transformar em mais colunas.\n",
    "\n",
    "Além disso, como existem muitos valores nulos na coluna, vamos atribuí-los a uma quarta categoria: Desconhecido"
   ]
  },
  {
   "cell_type": "code",
   "execution_count": 429,
   "metadata": {},
   "outputs": [
    {
     "name": "stdout",
     "output_type": "stream",
     "text": [
      "1.0    3226\n",
      "3.0    2090\n",
      "2.0     591\n",
      "Name: Exame_qualitativo, dtype: int64\n",
      "Valores nulos:  1504\n"
     ]
    }
   ],
   "source": [
    "print(esq_valid['Exame_qualitativo'].value_counts())\n",
    "print(\"Valores nulos: \", esq_valid['Exame_qualitativo'].isna().sum())"
   ]
  },
  {
   "cell_type": "code",
   "execution_count": 430,
   "metadata": {},
   "outputs": [],
   "source": [
    "# Adicionando \"Desconhecido\"\n",
    "esq_valid['Exame_qualitativo'].fillna(\"Desconhecido\", inplace=True)"
   ]
  },
  {
   "cell_type": "code",
   "execution_count": 431,
   "metadata": {},
   "outputs": [],
   "source": [
    "# Definindo valores numéricos como texto\n",
    "esq_valid['Exame_qualitativo'].replace(1, \"Positivo\", inplace=True)\n",
    "esq_valid['Exame_qualitativo'].replace(2, \"Negativo\", inplace=True)\n",
    "esq_valid['Exame_qualitativo'].replace(3, \"Nao_Realizado\", inplace=True)"
   ]
  },
  {
   "cell_type": "code",
   "execution_count": 432,
   "metadata": {},
   "outputs": [],
   "source": [
    "# Criando novas colunas com one-hot-encoding\n",
    "df_onehot = pd.get_dummies(esq_valid['Exame_qualitativo'], prefix='Exame', dtype=int)\n",
    "\n",
    "# Concatenando com o DataFrame original\n",
    "esq_valid = pd.concat([esq_valid, df_onehot], axis=1)\n",
    "\n",
    "# Removendo a coluna original\n",
    "esq_valid.drop(columns=['Exame_qualitativo'], inplace=True)"
   ]
  },
  {
   "cell_type": "markdown",
   "metadata": {},
   "source": [
    "#### 2.3.4) Tratamento realizado"
   ]
  },
  {
   "cell_type": "markdown",
   "metadata": {},
   "source": [
    "A categoria apresenta o tratamento que foi realizado pelo paciente no combate à doença, sendo 1=  Sim  –  Praziquantel,  2=  Sim,  Oxaminiquine,  3=  Não  ou  9=  Ignorado"
   ]
  },
  {
   "cell_type": "code",
   "execution_count": 433,
   "metadata": {},
   "outputs": [
    {
     "name": "stdout",
     "output_type": "stream",
     "text": [
      "1.0    6256\n",
      "3.0     671\n",
      "9.0     454\n",
      "2.0      30\n",
      "Name: Tratamento realizado, dtype: int64\n",
      "Valores nulos:  0\n"
     ]
    }
   ],
   "source": [
    "print(esq_valid['Tratamento realizado'].value_counts())\n",
    "print(\"Valores nulos: \", esq_valid['Tratamento realizado'].isna().sum())"
   ]
  },
  {
   "cell_type": "markdown",
   "metadata": {},
   "source": [
    "Como não existem valores nulos, podemos apenas atribuir a cada valor numérico a string relativa ao output:"
   ]
  },
  {
   "cell_type": "code",
   "execution_count": 434,
   "metadata": {},
   "outputs": [],
   "source": [
    "# Substituição dos valores numéricos por rótulos\n",
    "esq_valid['Tratamento realizado'].replace(\n",
    "    {\n",
    "        1: \"Sim_Praziquantel\",\n",
    "        2: \"Sim_Oxaminiquine\", \n",
    "        3: \"Nao\",\n",
    "        9: \"Ignorado\"\n",
    "    }, \n",
    "    inplace=True\n",
    ")"
   ]
  },
  {
   "cell_type": "code",
   "execution_count": 435,
   "metadata": {},
   "outputs": [],
   "source": [
    "# Criar colunas one-hot para cada categoria\n",
    "df_onehot = pd.get_dummies(\n",
    "    esq_valid['Tratamento realizado'], \n",
    "    prefix='Tratamento', \n",
    "    dtype=int\n",
    ")\n",
    "\n",
    "# Concatenar com o DataFrame original\n",
    "esq_valid = pd.concat([esq_valid, df_onehot], axis=1)\n",
    "\n",
    "# Remover a coluna original (opcional)\n",
    "esq_valid.drop(columns=['Tratamento realizado'], inplace=True)"
   ]
  },
  {
   "cell_type": "markdown",
   "metadata": {},
   "source": [
    "#### 2.3.5) Forma clínica avaliada"
   ]
  },
  {
   "cell_type": "code",
   "execution_count": 436,
   "metadata": {},
   "outputs": [
    {
     "name": "stdout",
     "output_type": "stream",
     "text": [
      "1.0    4156\n",
      "5.0     467\n",
      "3.0     382\n",
      "2.0     360\n",
      "4.0     297\n",
      "Name: Forma clínica, dtype: int64\n",
      "Valores nulos:  1749\n"
     ]
    }
   ],
   "source": [
    "print(esq_valid['Forma clínica'].value_counts())\n",
    "print(\"Valores nulos: \", esq_valid['Forma clínica'].isna().sum())"
   ]
  },
  {
   "cell_type": "code",
   "execution_count": 437,
   "metadata": {},
   "outputs": [],
   "source": [
    "# Substituindo valores nulos para \"Nao_especificado\"\n",
    "esq_valid['Forma clínica'].fillna(\"Nao_especificado\", inplace=True)"
   ]
  },
  {
   "cell_type": "code",
   "execution_count": 438,
   "metadata": {},
   "outputs": [],
   "source": [
    "# Dicionário de mapeamento dos valores\n",
    "mapeamento_forma = {\n",
    "    1: \"Intestinal\",\n",
    "    2: \"Hepato_Intestinal\",\n",
    "    3: \"Hepato_Esplenica\",\n",
    "    4: \"Aguda\",\n",
    "    5: \"Outra\"\n",
    "}\n",
    "\n",
    "# Substituição inplace\n",
    "esq_valid['Forma clínica'].replace(mapeamento_forma, inplace=True)"
   ]
  },
  {
   "cell_type": "code",
   "execution_count": 439,
   "metadata": {},
   "outputs": [],
   "source": [
    "# Criando colunas one-hot\n",
    "df_onehot = pd.get_dummies(\n",
    "    esq_valid['Forma clínica'],\n",
    "    prefix='Forma',     \n",
    "    dtype=int          \n",
    ")\n",
    "\n",
    "# Concatenar com o DataFrame original\n",
    "esq_valid = pd.concat([esq_valid, df_onehot], axis=1)\n",
    "\n",
    "# Remover a coluna original\n",
    "esq_valid.drop(columns=['Forma clínica'], inplace=True)"
   ]
  },
  {
   "cell_type": "markdown",
   "metadata": {},
   "source": [
    "#### 2.3.6) Escolaridade"
   ]
  },
  {
   "cell_type": "code",
   "execution_count": 440,
   "metadata": {},
   "outputs": [
    {
     "name": "stdout",
     "output_type": "stream",
     "text": [
      "9.0     1502\n",
      "6.0     1147\n",
      "3.0      869\n",
      "1.0      863\n",
      "5.0      520\n",
      "2.0      509\n",
      "4.0      507\n",
      "8.0      266\n",
      "0.0      213\n",
      "10.0     210\n",
      "7.0      102\n",
      "Name: Escolaridade, dtype: int64\n",
      "Valores nulos:  703\n"
     ]
    }
   ],
   "source": [
    "print(esq_valid['Escolaridade'].value_counts())\n",
    "print(\"Valores nulos: \", esq_valid['Escolaridade'].isna().sum())"
   ]
  },
  {
   "cell_type": "markdown",
   "metadata": {},
   "source": [
    "Como o campo escolaridade apresenta uma cardinalidade lógica, ou seja, o 1 = 1º a 4º série incompleta e 8 = Educação superior completa, podemos considerá-lo como um atributo numérico, e não é necessário realizar o One-Hot-Encoding.\n",
    "\n",
    "Porém, como os atributos 9 = Ignorado e 10 = Não se aplica, transformaremos-os em 0 para garantir que não sejam considerados com uma cardinalidade maior que a Educação superior completa."
   ]
  },
  {
   "cell_type": "code",
   "execution_count": 441,
   "metadata": {},
   "outputs": [],
   "source": [
    "esq_valid['Escolaridade'].fillna(0, inplace=True)\n",
    "esq_valid['Escolaridade'].replace(9, 0, inplace=True)\n",
    "esq_valid['Escolaridade'].replace(10, 0, inplace=True)\n",
    "esq_valid['Escolaridade'] = esq_valid['Escolaridade'].astype(int)"
   ]
  },
  {
   "cell_type": "markdown",
   "metadata": {},
   "source": [
    "#### 2.3.7) Sexo"
   ]
  },
  {
   "cell_type": "code",
   "execution_count": 442,
   "metadata": {},
   "outputs": [
    {
     "data": {
      "text/plain": [
       "M    4459\n",
       "F    2950\n",
       "I       2\n",
       "Name: Sexo, dtype: int64"
      ]
     },
     "execution_count": 442,
     "metadata": {},
     "output_type": "execute_result"
    }
   ],
   "source": [
    "esq_valid['Sexo'].value_counts()"
   ]
  },
  {
   "cell_type": "markdown",
   "metadata": {},
   "source": [
    "Como temos apenas dois valores \"Ignorado\", podemos desconsiderá-los:"
   ]
  },
  {
   "cell_type": "code",
   "execution_count": 443,
   "metadata": {},
   "outputs": [],
   "source": [
    "esq_valid['Sexo'].drop(esq_valid[esq_valid['Sexo'] == \"I\"].index, inplace=True)"
   ]
  },
  {
   "cell_type": "code",
   "execution_count": 444,
   "metadata": {},
   "outputs": [],
   "source": [
    "esq_valid['Sexo'].replace(\"M\", 0, inplace=True)\n",
    "esq_valid['Sexo'].replace(\"F\", 1, inplace=True)"
   ]
  },
  {
   "cell_type": "markdown",
   "metadata": {},
   "source": [
    "#### 2.3.8) Ano de Nascimento"
   ]
  },
  {
   "cell_type": "code",
   "execution_count": 445,
   "metadata": {},
   "outputs": [
    {
     "name": "stdout",
     "output_type": "stream",
     "text": [
      "1978.0    158\n",
      "1973.0    157\n",
      "1976.0    154\n",
      "1982.0    151\n",
      "1981.0    149\n",
      "         ... \n",
      "1927.0      1\n",
      "1926.0      1\n",
      "1906.0      1\n",
      "1922.0      1\n",
      "1923.0      1\n",
      "Name: Ano de nascimento, Length: 104, dtype: int64\n",
      "Valores nulos:  48\n"
     ]
    }
   ],
   "source": [
    "print(esq_valid['Ano de nascimento'].value_counts())\n",
    "print(\"Valores nulos: \", esq_valid['Ano de nascimento'].isna().sum())"
   ]
  },
  {
   "cell_type": "code",
   "execution_count": 446,
   "metadata": {},
   "outputs": [],
   "source": [
    "# Removendo as 31 pessoas sem um ano de nascimento definido\n",
    "esq_valid.dropna(subset=['Ano de nascimento'], inplace=True)"
   ]
  },
  {
   "cell_type": "markdown",
   "metadata": {},
   "source": [
    "Primeiramente, precisamos extrair a idade de cada paciente conforme o ano de nascimento. \n",
    "\n",
    "Como foram concatenados datasets de 4 anos diferentes, usaremos a coluna \"Ano_atual\" a fim de calcular a idade correta de cada paciente:"
   ]
  },
  {
   "cell_type": "code",
   "execution_count": 447,
   "metadata": {},
   "outputs": [],
   "source": [
    "esq_valid['Idade'] = (esq_valid['Ano_atual'] - esq_valid['Ano de nascimento']).astype(int)"
   ]
  },
  {
   "cell_type": "code",
   "execution_count": 448,
   "metadata": {},
   "outputs": [],
   "source": [
    "# Remover as colunas que não serão mais utilizadas\n",
    "esq_valid.drop(columns=['Ano de nascimento', 'Ano_atual'], inplace=True)"
   ]
  },
  {
   "cell_type": "markdown",
   "metadata": {},
   "source": [
    "#### 2.3.9) Unidade Federativa"
   ]
  },
  {
   "cell_type": "markdown",
   "metadata": {},
   "source": [
    "Para a utilização da unidade federativa, a escolha realizada pelo grupo foi dividir por regiões ao invés de por estados, reduzindo a complexidade total do modelo. \n",
    "\n",
    "Para isso, é necessário identificar cada estado e atribuí-lo à região correspondente. "
   ]
  },
  {
   "cell_type": "code",
   "execution_count": 449,
   "metadata": {},
   "outputs": [
    {
     "name": "stdout",
     "output_type": "stream",
     "text": [
      "31.0    3624\n",
      "29.0     572\n",
      "26.0     363\n",
      "32.0     323\n",
      "27.0     285\n",
      "25.0     179\n",
      "28.0     156\n",
      "35.0     102\n",
      "33.0      71\n",
      "41.0      58\n",
      "23.0      52\n",
      "21.0      43\n",
      "15.0      27\n",
      "24.0      23\n",
      "11.0      17\n",
      "52.0       8\n",
      "51.0       7\n",
      "50.0       6\n",
      "17.0       5\n",
      "22.0       4\n",
      "53.0       3\n",
      "42.0       3\n",
      "43.0       3\n",
      "13.0       2\n",
      "Name: Unidade Federativa, dtype: int64\n",
      "Valores nulos:  1427\n"
     ]
    }
   ],
   "source": [
    "print(esq_valid['Unidade Federativa'].value_counts())\n",
    "print(\"Valores nulos: \", esq_valid['Unidade Federativa'].isna().sum())"
   ]
  },
  {
   "cell_type": "markdown",
   "metadata": {},
   "source": [
    "Como temos uma quantidade significativa de valores nulos, os definiremos como \"Não especificado\""
   ]
  },
  {
   "cell_type": "code",
   "execution_count": 450,
   "metadata": {},
   "outputs": [],
   "source": [
    "esq_valid['Unidade Federativa'].fillna(\"Nao_especificado\", inplace=True)"
   ]
  },
  {
   "cell_type": "markdown",
   "metadata": {},
   "source": [
    "Para identificar as fontes, foi preciso acessar a Tabela de Códigos de Municípios do IBGE:\n",
    "\n",
    "https://www.ibge.gov.br/explica/codigos-dos-municipios.php"
   ]
  },
  {
   "cell_type": "code",
   "execution_count": 451,
   "metadata": {},
   "outputs": [],
   "source": [
    "replace_uf_para_regiao = {\n",
    "    11: 'Norte',  # Rondônia\n",
    "    12: 'Norte',  # Acre\n",
    "    13: 'Norte',  # Amazonas\n",
    "    14: 'Norte',  # Roraima\n",
    "    15: 'Norte',  # Pará\n",
    "    16: 'Norte',  # Amapá\n",
    "    17: 'Norte',  # Tocantins\n",
    "    \n",
    "    21: 'Nordeste',  # Maranhão\n",
    "    22: 'Nordeste',  # Piauí\n",
    "    23: 'Nordeste',  # Ceará\n",
    "    24: 'Nordeste',  # Rio Grande do Norte\n",
    "    25: 'Nordeste',  # Paraíba\n",
    "    26: 'Nordeste',  # Pernambuco\n",
    "    27: 'Nordeste',  # Alagoas\n",
    "    28: 'Nordeste',  # Sergipe\n",
    "    29: 'Nordeste',  # Bahia\n",
    "    \n",
    "    31: 'Sudeste',  # Minas Gerais\n",
    "    32: 'Sudeste',  # Espírito Santo\n",
    "    33: 'Sudeste',  # Rio de Janeiro\n",
    "    35: 'Sudeste',  # São Paulo\n",
    "    \n",
    "    41: 'Sul',  # Paraná\n",
    "    42: 'Sul',  # Santa Catarina\n",
    "    43: 'Sul',  # Rio Grande do Sul\n",
    "    \n",
    "    50: 'Centro-Oeste',  # Mato Grosso do Sul\n",
    "    51: 'Centro-Oeste',  # Mato Grosso\n",
    "    52: 'Centro-Oeste',  # Goiás\n",
    "    53: 'Centro-Oeste'   # Distrito Federal\n",
    "}"
   ]
  },
  {
   "cell_type": "code",
   "execution_count": 452,
   "metadata": {},
   "outputs": [
    {
     "name": "stdout",
     "output_type": "stream",
     "text": [
      "['Nordeste' 'Sudeste' 'Nao_especificado' 'Sul' 'Centro-Oeste' 'Norte']\n"
     ]
    }
   ],
   "source": [
    "# Substituindo os códigos pelas regiões\n",
    "esq_valid['Unidade Federativa'] = esq_valid['Unidade Federativa'].replace(replace_uf_para_regiao)\n",
    "\n",
    "# Verificando o resultado\n",
    "print(esq_valid['Unidade Federativa'].unique())"
   ]
  },
  {
   "cell_type": "markdown",
   "metadata": {},
   "source": [
    "Agora, definindo uma coluna por One-Hot encoding para cada região distinta:"
   ]
  },
  {
   "cell_type": "code",
   "execution_count": 453,
   "metadata": {},
   "outputs": [],
   "source": [
    "# Criando colunas one-hot\n",
    "df_onehot = pd.get_dummies(\n",
    "    esq_valid['Unidade Federativa'],\n",
    "    prefix='Regiao',     \n",
    "    dtype=int          \n",
    ")\n",
    "\n",
    "# Concatenando com o DataFrame original\n",
    "esq_valid = pd.concat([esq_valid, df_onehot], axis=1)\n",
    "\n",
    "# Removendo a coluna original\n",
    "esq_valid.drop(columns=['Unidade Federativa'], inplace=True)"
   ]
  },
  {
   "cell_type": "code",
   "execution_count": 454,
   "metadata": {},
   "outputs": [
    {
     "name": "stdout",
     "output_type": "stream",
     "text": [
      "<class 'pandas.core.frame.DataFrame'>\n",
      "Int64Index: 7363 entries, 0 to 13574\n",
      "Data columns (total 25 columns):\n",
      " #   Column                       Non-Null Count  Dtype  \n",
      "---  ------                       --------------  -----  \n",
      " 0   Quantidade ovos encontrados  7363 non-null   int64  \n",
      " 1   Escolaridade                 7363 non-null   int64  \n",
      " 2   Sexo                         7363 non-null   object \n",
      " 3   Resultado                    7363 non-null   float64\n",
      " 4   Exame_Desconhecido           7363 non-null   int64  \n",
      " 5   Exame_Nao_Realizado          7363 non-null   int64  \n",
      " 6   Exame_Negativo               7363 non-null   int64  \n",
      " 7   Exame_Positivo               7363 non-null   int64  \n",
      " 8   Tratamento_Ignorado          7363 non-null   int64  \n",
      " 9   Tratamento_Nao               7363 non-null   int64  \n",
      " 10  Tratamento_Sim_Oxaminiquine  7363 non-null   int64  \n",
      " 11  Tratamento_Sim_Praziquantel  7363 non-null   int64  \n",
      " 12  Forma_Aguda                  7363 non-null   int64  \n",
      " 13  Forma_Hepato_Esplenica       7363 non-null   int64  \n",
      " 14  Forma_Hepato_Intestinal      7363 non-null   int64  \n",
      " 15  Forma_Intestinal             7363 non-null   int64  \n",
      " 16  Forma_Nao_especificado       7363 non-null   int64  \n",
      " 17  Forma_Outra                  7363 non-null   int64  \n",
      " 18  Idade                        7363 non-null   int64  \n",
      " 19  Regiao_Centro-Oeste          7363 non-null   int64  \n",
      " 20  Regiao_Nao_especificado      7363 non-null   int64  \n",
      " 21  Regiao_Nordeste              7363 non-null   int64  \n",
      " 22  Regiao_Norte                 7363 non-null   int64  \n",
      " 23  Regiao_Sudeste               7363 non-null   int64  \n",
      " 24  Regiao_Sul                   7363 non-null   int64  \n",
      "dtypes: float64(1), int64(23), object(1)\n",
      "memory usage: 1.5+ MB\n"
     ]
    }
   ],
   "source": [
    "esq_valid.info()"
   ]
  },
  {
   "cell_type": "code",
   "execution_count": 455,
   "metadata": {},
   "outputs": [
    {
     "name": "stdout",
     "output_type": "stream",
     "text": [
      "0    7312\n",
      "1      51\n",
      "Name: Regiao_Norte, dtype: int64\n",
      "0    5686\n",
      "1    1677\n",
      "Name: Regiao_Nordeste, dtype: int64\n",
      "1    4120\n",
      "0    3243\n",
      "Name: Regiao_Sudeste, dtype: int64\n",
      "0    7299\n",
      "1      64\n",
      "Name: Regiao_Sul, dtype: int64\n",
      "0    7339\n",
      "1      24\n",
      "Name: Regiao_Centro-Oeste, dtype: int64\n"
     ]
    }
   ],
   "source": [
    "print(esq_valid['Regiao_Norte'].value_counts())\n",
    "print(esq_valid['Regiao_Nordeste'].value_counts())\n",
    "print(esq_valid['Regiao_Sudeste'].value_counts())\n",
    "print(esq_valid['Regiao_Sul'].value_counts())\n",
    "print(esq_valid['Regiao_Centro-Oeste'].value_counts())"
   ]
  },
  {
   "cell_type": "markdown",
   "metadata": {},
   "source": [
    "Pudemos ver que, como a distribuição por região dos casos se mostra desigual, não seria correto realizar a divisão de treino por região. Por isso, optamos por realizar a divisão em função de tempo."
   ]
  }
 ],
 "metadata": {
  "kernelspec": {
   "display_name": "Python 3",
   "language": "python",
   "name": "python3"
  },
  "language_info": {
   "codemirror_mode": {
    "name": "ipython",
    "version": 3
   },
   "file_extension": ".py",
   "mimetype": "text/x-python",
   "name": "python",
   "nbconvert_exporter": "python",
   "pygments_lexer": "ipython3",
   "version": "3.10.12"
  }
 },
 "nbformat": 4,
 "nbformat_minor": 2
}
