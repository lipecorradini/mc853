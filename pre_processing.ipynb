{
 "cells": [
  {
   "cell_type": "markdown",
   "metadata": {},
   "source": [
    "# Trabalho 1 - MC853B"
   ]
  },
  {
   "cell_type": "markdown",
   "metadata": {},
   "source": [
    "**Alunos:** \n",
    "\n",
    "Lucca Miranda Nunes - XXXX\n",
    "\n",
    "Luiz Felipe Corradini Rego Costa - 230613\n",
    "\n",
    "Pablo Henrique Almeida Mendes - XXXX\n"
   ]
  },
  {
   "cell_type": "markdown",
   "metadata": {},
   "source": [
    "\n",
    "\n",
    "**Doença de notificação compulsória escolhida:** Esquistossomose"
   ]
  },
  {
   "cell_type": "markdown",
   "metadata": {},
   "source": [
    "## 1) Upload e investigação dos dados"
   ]
  },
  {
   "cell_type": "markdown",
   "metadata": {},
   "source": [
    "### 1.1) Análise Exploratória dos dados\n",
    "\n",
    "Os dados escolhidos para treinamento foram os da doença esquistossomose dos anos de 2021, 2022 e 2023. Os anos de 2024 em diante não estavam disponibilizados na base do SINAN. Todos os dados estão no diretório source/csv."
   ]
  },
  {
   "cell_type": "code",
   "execution_count": 489,
   "metadata": {},
   "outputs": [],
   "source": [
    "import pandas as pd\n",
    "\n",
    "esq_20 = pd.read_csv('source/csv/ESQUBR20.csv')\n",
    "esq_21 = pd.read_csv('source/csv/ESQUBR21.csv')\n",
    "esq_22 = pd.read_csv('source/csv/ESQUBR22.csv')\n",
    "esq_23 = pd.read_csv('source/csv/ESQUBR23.csv')"
   ]
  },
  {
   "cell_type": "code",
   "execution_count": 490,
   "metadata": {},
   "outputs": [
    {
     "name": "stdout",
     "output_type": "stream",
     "text": [
      "(1873, 54)\n",
      "(2395, 54)\n",
      "(2640, 54)\n",
      "(3059, 54)\n"
     ]
    }
   ],
   "source": [
    "print(esq_20.shape)\n",
    "print(esq_21.shape)\n",
    "print(esq_22.shape)\n",
    "print(esq_23.shape)"
   ]
  },
  {
   "cell_type": "code",
   "execution_count": 491,
   "metadata": {},
   "outputs": [],
   "source": [
    "esq_20['Ano_atual'] = 2020\n",
    "esq_21['Ano_atual'] = 2021\n",
    "esq_22['Ano_atual'] = 2022\n",
    "esq_23['Ano_atual'] = 2023"
   ]
  },
  {
   "cell_type": "markdown",
   "metadata": {},
   "source": [
    "Com os três anos selecionados, obtemos, em primeiro momento, um total de 8094 instâncias. "
   ]
  },
  {
   "cell_type": "markdown",
   "metadata": {},
   "source": [
    "Precisamos investigar a quantidade de atributos-alvo em cada ano, a fim de garantir balanceamento nas classes dentro dos datasets de treino e de teste:\n",
    "\n",
    "Valores correspondentes a cada desfecho possível do paciente:\n",
    "\n",
    "\n",
    "1 - Cura\n",
    "\n",
    "2 - Não Cura\n",
    "\n",
    "3 - Óbito por \n",
    "esquistossomose \n",
    "\n",
    "4 -  Óbito por outras \n",
    "causas \n",
    "\n",
    "9 - Ignorado\n"
   ]
  },
  {
   "cell_type": "markdown",
   "metadata": {},
   "source": [
    "Como iremos usar os dados dos três anos, faz mais sentido concatená-los em um único DataFrame, a fim de realizar a análise em um único comando"
   ]
  },
  {
   "cell_type": "code",
   "execution_count": 492,
   "metadata": {},
   "outputs": [
    {
     "data": {
      "text/plain": [
       "1.0    4901\n",
       "9.0    1121\n",
       "3.0     242\n",
       "2.0     225\n",
       "4.0     113\n",
       "Name: EVOLUCAO, dtype: int64"
      ]
     },
     "execution_count": 492,
     "metadata": {},
     "output_type": "execute_result"
    }
   ],
   "source": [
    "esq_total = pd.concat([esq_20, esq_21, esq_22, esq_23])\n",
    "esq_total['EVOLUCAO'].value_counts()"
   ]
  },
  {
   "cell_type": "code",
   "execution_count": 493,
   "metadata": {},
   "outputs": [
    {
     "name": "stdout",
     "output_type": "stream",
     "text": [
      "Porcentagem de mortes por esquistossomose: 2.43%\n"
     ]
    }
   ],
   "source": [
    "print(f\"Porcentagem de mortes por esquistossomose: {len(esq_total[esq_total['EVOLUCAO'] == 3]) / len(esq_total) * 100 :.2f}%\")"
   ]
  },
  {
   "cell_type": "markdown",
   "metadata": {},
   "source": [
    "### 1.2) Divisão do conjunto de treino e teste\n",
    "\n",
    "O primeiro passo vai ser separar um conjunto de teste nos dados, já que esse conjunto não deve ser pré-processado como os de treinamento. Para garantir que "
   ]
  },
  {
   "cell_type": "code",
   "execution_count": 494,
   "metadata": {},
   "outputs": [],
   "source": [
    "# Avaliar a janela de tempo entre o primeiro atendimento e a morte\n",
    "# Avaliar como vai ser a divisão dos dados, e avaliar também como garantir 10% de representatividade de cada classe nos conjuntos de treino e teste"
   ]
  },
  {
   "cell_type": "markdown",
   "metadata": {},
   "source": [
    "## 2) Pré-processamento dos dados"
   ]
  },
  {
   "cell_type": "markdown",
   "metadata": {},
   "source": [
    "Podemos ver que, pelo número elevado de colunas, será necessário realizar uma análise quanto às colunas necessárias, para posteriormente avaliar se o total de instâncias apresentadas nos três anos serão suficientes para treinar o modelo."
   ]
  },
  {
   "cell_type": "markdown",
   "metadata": {},
   "source": [
    "### 2.1) Removendo Colunas desnecessárias\n",
    "\n",
    "O primeiro passo para pré-processar será **remover colunas desnecessárias do dataset**. \n",
    "\n",
    "Depois de uma primeira análise, a equipe selecionou 11 colunas que julgamos como mais relevantes para o treinamento do modelo:\n",
    "\n",
    "\n",
    "*colocar info das colunas*\n"
   ]
  },
  {
   "cell_type": "code",
   "execution_count": 495,
   "metadata": {},
   "outputs": [
    {
     "data": {
      "text/plain": [
       "Index(['Unnamed: 0', 'TP_NOT', 'ID_AGRAVO', 'DT_NOTIFIC', 'SEM_NOT', 'NU_ANO',\n",
       "       'SG_UF_NOT', 'ID_MUNICIP', 'ID_REGIONA', 'ID_UNIDADE', 'DT_SIN_PRI',\n",
       "       'SEM_PRI', 'ANO_NASC', 'NU_IDADE_N', 'CS_SEXO', 'CS_GESTANT', 'CS_RACA',\n",
       "       'CS_ESCOL_N', 'SG_UF', 'ID_MN_RESI', 'ID_RG_RESI', 'ID_PAIS',\n",
       "       'DT_INVEST', 'ID_OCUPA_N', 'DT_COPRO', 'AN_QUANT', 'OUTROS', 'TRATAM',\n",
       "       'TRATANAO', 'STCURA1', 'STCURA2', 'STCURA3', 'FORMA', 'TPAUTOCTO',\n",
       "       'COUFINF', 'COPAISINF', 'COMUNINF', 'NOPROPIN', 'NOCOLINF',\n",
       "       'DOENCA_TRA', 'EVOLUCAO', 'DT_ENCERRA', 'DT_DIGITA', 'DT_TRANSUS',\n",
       "       'DT_TRANSDM', 'DT_TRANSSM', 'DT_TRANSRS', 'DT_TRANSSE', 'DT_OBITO',\n",
       "       'DS_FORMA', 'AN_QUALI', 'DTTRAT', 'DT_RESU3', 'OUTRO_EX', 'Ano_atual'],\n",
       "      dtype='object')"
      ]
     },
     "execution_count": 495,
     "metadata": {},
     "output_type": "execute_result"
    }
   ],
   "source": [
    "esq_total.columns"
   ]
  },
  {
   "cell_type": "code",
   "execution_count": 531,
   "metadata": {},
   "outputs": [
    {
     "data": {
      "text/plain": [
       "31.0    4380\n",
       "29.0    1198\n",
       "26.0     448\n",
       "28.0     299\n",
       "27.0     283\n",
       "25.0     238\n",
       "33.0     209\n",
       "35.0     130\n",
       "21.0      69\n",
       "23.0      66\n",
       "15.0      52\n",
       "24.0      51\n",
       "41.0      39\n",
       "11.0      28\n",
       "32.0      16\n",
       "51.0      16\n",
       "52.0      15\n",
       "17.0      11\n",
       "53.0       8\n",
       "50.0       7\n",
       "22.0       7\n",
       "43.0       5\n",
       "42.0       4\n",
       "16.0       3\n",
       "13.0       3\n",
       "12.0       1\n",
       "Name: COUFINF, dtype: int64"
      ]
     },
     "execution_count": 531,
     "metadata": {},
     "output_type": "execute_result"
    }
   ],
   "source": [
    "esq_total['COUFINF'].value_counts()"
   ]
  },
  {
   "cell_type": "code",
   "execution_count": 496,
   "metadata": {},
   "outputs": [
    {
     "data": {
      "text/html": [
       "<div>\n",
       "<style scoped>\n",
       "    .dataframe tbody tr th:only-of-type {\n",
       "        vertical-align: middle;\n",
       "    }\n",
       "\n",
       "    .dataframe tbody tr th {\n",
       "        vertical-align: top;\n",
       "    }\n",
       "\n",
       "    .dataframe thead th {\n",
       "        text-align: right;\n",
       "    }\n",
       "</style>\n",
       "<table border=\"1\" class=\"dataframe\">\n",
       "  <thead>\n",
       "    <tr style=\"text-align: right;\">\n",
       "      <th></th>\n",
       "      <th>CS_GESTANT</th>\n",
       "      <th>AN_QUANT</th>\n",
       "      <th>AN_QUALI</th>\n",
       "      <th>TRATAM</th>\n",
       "      <th>FORMA</th>\n",
       "      <th>CS_ESCOL_N</th>\n",
       "      <th>CS_SEXO</th>\n",
       "      <th>ANO_NASC</th>\n",
       "      <th>COUFINF</th>\n",
       "      <th>EVOLUCAO</th>\n",
       "      <th>Ano_atual</th>\n",
       "    </tr>\n",
       "  </thead>\n",
       "  <tbody>\n",
       "    <tr>\n",
       "      <th>0</th>\n",
       "      <td>6</td>\n",
       "      <td>0.0</td>\n",
       "      <td>3.0</td>\n",
       "      <td>3.0</td>\n",
       "      <td>4.0</td>\n",
       "      <td>9.0</td>\n",
       "      <td>M</td>\n",
       "      <td>1969.0</td>\n",
       "      <td>31.0</td>\n",
       "      <td>2.0</td>\n",
       "      <td>2020</td>\n",
       "    </tr>\n",
       "    <tr>\n",
       "      <th>1</th>\n",
       "      <td>6</td>\n",
       "      <td>1.0</td>\n",
       "      <td>1.0</td>\n",
       "      <td>1.0</td>\n",
       "      <td>NaN</td>\n",
       "      <td>NaN</td>\n",
       "      <td>M</td>\n",
       "      <td>1984.0</td>\n",
       "      <td>26.0</td>\n",
       "      <td>1.0</td>\n",
       "      <td>2020</td>\n",
       "    </tr>\n",
       "    <tr>\n",
       "      <th>2</th>\n",
       "      <td>5</td>\n",
       "      <td>0.0</td>\n",
       "      <td>NaN</td>\n",
       "      <td>1.0</td>\n",
       "      <td>NaN</td>\n",
       "      <td>1.0</td>\n",
       "      <td>F</td>\n",
       "      <td>1975.0</td>\n",
       "      <td>35.0</td>\n",
       "      <td>1.0</td>\n",
       "      <td>2020</td>\n",
       "    </tr>\n",
       "    <tr>\n",
       "      <th>3</th>\n",
       "      <td>5</td>\n",
       "      <td>0.0</td>\n",
       "      <td>1.0</td>\n",
       "      <td>3.0</td>\n",
       "      <td>NaN</td>\n",
       "      <td>1.0</td>\n",
       "      <td>F</td>\n",
       "      <td>1977.0</td>\n",
       "      <td>29.0</td>\n",
       "      <td>NaN</td>\n",
       "      <td>2020</td>\n",
       "    </tr>\n",
       "    <tr>\n",
       "      <th>4</th>\n",
       "      <td>5</td>\n",
       "      <td>0.0</td>\n",
       "      <td>1.0</td>\n",
       "      <td>1.0</td>\n",
       "      <td>1.0</td>\n",
       "      <td>9.0</td>\n",
       "      <td>F</td>\n",
       "      <td>2004.0</td>\n",
       "      <td>27.0</td>\n",
       "      <td>1.0</td>\n",
       "      <td>2020</td>\n",
       "    </tr>\n",
       "  </tbody>\n",
       "</table>\n",
       "</div>"
      ],
      "text/plain": [
       "   CS_GESTANT  AN_QUANT  AN_QUALI  TRATAM  FORMA  CS_ESCOL_N CS_SEXO  \\\n",
       "0           6       0.0       3.0     3.0    4.0         9.0       M   \n",
       "1           6       1.0       1.0     1.0    NaN         NaN       M   \n",
       "2           5       0.0       NaN     1.0    NaN         1.0       F   \n",
       "3           5       0.0       1.0     3.0    NaN         1.0       F   \n",
       "4           5       0.0       1.0     1.0    1.0         9.0       F   \n",
       "\n",
       "   ANO_NASC  COUFINF  EVOLUCAO  Ano_atual  \n",
       "0    1969.0     31.0       2.0       2020  \n",
       "1    1984.0     26.0       1.0       2020  \n",
       "2    1975.0     35.0       1.0       2020  \n",
       "3    1977.0     29.0       NaN       2020  \n",
       "4    2004.0     27.0       1.0       2020  "
      ]
     },
     "execution_count": 496,
     "metadata": {},
     "output_type": "execute_result"
    }
   ],
   "source": [
    "# Lista das colunas conforme dicionário SINAN\n",
    "colunas_selecionadas = [\n",
    "    'CS_GESTANT',                     \n",
    "    'AN_QUANT',\n",
    "    'AN_QUALI',            \n",
    "    'TRATAM', \n",
    "    'FORMA',      \n",
    "    'CS_ESCOL_N', \n",
    "    'CS_SEXO',  \n",
    "    'ANO_NASC',\n",
    "    'COUFINF',\n",
    "    'EVOLUCAO',\n",
    "    'Ano_atual'\n",
    "]\n",
    "\n",
    "# Seleção das colunas\n",
    "esq_filtrado = esq_total[colunas_selecionadas]\n",
    "\n",
    "esq_filtrado.head()\n"
   ]
  },
  {
   "cell_type": "markdown",
   "metadata": {},
   "source": [
    "Renomeando as colunas selecionadas para garantir melhor entendimento:"
   ]
  },
  {
   "cell_type": "code",
   "execution_count": 497,
   "metadata": {},
   "outputs": [
    {
     "name": "stdout",
     "output_type": "stream",
     "text": [
      "(9967, 11)\n"
     ]
    },
    {
     "data": {
      "text/html": [
       "<div>\n",
       "<style scoped>\n",
       "    .dataframe tbody tr th:only-of-type {\n",
       "        vertical-align: middle;\n",
       "    }\n",
       "\n",
       "    .dataframe tbody tr th {\n",
       "        vertical-align: top;\n",
       "    }\n",
       "\n",
       "    .dataframe thead th {\n",
       "        text-align: right;\n",
       "    }\n",
       "</style>\n",
       "<table border=\"1\" class=\"dataframe\">\n",
       "  <thead>\n",
       "    <tr style=\"text-align: right;\">\n",
       "      <th></th>\n",
       "      <th>Gestante</th>\n",
       "      <th>Quantidade ovos encontrados</th>\n",
       "      <th>Exame_qualitativo</th>\n",
       "      <th>Tratamento realizado</th>\n",
       "      <th>Forma clínica</th>\n",
       "      <th>Escolaridade</th>\n",
       "      <th>Sexo</th>\n",
       "      <th>Ano de nascimento</th>\n",
       "      <th>Unidade Federativa</th>\n",
       "      <th>Resultado</th>\n",
       "      <th>Ano_atual</th>\n",
       "    </tr>\n",
       "  </thead>\n",
       "  <tbody>\n",
       "    <tr>\n",
       "      <th>0</th>\n",
       "      <td>6</td>\n",
       "      <td>0.0</td>\n",
       "      <td>3.0</td>\n",
       "      <td>3.0</td>\n",
       "      <td>4.0</td>\n",
       "      <td>9.0</td>\n",
       "      <td>M</td>\n",
       "      <td>1969.0</td>\n",
       "      <td>31.0</td>\n",
       "      <td>2.0</td>\n",
       "      <td>2020</td>\n",
       "    </tr>\n",
       "    <tr>\n",
       "      <th>1</th>\n",
       "      <td>6</td>\n",
       "      <td>1.0</td>\n",
       "      <td>1.0</td>\n",
       "      <td>1.0</td>\n",
       "      <td>NaN</td>\n",
       "      <td>NaN</td>\n",
       "      <td>M</td>\n",
       "      <td>1984.0</td>\n",
       "      <td>26.0</td>\n",
       "      <td>1.0</td>\n",
       "      <td>2020</td>\n",
       "    </tr>\n",
       "    <tr>\n",
       "      <th>2</th>\n",
       "      <td>5</td>\n",
       "      <td>0.0</td>\n",
       "      <td>NaN</td>\n",
       "      <td>1.0</td>\n",
       "      <td>NaN</td>\n",
       "      <td>1.0</td>\n",
       "      <td>F</td>\n",
       "      <td>1975.0</td>\n",
       "      <td>35.0</td>\n",
       "      <td>1.0</td>\n",
       "      <td>2020</td>\n",
       "    </tr>\n",
       "    <tr>\n",
       "      <th>3</th>\n",
       "      <td>5</td>\n",
       "      <td>0.0</td>\n",
       "      <td>1.0</td>\n",
       "      <td>3.0</td>\n",
       "      <td>NaN</td>\n",
       "      <td>1.0</td>\n",
       "      <td>F</td>\n",
       "      <td>1977.0</td>\n",
       "      <td>29.0</td>\n",
       "      <td>NaN</td>\n",
       "      <td>2020</td>\n",
       "    </tr>\n",
       "    <tr>\n",
       "      <th>4</th>\n",
       "      <td>5</td>\n",
       "      <td>0.0</td>\n",
       "      <td>1.0</td>\n",
       "      <td>1.0</td>\n",
       "      <td>1.0</td>\n",
       "      <td>9.0</td>\n",
       "      <td>F</td>\n",
       "      <td>2004.0</td>\n",
       "      <td>27.0</td>\n",
       "      <td>1.0</td>\n",
       "      <td>2020</td>\n",
       "    </tr>\n",
       "  </tbody>\n",
       "</table>\n",
       "</div>"
      ],
      "text/plain": [
       "   Gestante  Quantidade ovos encontrados  Exame_qualitativo  \\\n",
       "0         6                          0.0                3.0   \n",
       "1         6                          1.0                1.0   \n",
       "2         5                          0.0                NaN   \n",
       "3         5                          0.0                1.0   \n",
       "4         5                          0.0                1.0   \n",
       "\n",
       "   Tratamento realizado  Forma clínica  Escolaridade Sexo  Ano de nascimento  \\\n",
       "0                   3.0            4.0           9.0    M             1969.0   \n",
       "1                   1.0            NaN           NaN    M             1984.0   \n",
       "2                   1.0            NaN           1.0    F             1975.0   \n",
       "3                   3.0            NaN           1.0    F             1977.0   \n",
       "4                   1.0            1.0           9.0    F             2004.0   \n",
       "\n",
       "   Unidade Federativa  Resultado  Ano_atual  \n",
       "0                31.0        2.0       2020  \n",
       "1                26.0        1.0       2020  \n",
       "2                35.0        1.0       2020  \n",
       "3                29.0        NaN       2020  \n",
       "4                27.0        1.0       2020  "
      ]
     },
     "execution_count": 497,
     "metadata": {},
     "output_type": "execute_result"
    }
   ],
   "source": [
    "novos_nomes_doenças = {\n",
    "    'CS_GESTANT': 'Gestante',\n",
    "    'AN_QUANT': 'Quantidade ovos encontrados',\n",
    "    'AN_QUALI': 'Exame_qualitativo',\n",
    "    'TRATAM': 'Tratamento realizado',\n",
    "    'FORMA': 'Forma clínica',\n",
    "    'CS_ESCOL_N': 'Escolaridade',\n",
    "    'CS_SEXO': 'Sexo',\n",
    "    'ANO_NASC': 'Ano de nascimento',\n",
    "    'COUFINF': 'Unidade Federativa',\n",
    "    'EVOLUCAO': 'Resultado'\n",
    "\n",
    "}\n",
    "\n",
    "esq_filtrado = esq_filtrado.rename(columns=novos_nomes_doenças)\n",
    "\n",
    "print(esq_filtrado.shape)\n",
    "esq_filtrado.head()"
   ]
  },
  {
   "cell_type": "markdown",
   "metadata": {},
   "source": [
    "### 2.2) Selecionando os dados a serem usados"
   ]
  },
  {
   "cell_type": "markdown",
   "metadata": {},
   "source": [
    "Como o problema que iremos prever é de natureza binária (óbito ou não-óbito), precisamos remover todas as instâncias que a resposta foi \"Ignorado\" ou \"Não-Cura\". Se o caso foi ignorado, não podemos inserí-lo em nenhuma das duas classes, e a classificação de \"Não-Cura\" também não torna possível avaliar se o paciente veio a óbito ou não. Além disso, avaliamos que fugia do escopo do projeto considerar as mortes por outros fatores, então também retiramos essa classe da consideração."
   ]
  },
  {
   "cell_type": "code",
   "execution_count": 498,
   "metadata": {},
   "outputs": [
    {
     "data": {
      "text/plain": [
       "1.0    4901\n",
       "3.0     242\n",
       "Name: Resultado, dtype: int64"
      ]
     },
     "execution_count": 498,
     "metadata": {},
     "output_type": "execute_result"
    }
   ],
   "source": [
    "esq_valid = esq_filtrado[(esq_filtrado['Resultado'] == 1) | (esq_filtrado['Resultado'] == 3)]\n",
    "esq_valid['Resultado'].value_counts()"
   ]
  },
  {
   "cell_type": "code",
   "execution_count": 499,
   "metadata": {},
   "outputs": [
    {
     "name": "stdout",
     "output_type": "stream",
     "text": [
      "Porcentagem de mortes por esquistossomose: 4.71%\n"
     ]
    }
   ],
   "source": [
    "print(f\"Porcentagem de mortes por esquistossomose: {len(esq_valid[esq_valid['Resultado'] == 3]) / len(esq_valid) * 100 :.2f}%\")"
   ]
  },
  {
   "cell_type": "markdown",
   "metadata": {},
   "source": [
    "### 2.3) Tratamento de atributos categóricos"
   ]
  },
  {
   "cell_type": "markdown",
   "metadata": {},
   "source": [
    "Primeiramente, vamos visualizar nossos dados a fim de transformar os atributos categóricos em numéricos:"
   ]
  },
  {
   "cell_type": "code",
   "execution_count": 500,
   "metadata": {},
   "outputs": [
    {
     "name": "stdout",
     "output_type": "stream",
     "text": [
      "<class 'pandas.core.frame.DataFrame'>\n",
      "Int64Index: 5143 entries, 1 to 3058\n",
      "Data columns (total 11 columns):\n",
      " #   Column                       Non-Null Count  Dtype  \n",
      "---  ------                       --------------  -----  \n",
      " 0   Gestante                     5143 non-null   int64  \n",
      " 1   Quantidade ovos encontrados  5143 non-null   float64\n",
      " 2   Exame_qualitativo            4053 non-null   float64\n",
      " 3   Tratamento realizado         5143 non-null   float64\n",
      " 4   Forma clínica                3709 non-null   float64\n",
      " 5   Escolaridade                 4551 non-null   float64\n",
      " 6   Sexo                         5143 non-null   object \n",
      " 7   Ano de nascimento            5112 non-null   float64\n",
      " 8   Unidade Federativa           4102 non-null   float64\n",
      " 9   Resultado                    5143 non-null   float64\n",
      " 10  Ano_atual                    5143 non-null   int64  \n",
      "dtypes: float64(8), int64(2), object(1)\n",
      "memory usage: 482.2+ KB\n"
     ]
    }
   ],
   "source": [
    "esq_valid.info()"
   ]
  },
  {
   "cell_type": "markdown",
   "metadata": {},
   "source": [
    "Podemos notar que, apesar de que o tipo de muitos dos atributos esteja definido como 'float', de acordo com o dicionário da doença, cada número representa uma característica distinta. Por isso, a ideia será realizar o One-Hot encoding para separar tais atributos categóricos."
   ]
  },
  {
   "cell_type": "markdown",
   "metadata": {},
   "source": [
    "#### 2.3.1) Gestante"
   ]
  },
  {
   "cell_type": "code",
   "execution_count": 501,
   "metadata": {},
   "outputs": [
    {
     "data": {
      "text/plain": [
       "6    3573\n",
       "5    1422\n",
       "9     111\n",
       "2      14\n",
       "4      12\n",
       "1       8\n",
       "3       3\n",
       "Name: Gestante, dtype: int64"
      ]
     },
     "execution_count": 501,
     "metadata": {},
     "output_type": "execute_result"
    }
   ],
   "source": [
    "esq_valid['Gestante'].value_counts()"
   ]
  },
  {
   "cell_type": "code",
   "execution_count": 502,
   "metadata": {},
   "outputs": [
    {
     "name": "stderr",
     "output_type": "stream",
     "text": [
      "/tmp/ipykernel_8265/433438737.py:4: SettingWithCopyWarning: \n",
      "A value is trying to be set on a copy of a slice from a DataFrame.\n",
      "Try using .loc[row_indexer,col_indexer] = value instead\n",
      "\n",
      "See the caveats in the documentation: https://pandas.pydata.org/pandas-docs/stable/user_guide/indexing.html#returning-a-view-versus-a-copy\n",
      "  esq_valid['nao_gestante'] = (esq_valid['Gestante'].isin([5, 6, 9])).astype(int)\n",
      "/tmp/ipykernel_8265/433438737.py:5: SettingWithCopyWarning: \n",
      "A value is trying to be set on a copy of a slice from a DataFrame.\n",
      "Try using .loc[row_indexer,col_indexer] = value instead\n",
      "\n",
      "See the caveats in the documentation: https://pandas.pydata.org/pandas-docs/stable/user_guide/indexing.html#returning-a-view-versus-a-copy\n",
      "  esq_valid['gestante'] = (~esq_valid['Gestante'].isin([5, 6, 9])).astype(int)\n"
     ]
    }
   ],
   "source": [
    "# Para gestante, consideraremos apenas como uma variável binária. \n",
    "# 5, 6 e 9 indica que não é gestante, e todas as demais indicam que é gestante\n",
    "\n",
    "esq_valid['nao_gestante'] = (esq_valid['Gestante'].isin([5, 6, 9])).astype(int)\n",
    "esq_valid['gestante'] = (~esq_valid['Gestante'].isin([5, 6, 9])).astype(int)\n"
   ]
  },
  {
   "cell_type": "code",
   "execution_count": 503,
   "metadata": {},
   "outputs": [
    {
     "data": {
      "text/plain": [
       "1.0    37\n",
       "Name: Resultado, dtype: int64"
      ]
     },
     "execution_count": 503,
     "metadata": {},
     "output_type": "execute_result"
    }
   ],
   "source": [
    "esq_valid[esq_valid['nao_gestante'] == 0]['Resultado'].value_counts()"
   ]
  },
  {
   "cell_type": "markdown",
   "metadata": {},
   "source": [
    "Após análise do fator gestante, é possível notar que um número inexpressivo de pessoas na base de dados são gestantes, e nenhuma delas apresenta veio a óbito. Adicionar tal feature na base pode corroborar com o viés do modelo, por isso optamos por retirar a categoria da base de dados."
   ]
  },
  {
   "cell_type": "code",
   "execution_count": 504,
   "metadata": {},
   "outputs": [],
   "source": [
    "esq_valid = esq_valid.drop(columns=['Gestante', 'nao_gestante','gestante'])"
   ]
  },
  {
   "cell_type": "markdown",
   "metadata": {},
   "source": [
    "#### 2.3.2) Quantidade de ovos de schistossoma encontrados"
   ]
  },
  {
   "cell_type": "markdown",
   "metadata": {},
   "source": [
    "Para o atributo \"Quantidade de Ovos encontrados\", este já está em forma binária, indicando se não foram encontrados ovos da Schistossoma no exame de fezes (0) ou se foram encontrados (1)"
   ]
  },
  {
   "cell_type": "code",
   "execution_count": 505,
   "metadata": {},
   "outputs": [
    {
     "data": {
      "text/plain": [
       "0.0    2690\n",
       "1.0    2453\n",
       "Name: Quantidade ovos encontrados, dtype: int64"
      ]
     },
     "execution_count": 505,
     "metadata": {},
     "output_type": "execute_result"
    }
   ],
   "source": [
    "esq_valid['Quantidade ovos encontrados'].value_counts()"
   ]
  },
  {
   "cell_type": "markdown",
   "metadata": {},
   "source": [
    "#### 2.3.3) Exame qualitativo"
   ]
  },
  {
   "cell_type": "markdown",
   "metadata": {},
   "source": [
    "Já para o atributo \"Resultado exame ovos qualitativo\", que indica o resultado (1=Positivo, 2=Negativo e 3=Não realizado), como são apresentadas mais de duas categorias, será necessário transformar em mais colunas.\n",
    "\n",
    "Além disso, como existem muitos valores nulos na coluna, vamos atribuí-los a uma quarta categoria: Desconhecido"
   ]
  },
  {
   "cell_type": "code",
   "execution_count": 506,
   "metadata": {},
   "outputs": [
    {
     "name": "stdout",
     "output_type": "stream",
     "text": [
      "1.0    2254\n",
      "3.0    1397\n",
      "2.0     402\n",
      "Name: Exame_qualitativo, dtype: int64\n",
      "Valores nulos:  1090\n"
     ]
    }
   ],
   "source": [
    "print(esq_valid['Exame_qualitativo'].value_counts())\n",
    "print(\"Valores nulos: \", esq_valid['Exame_qualitativo'].isna().sum())"
   ]
  },
  {
   "cell_type": "code",
   "execution_count": 507,
   "metadata": {},
   "outputs": [],
   "source": [
    "# Adicionando \"Desconhecido\"\n",
    "esq_valid['Exame_qualitativo'].fillna(\"Desconhecido\", inplace=True)"
   ]
  },
  {
   "cell_type": "code",
   "execution_count": 508,
   "metadata": {},
   "outputs": [],
   "source": [
    "# Definindo valores numéricos como texto\n",
    "esq_valid['Exame_qualitativo'].replace(1, \"Positivo\", inplace=True)\n",
    "esq_valid['Exame_qualitativo'].replace(2, \"Negativo\", inplace=True)\n",
    "esq_valid['Exame_qualitativo'].replace(3, \"Nao_Realizado\", inplace=True)"
   ]
  },
  {
   "cell_type": "code",
   "execution_count": 509,
   "metadata": {},
   "outputs": [],
   "source": [
    "# Criando novas colunas com one-hot-encoding\n",
    "df_onehot = pd.get_dummies(esq_valid['Exame_qualitativo'], prefix='Exame', dtype=int)\n",
    "\n",
    "# Concatenar com o DataFrame original\n",
    "esq_valid = pd.concat([esq_valid, df_onehot], axis=1)\n",
    "\n",
    "# Remover a coluna original\n",
    "esq_valid.drop(columns=['Exame_qualitativo'], inplace=True)"
   ]
  },
  {
   "cell_type": "code",
   "execution_count": 510,
   "metadata": {},
   "outputs": [
    {
     "data": {
      "text/html": [
       "<div>\n",
       "<style scoped>\n",
       "    .dataframe tbody tr th:only-of-type {\n",
       "        vertical-align: middle;\n",
       "    }\n",
       "\n",
       "    .dataframe tbody tr th {\n",
       "        vertical-align: top;\n",
       "    }\n",
       "\n",
       "    .dataframe thead th {\n",
       "        text-align: right;\n",
       "    }\n",
       "</style>\n",
       "<table border=\"1\" class=\"dataframe\">\n",
       "  <thead>\n",
       "    <tr style=\"text-align: right;\">\n",
       "      <th></th>\n",
       "      <th>Quantidade ovos encontrados</th>\n",
       "      <th>Tratamento realizado</th>\n",
       "      <th>Forma clínica</th>\n",
       "      <th>Escolaridade</th>\n",
       "      <th>Sexo</th>\n",
       "      <th>Ano de nascimento</th>\n",
       "      <th>Unidade Federativa</th>\n",
       "      <th>Resultado</th>\n",
       "      <th>Ano_atual</th>\n",
       "      <th>Exame_Desconhecido</th>\n",
       "      <th>Exame_Nao_Realizado</th>\n",
       "      <th>Exame_Negativo</th>\n",
       "      <th>Exame_Positivo</th>\n",
       "    </tr>\n",
       "  </thead>\n",
       "  <tbody>\n",
       "    <tr>\n",
       "      <th>1</th>\n",
       "      <td>1.0</td>\n",
       "      <td>1.0</td>\n",
       "      <td>NaN</td>\n",
       "      <td>NaN</td>\n",
       "      <td>M</td>\n",
       "      <td>1984.0</td>\n",
       "      <td>26.0</td>\n",
       "      <td>1.0</td>\n",
       "      <td>2020</td>\n",
       "      <td>0</td>\n",
       "      <td>0</td>\n",
       "      <td>0</td>\n",
       "      <td>1</td>\n",
       "    </tr>\n",
       "    <tr>\n",
       "      <th>2</th>\n",
       "      <td>0.0</td>\n",
       "      <td>1.0</td>\n",
       "      <td>NaN</td>\n",
       "      <td>1.0</td>\n",
       "      <td>F</td>\n",
       "      <td>1975.0</td>\n",
       "      <td>35.0</td>\n",
       "      <td>1.0</td>\n",
       "      <td>2020</td>\n",
       "      <td>1</td>\n",
       "      <td>0</td>\n",
       "      <td>0</td>\n",
       "      <td>0</td>\n",
       "    </tr>\n",
       "    <tr>\n",
       "      <th>4</th>\n",
       "      <td>0.0</td>\n",
       "      <td>1.0</td>\n",
       "      <td>1.0</td>\n",
       "      <td>9.0</td>\n",
       "      <td>F</td>\n",
       "      <td>2004.0</td>\n",
       "      <td>27.0</td>\n",
       "      <td>1.0</td>\n",
       "      <td>2020</td>\n",
       "      <td>0</td>\n",
       "      <td>0</td>\n",
       "      <td>0</td>\n",
       "      <td>1</td>\n",
       "    </tr>\n",
       "    <tr>\n",
       "      <th>5</th>\n",
       "      <td>0.0</td>\n",
       "      <td>1.0</td>\n",
       "      <td>2.0</td>\n",
       "      <td>3.0</td>\n",
       "      <td>M</td>\n",
       "      <td>1973.0</td>\n",
       "      <td>NaN</td>\n",
       "      <td>1.0</td>\n",
       "      <td>2020</td>\n",
       "      <td>1</td>\n",
       "      <td>0</td>\n",
       "      <td>0</td>\n",
       "      <td>0</td>\n",
       "    </tr>\n",
       "    <tr>\n",
       "      <th>6</th>\n",
       "      <td>1.0</td>\n",
       "      <td>1.0</td>\n",
       "      <td>1.0</td>\n",
       "      <td>9.0</td>\n",
       "      <td>M</td>\n",
       "      <td>1991.0</td>\n",
       "      <td>31.0</td>\n",
       "      <td>1.0</td>\n",
       "      <td>2020</td>\n",
       "      <td>1</td>\n",
       "      <td>0</td>\n",
       "      <td>0</td>\n",
       "      <td>0</td>\n",
       "    </tr>\n",
       "    <tr>\n",
       "      <th>...</th>\n",
       "      <td>...</td>\n",
       "      <td>...</td>\n",
       "      <td>...</td>\n",
       "      <td>...</td>\n",
       "      <td>...</td>\n",
       "      <td>...</td>\n",
       "      <td>...</td>\n",
       "      <td>...</td>\n",
       "      <td>...</td>\n",
       "      <td>...</td>\n",
       "      <td>...</td>\n",
       "      <td>...</td>\n",
       "      <td>...</td>\n",
       "    </tr>\n",
       "    <tr>\n",
       "      <th>3040</th>\n",
       "      <td>1.0</td>\n",
       "      <td>9.0</td>\n",
       "      <td>1.0</td>\n",
       "      <td>9.0</td>\n",
       "      <td>M</td>\n",
       "      <td>2000.0</td>\n",
       "      <td>31.0</td>\n",
       "      <td>1.0</td>\n",
       "      <td>2023</td>\n",
       "      <td>0</td>\n",
       "      <td>1</td>\n",
       "      <td>0</td>\n",
       "      <td>0</td>\n",
       "    </tr>\n",
       "    <tr>\n",
       "      <th>3050</th>\n",
       "      <td>0.0</td>\n",
       "      <td>1.0</td>\n",
       "      <td>NaN</td>\n",
       "      <td>1.0</td>\n",
       "      <td>F</td>\n",
       "      <td>1969.0</td>\n",
       "      <td>31.0</td>\n",
       "      <td>1.0</td>\n",
       "      <td>2023</td>\n",
       "      <td>1</td>\n",
       "      <td>0</td>\n",
       "      <td>0</td>\n",
       "      <td>0</td>\n",
       "    </tr>\n",
       "    <tr>\n",
       "      <th>3052</th>\n",
       "      <td>0.0</td>\n",
       "      <td>1.0</td>\n",
       "      <td>NaN</td>\n",
       "      <td>6.0</td>\n",
       "      <td>M</td>\n",
       "      <td>1991.0</td>\n",
       "      <td>NaN</td>\n",
       "      <td>1.0</td>\n",
       "      <td>2023</td>\n",
       "      <td>0</td>\n",
       "      <td>1</td>\n",
       "      <td>0</td>\n",
       "      <td>0</td>\n",
       "    </tr>\n",
       "    <tr>\n",
       "      <th>3053</th>\n",
       "      <td>0.0</td>\n",
       "      <td>1.0</td>\n",
       "      <td>NaN</td>\n",
       "      <td>8.0</td>\n",
       "      <td>M</td>\n",
       "      <td>1969.0</td>\n",
       "      <td>31.0</td>\n",
       "      <td>1.0</td>\n",
       "      <td>2023</td>\n",
       "      <td>0</td>\n",
       "      <td>0</td>\n",
       "      <td>1</td>\n",
       "      <td>0</td>\n",
       "    </tr>\n",
       "    <tr>\n",
       "      <th>3058</th>\n",
       "      <td>1.0</td>\n",
       "      <td>9.0</td>\n",
       "      <td>1.0</td>\n",
       "      <td>9.0</td>\n",
       "      <td>F</td>\n",
       "      <td>2005.0</td>\n",
       "      <td>31.0</td>\n",
       "      <td>1.0</td>\n",
       "      <td>2023</td>\n",
       "      <td>0</td>\n",
       "      <td>1</td>\n",
       "      <td>0</td>\n",
       "      <td>0</td>\n",
       "    </tr>\n",
       "  </tbody>\n",
       "</table>\n",
       "<p>5143 rows × 13 columns</p>\n",
       "</div>"
      ],
      "text/plain": [
       "      Quantidade ovos encontrados  Tratamento realizado  Forma clínica  \\\n",
       "1                             1.0                   1.0            NaN   \n",
       "2                             0.0                   1.0            NaN   \n",
       "4                             0.0                   1.0            1.0   \n",
       "5                             0.0                   1.0            2.0   \n",
       "6                             1.0                   1.0            1.0   \n",
       "...                           ...                   ...            ...   \n",
       "3040                          1.0                   9.0            1.0   \n",
       "3050                          0.0                   1.0            NaN   \n",
       "3052                          0.0                   1.0            NaN   \n",
       "3053                          0.0                   1.0            NaN   \n",
       "3058                          1.0                   9.0            1.0   \n",
       "\n",
       "      Escolaridade Sexo  Ano de nascimento  Unidade Federativa  Resultado  \\\n",
       "1              NaN    M             1984.0                26.0        1.0   \n",
       "2              1.0    F             1975.0                35.0        1.0   \n",
       "4              9.0    F             2004.0                27.0        1.0   \n",
       "5              3.0    M             1973.0                 NaN        1.0   \n",
       "6              9.0    M             1991.0                31.0        1.0   \n",
       "...            ...  ...                ...                 ...        ...   \n",
       "3040           9.0    M             2000.0                31.0        1.0   \n",
       "3050           1.0    F             1969.0                31.0        1.0   \n",
       "3052           6.0    M             1991.0                 NaN        1.0   \n",
       "3053           8.0    M             1969.0                31.0        1.0   \n",
       "3058           9.0    F             2005.0                31.0        1.0   \n",
       "\n",
       "      Ano_atual  Exame_Desconhecido  Exame_Nao_Realizado  Exame_Negativo  \\\n",
       "1          2020                   0                    0               0   \n",
       "2          2020                   1                    0               0   \n",
       "4          2020                   0                    0               0   \n",
       "5          2020                   1                    0               0   \n",
       "6          2020                   1                    0               0   \n",
       "...         ...                 ...                  ...             ...   \n",
       "3040       2023                   0                    1               0   \n",
       "3050       2023                   1                    0               0   \n",
       "3052       2023                   0                    1               0   \n",
       "3053       2023                   0                    0               1   \n",
       "3058       2023                   0                    1               0   \n",
       "\n",
       "      Exame_Positivo  \n",
       "1                  1  \n",
       "2                  0  \n",
       "4                  1  \n",
       "5                  0  \n",
       "6                  0  \n",
       "...              ...  \n",
       "3040               0  \n",
       "3050               0  \n",
       "3052               0  \n",
       "3053               0  \n",
       "3058               0  \n",
       "\n",
       "[5143 rows x 13 columns]"
      ]
     },
     "execution_count": 510,
     "metadata": {},
     "output_type": "execute_result"
    }
   ],
   "source": [
    "esq_valid"
   ]
  },
  {
   "cell_type": "markdown",
   "metadata": {},
   "source": [
    "#### 2.3.4) Tratamento realizado"
   ]
  },
  {
   "cell_type": "markdown",
   "metadata": {},
   "source": [
    "A categoria apresenta o tratamento que foi realizado pelo paciente no combate à doença, sendo 1=  Sim  –  Praziquantel,  2=  Sim,  Oxaminiquine,  3=  Não  ou  9=  Ignorado"
   ]
  },
  {
   "cell_type": "code",
   "execution_count": 511,
   "metadata": {},
   "outputs": [
    {
     "name": "stdout",
     "output_type": "stream",
     "text": [
      "1.0    4216\n",
      "3.0     541\n",
      "9.0     365\n",
      "2.0      21\n",
      "Name: Tratamento realizado, dtype: int64\n",
      "Valores nulos:  0\n"
     ]
    }
   ],
   "source": [
    "print(esq_valid['Tratamento realizado'].value_counts())\n",
    "print(\"Valores nulos: \", esq_valid['Tratamento realizado'].isna().sum())"
   ]
  },
  {
   "cell_type": "markdown",
   "metadata": {},
   "source": [
    "Como não existem valores nulos, podemos apenas atribuir a cada valor numérico a string relativa ao output:"
   ]
  },
  {
   "cell_type": "code",
   "execution_count": 512,
   "metadata": {},
   "outputs": [],
   "source": [
    "# Substituição dos valores numéricos por rótulos claros\n",
    "esq_valid['Tratamento realizado'].replace(\n",
    "    {\n",
    "        1: \"Sim_Praziquantel\",\n",
    "        2: \"Sim_Oxaminiquine\", \n",
    "        3: \"Nao\",\n",
    "        9: \"Ignorado\"\n",
    "    }, \n",
    "    inplace=True\n",
    ")"
   ]
  },
  {
   "cell_type": "code",
   "execution_count": 513,
   "metadata": {},
   "outputs": [],
   "source": [
    "# Criar colunas one-hot para cada categoria\n",
    "df_onehot = pd.get_dummies(\n",
    "    esq_valid['Tratamento realizado'], \n",
    "    prefix='Tratamento', \n",
    "    dtype=int\n",
    ")\n",
    "\n",
    "# Concatenar com o DataFrame original\n",
    "esq_valid = pd.concat([esq_valid, df_onehot], axis=1)\n",
    "\n",
    "# Remover a coluna original (opcional)\n",
    "esq_valid.drop(columns=['Tratamento realizado'], inplace=True)"
   ]
  },
  {
   "cell_type": "code",
   "execution_count": 514,
   "metadata": {},
   "outputs": [
    {
     "data": {
      "text/html": [
       "<div>\n",
       "<style scoped>\n",
       "    .dataframe tbody tr th:only-of-type {\n",
       "        vertical-align: middle;\n",
       "    }\n",
       "\n",
       "    .dataframe tbody tr th {\n",
       "        vertical-align: top;\n",
       "    }\n",
       "\n",
       "    .dataframe thead th {\n",
       "        text-align: right;\n",
       "    }\n",
       "</style>\n",
       "<table border=\"1\" class=\"dataframe\">\n",
       "  <thead>\n",
       "    <tr style=\"text-align: right;\">\n",
       "      <th></th>\n",
       "      <th>Quantidade ovos encontrados</th>\n",
       "      <th>Forma clínica</th>\n",
       "      <th>Escolaridade</th>\n",
       "      <th>Sexo</th>\n",
       "      <th>Ano de nascimento</th>\n",
       "      <th>Unidade Federativa</th>\n",
       "      <th>Resultado</th>\n",
       "      <th>Ano_atual</th>\n",
       "      <th>Exame_Desconhecido</th>\n",
       "      <th>Exame_Nao_Realizado</th>\n",
       "      <th>Exame_Negativo</th>\n",
       "      <th>Exame_Positivo</th>\n",
       "      <th>Tratamento_Ignorado</th>\n",
       "      <th>Tratamento_Nao</th>\n",
       "      <th>Tratamento_Sim_Oxaminiquine</th>\n",
       "      <th>Tratamento_Sim_Praziquantel</th>\n",
       "    </tr>\n",
       "  </thead>\n",
       "  <tbody>\n",
       "    <tr>\n",
       "      <th>1</th>\n",
       "      <td>1.0</td>\n",
       "      <td>NaN</td>\n",
       "      <td>NaN</td>\n",
       "      <td>M</td>\n",
       "      <td>1984.0</td>\n",
       "      <td>26.0</td>\n",
       "      <td>1.0</td>\n",
       "      <td>2020</td>\n",
       "      <td>0</td>\n",
       "      <td>0</td>\n",
       "      <td>0</td>\n",
       "      <td>1</td>\n",
       "      <td>0</td>\n",
       "      <td>0</td>\n",
       "      <td>0</td>\n",
       "      <td>1</td>\n",
       "    </tr>\n",
       "    <tr>\n",
       "      <th>2</th>\n",
       "      <td>0.0</td>\n",
       "      <td>NaN</td>\n",
       "      <td>1.0</td>\n",
       "      <td>F</td>\n",
       "      <td>1975.0</td>\n",
       "      <td>35.0</td>\n",
       "      <td>1.0</td>\n",
       "      <td>2020</td>\n",
       "      <td>1</td>\n",
       "      <td>0</td>\n",
       "      <td>0</td>\n",
       "      <td>0</td>\n",
       "      <td>0</td>\n",
       "      <td>0</td>\n",
       "      <td>0</td>\n",
       "      <td>1</td>\n",
       "    </tr>\n",
       "    <tr>\n",
       "      <th>4</th>\n",
       "      <td>0.0</td>\n",
       "      <td>1.0</td>\n",
       "      <td>9.0</td>\n",
       "      <td>F</td>\n",
       "      <td>2004.0</td>\n",
       "      <td>27.0</td>\n",
       "      <td>1.0</td>\n",
       "      <td>2020</td>\n",
       "      <td>0</td>\n",
       "      <td>0</td>\n",
       "      <td>0</td>\n",
       "      <td>1</td>\n",
       "      <td>0</td>\n",
       "      <td>0</td>\n",
       "      <td>0</td>\n",
       "      <td>1</td>\n",
       "    </tr>\n",
       "    <tr>\n",
       "      <th>5</th>\n",
       "      <td>0.0</td>\n",
       "      <td>2.0</td>\n",
       "      <td>3.0</td>\n",
       "      <td>M</td>\n",
       "      <td>1973.0</td>\n",
       "      <td>NaN</td>\n",
       "      <td>1.0</td>\n",
       "      <td>2020</td>\n",
       "      <td>1</td>\n",
       "      <td>0</td>\n",
       "      <td>0</td>\n",
       "      <td>0</td>\n",
       "      <td>0</td>\n",
       "      <td>0</td>\n",
       "      <td>0</td>\n",
       "      <td>1</td>\n",
       "    </tr>\n",
       "    <tr>\n",
       "      <th>6</th>\n",
       "      <td>1.0</td>\n",
       "      <td>1.0</td>\n",
       "      <td>9.0</td>\n",
       "      <td>M</td>\n",
       "      <td>1991.0</td>\n",
       "      <td>31.0</td>\n",
       "      <td>1.0</td>\n",
       "      <td>2020</td>\n",
       "      <td>1</td>\n",
       "      <td>0</td>\n",
       "      <td>0</td>\n",
       "      <td>0</td>\n",
       "      <td>0</td>\n",
       "      <td>0</td>\n",
       "      <td>0</td>\n",
       "      <td>1</td>\n",
       "    </tr>\n",
       "    <tr>\n",
       "      <th>...</th>\n",
       "      <td>...</td>\n",
       "      <td>...</td>\n",
       "      <td>...</td>\n",
       "      <td>...</td>\n",
       "      <td>...</td>\n",
       "      <td>...</td>\n",
       "      <td>...</td>\n",
       "      <td>...</td>\n",
       "      <td>...</td>\n",
       "      <td>...</td>\n",
       "      <td>...</td>\n",
       "      <td>...</td>\n",
       "      <td>...</td>\n",
       "      <td>...</td>\n",
       "      <td>...</td>\n",
       "      <td>...</td>\n",
       "    </tr>\n",
       "    <tr>\n",
       "      <th>3040</th>\n",
       "      <td>1.0</td>\n",
       "      <td>1.0</td>\n",
       "      <td>9.0</td>\n",
       "      <td>M</td>\n",
       "      <td>2000.0</td>\n",
       "      <td>31.0</td>\n",
       "      <td>1.0</td>\n",
       "      <td>2023</td>\n",
       "      <td>0</td>\n",
       "      <td>1</td>\n",
       "      <td>0</td>\n",
       "      <td>0</td>\n",
       "      <td>1</td>\n",
       "      <td>0</td>\n",
       "      <td>0</td>\n",
       "      <td>0</td>\n",
       "    </tr>\n",
       "    <tr>\n",
       "      <th>3050</th>\n",
       "      <td>0.0</td>\n",
       "      <td>NaN</td>\n",
       "      <td>1.0</td>\n",
       "      <td>F</td>\n",
       "      <td>1969.0</td>\n",
       "      <td>31.0</td>\n",
       "      <td>1.0</td>\n",
       "      <td>2023</td>\n",
       "      <td>1</td>\n",
       "      <td>0</td>\n",
       "      <td>0</td>\n",
       "      <td>0</td>\n",
       "      <td>0</td>\n",
       "      <td>0</td>\n",
       "      <td>0</td>\n",
       "      <td>1</td>\n",
       "    </tr>\n",
       "    <tr>\n",
       "      <th>3052</th>\n",
       "      <td>0.0</td>\n",
       "      <td>NaN</td>\n",
       "      <td>6.0</td>\n",
       "      <td>M</td>\n",
       "      <td>1991.0</td>\n",
       "      <td>NaN</td>\n",
       "      <td>1.0</td>\n",
       "      <td>2023</td>\n",
       "      <td>0</td>\n",
       "      <td>1</td>\n",
       "      <td>0</td>\n",
       "      <td>0</td>\n",
       "      <td>0</td>\n",
       "      <td>0</td>\n",
       "      <td>0</td>\n",
       "      <td>1</td>\n",
       "    </tr>\n",
       "    <tr>\n",
       "      <th>3053</th>\n",
       "      <td>0.0</td>\n",
       "      <td>NaN</td>\n",
       "      <td>8.0</td>\n",
       "      <td>M</td>\n",
       "      <td>1969.0</td>\n",
       "      <td>31.0</td>\n",
       "      <td>1.0</td>\n",
       "      <td>2023</td>\n",
       "      <td>0</td>\n",
       "      <td>0</td>\n",
       "      <td>1</td>\n",
       "      <td>0</td>\n",
       "      <td>0</td>\n",
       "      <td>0</td>\n",
       "      <td>0</td>\n",
       "      <td>1</td>\n",
       "    </tr>\n",
       "    <tr>\n",
       "      <th>3058</th>\n",
       "      <td>1.0</td>\n",
       "      <td>1.0</td>\n",
       "      <td>9.0</td>\n",
       "      <td>F</td>\n",
       "      <td>2005.0</td>\n",
       "      <td>31.0</td>\n",
       "      <td>1.0</td>\n",
       "      <td>2023</td>\n",
       "      <td>0</td>\n",
       "      <td>1</td>\n",
       "      <td>0</td>\n",
       "      <td>0</td>\n",
       "      <td>1</td>\n",
       "      <td>0</td>\n",
       "      <td>0</td>\n",
       "      <td>0</td>\n",
       "    </tr>\n",
       "  </tbody>\n",
       "</table>\n",
       "<p>5143 rows × 16 columns</p>\n",
       "</div>"
      ],
      "text/plain": [
       "      Quantidade ovos encontrados  Forma clínica  Escolaridade Sexo  \\\n",
       "1                             1.0            NaN           NaN    M   \n",
       "2                             0.0            NaN           1.0    F   \n",
       "4                             0.0            1.0           9.0    F   \n",
       "5                             0.0            2.0           3.0    M   \n",
       "6                             1.0            1.0           9.0    M   \n",
       "...                           ...            ...           ...  ...   \n",
       "3040                          1.0            1.0           9.0    M   \n",
       "3050                          0.0            NaN           1.0    F   \n",
       "3052                          0.0            NaN           6.0    M   \n",
       "3053                          0.0            NaN           8.0    M   \n",
       "3058                          1.0            1.0           9.0    F   \n",
       "\n",
       "      Ano de nascimento  Unidade Federativa  Resultado  Ano_atual  \\\n",
       "1                1984.0                26.0        1.0       2020   \n",
       "2                1975.0                35.0        1.0       2020   \n",
       "4                2004.0                27.0        1.0       2020   \n",
       "5                1973.0                 NaN        1.0       2020   \n",
       "6                1991.0                31.0        1.0       2020   \n",
       "...                 ...                 ...        ...        ...   \n",
       "3040             2000.0                31.0        1.0       2023   \n",
       "3050             1969.0                31.0        1.0       2023   \n",
       "3052             1991.0                 NaN        1.0       2023   \n",
       "3053             1969.0                31.0        1.0       2023   \n",
       "3058             2005.0                31.0        1.0       2023   \n",
       "\n",
       "      Exame_Desconhecido  Exame_Nao_Realizado  Exame_Negativo  Exame_Positivo  \\\n",
       "1                      0                    0               0               1   \n",
       "2                      1                    0               0               0   \n",
       "4                      0                    0               0               1   \n",
       "5                      1                    0               0               0   \n",
       "6                      1                    0               0               0   \n",
       "...                  ...                  ...             ...             ...   \n",
       "3040                   0                    1               0               0   \n",
       "3050                   1                    0               0               0   \n",
       "3052                   0                    1               0               0   \n",
       "3053                   0                    0               1               0   \n",
       "3058                   0                    1               0               0   \n",
       "\n",
       "      Tratamento_Ignorado  Tratamento_Nao  Tratamento_Sim_Oxaminiquine  \\\n",
       "1                       0               0                            0   \n",
       "2                       0               0                            0   \n",
       "4                       0               0                            0   \n",
       "5                       0               0                            0   \n",
       "6                       0               0                            0   \n",
       "...                   ...             ...                          ...   \n",
       "3040                    1               0                            0   \n",
       "3050                    0               0                            0   \n",
       "3052                    0               0                            0   \n",
       "3053                    0               0                            0   \n",
       "3058                    1               0                            0   \n",
       "\n",
       "      Tratamento_Sim_Praziquantel  \n",
       "1                               1  \n",
       "2                               1  \n",
       "4                               1  \n",
       "5                               1  \n",
       "6                               1  \n",
       "...                           ...  \n",
       "3040                            0  \n",
       "3050                            1  \n",
       "3052                            1  \n",
       "3053                            1  \n",
       "3058                            0  \n",
       "\n",
       "[5143 rows x 16 columns]"
      ]
     },
     "execution_count": 514,
     "metadata": {},
     "output_type": "execute_result"
    }
   ],
   "source": [
    "esq_valid"
   ]
  },
  {
   "cell_type": "markdown",
   "metadata": {},
   "source": [
    "#### 2.3.5) Forma clínica avaliada"
   ]
  },
  {
   "cell_type": "code",
   "execution_count": 515,
   "metadata": {},
   "outputs": [
    {
     "name": "stdout",
     "output_type": "stream",
     "text": [
      "1.0    2677\n",
      "5.0     334\n",
      "3.0     263\n",
      "2.0     249\n",
      "4.0     186\n",
      "Name: Forma clínica, dtype: int64\n",
      "Valores nulos:  1434\n"
     ]
    }
   ],
   "source": [
    "print(esq_valid['Forma clínica'].value_counts())\n",
    "print(\"Valores nulos: \", esq_valid['Forma clínica'].isna().sum())"
   ]
  },
  {
   "cell_type": "code",
   "execution_count": 516,
   "metadata": {},
   "outputs": [],
   "source": [
    "# Substituindo valores nulos para \"Nao_especificado\"\n",
    "esq_valid['Forma clínica'].fillna(\"Nao_especificado\", inplace=True)"
   ]
  },
  {
   "cell_type": "code",
   "execution_count": 517,
   "metadata": {},
   "outputs": [],
   "source": [
    "# Dicionário de mapeamento dos valores\n",
    "mapeamento_forma = {\n",
    "    1: \"Intestinal\",\n",
    "    2: \"Hepato_Intestinal\",\n",
    "    3: \"Hepato_Esplenica\",\n",
    "    4: \"Aguda\",\n",
    "    5: \"Outra\"\n",
    "}\n",
    "\n",
    "# Substituição inplace\n",
    "esq_valid['Forma clínica'].replace(mapeamento_forma, inplace=True)"
   ]
  },
  {
   "cell_type": "code",
   "execution_count": 518,
   "metadata": {},
   "outputs": [],
   "source": [
    "# Criando colunas one-hot\n",
    "df_onehot = pd.get_dummies(\n",
    "    esq_valid['Forma clínica'],\n",
    "    prefix='Forma',     \n",
    "    dtype=int          \n",
    ")\n",
    "\n",
    "# Concatenar com o DataFrame original\n",
    "esq_valid = pd.concat([esq_valid, df_onehot], axis=1)\n",
    "\n",
    "# Remover a coluna original (opcional)\n",
    "esq_valid.drop(columns=['Forma clínica'], inplace=True)"
   ]
  },
  {
   "cell_type": "markdown",
   "metadata": {},
   "source": [
    "#### 2.3.6) Escolaridade"
   ]
  },
  {
   "cell_type": "code",
   "execution_count": 519,
   "metadata": {},
   "outputs": [
    {
     "name": "stdout",
     "output_type": "stream",
     "text": [
      "9.0     1082\n",
      "6.0      793\n",
      "1.0      578\n",
      "3.0      514\n",
      "5.0      344\n",
      "2.0      339\n",
      "4.0      329\n",
      "8.0      198\n",
      "0.0      151\n",
      "10.0     147\n",
      "7.0       76\n",
      "Name: Escolaridade, dtype: int64\n",
      "Valores nulos:  592\n"
     ]
    }
   ],
   "source": [
    "print(esq_valid['Escolaridade'].value_counts())\n",
    "print(\"Valores nulos: \", esq_valid['Escolaridade'].isna().sum())"
   ]
  },
  {
   "cell_type": "markdown",
   "metadata": {},
   "source": [
    "Como o campo escolaridade apresenta uma cardinalidade lógica, ou seja, o 1 = 1º a 4º série incompleta e 8 = Educação superior completa, podemos considerá-lo como um atributo numérico, e não é necessário realizar o One-Hot-Encoding.\n",
    "\n",
    "Porém, como os atributos 9 = Ignorado e 10 = Não se aplica, transformaremos-os em 0 para garantir que não sejam considerados com uma cardinalidade maior que a Educação superior completa."
   ]
  },
  {
   "cell_type": "code",
   "execution_count": 520,
   "metadata": {},
   "outputs": [],
   "source": [
    "esq_valid['Escolaridade'].fillna(0, inplace=True)\n",
    "esq_valid['Escolaridade'].replace(9, 0, inplace=True)\n",
    "esq_valid['Escolaridade'].replace(10, 0, inplace=True)"
   ]
  },
  {
   "cell_type": "markdown",
   "metadata": {},
   "source": [
    "#### 2.3.7) Sexo"
   ]
  },
  {
   "cell_type": "code",
   "execution_count": 521,
   "metadata": {},
   "outputs": [
    {
     "data": {
      "text/plain": [
       "M    3066\n",
       "F    2075\n",
       "I       2\n",
       "Name: Sexo, dtype: int64"
      ]
     },
     "execution_count": 521,
     "metadata": {},
     "output_type": "execute_result"
    }
   ],
   "source": [
    "esq_valid['Sexo'].value_counts()"
   ]
  },
  {
   "cell_type": "markdown",
   "metadata": {},
   "source": [
    "Como temos apenas dois valores \"Ignorado\", podemos desconsiderá-los:"
   ]
  },
  {
   "cell_type": "code",
   "execution_count": 522,
   "metadata": {},
   "outputs": [],
   "source": [
    "esq_valid['Sexo'].drop(esq_valid[esq_valid['Sexo'] == \"I\"].index, inplace=True)"
   ]
  },
  {
   "cell_type": "code",
   "execution_count": 523,
   "metadata": {},
   "outputs": [],
   "source": [
    "esq_valid['Sexo'].replace(\"M\", 0, inplace=True)\n",
    "esq_valid['Sexo'].replace(\"F\", 1, inplace=True)"
   ]
  },
  {
   "cell_type": "markdown",
   "metadata": {},
   "source": [
    "#### 2.3.8) Ano de Nascimento"
   ]
  },
  {
   "cell_type": "markdown",
   "metadata": {},
   "source": [
    "Primeiramente, precisamos extrair a idade de cada paciente conforme o ano de nascimento. \n",
    "\n",
    "Como foram concatenados datasets de 4 anos diferentes, usaremos a coluna \"Ano_atual\" a fim de calcular a idade correta de cada paciente:"
   ]
  },
  {
   "cell_type": "code",
   "execution_count": 525,
   "metadata": {},
   "outputs": [],
   "source": [
    "esq_valid['Idade'] = esq_valid['Ano_atual'] - esq_valid['Ano de nascimento']"
   ]
  },
  {
   "cell_type": "code",
   "execution_count": 526,
   "metadata": {},
   "outputs": [],
   "source": [
    "esq_valid.drop(columns=['Ano de nascimento', 'Ano_atual'], inplace=True)"
   ]
  },
  {
   "cell_type": "code",
   "execution_count": 527,
   "metadata": {},
   "outputs": [
    {
     "data": {
      "text/html": [
       "<div>\n",
       "<style scoped>\n",
       "    .dataframe tbody tr th:only-of-type {\n",
       "        vertical-align: middle;\n",
       "    }\n",
       "\n",
       "    .dataframe tbody tr th {\n",
       "        vertical-align: top;\n",
       "    }\n",
       "\n",
       "    .dataframe thead th {\n",
       "        text-align: right;\n",
       "    }\n",
       "</style>\n",
       "<table border=\"1\" class=\"dataframe\">\n",
       "  <thead>\n",
       "    <tr style=\"text-align: right;\">\n",
       "      <th></th>\n",
       "      <th>Quantidade ovos encontrados</th>\n",
       "      <th>Escolaridade</th>\n",
       "      <th>Sexo</th>\n",
       "      <th>Unidade Federativa</th>\n",
       "      <th>Resultado</th>\n",
       "      <th>Exame_Desconhecido</th>\n",
       "      <th>Exame_Nao_Realizado</th>\n",
       "      <th>Exame_Negativo</th>\n",
       "      <th>Exame_Positivo</th>\n",
       "      <th>Tratamento_Ignorado</th>\n",
       "      <th>Tratamento_Nao</th>\n",
       "      <th>Tratamento_Sim_Oxaminiquine</th>\n",
       "      <th>Tratamento_Sim_Praziquantel</th>\n",
       "      <th>Forma_Aguda</th>\n",
       "      <th>Forma_Hepato_Esplenica</th>\n",
       "      <th>Forma_Hepato_Intestinal</th>\n",
       "      <th>Forma_Intestinal</th>\n",
       "      <th>Forma_Nao_especificado</th>\n",
       "      <th>Forma_Outra</th>\n",
       "      <th>Idade</th>\n",
       "    </tr>\n",
       "  </thead>\n",
       "  <tbody>\n",
       "    <tr>\n",
       "      <th>1</th>\n",
       "      <td>1.0</td>\n",
       "      <td>0.0</td>\n",
       "      <td>0</td>\n",
       "      <td>26.0</td>\n",
       "      <td>1.0</td>\n",
       "      <td>0</td>\n",
       "      <td>0</td>\n",
       "      <td>0</td>\n",
       "      <td>1</td>\n",
       "      <td>0</td>\n",
       "      <td>0</td>\n",
       "      <td>0</td>\n",
       "      <td>1</td>\n",
       "      <td>0</td>\n",
       "      <td>0</td>\n",
       "      <td>0</td>\n",
       "      <td>0</td>\n",
       "      <td>1</td>\n",
       "      <td>0</td>\n",
       "      <td>36.0</td>\n",
       "    </tr>\n",
       "    <tr>\n",
       "      <th>2</th>\n",
       "      <td>0.0</td>\n",
       "      <td>1.0</td>\n",
       "      <td>1</td>\n",
       "      <td>35.0</td>\n",
       "      <td>1.0</td>\n",
       "      <td>1</td>\n",
       "      <td>0</td>\n",
       "      <td>0</td>\n",
       "      <td>0</td>\n",
       "      <td>0</td>\n",
       "      <td>0</td>\n",
       "      <td>0</td>\n",
       "      <td>1</td>\n",
       "      <td>0</td>\n",
       "      <td>0</td>\n",
       "      <td>0</td>\n",
       "      <td>0</td>\n",
       "      <td>1</td>\n",
       "      <td>0</td>\n",
       "      <td>45.0</td>\n",
       "    </tr>\n",
       "    <tr>\n",
       "      <th>4</th>\n",
       "      <td>0.0</td>\n",
       "      <td>0.0</td>\n",
       "      <td>1</td>\n",
       "      <td>27.0</td>\n",
       "      <td>1.0</td>\n",
       "      <td>0</td>\n",
       "      <td>0</td>\n",
       "      <td>0</td>\n",
       "      <td>1</td>\n",
       "      <td>0</td>\n",
       "      <td>0</td>\n",
       "      <td>0</td>\n",
       "      <td>1</td>\n",
       "      <td>0</td>\n",
       "      <td>0</td>\n",
       "      <td>0</td>\n",
       "      <td>1</td>\n",
       "      <td>0</td>\n",
       "      <td>0</td>\n",
       "      <td>16.0</td>\n",
       "    </tr>\n",
       "    <tr>\n",
       "      <th>5</th>\n",
       "      <td>0.0</td>\n",
       "      <td>3.0</td>\n",
       "      <td>0</td>\n",
       "      <td>NaN</td>\n",
       "      <td>1.0</td>\n",
       "      <td>1</td>\n",
       "      <td>0</td>\n",
       "      <td>0</td>\n",
       "      <td>0</td>\n",
       "      <td>0</td>\n",
       "      <td>0</td>\n",
       "      <td>0</td>\n",
       "      <td>1</td>\n",
       "      <td>0</td>\n",
       "      <td>0</td>\n",
       "      <td>1</td>\n",
       "      <td>0</td>\n",
       "      <td>0</td>\n",
       "      <td>0</td>\n",
       "      <td>47.0</td>\n",
       "    </tr>\n",
       "    <tr>\n",
       "      <th>6</th>\n",
       "      <td>1.0</td>\n",
       "      <td>0.0</td>\n",
       "      <td>0</td>\n",
       "      <td>31.0</td>\n",
       "      <td>1.0</td>\n",
       "      <td>1</td>\n",
       "      <td>0</td>\n",
       "      <td>0</td>\n",
       "      <td>0</td>\n",
       "      <td>0</td>\n",
       "      <td>0</td>\n",
       "      <td>0</td>\n",
       "      <td>1</td>\n",
       "      <td>0</td>\n",
       "      <td>0</td>\n",
       "      <td>0</td>\n",
       "      <td>1</td>\n",
       "      <td>0</td>\n",
       "      <td>0</td>\n",
       "      <td>29.0</td>\n",
       "    </tr>\n",
       "    <tr>\n",
       "      <th>...</th>\n",
       "      <td>...</td>\n",
       "      <td>...</td>\n",
       "      <td>...</td>\n",
       "      <td>...</td>\n",
       "      <td>...</td>\n",
       "      <td>...</td>\n",
       "      <td>...</td>\n",
       "      <td>...</td>\n",
       "      <td>...</td>\n",
       "      <td>...</td>\n",
       "      <td>...</td>\n",
       "      <td>...</td>\n",
       "      <td>...</td>\n",
       "      <td>...</td>\n",
       "      <td>...</td>\n",
       "      <td>...</td>\n",
       "      <td>...</td>\n",
       "      <td>...</td>\n",
       "      <td>...</td>\n",
       "      <td>...</td>\n",
       "    </tr>\n",
       "    <tr>\n",
       "      <th>3040</th>\n",
       "      <td>1.0</td>\n",
       "      <td>0.0</td>\n",
       "      <td>0</td>\n",
       "      <td>31.0</td>\n",
       "      <td>1.0</td>\n",
       "      <td>0</td>\n",
       "      <td>1</td>\n",
       "      <td>0</td>\n",
       "      <td>0</td>\n",
       "      <td>1</td>\n",
       "      <td>0</td>\n",
       "      <td>0</td>\n",
       "      <td>0</td>\n",
       "      <td>0</td>\n",
       "      <td>0</td>\n",
       "      <td>0</td>\n",
       "      <td>1</td>\n",
       "      <td>0</td>\n",
       "      <td>0</td>\n",
       "      <td>23.0</td>\n",
       "    </tr>\n",
       "    <tr>\n",
       "      <th>3050</th>\n",
       "      <td>0.0</td>\n",
       "      <td>1.0</td>\n",
       "      <td>1</td>\n",
       "      <td>31.0</td>\n",
       "      <td>1.0</td>\n",
       "      <td>1</td>\n",
       "      <td>0</td>\n",
       "      <td>0</td>\n",
       "      <td>0</td>\n",
       "      <td>0</td>\n",
       "      <td>0</td>\n",
       "      <td>0</td>\n",
       "      <td>1</td>\n",
       "      <td>0</td>\n",
       "      <td>0</td>\n",
       "      <td>0</td>\n",
       "      <td>0</td>\n",
       "      <td>1</td>\n",
       "      <td>0</td>\n",
       "      <td>54.0</td>\n",
       "    </tr>\n",
       "    <tr>\n",
       "      <th>3052</th>\n",
       "      <td>0.0</td>\n",
       "      <td>6.0</td>\n",
       "      <td>0</td>\n",
       "      <td>NaN</td>\n",
       "      <td>1.0</td>\n",
       "      <td>0</td>\n",
       "      <td>1</td>\n",
       "      <td>0</td>\n",
       "      <td>0</td>\n",
       "      <td>0</td>\n",
       "      <td>0</td>\n",
       "      <td>0</td>\n",
       "      <td>1</td>\n",
       "      <td>0</td>\n",
       "      <td>0</td>\n",
       "      <td>0</td>\n",
       "      <td>0</td>\n",
       "      <td>1</td>\n",
       "      <td>0</td>\n",
       "      <td>32.0</td>\n",
       "    </tr>\n",
       "    <tr>\n",
       "      <th>3053</th>\n",
       "      <td>0.0</td>\n",
       "      <td>8.0</td>\n",
       "      <td>0</td>\n",
       "      <td>31.0</td>\n",
       "      <td>1.0</td>\n",
       "      <td>0</td>\n",
       "      <td>0</td>\n",
       "      <td>1</td>\n",
       "      <td>0</td>\n",
       "      <td>0</td>\n",
       "      <td>0</td>\n",
       "      <td>0</td>\n",
       "      <td>1</td>\n",
       "      <td>0</td>\n",
       "      <td>0</td>\n",
       "      <td>0</td>\n",
       "      <td>0</td>\n",
       "      <td>1</td>\n",
       "      <td>0</td>\n",
       "      <td>54.0</td>\n",
       "    </tr>\n",
       "    <tr>\n",
       "      <th>3058</th>\n",
       "      <td>1.0</td>\n",
       "      <td>0.0</td>\n",
       "      <td>1</td>\n",
       "      <td>31.0</td>\n",
       "      <td>1.0</td>\n",
       "      <td>0</td>\n",
       "      <td>1</td>\n",
       "      <td>0</td>\n",
       "      <td>0</td>\n",
       "      <td>1</td>\n",
       "      <td>0</td>\n",
       "      <td>0</td>\n",
       "      <td>0</td>\n",
       "      <td>0</td>\n",
       "      <td>0</td>\n",
       "      <td>0</td>\n",
       "      <td>1</td>\n",
       "      <td>0</td>\n",
       "      <td>0</td>\n",
       "      <td>18.0</td>\n",
       "    </tr>\n",
       "  </tbody>\n",
       "</table>\n",
       "<p>5143 rows × 20 columns</p>\n",
       "</div>"
      ],
      "text/plain": [
       "      Quantidade ovos encontrados  Escolaridade Sexo  Unidade Federativa  \\\n",
       "1                             1.0           0.0    0                26.0   \n",
       "2                             0.0           1.0    1                35.0   \n",
       "4                             0.0           0.0    1                27.0   \n",
       "5                             0.0           3.0    0                 NaN   \n",
       "6                             1.0           0.0    0                31.0   \n",
       "...                           ...           ...  ...                 ...   \n",
       "3040                          1.0           0.0    0                31.0   \n",
       "3050                          0.0           1.0    1                31.0   \n",
       "3052                          0.0           6.0    0                 NaN   \n",
       "3053                          0.0           8.0    0                31.0   \n",
       "3058                          1.0           0.0    1                31.0   \n",
       "\n",
       "      Resultado  Exame_Desconhecido  Exame_Nao_Realizado  Exame_Negativo  \\\n",
       "1           1.0                   0                    0               0   \n",
       "2           1.0                   1                    0               0   \n",
       "4           1.0                   0                    0               0   \n",
       "5           1.0                   1                    0               0   \n",
       "6           1.0                   1                    0               0   \n",
       "...         ...                 ...                  ...             ...   \n",
       "3040        1.0                   0                    1               0   \n",
       "3050        1.0                   1                    0               0   \n",
       "3052        1.0                   0                    1               0   \n",
       "3053        1.0                   0                    0               1   \n",
       "3058        1.0                   0                    1               0   \n",
       "\n",
       "      Exame_Positivo  Tratamento_Ignorado  Tratamento_Nao  \\\n",
       "1                  1                    0               0   \n",
       "2                  0                    0               0   \n",
       "4                  1                    0               0   \n",
       "5                  0                    0               0   \n",
       "6                  0                    0               0   \n",
       "...              ...                  ...             ...   \n",
       "3040               0                    1               0   \n",
       "3050               0                    0               0   \n",
       "3052               0                    0               0   \n",
       "3053               0                    0               0   \n",
       "3058               0                    1               0   \n",
       "\n",
       "      Tratamento_Sim_Oxaminiquine  Tratamento_Sim_Praziquantel  Forma_Aguda  \\\n",
       "1                               0                            1            0   \n",
       "2                               0                            1            0   \n",
       "4                               0                            1            0   \n",
       "5                               0                            1            0   \n",
       "6                               0                            1            0   \n",
       "...                           ...                          ...          ...   \n",
       "3040                            0                            0            0   \n",
       "3050                            0                            1            0   \n",
       "3052                            0                            1            0   \n",
       "3053                            0                            1            0   \n",
       "3058                            0                            0            0   \n",
       "\n",
       "      Forma_Hepato_Esplenica  Forma_Hepato_Intestinal  Forma_Intestinal  \\\n",
       "1                          0                        0                 0   \n",
       "2                          0                        0                 0   \n",
       "4                          0                        0                 1   \n",
       "5                          0                        1                 0   \n",
       "6                          0                        0                 1   \n",
       "...                      ...                      ...               ...   \n",
       "3040                       0                        0                 1   \n",
       "3050                       0                        0                 0   \n",
       "3052                       0                        0                 0   \n",
       "3053                       0                        0                 0   \n",
       "3058                       0                        0                 1   \n",
       "\n",
       "      Forma_Nao_especificado  Forma_Outra  Idade  \n",
       "1                          1            0   36.0  \n",
       "2                          1            0   45.0  \n",
       "4                          0            0   16.0  \n",
       "5                          0            0   47.0  \n",
       "6                          0            0   29.0  \n",
       "...                      ...          ...    ...  \n",
       "3040                       0            0   23.0  \n",
       "3050                       1            0   54.0  \n",
       "3052                       1            0   32.0  \n",
       "3053                       1            0   54.0  \n",
       "3058                       0            0   18.0  \n",
       "\n",
       "[5143 rows x 20 columns]"
      ]
     },
     "execution_count": 527,
     "metadata": {},
     "output_type": "execute_result"
    }
   ],
   "source": [
    "esq_valid"
   ]
  },
  {
   "cell_type": "markdown",
   "metadata": {},
   "source": [
    "#### 2.3.9) Unidade Federativa"
   ]
  },
  {
   "cell_type": "markdown",
   "metadata": {},
   "source": [
    "Para a utilização da unidade federativa, a escolha realizada pelo grupo foi dividir por regiões ao invés de por estados, reduzindo a complexidade total do modelo. \n",
    "\n",
    "Para isso, é necessário identificar cada estado e atribuí-lo à região correspondente. "
   ]
  },
  {
   "cell_type": "markdown",
   "metadata": {},
   "source": []
  }
 ],
 "metadata": {
  "kernelspec": {
   "display_name": "Python 3",
   "language": "python",
   "name": "python3"
  },
  "language_info": {
   "codemirror_mode": {
    "name": "ipython",
    "version": 3
   },
   "file_extension": ".py",
   "mimetype": "text/x-python",
   "name": "python",
   "nbconvert_exporter": "python",
   "pygments_lexer": "ipython3",
   "version": "3.10.12"
  }
 },
 "nbformat": 4,
 "nbformat_minor": 2
}
