{
 "cells": [
  {
   "cell_type": "markdown",
   "metadata": {},
   "source": [
    "# Trabalho 1 - MC853B"
   ]
  },
  {
   "cell_type": "markdown",
   "metadata": {},
   "source": [
    "**Alunos:** \n",
    "\n",
    "Lucca Miranda Nunes - XXXX\n",
    "\n",
    "Luiz Felipe Corradini Rego Costa - 230613\n",
    "\n",
    "Pablo Henrique Almeida Mendes - XXXX\n"
   ]
  },
  {
   "cell_type": "markdown",
   "metadata": {},
   "source": [
    "\n",
    "\n",
    "**Doença de notificação compulsória escolhida:** Esquistossomose"
   ]
  },
  {
   "cell_type": "markdown",
   "metadata": {},
   "source": [
    "## 1) Upload e investigação dos dados"
   ]
  },
  {
   "cell_type": "markdown",
   "metadata": {},
   "source": [
    "### 1.1) Análise Exploratória dos dados\n",
    "\n",
    "Os dados escolhidos para treinamento foram os da doença esquistossomose dos anos de 2021, 2022 e 2023. Os anos de 2024 em diante não estavam disponibilizados na base do SINAN. Todos os dados estão no diretório source/csv."
   ]
  },
  {
   "cell_type": "code",
   "execution_count": 78,
   "metadata": {},
   "outputs": [],
   "source": [
    "import pandas as pd\n",
    "\n",
    "esq_20 = pd.read_csv('source/csv/ESQUBR20.csv')\n",
    "esq_21 = pd.read_csv('source/csv/ESQUBR21.csv')\n",
    "esq_22 = pd.read_csv('source/csv/ESQUBR22.csv')\n",
    "esq_23 = pd.read_csv('source/csv/ESQUBR23.csv')"
   ]
  },
  {
   "cell_type": "code",
   "execution_count": 79,
   "metadata": {},
   "outputs": [
    {
     "name": "stdout",
     "output_type": "stream",
     "text": [
      "(1873, 54)\n",
      "(2395, 54)\n",
      "(2640, 54)\n",
      "(3059, 54)\n"
     ]
    }
   ],
   "source": [
    "print(esq_20.shape)\n",
    "print(esq_21.shape)\n",
    "print(esq_22.shape)\n",
    "print(esq_23.shape)"
   ]
  },
  {
   "cell_type": "markdown",
   "metadata": {},
   "source": [
    "Com os três anos selecionados, obtemos, em primeiro momento, um total de 8094 instâncias. "
   ]
  },
  {
   "cell_type": "markdown",
   "metadata": {},
   "source": [
    "Precisamos investigar a quantidade de atributos-alvo em cada ano, a fim de garantir balanceamento nas classes dentro dos datasets de treino e de teste:\n",
    "\n",
    "Valores correspondentes a cada desfecho possível do paciente:\n",
    "\n",
    "\n",
    "1 - Cura\n",
    "\n",
    "2 - Não Cura\n",
    "\n",
    "3 - Óbito por \n",
    "esquistossomose \n",
    "\n",
    "4 -  Óbito por outras \n",
    "causas \n",
    "\n",
    "9 - Ignorado\n"
   ]
  },
  {
   "cell_type": "markdown",
   "metadata": {},
   "source": [
    "Como iremos usar os dados dos três anos, faz mais sentido concatená-los em um único DataFrame, a fim de realizar a análise em um único comando"
   ]
  },
  {
   "cell_type": "code",
   "execution_count": 80,
   "metadata": {},
   "outputs": [
    {
     "data": {
      "text/plain": [
       "1.0    4901\n",
       "9.0    1121\n",
       "3.0     242\n",
       "2.0     225\n",
       "4.0     113\n",
       "Name: EVOLUCAO, dtype: int64"
      ]
     },
     "execution_count": 80,
     "metadata": {},
     "output_type": "execute_result"
    }
   ],
   "source": [
    "esq_total = pd.concat([esq_20, esq_21, esq_22, esq_23])\n",
    "esq_total['EVOLUCAO'].value_counts()"
   ]
  },
  {
   "cell_type": "code",
   "execution_count": 81,
   "metadata": {},
   "outputs": [
    {
     "name": "stdout",
     "output_type": "stream",
     "text": [
      "Porcentagem de mortes por esquistossomose: 2.43%\n"
     ]
    }
   ],
   "source": [
    "print(f\"Porcentagem de mortes por esquistossomose: {len(esq_total[esq_total['EVOLUCAO'] == 3]) / len(esq_total) * 100 :.2f}%\")"
   ]
  },
  {
   "cell_type": "markdown",
   "metadata": {},
   "source": [
    "### 1.2) Divisão do conjunto de treino e teste\n",
    "\n",
    "O primeiro passo vai ser separar um conjunto de teste nos dados, já que esse conjunto não deve ser pré-processado como os de treinamento. Para garantir que "
   ]
  },
  {
   "cell_type": "code",
   "execution_count": null,
   "metadata": {},
   "outputs": [],
   "source": [
    "# Avaliar a janela de tempo entre o primeiro atendimento e a morte\n",
    "# Avaliar como vai ser a divisão dos dados, e avaliar também como garantir 10% de representatividade de cada classe nos conjuntos de treino e teste"
   ]
  },
  {
   "cell_type": "markdown",
   "metadata": {},
   "source": [
    "## 2) Pré-processamento dos dados"
   ]
  },
  {
   "cell_type": "markdown",
   "metadata": {},
   "source": [
    "Podemos ver que, pelo número elevado de colunas, será necessário realizar uma análise quanto às colunas necessárias, para posteriormente avaliar se o total de instâncias apresentadas nos três anos serão suficientes para treinar o modelo."
   ]
  },
  {
   "cell_type": "markdown",
   "metadata": {},
   "source": [
    "### 2.1) Removendo Colunas desnecessárias\n",
    "\n",
    "O primeiro passo para pré-processar será **remover colunas desnecessárias do dataset**. \n",
    "\n",
    "Depois de uma primeira análise, a equipe selecionou 11 colunas que julgamos como mais relevantes para o treinamento do modelo:\n",
    "\n",
    "\n",
    "*colocar info das colunas*\n"
   ]
  },
  {
   "cell_type": "code",
   "execution_count": 83,
   "metadata": {},
   "outputs": [
    {
     "data": {
      "text/plain": [
       "Index(['Unnamed: 0', 'TP_NOT', 'ID_AGRAVO', 'DT_NOTIFIC', 'SEM_NOT', 'NU_ANO',\n",
       "       'SG_UF_NOT', 'ID_MUNICIP', 'ID_REGIONA', 'ID_UNIDADE', 'DT_SIN_PRI',\n",
       "       'SEM_PRI', 'ANO_NASC', 'NU_IDADE_N', 'CS_SEXO', 'CS_GESTANT', 'CS_RACA',\n",
       "       'CS_ESCOL_N', 'SG_UF', 'ID_MN_RESI', 'ID_RG_RESI', 'ID_PAIS',\n",
       "       'DT_INVEST', 'ID_OCUPA_N', 'DT_COPRO', 'AN_QUANT', 'OUTROS', 'TRATAM',\n",
       "       'TRATANAO', 'STCURA1', 'STCURA2', 'STCURA3', 'FORMA', 'TPAUTOCTO',\n",
       "       'COUFINF', 'COPAISINF', 'COMUNINF', 'NOPROPIN', 'NOCOLINF',\n",
       "       'DOENCA_TRA', 'EVOLUCAO', 'DT_ENCERRA', 'DT_DIGITA', 'DT_TRANSUS',\n",
       "       'DT_TRANSDM', 'DT_TRANSSM', 'DT_TRANSRS', 'DT_TRANSSE', 'DT_OBITO',\n",
       "       'DS_FORMA', 'AN_QUALI', 'DTTRAT', 'DT_RESU3', 'OUTRO_EX'],\n",
       "      dtype='object')"
      ]
     },
     "execution_count": 83,
     "metadata": {},
     "output_type": "execute_result"
    }
   ],
   "source": [
    "esq_total.columns"
   ]
  },
  {
   "cell_type": "code",
   "execution_count": 84,
   "metadata": {},
   "outputs": [
    {
     "data": {
      "text/html": [
       "<div>\n",
       "<style scoped>\n",
       "    .dataframe tbody tr th:only-of-type {\n",
       "        vertical-align: middle;\n",
       "    }\n",
       "\n",
       "    .dataframe tbody tr th {\n",
       "        vertical-align: top;\n",
       "    }\n",
       "\n",
       "    .dataframe thead th {\n",
       "        text-align: right;\n",
       "    }\n",
       "</style>\n",
       "<table border=\"1\" class=\"dataframe\">\n",
       "  <thead>\n",
       "    <tr style=\"text-align: right;\">\n",
       "      <th></th>\n",
       "      <th>CS_GESTANT</th>\n",
       "      <th>AN_QUANT</th>\n",
       "      <th>AN_QUALI</th>\n",
       "      <th>TRATAM</th>\n",
       "      <th>TRATANAO</th>\n",
       "      <th>FORMA</th>\n",
       "      <th>CS_ESCOL_N</th>\n",
       "      <th>CS_SEXO</th>\n",
       "      <th>ANO_NASC</th>\n",
       "      <th>COUFINF</th>\n",
       "      <th>EVOLUCAO</th>\n",
       "    </tr>\n",
       "  </thead>\n",
       "  <tbody>\n",
       "    <tr>\n",
       "      <th>0</th>\n",
       "      <td>6</td>\n",
       "      <td>0.0</td>\n",
       "      <td>3.0</td>\n",
       "      <td>3.0</td>\n",
       "      <td>3.0</td>\n",
       "      <td>4.0</td>\n",
       "      <td>9.0</td>\n",
       "      <td>M</td>\n",
       "      <td>1969.0</td>\n",
       "      <td>31.0</td>\n",
       "      <td>2.0</td>\n",
       "    </tr>\n",
       "    <tr>\n",
       "      <th>1</th>\n",
       "      <td>6</td>\n",
       "      <td>1.0</td>\n",
       "      <td>1.0</td>\n",
       "      <td>1.0</td>\n",
       "      <td>NaN</td>\n",
       "      <td>NaN</td>\n",
       "      <td>NaN</td>\n",
       "      <td>M</td>\n",
       "      <td>1984.0</td>\n",
       "      <td>26.0</td>\n",
       "      <td>1.0</td>\n",
       "    </tr>\n",
       "    <tr>\n",
       "      <th>2</th>\n",
       "      <td>5</td>\n",
       "      <td>0.0</td>\n",
       "      <td>NaN</td>\n",
       "      <td>1.0</td>\n",
       "      <td>NaN</td>\n",
       "      <td>NaN</td>\n",
       "      <td>1.0</td>\n",
       "      <td>F</td>\n",
       "      <td>1975.0</td>\n",
       "      <td>35.0</td>\n",
       "      <td>1.0</td>\n",
       "    </tr>\n",
       "    <tr>\n",
       "      <th>3</th>\n",
       "      <td>5</td>\n",
       "      <td>0.0</td>\n",
       "      <td>1.0</td>\n",
       "      <td>3.0</td>\n",
       "      <td>9.0</td>\n",
       "      <td>NaN</td>\n",
       "      <td>1.0</td>\n",
       "      <td>F</td>\n",
       "      <td>1977.0</td>\n",
       "      <td>29.0</td>\n",
       "      <td>NaN</td>\n",
       "    </tr>\n",
       "    <tr>\n",
       "      <th>4</th>\n",
       "      <td>5</td>\n",
       "      <td>0.0</td>\n",
       "      <td>1.0</td>\n",
       "      <td>1.0</td>\n",
       "      <td>NaN</td>\n",
       "      <td>1.0</td>\n",
       "      <td>9.0</td>\n",
       "      <td>F</td>\n",
       "      <td>2004.0</td>\n",
       "      <td>27.0</td>\n",
       "      <td>1.0</td>\n",
       "    </tr>\n",
       "  </tbody>\n",
       "</table>\n",
       "</div>"
      ],
      "text/plain": [
       "   CS_GESTANT  AN_QUANT  AN_QUALI  TRATAM  TRATANAO  FORMA  CS_ESCOL_N  \\\n",
       "0           6       0.0       3.0     3.0       3.0    4.0         9.0   \n",
       "1           6       1.0       1.0     1.0       NaN    NaN         NaN   \n",
       "2           5       0.0       NaN     1.0       NaN    NaN         1.0   \n",
       "3           5       0.0       1.0     3.0       9.0    NaN         1.0   \n",
       "4           5       0.0       1.0     1.0       NaN    1.0         9.0   \n",
       "\n",
       "  CS_SEXO  ANO_NASC  COUFINF  EVOLUCAO  \n",
       "0       M    1969.0     31.0       2.0  \n",
       "1       M    1984.0     26.0       1.0  \n",
       "2       F    1975.0     35.0       1.0  \n",
       "3       F    1977.0     29.0       NaN  \n",
       "4       F    2004.0     27.0       1.0  "
      ]
     },
     "execution_count": 84,
     "metadata": {},
     "output_type": "execute_result"
    }
   ],
   "source": [
    "# Lista das colunas conforme dicionário SINAN\n",
    "colunas_selecionadas = [\n",
    "    'CS_GESTANT',                     \n",
    "    'AN_QUANT',\n",
    "    'AN_QUALI',            \n",
    "    'TRATAM', \n",
    "    'TRATANAO',    \n",
    "    'FORMA',      \n",
    "    'CS_ESCOL_N', \n",
    "    'CS_SEXO',  \n",
    "    'ANO_NASC',\n",
    "    'COUFINF',\n",
    "    'EVOLUCAO'\n",
    "]\n",
    "\n",
    "# Seleção das colunas\n",
    "esq_filtrado = esq_total[colunas_selecionadas]\n",
    "\n",
    "esq_filtrado.head()\n"
   ]
  },
  {
   "cell_type": "markdown",
   "metadata": {},
   "source": [
    "Renomeando as colunas selecionadas para garantir melhor entendimento:"
   ]
  },
  {
   "cell_type": "code",
   "execution_count": 85,
   "metadata": {},
   "outputs": [
    {
     "name": "stdout",
     "output_type": "stream",
     "text": [
      "(9967, 11)\n"
     ]
    },
    {
     "data": {
      "text/html": [
       "<div>\n",
       "<style scoped>\n",
       "    .dataframe tbody tr th:only-of-type {\n",
       "        vertical-align: middle;\n",
       "    }\n",
       "\n",
       "    .dataframe tbody tr th {\n",
       "        vertical-align: top;\n",
       "    }\n",
       "\n",
       "    .dataframe thead th {\n",
       "        text-align: right;\n",
       "    }\n",
       "</style>\n",
       "<table border=\"1\" class=\"dataframe\">\n",
       "  <thead>\n",
       "    <tr style=\"text-align: right;\">\n",
       "      <th></th>\n",
       "      <th>Gestante</th>\n",
       "      <th>Quantidade de ovos encontrados</th>\n",
       "      <th>Resultado do exame de ovos da doença</th>\n",
       "      <th>Tratamento realizado</th>\n",
       "      <th>Motivo tratamento não realizado</th>\n",
       "      <th>Forma clínica</th>\n",
       "      <th>Escolaridade</th>\n",
       "      <th>Sexo</th>\n",
       "      <th>Ano de nascimento</th>\n",
       "      <th>Unidade Federativa</th>\n",
       "      <th>Resultado</th>\n",
       "    </tr>\n",
       "  </thead>\n",
       "  <tbody>\n",
       "    <tr>\n",
       "      <th>0</th>\n",
       "      <td>6</td>\n",
       "      <td>0.0</td>\n",
       "      <td>3.0</td>\n",
       "      <td>3.0</td>\n",
       "      <td>3.0</td>\n",
       "      <td>4.0</td>\n",
       "      <td>9.0</td>\n",
       "      <td>M</td>\n",
       "      <td>1969.0</td>\n",
       "      <td>31.0</td>\n",
       "      <td>2.0</td>\n",
       "    </tr>\n",
       "    <tr>\n",
       "      <th>1</th>\n",
       "      <td>6</td>\n",
       "      <td>1.0</td>\n",
       "      <td>1.0</td>\n",
       "      <td>1.0</td>\n",
       "      <td>NaN</td>\n",
       "      <td>NaN</td>\n",
       "      <td>NaN</td>\n",
       "      <td>M</td>\n",
       "      <td>1984.0</td>\n",
       "      <td>26.0</td>\n",
       "      <td>1.0</td>\n",
       "    </tr>\n",
       "    <tr>\n",
       "      <th>2</th>\n",
       "      <td>5</td>\n",
       "      <td>0.0</td>\n",
       "      <td>NaN</td>\n",
       "      <td>1.0</td>\n",
       "      <td>NaN</td>\n",
       "      <td>NaN</td>\n",
       "      <td>1.0</td>\n",
       "      <td>F</td>\n",
       "      <td>1975.0</td>\n",
       "      <td>35.0</td>\n",
       "      <td>1.0</td>\n",
       "    </tr>\n",
       "    <tr>\n",
       "      <th>3</th>\n",
       "      <td>5</td>\n",
       "      <td>0.0</td>\n",
       "      <td>1.0</td>\n",
       "      <td>3.0</td>\n",
       "      <td>9.0</td>\n",
       "      <td>NaN</td>\n",
       "      <td>1.0</td>\n",
       "      <td>F</td>\n",
       "      <td>1977.0</td>\n",
       "      <td>29.0</td>\n",
       "      <td>NaN</td>\n",
       "    </tr>\n",
       "    <tr>\n",
       "      <th>4</th>\n",
       "      <td>5</td>\n",
       "      <td>0.0</td>\n",
       "      <td>1.0</td>\n",
       "      <td>1.0</td>\n",
       "      <td>NaN</td>\n",
       "      <td>1.0</td>\n",
       "      <td>9.0</td>\n",
       "      <td>F</td>\n",
       "      <td>2004.0</td>\n",
       "      <td>27.0</td>\n",
       "      <td>1.0</td>\n",
       "    </tr>\n",
       "  </tbody>\n",
       "</table>\n",
       "</div>"
      ],
      "text/plain": [
       "   Gestante  Quantidade de ovos encontrados  \\\n",
       "0         6                             0.0   \n",
       "1         6                             1.0   \n",
       "2         5                             0.0   \n",
       "3         5                             0.0   \n",
       "4         5                             0.0   \n",
       "\n",
       "   Resultado do exame de ovos da doença  Tratamento realizado  \\\n",
       "0                                   3.0                   3.0   \n",
       "1                                   1.0                   1.0   \n",
       "2                                   NaN                   1.0   \n",
       "3                                   1.0                   3.0   \n",
       "4                                   1.0                   1.0   \n",
       "\n",
       "   Motivo tratamento não realizado  Forma clínica  Escolaridade Sexo  \\\n",
       "0                              3.0            4.0           9.0    M   \n",
       "1                              NaN            NaN           NaN    M   \n",
       "2                              NaN            NaN           1.0    F   \n",
       "3                              9.0            NaN           1.0    F   \n",
       "4                              NaN            1.0           9.0    F   \n",
       "\n",
       "   Ano de nascimento  Unidade Federativa  Resultado  \n",
       "0             1969.0                31.0        2.0  \n",
       "1             1984.0                26.0        1.0  \n",
       "2             1975.0                35.0        1.0  \n",
       "3             1977.0                29.0        NaN  \n",
       "4             2004.0                27.0        1.0  "
      ]
     },
     "execution_count": 85,
     "metadata": {},
     "output_type": "execute_result"
    }
   ],
   "source": [
    "novos_nomes_doenças = {\n",
    "    'CS_GESTANT': 'Gestante',\n",
    "    'AN_QUANT': 'Quantidade de ovos encontrados',\n",
    "    'AN_QUALI': 'Resultado do exame de ovos da doença',\n",
    "    'TRATAM': 'Tratamento realizado',\n",
    "    'TRATANAO': 'Motivo tratamento não realizado',\n",
    "    'FORMA': 'Forma clínica',\n",
    "    'CS_ESCOL_N': 'Escolaridade',\n",
    "    'CS_SEXO': 'Sexo',\n",
    "    'ANO_NASC': 'Ano de nascimento',\n",
    "    'COUFINF': 'Unidade Federativa',\n",
    "    'EVOLUCAO': 'Resultado'\n",
    "\n",
    "}\n",
    "\n",
    "esq_filtrado = esq_filtrado.rename(columns=novos_nomes_doenças)\n",
    "\n",
    "print(esq_filtrado.shape)\n",
    "esq_filtrado.head()"
   ]
  },
  {
   "cell_type": "markdown",
   "metadata": {},
   "source": [
    "### 2.2) Selecionando os dados a serem usados"
   ]
  },
  {
   "cell_type": "markdown",
   "metadata": {},
   "source": [
    "Como o problema que iremos prever é de natureza binária (óbito ou não-óbito), precisamos remover todas as instâncias que a resposta foi \"Ignorado\" ou \"Não-Cura\". Se o caso foi ignorado, não podemos inserí-lo em nenhuma das duas classes, e a classificação de \"Não-Cura\" também não torna possível avaliar se o paciente veio a óbito ou não. Além disso, avaliamos que fugia do escopo do projeto considerar as mortes por outros fatores, então também retiramos essa classe da consideração."
   ]
  },
  {
   "cell_type": "code",
   "execution_count": 96,
   "metadata": {},
   "outputs": [
    {
     "data": {
      "text/plain": [
       "1.0    4901\n",
       "3.0     242\n",
       "Name: Resultado, dtype: int64"
      ]
     },
     "execution_count": 96,
     "metadata": {},
     "output_type": "execute_result"
    }
   ],
   "source": [
    "esq_valid = esq_filtrado[(esq_filtrado['Resultado'] == 1) | (esq_filtrado['Resultado'] == 3)]\n",
    "esq_valid['Resultado'].value_counts()"
   ]
  },
  {
   "cell_type": "code",
   "execution_count": 98,
   "metadata": {},
   "outputs": [
    {
     "name": "stdout",
     "output_type": "stream",
     "text": [
      "Porcentagem de mortes por esquistossomose: 4.71%\n"
     ]
    }
   ],
   "source": [
    "print(f\"Porcentagem de mortes por esquistossomose: {len(esq_valid[esq_valid['Resultado'] == 3]) / len(esq_valid) * 100 :.2f}%\")"
   ]
  },
  {
   "cell_type": "markdown",
   "metadata": {},
   "source": [
    "### 2.3) Tratamento de atributos categóricos"
   ]
  },
  {
   "cell_type": "markdown",
   "metadata": {},
   "source": [
    "Primeiramente, vamos visualizar nossos dados a fim de transformar os atributos categóricos em numéricos:"
   ]
  },
  {
   "cell_type": "code",
   "execution_count": 100,
   "metadata": {},
   "outputs": [
    {
     "name": "stdout",
     "output_type": "stream",
     "text": [
      "<class 'pandas.core.frame.DataFrame'>\n",
      "Int64Index: 5143 entries, 1 to 3058\n",
      "Data columns (total 11 columns):\n",
      " #   Column                                Non-Null Count  Dtype  \n",
      "---  ------                                --------------  -----  \n",
      " 0   Gestante                              5143 non-null   int64  \n",
      " 1   Quantidade de ovos encontrados        5143 non-null   float64\n",
      " 2   Resultado do exame de ovos da doença  4053 non-null   float64\n",
      " 3   Tratamento realizado                  5143 non-null   float64\n",
      " 4   Motivo tratamento não realizado       353 non-null    float64\n",
      " 5   Forma clínica                         3709 non-null   float64\n",
      " 6   Escolaridade                          4551 non-null   float64\n",
      " 7   Sexo                                  5143 non-null   object \n",
      " 8   Ano de nascimento                     5112 non-null   float64\n",
      " 9   Unidade Federativa                    4102 non-null   float64\n",
      " 10  Resultado                             5143 non-null   float64\n",
      "dtypes: float64(9), int64(1), object(1)\n",
      "memory usage: 482.2+ KB\n"
     ]
    }
   ],
   "source": [
    "esq_valid.info()"
   ]
  },
  {
   "cell_type": "markdown",
   "metadata": {},
   "source": [
    "Podemos notar que, apesar de que o tipo de muitos dos atributos esteja definido como 'float', de acordo com o dicionário da doença, cada número representa uma característica distinta. Por isso, a ideia será realizar o One-Hot encoding para separar tais atributos categóricos."
   ]
  },
  {
   "cell_type": "code",
   "execution_count": 103,
   "metadata": {},
   "outputs": [
    {
     "data": {
      "text/plain": [
       "6    3573\n",
       "5    1422\n",
       "9     111\n",
       "2      14\n",
       "4      12\n",
       "1       8\n",
       "3       3\n",
       "Name: Gestante, dtype: int64"
      ]
     },
     "execution_count": 103,
     "metadata": {},
     "output_type": "execute_result"
    }
   ],
   "source": [
    "esq_valid['Gestante'].value_counts()"
   ]
  }
 ],
 "metadata": {
  "kernelspec": {
   "display_name": "Python 3",
   "language": "python",
   "name": "python3"
  },
  "language_info": {
   "codemirror_mode": {
    "name": "ipython",
    "version": 3
   },
   "file_extension": ".py",
   "mimetype": "text/x-python",
   "name": "python",
   "nbconvert_exporter": "python",
   "pygments_lexer": "ipython3",
   "version": "3.10.12"
  }
 },
 "nbformat": 4,
 "nbformat_minor": 2
}
