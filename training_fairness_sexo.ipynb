{
 "cells": [
  {
   "cell_type": "markdown",
   "metadata": {},
   "source": [
    "# Treinando o Modelo"
   ]
  },
  {
   "cell_type": "code",
   "execution_count": 171,
   "metadata": {},
   "outputs": [],
   "source": [
    "import pandas as pd\n",
    "df_train = pd.read_csv('entrega-1/df_treino_fairness.csv')\n",
    "df_test = pd.read_csv('entrega-1/df_teste_fairness.csv')\n"
   ]
  },
  {
   "cell_type": "code",
   "execution_count": 172,
   "metadata": {},
   "outputs": [
    {
     "name": "stdout",
     "output_type": "stream",
     "text": [
      "0    5626\n",
      "1     158\n",
      "Name: Resultado, dtype: int64\n",
      "0    1409\n",
      "1      32\n",
      "Name: Resultado, dtype: int64\n",
      "(5784, 21)\n",
      "(1441, 21)\n"
     ]
    }
   ],
   "source": [
    "print(df_train['Resultado'].value_counts())\n",
    "print(df_test['Resultado'].value_counts())\n",
    "print(df_train.shape)\n",
    "print(df_test.shape)"
   ]
  },
  {
   "cell_type": "code",
   "execution_count": 173,
   "metadata": {},
   "outputs": [
    {
     "data": {
      "text/plain": [
       "Index(['Quantidade ovos encontrados', 'Escolaridade', 'Sexo', 'Resultado',\n",
       "       'Exame_Nao_Realizado', 'Exame_Negativo', 'Exame_Positivo',\n",
       "       'Tratamento_Nao', 'Tratamento_Sim_Oxaminiquine',\n",
       "       'Tratamento_Sim_Praziquantel', 'Forma_Aguda', 'Forma_Hepato_Esplenica',\n",
       "       'Forma_Hepato_Intestinal', 'Forma_Intestinal', 'Forma_Outra', 'Idade',\n",
       "       'Regiao_Centro-Oeste', 'Regiao_Nordeste', 'Regiao_Norte',\n",
       "       'Regiao_Sudeste', 'Regiao_Sul'],\n",
       "      dtype='object')"
      ]
     },
     "execution_count": 173,
     "metadata": {},
     "output_type": "execute_result"
    }
   ],
   "source": [
    "df_test.columns"
   ]
  },
  {
   "cell_type": "code",
   "execution_count": 174,
   "metadata": {},
   "outputs": [
    {
     "name": "stdout",
     "output_type": "stream",
     "text": [
      "<class 'pandas.core.frame.DataFrame'>\n",
      "Int64Index: 1441 entries, 0 to 1440\n",
      "Data columns (total 21 columns):\n",
      " #   Column                       Non-Null Count  Dtype\n",
      "---  ------                       --------------  -----\n",
      " 0   Quantidade ovos encontrados  1441 non-null   int64\n",
      " 1   Escolaridade                 1441 non-null   int64\n",
      " 2   Sexo                         1441 non-null   int64\n",
      " 3   Resultado                    1441 non-null   int64\n",
      " 4   Exame_Nao_Realizado          1441 non-null   int64\n",
      " 5   Exame_Negativo               1441 non-null   int64\n",
      " 6   Exame_Positivo               1441 non-null   int64\n",
      " 7   Tratamento_Nao               1441 non-null   int64\n",
      " 8   Tratamento_Sim_Oxaminiquine  1441 non-null   int64\n",
      " 9   Tratamento_Sim_Praziquantel  1441 non-null   int64\n",
      " 10  Forma_Aguda                  1441 non-null   int64\n",
      " 11  Forma_Hepato_Esplenica       1441 non-null   int64\n",
      " 12  Forma_Hepato_Intestinal      1441 non-null   int64\n",
      " 13  Forma_Intestinal             1441 non-null   int64\n",
      " 14  Forma_Outra                  1441 non-null   int64\n",
      " 15  Idade                        1441 non-null   int64\n",
      " 16  Regiao_Centro-Oeste          1441 non-null   int64\n",
      " 17  Regiao_Nordeste              1441 non-null   int64\n",
      " 18  Regiao_Norte                 1441 non-null   int64\n",
      " 19  Regiao_Sudeste               1441 non-null   int64\n",
      " 20  Regiao_Sul                   1441 non-null   int64\n",
      "dtypes: int64(21)\n",
      "memory usage: 247.7 KB\n"
     ]
    },
    {
     "data": {
      "text/plain": [
       "array([0, 1])"
      ]
     },
     "execution_count": 174,
     "metadata": {},
     "output_type": "execute_result"
    }
   ],
   "source": [
    "# Dropping all rows where sexo is I\n",
    "df_test = df_test[df_test['Sexo'] != 'I']\n",
    "df_train = df_train[df_train['Sexo'] != 'I']\n",
    "\n",
    "df_test.info()\n",
    "# Redefining sexo to integer type\n",
    "df_test['Sexo'] = df_test['Sexo'].astype('int')\n",
    "df_train['Sexo'] = df_train['Sexo'].astype('int')\n",
    "df_train['Sexo'].unique()"
   ]
  },
  {
   "cell_type": "code",
   "execution_count": 175,
   "metadata": {},
   "outputs": [
    {
     "data": {
      "image/png": "[encoded data removed]",
      "text/plain": [
       "<Figure size 1200x600 with 2 Axes>"
      ]
     },
     "metadata": {},
     "output_type": "display_data"
    }
   ],
   "source": [
    "# Plotando a divisão de classes para conjunto de treino e teste lado a lado\n",
    "import matplotlib.pyplot as plt\n",
    "import seaborn as sns\n",
    "\n",
    "plt.figure(figsize=(12, 6))\n",
    "ax1 = plt.subplot(121)\n",
    "\n",
    "classes = [0,1]\n",
    "counts = [df_train['Resultado'].value_counts().get(c, 0) for c in classes]\n",
    "plt.bar(x=classes, height=counts, tick_label=classes)\n",
    "plt.title('Distribuição de Classes - Treino')\n",
    "\n",
    "\n",
    "ax2 = plt.subplot(122)\n",
    "counts = [df_test['Resultado'].value_counts().get(c, 0) for c in classes]\n",
    "plt.bar(x=classes, height=counts, tick_label=classes)\n",
    "plt.title('Distribuição de Classes - Teste')\n",
    "\n",
    "plt.savefig('./source/images/distribuicao_classes_fairness.png')"
   ]
  },
  {
   "cell_type": "code",
   "execution_count": 176,
   "metadata": {},
   "outputs": [],
   "source": [
    "y_test = df_test['Resultado'].to_numpy()\n",
    "X_test = df_test.drop(['Resultado'], axis=1).to_numpy()"
   ]
  },
  {
   "cell_type": "code",
   "execution_count": 177,
   "metadata": {},
   "outputs": [],
   "source": [
    "y_train = df_train['Resultado'].to_numpy()\n",
    "X_train = df_train.drop(['Resultado'], axis=1).to_numpy()"
   ]
  },
  {
   "cell_type": "code",
   "execution_count": 178,
   "metadata": {},
   "outputs": [],
   "source": [
    "y_train_save = y_train\n",
    "X_train_save = X_train"
   ]
  },
  {
   "cell_type": "markdown",
   "metadata": {},
   "source": [
    "## 1) Balanceando as classes"
   ]
  },
  {
   "cell_type": "markdown",
   "metadata": {},
   "source": [
    "Primeiramente, precisamos garantir representatividade de ao menos 1,5x da classe majoritária sobre a minoritária. Como temos consideravelmente mais instâncias de pessoas que não faleceram, vamos buscar utilizar diferentes técnicas tanto para selecionar instâncias da classe majoritária quanto para aumentar as instâncias da classe majoritária"
   ]
  },
  {
   "cell_type": "markdown",
   "metadata": {},
   "source": [
    "Para isso, iremos utilizar a biblioteca imblearn"
   ]
  },
  {
   "cell_type": "code",
   "execution_count": 179,
   "metadata": {},
   "outputs": [],
   "source": [
    "# !pip install imblearn"
   ]
  },
  {
   "cell_type": "markdown",
   "metadata": {},
   "source": [
    "Primeiramente, aumentar a instância da classe minoritaria até atingir 20% da majoritária"
   ]
  },
  {
   "cell_type": "code",
   "execution_count": 180,
   "metadata": {},
   "outputs": [
    {
     "name": "stdout",
     "output_type": "stream",
     "text": [
      "Quantidade da classe minoritária antes da aumentação:  (array([0, 1]), array([5626,  158]))\n",
      "Quantidade da classe minoritária após aumentação:  (array([0, 1]), array([5626, 1125]))\n"
     ]
    }
   ],
   "source": [
    "from imblearn.over_sampling import SMOTE\n",
    "import numpy as np\n",
    "\n",
    "oversample = SMOTE(sampling_strategy=0.2, random_state=42)\n",
    "print(\"Quantidade da classe minoritária antes da aumentação: \", np.unique(y_train, return_counts=True))\n",
    "\n",
    "X_train, y_train = oversample.fit_resample(X_train, y_train)\n",
    "print(\"Quantidade da classe minoritária após aumentação: \", np.unique(y_train, return_counts=True))"
   ]
  },
  {
   "cell_type": "markdown",
   "metadata": {},
   "source": [
    "Agora, vamos utilizar undersampling para reduzir a classe majoritária. "
   ]
  },
  {
   "cell_type": "code",
   "execution_count": 181,
   "metadata": {},
   "outputs": [
    {
     "name": "stdout",
     "output_type": "stream",
     "text": [
      "(2812, 20)\n",
      "(2812,)\n"
     ]
    }
   ],
   "source": [
    "from imblearn.under_sampling import NearMiss\n",
    "\n",
    "nm = NearMiss(sampling_strategy={0:1687,1:1125})\n",
    "X_train, y_train = nm.fit_resample(X_train, y_train)\n",
    "print(X_train.shape)\n",
    "print(y_train.shape)"
   ]
  },
  {
   "cell_type": "code",
   "execution_count": 182,
   "metadata": {},
   "outputs": [
    {
     "name": "stdout",
     "output_type": "stream",
     "text": [
      "(array([0, 1]), array([1687, 1125]))\n"
     ]
    }
   ],
   "source": [
    "import numpy as np\n",
    "print(np.unique(y_train, return_counts=True))"
   ]
  },
  {
   "cell_type": "markdown",
   "metadata": {},
   "source": [
    "Analisando a variável central para o balanceamento (Escolaridade)"
   ]
  },
  {
   "cell_type": "code",
   "execution_count": 183,
   "metadata": {},
   "outputs": [
    {
     "data": {
      "text/html": [
       "<div>\n",
       "<style scoped>\n",
       "    .dataframe tbody tr th:only-of-type {\n",
       "        vertical-align: middle;\n",
       "    }\n",
       "\n",
       "    .dataframe tbody tr th {\n",
       "        vertical-align: top;\n",
       "    }\n",
       "\n",
       "    .dataframe thead th {\n",
       "        text-align: right;\n",
       "    }\n",
       "</style>\n",
       "<table border=\"1\" class=\"dataframe\">\n",
       "  <thead>\n",
       "    <tr style=\"text-align: right;\">\n",
       "      <th>Resultado</th>\n",
       "      <th>Não óbito</th>\n",
       "      <th>Óbito</th>\n",
       "      <th>Taxa de Mortalidade</th>\n",
       "    </tr>\n",
       "    <tr>\n",
       "      <th>Sexo</th>\n",
       "      <th></th>\n",
       "      <th></th>\n",
       "      <th></th>\n",
       "    </tr>\n",
       "  </thead>\n",
       "  <tbody>\n",
       "    <tr>\n",
       "      <th>Masculino</th>\n",
       "      <td>3408</td>\n",
       "      <td>77</td>\n",
       "      <td>2.21%</td>\n",
       "    </tr>\n",
       "    <tr>\n",
       "      <th>Feminino</th>\n",
       "      <td>2218</td>\n",
       "      <td>81</td>\n",
       "      <td>3.52%</td>\n",
       "    </tr>\n",
       "  </tbody>\n",
       "</table>\n",
       "</div>"
      ],
      "text/plain": [
       "Resultado  Não óbito  Óbito Taxa de Mortalidade\n",
       "Sexo                                           \n",
       "Masculino       3408     77               2.21%\n",
       "Feminino        2218     81               3.52%"
      ]
     },
     "execution_count": 183,
     "metadata": {},
     "output_type": "execute_result"
    }
   ],
   "source": [
    "Sexo_idx = df_train.columns.get_loc('Sexo')\n",
    "Sexo_labels = {0: \"Masculino\", 1: \"Feminino\"}\n",
    "\n",
    "# Verificando a distribuição de Sexo    \n",
    "df_train['Sexo'].value_counts()\n",
    "\n",
    "# Analisando a quantidade de óbitos para cada Sexo\n",
    "Sexo_counts = df_train.groupby('Sexo')['Resultado'].value_counts().unstack(fill_value=0)\n",
    "df_Sexo = pd.DataFrame(Sexo_counts)\n",
    "\n",
    "# Renomear os índices (linhas) e as colunas\n",
    "df_Sexo = df_Sexo.rename(index={0: \"Masculino\", 1: \"Feminino\"},\n",
    "                                            columns={0: \"Não óbito\", 1: \"Óbito\"})\n",
    "\n",
    "# Calculate the mortality rate as percentage (numeric)\n",
    "df_Sexo[\"Taxa de Mortalidade\"] = (df_Sexo[\"Óbito\"] / (df_Sexo[\"Óbito\"] + df_Sexo[\"Não óbito\"])) * 100\n",
    "\n",
    "# Format the values as strings with two decimals and a '%' symbol\n",
    "df_Sexo[\"Taxa de Mortalidade\"] = df_Sexo[\"Taxa de Mortalidade\"].apply(lambda x: f\"{x:.2f}%\")\n",
    "\n",
    "# Exibir o resultado\n",
    "df_Sexo.head()"
   ]
  },
  {
   "cell_type": "markdown",
   "metadata": {},
   "source": [
    "## 2) Treinamento do modelo"
   ]
  },
  {
   "cell_type": "markdown",
   "metadata": {},
   "source": [
    "A análise anterior foi usada apenas para demonstrar como devem ser balanceados os modelos. O balanceamento será realizado dentro dos folds de treinamento para cada iteração do k-fold, a fim de que a valicação reflita melhor os padrões que serão vistos nos conjuntos de teste"
   ]
  },
  {
   "cell_type": "code",
   "execution_count": 184,
   "metadata": {},
   "outputs": [
    {
     "name": "stdout",
     "output_type": "stream",
     "text": [
      "(array([0, 1]), array([5626,  158]))\n"
     ]
    }
   ],
   "source": [
    "from sklearn.model_selection import GridSearchCV, cross_val_score, StratifiedKFold\n",
    "from sklearn.pipeline import Pipeline as SKPipeline\n",
    "from sklearn.metrics import classification_report\n",
    "\n",
    "X_train = X_train_save\n",
    "y_train = y_train_save\n",
    "\n",
    "print(np.unique(y_train, return_counts=True))"
   ]
  },
  {
   "cell_type": "code",
   "execution_count": 185,
   "metadata": {},
   "outputs": [],
   "source": [
    "from sklearn.neighbors import KNeighborsClassifier\n",
    "from sklearn.linear_model import LogisticRegression\n",
    "from sklearn.ensemble import RandomForestClassifier\n",
    "\n",
    "param_grids = {\n",
    "    'kNN': {\n",
    "        'n_neighbors': [1, 5, 10],\n",
    "        'p': [1, 2],\n",
    "        'weights': ['uniform', 'distance']\n",
    "    },\n",
    "    'Logistic Regression': {\n",
    "        'class_weight': ['balanced', {0: 1, 1: 1}]\n",
    "    },\n",
    "    'Random Forest': {\n",
    "        'n_estimators': [10, 100, 200],\n",
    "        'max_depth': [10, 50],\n",
    "        'min_samples_split': [2, 10, 30]\n",
    "    }\n",
    "}\n"
   ]
  },
  {
   "cell_type": "code",
   "execution_count": 186,
   "metadata": {},
   "outputs": [
    {
     "name": "stdout",
     "output_type": "stream",
     "text": [
      "(5784, 20)\n",
      "<class 'numpy.ndarray'>\n"
     ]
    }
   ],
   "source": [
    "print(X_train.shape)\n",
    "print(type(X_train))"
   ]
  },
  {
   "cell_type": "markdown",
   "metadata": {},
   "source": [
    "Agora que já temos os parâmetros iniciais, instanciando os modelos:"
   ]
  },
  {
   "cell_type": "code",
   "execution_count": 187,
   "metadata": {},
   "outputs": [],
   "source": [
    "# Modelos base\n",
    "knn = KNeighborsClassifier()\n",
    "lr = LogisticRegression(max_iter=1000)\n",
    "rf = RandomForestClassifier(random_state=42)\n",
    "\n",
    "models = [('kNN', knn), ('Logistic Regression', lr), ('Random Forest', rf)]"
   ]
  },
  {
   "cell_type": "code",
   "execution_count": 188,
   "metadata": {},
   "outputs": [
    {
     "name": "stdout",
     "output_type": "stream",
     "text": [
      "MODELO: kNN\n",
      "Fold 1\n",
      "Fold 1 - Sexo 'Masculino' antes de balancear: 34.51% de mortes (538 mortes em 1559 pessoas)\n",
      "Fold 1 - Sexo 'Feminino' antes de balancear: 43.04% de mortes (362 mortes em 841 pessoas)\n",
      "Diferença entre homens e mulheres:  718\n",
      "Quantidade de mulheres após o SMOTE:  1558\n",
      "Fold 1 - Sexo 'Masculino' atualizado: 34.51% de mortes (538 mortes em 1559 pessoas)\n",
      "Fold 1 - Sexo 'Feminino' atualizado: 43.07% de mortes (671 mortes em 1558 pessoas)\n",
      "Distribuição e treino:  (array([0, 1]), array([1908, 1209]))\n",
      "--------------------------------------------------------------------------------------------\n",
      "Fold 2\n",
      "Fold 2 - Sexo 'Masculino' antes de balancear: 38.16% de mortes (632 mortes em 1656 pessoas)\n",
      "Fold 2 - Sexo 'Feminino' antes de balancear: 36.02% de mortes (268 mortes em 744 pessoas)\n",
      "Diferença entre homens e mulheres:  912\n",
      "Quantidade de mulheres após o SMOTE:  1655\n",
      "Fold 2 - Sexo 'Masculino' atualizado: 38.16% de mortes (632 mortes em 1656 pessoas)\n",
      "Fold 2 - Sexo 'Feminino' atualizado: 36.01% de mortes (596 mortes em 1655 pessoas)\n",
      "Distribuição e treino:  (array([0, 1]), array([2083, 1228]))\n",
      "--------------------------------------------------------------------------------------------\n",
      "Fold 3\n",
      "Fold 3 - Sexo 'Masculino' antes de balancear: 36.48% de mortes (575 mortes em 1576 pessoas)\n",
      "Fold 3 - Sexo 'Feminino' antes de balancear: 39.44% de mortes (325 mortes em 824 pessoas)\n",
      "Diferença entre homens e mulheres:  752\n",
      "Quantidade de mulheres após o SMOTE:  1575\n",
      "Fold 3 - Sexo 'Masculino' atualizado: 36.48% de mortes (575 mortes em 1576 pessoas)\n",
      "Fold 3 - Sexo 'Feminino' atualizado: 39.43% de mortes (621 mortes em 1575 pessoas)\n",
      "Distribuição e treino:  (array([0, 1]), array([1955, 1196]))\n",
      "--------------------------------------------------------------------------------------------\n",
      "Fold 4\n",
      "Fold 4 - Sexo 'Masculino' antes de balancear: 36.91% de mortes (599 mortes em 1623 pessoas)\n",
      "Fold 4 - Sexo 'Feminino' antes de balancear: 38.74% de mortes (301 mortes em 777 pessoas)\n",
      "Diferença entre homens e mulheres:  846\n",
      "Quantidade de mulheres após o SMOTE:  1622\n",
      "Fold 4 - Sexo 'Masculino' atualizado: 36.91% de mortes (599 mortes em 1623 pessoas)\n",
      "Fold 4 - Sexo 'Feminino' atualizado: 38.72% de mortes (628 mortes em 1622 pessoas)\n",
      "Distribuição e treino:  (array([0, 1]), array([2018, 1227]))\n",
      "--------------------------------------------------------------------------------------------\n",
      "Fold 5\n",
      "Fold 5 - Sexo 'Masculino' antes de balancear: 38.54% de mortes (622 mortes em 1614 pessoas)\n",
      "Fold 5 - Sexo 'Feminino' antes de balancear: 35.37% de mortes (278 mortes em 786 pessoas)\n",
      "Diferença entre homens e mulheres:  828\n",
      "Quantidade de mulheres após o SMOTE:  1613\n",
      "Fold 5 - Sexo 'Masculino' atualizado: 38.54% de mortes (622 mortes em 1614 pessoas)\n",
      "Fold 5 - Sexo 'Feminino' atualizado: 35.34% de mortes (570 mortes em 1613 pessoas)\n",
      "Distribuição e treino:  (array([0, 1]), array([2035, 1192]))\n",
      "--------------------------------------------------------------------------------------------\n",
      "MODELO: Logistic Regression\n",
      "Fold 1\n",
      "Fold 1 - Sexo 'Masculino' antes de balancear: 34.51% de mortes (538 mortes em 1559 pessoas)\n",
      "Fold 1 - Sexo 'Feminino' antes de balancear: 43.04% de mortes (362 mortes em 841 pessoas)\n",
      "Diferença entre homens e mulheres:  718\n",
      "Quantidade de mulheres após o SMOTE:  1558\n",
      "Fold 1 - Sexo 'Masculino' atualizado: 34.51% de mortes (538 mortes em 1559 pessoas)\n",
      "Fold 1 - Sexo 'Feminino' atualizado: 43.07% de mortes (671 mortes em 1558 pessoas)\n",
      "Distribuição e treino:  (array([0, 1]), array([1908, 1209]))\n",
      "--------------------------------------------------------------------------------------------\n",
      "Fold 2\n",
      "Fold 2 - Sexo 'Masculino' antes de balancear: 38.16% de mortes (632 mortes em 1656 pessoas)\n",
      "Fold 2 - Sexo 'Feminino' antes de balancear: 36.02% de mortes (268 mortes em 744 pessoas)\n",
      "Diferença entre homens e mulheres:  912\n",
      "Quantidade de mulheres após o SMOTE:  1655\n",
      "Fold 2 - Sexo 'Masculino' atualizado: 38.16% de mortes (632 mortes em 1656 pessoas)\n",
      "Fold 2 - Sexo 'Feminino' atualizado: 36.01% de mortes (596 mortes em 1655 pessoas)\n",
      "Distribuição e treino:  (array([0, 1]), array([2083, 1228]))\n",
      "--------------------------------------------------------------------------------------------\n",
      "Fold 3\n",
      "Fold 3 - Sexo 'Masculino' antes de balancear: 36.48% de mortes (575 mortes em 1576 pessoas)\n",
      "Fold 3 - Sexo 'Feminino' antes de balancear: 39.44% de mortes (325 mortes em 824 pessoas)\n",
      "Diferença entre homens e mulheres:  752\n",
      "Quantidade de mulheres após o SMOTE:  1575\n",
      "Fold 3 - Sexo 'Masculino' atualizado: 36.48% de mortes (575 mortes em 1576 pessoas)\n",
      "Fold 3 - Sexo 'Feminino' atualizado: 39.43% de mortes (621 mortes em 1575 pessoas)\n",
      "Distribuição e treino:  (array([0, 1]), array([1955, 1196]))\n",
      "--------------------------------------------------------------------------------------------\n",
      "Fold 4\n",
      "Fold 4 - Sexo 'Masculino' antes de balancear: 36.91% de mortes (599 mortes em 1623 pessoas)\n",
      "Fold 4 - Sexo 'Feminino' antes de balancear: 38.74% de mortes (301 mortes em 777 pessoas)\n",
      "Diferença entre homens e mulheres:  846\n",
      "Quantidade de mulheres após o SMOTE:  1622\n",
      "Fold 4 - Sexo 'Masculino' atualizado: 36.91% de mortes (599 mortes em 1623 pessoas)\n",
      "Fold 4 - Sexo 'Feminino' atualizado: 38.72% de mortes (628 mortes em 1622 pessoas)\n",
      "Distribuição e treino:  (array([0, 1]), array([2018, 1227]))\n",
      "--------------------------------------------------------------------------------------------\n",
      "Fold 5\n",
      "Fold 5 - Sexo 'Masculino' antes de balancear: 38.54% de mortes (622 mortes em 1614 pessoas)\n",
      "Fold 5 - Sexo 'Feminino' antes de balancear: 35.37% de mortes (278 mortes em 786 pessoas)\n",
      "Diferença entre homens e mulheres:  828\n",
      "Quantidade de mulheres após o SMOTE:  1613\n",
      "Fold 5 - Sexo 'Masculino' atualizado: 38.54% de mortes (622 mortes em 1614 pessoas)\n",
      "Fold 5 - Sexo 'Feminino' atualizado: 35.34% de mortes (570 mortes em 1613 pessoas)\n",
      "Distribuição e treino:  (array([0, 1]), array([2035, 1192]))\n",
      "--------------------------------------------------------------------------------------------\n",
      "MODELO: Random Forest\n",
      "Fold 1\n",
      "Fold 1 - Sexo 'Masculino' antes de balancear: 34.51% de mortes (538 mortes em 1559 pessoas)\n",
      "Fold 1 - Sexo 'Feminino' antes de balancear: 43.04% de mortes (362 mortes em 841 pessoas)\n",
      "Diferença entre homens e mulheres:  718\n",
      "Quantidade de mulheres após o SMOTE:  1558\n",
      "Fold 1 - Sexo 'Masculino' atualizado: 34.51% de mortes (538 mortes em 1559 pessoas)\n",
      "Fold 1 - Sexo 'Feminino' atualizado: 43.07% de mortes (671 mortes em 1558 pessoas)\n",
      "Distribuição e treino:  (array([0, 1]), array([1908, 1209]))\n",
      "--------------------------------------------------------------------------------------------\n",
      "Fold 2\n",
      "Fold 2 - Sexo 'Masculino' antes de balancear: 38.16% de mortes (632 mortes em 1656 pessoas)\n",
      "Fold 2 - Sexo 'Feminino' antes de balancear: 36.02% de mortes (268 mortes em 744 pessoas)\n",
      "Diferença entre homens e mulheres:  912\n",
      "Quantidade de mulheres após o SMOTE:  1655\n",
      "Fold 2 - Sexo 'Masculino' atualizado: 38.16% de mortes (632 mortes em 1656 pessoas)\n",
      "Fold 2 - Sexo 'Feminino' atualizado: 36.01% de mortes (596 mortes em 1655 pessoas)\n",
      "Distribuição e treino:  (array([0, 1]), array([2083, 1228]))\n",
      "--------------------------------------------------------------------------------------------\n",
      "Fold 3\n",
      "Fold 3 - Sexo 'Masculino' antes de balancear: 36.48% de mortes (575 mortes em 1576 pessoas)\n",
      "Fold 3 - Sexo 'Feminino' antes de balancear: 39.44% de mortes (325 mortes em 824 pessoas)\n",
      "Diferença entre homens e mulheres:  752\n",
      "Quantidade de mulheres após o SMOTE:  1575\n",
      "Fold 3 - Sexo 'Masculino' atualizado: 36.48% de mortes (575 mortes em 1576 pessoas)\n",
      "Fold 3 - Sexo 'Feminino' atualizado: 39.43% de mortes (621 mortes em 1575 pessoas)\n",
      "Distribuição e treino:  (array([0, 1]), array([1955, 1196]))\n",
      "--------------------------------------------------------------------------------------------\n",
      "Fold 4\n",
      "Fold 4 - Sexo 'Masculino' antes de balancear: 36.91% de mortes (599 mortes em 1623 pessoas)\n",
      "Fold 4 - Sexo 'Feminino' antes de balancear: 38.74% de mortes (301 mortes em 777 pessoas)\n",
      "Diferença entre homens e mulheres:  846\n",
      "Quantidade de mulheres após o SMOTE:  1622\n",
      "Fold 4 - Sexo 'Masculino' atualizado: 36.91% de mortes (599 mortes em 1623 pessoas)\n",
      "Fold 4 - Sexo 'Feminino' atualizado: 38.72% de mortes (628 mortes em 1622 pessoas)\n",
      "Distribuição e treino:  (array([0, 1]), array([2018, 1227]))\n",
      "--------------------------------------------------------------------------------------------\n",
      "Fold 5\n",
      "Fold 5 - Sexo 'Masculino' antes de balancear: 38.54% de mortes (622 mortes em 1614 pessoas)\n",
      "Fold 5 - Sexo 'Feminino' antes de balancear: 35.37% de mortes (278 mortes em 786 pessoas)\n",
      "Diferença entre homens e mulheres:  828\n",
      "Quantidade de mulheres após o SMOTE:  1613\n",
      "Fold 5 - Sexo 'Masculino' atualizado: 38.54% de mortes (622 mortes em 1614 pessoas)\n",
      "Fold 5 - Sexo 'Feminino' atualizado: 35.34% de mortes (570 mortes em 1613 pessoas)\n",
      "Distribuição e treino:  (array([0, 1]), array([2035, 1192]))\n",
      "--------------------------------------------------------------------------------------------\n"
     ]
    }
   ],
   "source": [
    "from sklearn.base import clone\n",
    "from sklearn.metrics import accuracy_score, balanced_accuracy_score, recall_score, f1_score, precision_score\n",
    "\n",
    "\n",
    "cv = StratifiedKFold(n_splits=5, shuffle=True, random_state=42)\n",
    "\n",
    "save_best_models = {'kNN':[], 'Logistic Regression':[], 'Random Forest':[]}\n",
    "predictions_per_model = {'kNN':[], 'Logistic Regression':[], 'Random Forest':[]}\n",
    "\n",
    "all_reports = {}\n",
    "for name, base_model in models:\n",
    "\n",
    "    print(f\"MODELO: {name}\")\n",
    "    all_reports[name] = []\n",
    "    predictions_per_model[name] = []\n",
    "    \n",
    "    for fold, (train_idx, val_idx) in enumerate(cv.split(X_train, y_train)):\n",
    "        print(f'Fold {fold+1}')\n",
    "        X_train_fold, X_val = X_train[train_idx], X_train[val_idx]\n",
    "        y_train_fold, y_val = y_train[train_idx], y_train[val_idx]\n",
    "\n",
    "        # Transformando classe minoritária em 20% da classe majoritária\n",
    "        oversample = SMOTE(sampling_strategy=0.2, random_state=42)\n",
    "        X_train_fold, y_train_fold = oversample.fit_resample(X_train_fold, y_train_fold)\n",
    "\n",
    "        # Transformando classe majoritária em 1.5x da minoritária\n",
    "        nm = NearMiss(sampling_strategy=0.6)\n",
    "        X_train_fold, y_train_fold = nm.fit_resample(X_train_fold, y_train_fold)\n",
    "\n",
    "        # Clonando o modelo\n",
    "        model = clone(base_model)\n",
    "\n",
    "        # Analisando a porcentagem de mortes para cada Sexo\n",
    "        unique_Sexos = np.unique(X_train_fold[:, Sexo_idx])\n",
    "        for sexo_uni in unique_Sexos:\n",
    "\n",
    "            mask = X_train_fold[:, Sexo_idx] == sexo_uni # True apenas para aquele sexo específico\n",
    "            death_count = np.sum(y_train_fold[mask] == 1) # Total de mortes para aquele sexo específico\n",
    "            death_pct = death_count / np.sum(mask) # Porcentagem de mortes para aquele sexo específico\n",
    "\n",
    "            label = Sexo_labels.get(sexo_uni, sexo_uni)\n",
    "            print(f\"Fold {fold+1} - Sexo '{label}' antes de balancear: {(death_pct*100):.2f}% de mortes ({death_count} mortes em {np.sum(mask)} pessoas)\")\n",
    "\n",
    "        # Balanceando taxas de morte entre Sexo=0 e 1 (versão invertida)\n",
    "        sexoMasculino_mask = X_train_fold[:, Sexo_idx] == 0\n",
    "        sexoFeminino_mask = X_train_fold[:, Sexo_idx] == 1\n",
    "\n",
    "        # Filtrando os grupos\n",
    "        X_sexoMasculino = X_train_fold[sexoMasculino_mask]\n",
    "        y_sexoMasculino = y_train_fold[sexoMasculino_mask]\n",
    "\n",
    "        X_sexoFeminino = X_train_fold[sexoFeminino_mask]\n",
    "        y_sexoFeminino = y_train_fold[sexoFeminino_mask]\n",
    "\n",
    "        # Contando mortes em cada grupo\n",
    "        deathsMasculino = np.sum(y_sexoMasculino == 1)\n",
    "        deathsFeminino = np.sum(y_sexoFeminino == 1)\n",
    "        \n",
    "        # Contando o total de cada grupo\n",
    "        totalMasculino = len(y_sexoMasculino)\n",
    "        totalFeminino = len(y_sexoFeminino)\n",
    "\n",
    "        # Calculando a taxa de morte para cada grupo\n",
    "        rateMasculino = deathsMasculino/ totalMasculino\n",
    "        rateFeminino = deathsFeminino/ totalFeminino\n",
    "\n",
    "        # Calculando quantas mulheres devem ser aumentadas para igualar com o número de homens\n",
    "        difference = totalMasculino - totalFeminino\n",
    "        print(\"Diferença entre homens e mulheres: \", difference)\n",
    "\n",
    "        over_pct = totalMasculino / totalFeminino\n",
    "        # Calculando a sampling strategy para o número de mulheres se igualar ao de homens\n",
    "        sampling_strategy = {1: int(deathsFeminino * (over_pct)) , 0:int((totalFeminino - deathsFeminino) * over_pct)}  # Aumentando mulheres para igualar com homens\n",
    "\n",
    "        # Aplicando o SMOTE para balancer homens e mulheres com 50/50\n",
    "        oversampleFeminino = SMOTE(sampling_strategy=sampling_strategy, random_state=42)\n",
    "        X_sexoFeminino_res, y_sexoFeminino_res = oversampleFeminino.fit_resample(X_sexoFeminino, y_sexoFeminino)\n",
    "        print(\"Quantidade de mulheres após o SMOTE: \", len(y_sexoFeminino_res))\n",
    "\n",
    "        # Concatenando os novos exemplos femininos com os antigos masculinos para balancear\n",
    "        X_train_fold = np.concatenate((X_sexoMasculino, X_sexoFeminino_res), axis=0)\n",
    "        y_train_fold = np.concatenate((y_sexoMasculino, y_sexoFeminino_res), axis=0)\n",
    "\n",
    "        # Analisando a porcentagem de mortes para cada Sexo\n",
    "        unique_Sexos = np.unique(X_train_fold[:, Sexo_idx])\n",
    "\n",
    "        for sexo_uni in unique_Sexos:\n",
    "            # Get a boolean mask for rows where Sexo equals sexo_uni\n",
    "            mask = X_train_fold[:, Sexo_idx] == sexo_uni\n",
    "            # Count deaths (assuming y_train_fold==1 means death)\n",
    "            death_count = np.sum(y_train_fold[mask] == 1)\n",
    "            death_pct = death_count / np.sum(mask)\n",
    "            # Map the numeric Sexo value to a descriptive label\n",
    "            label = Sexo_labels.get(sexo_uni, sexo_uni)\n",
    "            print(f\"Fold {fold+1} - Sexo '{label}' atualizado: {(death_pct*100):.2f}% de mortes ({death_count} mortes em {np.sum(mask)} pessoas)\")\n",
    "\n",
    "        # Definindo o GridSearch\n",
    "        grid = GridSearchCV(\n",
    "            model,\n",
    "            param_grid=param_grids[name],\n",
    "            scoring={'recall': 'recall', 'precision': 'precision'},\n",
    "            refit='recall',  # Mais importante para prever o nosso modelo\n",
    "            cv=5,\n",
    "            n_jobs=1)\n",
    "\n",
    "        # Ajustando o modelo com os dados balanceados\n",
    "        grid.fit(X_train_fold, y_train_fold)\n",
    "\n",
    "        # Usando o melhor modelo\n",
    "        best_model = grid.best_estimator_\n",
    "\n",
    "        # Avaliando o modelo\n",
    "        y_pred = best_model.predict(X_val)\n",
    "\n",
    "        # Calculando as métricas\n",
    "        accuracy = accuracy_score(y_val, y_pred)\n",
    "        balanced_acc = balanced_accuracy_score(y_val, y_pred)\n",
    "        recall = recall_score(y_val, y_pred, zero_division=0)\n",
    "        f1 = f1_score(y_val, y_pred, zero_division=0)\n",
    "        precision = precision_score(y_val, y_pred, zero_division=0)\n",
    "\n",
    "        # Salvando como lista [acc, balanced_acc, recall, f1]\n",
    "        metrics = {'model_iteration': f'{name}_{fold}','precision': precision,'accuracy': accuracy, 'balanced_accuracy': balanced_acc, 'recall': recall, 'f1_score': f1}\n",
    "        all_reports[name].append(metrics)\n",
    "\n",
    "        # Mostrando a distribuição do y treino, para ver se o 60% foi respeitado\n",
    "        print(\"Distribuição e treino: \", np.unique(y_train_fold, return_counts=True))\n",
    "        print(\"--------------------------------------------------------------------------------------------\")\n",
    "\n",
    "\n",
    "        save_best_models[name].append(best_model)\n",
    "        predictions_per_model[name].append({'predicted': y_pred, 'actual': y_val})\n",
    "    "
   ]
  },
  {
   "cell_type": "markdown",
   "metadata": {},
   "source": [
    "Para cada modelo treinado, avaliaremos os folds, escolhendo um melhor. O critério principal será o f1 score, e como desempate o recall, e posteriormente a acurácia balanceada."
   ]
  },
  {
   "cell_type": "code",
   "execution_count": 189,
   "metadata": {},
   "outputs": [
    {
     "data": {
      "text/html": [
       "<div>\n",
       "<style scoped>\n",
       "    .dataframe tbody tr th:only-of-type {\n",
       "        vertical-align: middle;\n",
       "    }\n",
       "\n",
       "    .dataframe tbody tr th {\n",
       "        vertical-align: top;\n",
       "    }\n",
       "\n",
       "    .dataframe thead th {\n",
       "        text-align: right;\n",
       "    }\n",
       "</style>\n",
       "<table border=\"1\" class=\"dataframe\">\n",
       "  <thead>\n",
       "    <tr style=\"text-align: right;\">\n",
       "      <th></th>\n",
       "      <th>model_iteration</th>\n",
       "      <th>precision</th>\n",
       "      <th>accuracy</th>\n",
       "      <th>balanced_accuracy</th>\n",
       "      <th>recall</th>\n",
       "      <th>f1_score</th>\n",
       "    </tr>\n",
       "  </thead>\n",
       "  <tbody>\n",
       "    <tr>\n",
       "      <th>0</th>\n",
       "      <td>kNN_0</td>\n",
       "      <td>0.164179</td>\n",
       "      <td>0.934313</td>\n",
       "      <td>0.652553</td>\n",
       "      <td>0.354839</td>\n",
       "      <td>0.224490</td>\n",
       "    </tr>\n",
       "    <tr>\n",
       "      <th>1</th>\n",
       "      <td>kNN_1</td>\n",
       "      <td>0.175676</td>\n",
       "      <td>0.930856</td>\n",
       "      <td>0.676014</td>\n",
       "      <td>0.406250</td>\n",
       "      <td>0.245283</td>\n",
       "    </tr>\n",
       "    <tr>\n",
       "      <th>2</th>\n",
       "      <td>kNN_2</td>\n",
       "      <td>0.205882</td>\n",
       "      <td>0.920484</td>\n",
       "      <td>0.792125</td>\n",
       "      <td>0.656250</td>\n",
       "      <td>0.313433</td>\n",
       "    </tr>\n",
       "    <tr>\n",
       "      <th>3</th>\n",
       "      <td>kNN_3</td>\n",
       "      <td>0.205479</td>\n",
       "      <td>0.935177</td>\n",
       "      <td>0.708597</td>\n",
       "      <td>0.468750</td>\n",
       "      <td>0.285714</td>\n",
       "    </tr>\n",
       "    <tr>\n",
       "      <th>4</th>\n",
       "      <td>kNN_4</td>\n",
       "      <td>0.240964</td>\n",
       "      <td>0.935986</td>\n",
       "      <td>0.794581</td>\n",
       "      <td>0.645161</td>\n",
       "      <td>0.350877</td>\n",
       "    </tr>\n",
       "    <tr>\n",
       "      <th>0</th>\n",
       "      <td>Logistic Regression_0</td>\n",
       "      <td>0.250000</td>\n",
       "      <td>0.949006</td>\n",
       "      <td>0.707156</td>\n",
       "      <td>0.451613</td>\n",
       "      <td>0.321839</td>\n",
       "    </tr>\n",
       "    <tr>\n",
       "      <th>1</th>\n",
       "      <td>Logistic Regression_1</td>\n",
       "      <td>0.206897</td>\n",
       "      <td>0.942956</td>\n",
       "      <td>0.667056</td>\n",
       "      <td>0.375000</td>\n",
       "      <td>0.266667</td>\n",
       "    </tr>\n",
       "    <tr>\n",
       "      <th>2</th>\n",
       "      <td>Logistic Regression_2</td>\n",
       "      <td>0.291667</td>\n",
       "      <td>0.946413</td>\n",
       "      <td>0.805458</td>\n",
       "      <td>0.656250</td>\n",
       "      <td>0.403846</td>\n",
       "    </tr>\n",
       "    <tr>\n",
       "      <th>3</th>\n",
       "      <td>Logistic Regression_3</td>\n",
       "      <td>0.327869</td>\n",
       "      <td>0.954192</td>\n",
       "      <td>0.794278</td>\n",
       "      <td>0.625000</td>\n",
       "      <td>0.430108</td>\n",
       "    </tr>\n",
       "    <tr>\n",
       "      <th>4</th>\n",
       "      <td>Logistic Regression_4</td>\n",
       "      <td>0.300000</td>\n",
       "      <td>0.948962</td>\n",
       "      <td>0.816932</td>\n",
       "      <td>0.677419</td>\n",
       "      <td>0.415842</td>\n",
       "    </tr>\n",
       "    <tr>\n",
       "      <th>0</th>\n",
       "      <td>Random Forest_0</td>\n",
       "      <td>0.392857</td>\n",
       "      <td>0.968021</td>\n",
       "      <td>0.669871</td>\n",
       "      <td>0.354839</td>\n",
       "      <td>0.372881</td>\n",
       "    </tr>\n",
       "    <tr>\n",
       "      <th>1</th>\n",
       "      <td>Random Forest_1</td>\n",
       "      <td>0.178571</td>\n",
       "      <td>0.956785</td>\n",
       "      <td>0.567903</td>\n",
       "      <td>0.156250</td>\n",
       "      <td>0.166667</td>\n",
       "    </tr>\n",
       "    <tr>\n",
       "      <th>2</th>\n",
       "      <td>Random Forest_2</td>\n",
       "      <td>0.360000</td>\n",
       "      <td>0.960242</td>\n",
       "      <td>0.767028</td>\n",
       "      <td>0.562500</td>\n",
       "      <td>0.439024</td>\n",
       "    </tr>\n",
       "    <tr>\n",
       "      <th>3</th>\n",
       "      <td>Random Forest_3</td>\n",
       "      <td>0.437500</td>\n",
       "      <td>0.968885</td>\n",
       "      <td>0.710750</td>\n",
       "      <td>0.437500</td>\n",
       "      <td>0.437500</td>\n",
       "    </tr>\n",
       "    <tr>\n",
       "      <th>4</th>\n",
       "      <td>Random Forest_4</td>\n",
       "      <td>0.333333</td>\n",
       "      <td>0.962803</td>\n",
       "      <td>0.682882</td>\n",
       "      <td>0.387097</td>\n",
       "      <td>0.358209</td>\n",
       "    </tr>\n",
       "  </tbody>\n",
       "</table>\n",
       "</div>"
      ],
      "text/plain": [
       "         model_iteration  precision  accuracy  balanced_accuracy    recall  \\\n",
       "0                  kNN_0   0.164179  0.934313           0.652553  0.354839   \n",
       "1                  kNN_1   0.175676  0.930856           0.676014  0.406250   \n",
       "2                  kNN_2   0.205882  0.920484           0.792125  0.656250   \n",
       "3                  kNN_3   0.205479  0.935177           0.708597  0.468750   \n",
       "4                  kNN_4   0.240964  0.935986           0.794581  0.645161   \n",
       "0  Logistic Regression_0   0.250000  0.949006           0.707156  0.451613   \n",
       "1  Logistic Regression_1   0.206897  0.942956           0.667056  0.375000   \n",
       "2  Logistic Regression_2   0.291667  0.946413           0.805458  0.656250   \n",
       "3  Logistic Regression_3   0.327869  0.954192           0.794278  0.625000   \n",
       "4  Logistic Regression_4   0.300000  0.948962           0.816932  0.677419   \n",
       "0        Random Forest_0   0.392857  0.968021           0.669871  0.354839   \n",
       "1        Random Forest_1   0.178571  0.956785           0.567903  0.156250   \n",
       "2        Random Forest_2   0.360000  0.960242           0.767028  0.562500   \n",
       "3        Random Forest_3   0.437500  0.968885           0.710750  0.437500   \n",
       "4        Random Forest_4   0.333333  0.962803           0.682882  0.387097   \n",
       "\n",
       "   f1_score  \n",
       "0  0.224490  \n",
       "1  0.245283  \n",
       "2  0.313433  \n",
       "3  0.285714  \n",
       "4  0.350877  \n",
       "0  0.321839  \n",
       "1  0.266667  \n",
       "2  0.403846  \n",
       "3  0.430108  \n",
       "4  0.415842  \n",
       "0  0.372881  \n",
       "1  0.166667  \n",
       "2  0.439024  \n",
       "3  0.437500  \n",
       "4  0.358209  "
      ]
     },
     "execution_count": 189,
     "metadata": {},
     "output_type": "execute_result"
    }
   ],
   "source": [
    "metrics_knn = pd.DataFrame(all_reports['kNN'], columns=['model_iteration','precision','accuracy', 'balanced_accuracy', 'recall', 'f1_score'])\n",
    "metrics_logreg = pd.DataFrame(all_reports['Logistic Regression'], columns=['model_iteration', 'precision', 'accuracy', 'balanced_accuracy', 'recall', 'f1_score'])\n",
    "metrics_rf = pd.DataFrame(all_reports['Random Forest'], columns=['model_iteration', 'precision', 'accuracy', 'balanced_accuracy', 'recall', 'f1_score'])\n",
    "\n",
    "metrics = pd.concat([metrics_knn, metrics_logreg, metrics_rf], axis=0)\n",
    "metrics"
   ]
  },
  {
   "cell_type": "markdown",
   "metadata": {},
   "source": [
    "Escolhendo o melhor fold para cada algoritmo, considerando o recall como métrica principal"
   ]
  },
  {
   "cell_type": "code",
   "execution_count": 190,
   "metadata": {},
   "outputs": [
    {
     "data": {
      "text/html": [
       "<div>\n",
       "<style scoped>\n",
       "    .dataframe tbody tr th:only-of-type {\n",
       "        vertical-align: middle;\n",
       "    }\n",
       "\n",
       "    .dataframe tbody tr th {\n",
       "        vertical-align: top;\n",
       "    }\n",
       "\n",
       "    .dataframe thead th {\n",
       "        text-align: right;\n",
       "    }\n",
       "</style>\n",
       "<table border=\"1\" class=\"dataframe\">\n",
       "  <thead>\n",
       "    <tr style=\"text-align: right;\">\n",
       "      <th></th>\n",
       "      <th>model_iteration</th>\n",
       "      <th>precision</th>\n",
       "      <th>accuracy</th>\n",
       "      <th>balanced_accuracy</th>\n",
       "      <th>recall</th>\n",
       "      <th>f1_score</th>\n",
       "    </tr>\n",
       "  </thead>\n",
       "  <tbody>\n",
       "    <tr>\n",
       "      <th>0</th>\n",
       "      <td>kNN_0</td>\n",
       "      <td>0.164179</td>\n",
       "      <td>0.934313</td>\n",
       "      <td>0.652553</td>\n",
       "      <td>0.354839</td>\n",
       "      <td>0.224490</td>\n",
       "    </tr>\n",
       "    <tr>\n",
       "      <th>1</th>\n",
       "      <td>kNN_1</td>\n",
       "      <td>0.175676</td>\n",
       "      <td>0.930856</td>\n",
       "      <td>0.676014</td>\n",
       "      <td>0.406250</td>\n",
       "      <td>0.245283</td>\n",
       "    </tr>\n",
       "    <tr>\n",
       "      <th>2</th>\n",
       "      <td>kNN_2</td>\n",
       "      <td>0.205882</td>\n",
       "      <td>0.920484</td>\n",
       "      <td>0.792125</td>\n",
       "      <td>0.656250</td>\n",
       "      <td>0.313433</td>\n",
       "    </tr>\n",
       "    <tr>\n",
       "      <th>3</th>\n",
       "      <td>kNN_3</td>\n",
       "      <td>0.205479</td>\n",
       "      <td>0.935177</td>\n",
       "      <td>0.708597</td>\n",
       "      <td>0.468750</td>\n",
       "      <td>0.285714</td>\n",
       "    </tr>\n",
       "    <tr>\n",
       "      <th>4</th>\n",
       "      <td>kNN_4</td>\n",
       "      <td>0.240964</td>\n",
       "      <td>0.935986</td>\n",
       "      <td>0.794581</td>\n",
       "      <td>0.645161</td>\n",
       "      <td>0.350877</td>\n",
       "    </tr>\n",
       "  </tbody>\n",
       "</table>\n",
       "</div>"
      ],
      "text/plain": [
       "  model_iteration  precision  accuracy  balanced_accuracy    recall  f1_score\n",
       "0           kNN_0   0.164179  0.934313           0.652553  0.354839  0.224490\n",
       "1           kNN_1   0.175676  0.930856           0.676014  0.406250  0.245283\n",
       "2           kNN_2   0.205882  0.920484           0.792125  0.656250  0.313433\n",
       "3           kNN_3   0.205479  0.935177           0.708597  0.468750  0.285714\n",
       "4           kNN_4   0.240964  0.935986           0.794581  0.645161  0.350877"
      ]
     },
     "execution_count": 190,
     "metadata": {},
     "output_type": "execute_result"
    }
   ],
   "source": [
    "# O que obteve o melhor resultado foi o Knn_4\n",
    "metrics_knn"
   ]
  },
  {
   "cell_type": "code",
   "execution_count": 191,
   "metadata": {},
   "outputs": [
    {
     "data": {
      "text/html": [
       "<div>\n",
       "<style scoped>\n",
       "    .dataframe tbody tr th:only-of-type {\n",
       "        vertical-align: middle;\n",
       "    }\n",
       "\n",
       "    .dataframe tbody tr th {\n",
       "        vertical-align: top;\n",
       "    }\n",
       "\n",
       "    .dataframe thead th {\n",
       "        text-align: right;\n",
       "    }\n",
       "</style>\n",
       "<table border=\"1\" class=\"dataframe\">\n",
       "  <thead>\n",
       "    <tr style=\"text-align: right;\">\n",
       "      <th></th>\n",
       "      <th>model_iteration</th>\n",
       "      <th>precision</th>\n",
       "      <th>accuracy</th>\n",
       "      <th>balanced_accuracy</th>\n",
       "      <th>recall</th>\n",
       "      <th>f1_score</th>\n",
       "    </tr>\n",
       "  </thead>\n",
       "  <tbody>\n",
       "    <tr>\n",
       "      <th>0</th>\n",
       "      <td>Logistic Regression_0</td>\n",
       "      <td>0.250000</td>\n",
       "      <td>0.949006</td>\n",
       "      <td>0.707156</td>\n",
       "      <td>0.451613</td>\n",
       "      <td>0.321839</td>\n",
       "    </tr>\n",
       "    <tr>\n",
       "      <th>1</th>\n",
       "      <td>Logistic Regression_1</td>\n",
       "      <td>0.206897</td>\n",
       "      <td>0.942956</td>\n",
       "      <td>0.667056</td>\n",
       "      <td>0.375000</td>\n",
       "      <td>0.266667</td>\n",
       "    </tr>\n",
       "    <tr>\n",
       "      <th>2</th>\n",
       "      <td>Logistic Regression_2</td>\n",
       "      <td>0.291667</td>\n",
       "      <td>0.946413</td>\n",
       "      <td>0.805458</td>\n",
       "      <td>0.656250</td>\n",
       "      <td>0.403846</td>\n",
       "    </tr>\n",
       "    <tr>\n",
       "      <th>3</th>\n",
       "      <td>Logistic Regression_3</td>\n",
       "      <td>0.327869</td>\n",
       "      <td>0.954192</td>\n",
       "      <td>0.794278</td>\n",
       "      <td>0.625000</td>\n",
       "      <td>0.430108</td>\n",
       "    </tr>\n",
       "    <tr>\n",
       "      <th>4</th>\n",
       "      <td>Logistic Regression_4</td>\n",
       "      <td>0.300000</td>\n",
       "      <td>0.948962</td>\n",
       "      <td>0.816932</td>\n",
       "      <td>0.677419</td>\n",
       "      <td>0.415842</td>\n",
       "    </tr>\n",
       "  </tbody>\n",
       "</table>\n",
       "</div>"
      ],
      "text/plain": [
       "         model_iteration  precision  accuracy  balanced_accuracy    recall  \\\n",
       "0  Logistic Regression_0   0.250000  0.949006           0.707156  0.451613   \n",
       "1  Logistic Regression_1   0.206897  0.942956           0.667056  0.375000   \n",
       "2  Logistic Regression_2   0.291667  0.946413           0.805458  0.656250   \n",
       "3  Logistic Regression_3   0.327869  0.954192           0.794278  0.625000   \n",
       "4  Logistic Regression_4   0.300000  0.948962           0.816932  0.677419   \n",
       "\n",
       "   f1_score  \n",
       "0  0.321839  \n",
       "1  0.266667  \n",
       "2  0.403846  \n",
       "3  0.430108  \n",
       "4  0.415842  "
      ]
     },
     "execution_count": 191,
     "metadata": {},
     "output_type": "execute_result"
    }
   ],
   "source": [
    "# O que obteve o melhor resultado foi o log_4\n",
    "metrics_logreg"
   ]
  },
  {
   "cell_type": "code",
   "execution_count": 192,
   "metadata": {},
   "outputs": [
    {
     "data": {
      "text/html": [
       "<div>\n",
       "<style scoped>\n",
       "    .dataframe tbody tr th:only-of-type {\n",
       "        vertical-align: middle;\n",
       "    }\n",
       "\n",
       "    .dataframe tbody tr th {\n",
       "        vertical-align: top;\n",
       "    }\n",
       "\n",
       "    .dataframe thead th {\n",
       "        text-align: right;\n",
       "    }\n",
       "</style>\n",
       "<table border=\"1\" class=\"dataframe\">\n",
       "  <thead>\n",
       "    <tr style=\"text-align: right;\">\n",
       "      <th></th>\n",
       "      <th>model_iteration</th>\n",
       "      <th>precision</th>\n",
       "      <th>accuracy</th>\n",
       "      <th>balanced_accuracy</th>\n",
       "      <th>recall</th>\n",
       "      <th>f1_score</th>\n",
       "    </tr>\n",
       "  </thead>\n",
       "  <tbody>\n",
       "    <tr>\n",
       "      <th>0</th>\n",
       "      <td>Random Forest_0</td>\n",
       "      <td>0.392857</td>\n",
       "      <td>0.968021</td>\n",
       "      <td>0.669871</td>\n",
       "      <td>0.354839</td>\n",
       "      <td>0.372881</td>\n",
       "    </tr>\n",
       "    <tr>\n",
       "      <th>1</th>\n",
       "      <td>Random Forest_1</td>\n",
       "      <td>0.178571</td>\n",
       "      <td>0.956785</td>\n",
       "      <td>0.567903</td>\n",
       "      <td>0.156250</td>\n",
       "      <td>0.166667</td>\n",
       "    </tr>\n",
       "    <tr>\n",
       "      <th>2</th>\n",
       "      <td>Random Forest_2</td>\n",
       "      <td>0.360000</td>\n",
       "      <td>0.960242</td>\n",
       "      <td>0.767028</td>\n",
       "      <td>0.562500</td>\n",
       "      <td>0.439024</td>\n",
       "    </tr>\n",
       "    <tr>\n",
       "      <th>3</th>\n",
       "      <td>Random Forest_3</td>\n",
       "      <td>0.437500</td>\n",
       "      <td>0.968885</td>\n",
       "      <td>0.710750</td>\n",
       "      <td>0.437500</td>\n",
       "      <td>0.437500</td>\n",
       "    </tr>\n",
       "    <tr>\n",
       "      <th>4</th>\n",
       "      <td>Random Forest_4</td>\n",
       "      <td>0.333333</td>\n",
       "      <td>0.962803</td>\n",
       "      <td>0.682882</td>\n",
       "      <td>0.387097</td>\n",
       "      <td>0.358209</td>\n",
       "    </tr>\n",
       "  </tbody>\n",
       "</table>\n",
       "</div>"
      ],
      "text/plain": [
       "   model_iteration  precision  accuracy  balanced_accuracy    recall  f1_score\n",
       "0  Random Forest_0   0.392857  0.968021           0.669871  0.354839  0.372881\n",
       "1  Random Forest_1   0.178571  0.956785           0.567903  0.156250  0.166667\n",
       "2  Random Forest_2   0.360000  0.960242           0.767028  0.562500  0.439024\n",
       "3  Random Forest_3   0.437500  0.968885           0.710750  0.437500  0.437500\n",
       "4  Random Forest_4   0.333333  0.962803           0.682882  0.387097  0.358209"
      ]
     },
     "execution_count": 192,
     "metadata": {},
     "output_type": "execute_result"
    }
   ],
   "source": [
    "# O que obteve o melhor resultado foi o rf_3\n",
    "metrics_rf"
   ]
  },
  {
   "cell_type": "markdown",
   "metadata": {},
   "source": [
    "Agora, selecionaremos o melhor de cada um dos algoritmos, para efeito de comparação:"
   ]
  },
  {
   "cell_type": "code",
   "execution_count": 193,
   "metadata": {},
   "outputs": [
    {
     "data": {
      "text/html": [
       "<div>\n",
       "<style scoped>\n",
       "    .dataframe tbody tr th:only-of-type {\n",
       "        vertical-align: middle;\n",
       "    }\n",
       "\n",
       "    .dataframe tbody tr th {\n",
       "        vertical-align: top;\n",
       "    }\n",
       "\n",
       "    .dataframe thead th {\n",
       "        text-align: right;\n",
       "    }\n",
       "</style>\n",
       "<table border=\"1\" class=\"dataframe\">\n",
       "  <thead>\n",
       "    <tr style=\"text-align: right;\">\n",
       "      <th></th>\n",
       "      <th>model_iteration</th>\n",
       "      <th>precision</th>\n",
       "      <th>accuracy</th>\n",
       "      <th>balanced_accuracy</th>\n",
       "      <th>recall</th>\n",
       "      <th>f1_score</th>\n",
       "    </tr>\n",
       "  </thead>\n",
       "  <tbody>\n",
       "    <tr>\n",
       "      <th>4</th>\n",
       "      <td>kNN_4</td>\n",
       "      <td>0.240964</td>\n",
       "      <td>0.935986</td>\n",
       "      <td>0.794581</td>\n",
       "      <td>0.645161</td>\n",
       "      <td>0.350877</td>\n",
       "    </tr>\n",
       "    <tr>\n",
       "      <th>4</th>\n",
       "      <td>Logistic Regression_4</td>\n",
       "      <td>0.300000</td>\n",
       "      <td>0.948962</td>\n",
       "      <td>0.816932</td>\n",
       "      <td>0.677419</td>\n",
       "      <td>0.415842</td>\n",
       "    </tr>\n",
       "    <tr>\n",
       "      <th>3</th>\n",
       "      <td>Random Forest_3</td>\n",
       "      <td>0.437500</td>\n",
       "      <td>0.968885</td>\n",
       "      <td>0.710750</td>\n",
       "      <td>0.437500</td>\n",
       "      <td>0.437500</td>\n",
       "    </tr>\n",
       "  </tbody>\n",
       "</table>\n",
       "</div>"
      ],
      "text/plain": [
       "         model_iteration  precision  accuracy  balanced_accuracy    recall  \\\n",
       "4                  kNN_4   0.240964  0.935986           0.794581  0.645161   \n",
       "4  Logistic Regression_4   0.300000  0.948962           0.816932  0.677419   \n",
       "3        Random Forest_3   0.437500  0.968885           0.710750  0.437500   \n",
       "\n",
       "   f1_score  \n",
       "4  0.350877  \n",
       "4  0.415842  \n",
       "3  0.437500  "
      ]
     },
     "execution_count": 193,
     "metadata": {},
     "output_type": "execute_result"
    }
   ],
   "source": [
    "best_metrics = metrics.loc[\n",
    "    (metrics['model_iteration'] == 'kNN_4') | \n",
    "    (metrics['model_iteration'] == 'Logistic Regression_4') |\n",
    "    (metrics['model_iteration'] == 'Random Forest_3')\n",
    "]\n",
    "best_metrics\n"
   ]
  },
  {
   "cell_type": "markdown",
   "metadata": {},
   "source": [
    "Apesar de ter o melhor f1_score, em virtude do recall baixo em comparação os outros modelos, o random forest foi desconsiderado, já que o recall é uma métrica mais importante para o objetivo da predição.\n",
    "Apesar da regressão logística ser consideravelmente superior na precisão, teve um recall um pouco mais baixo. Portanto, como no nosso caso é importante que, caso uma pessoa vá a óbito, o nosso modelo acerte, mesmo que ainda preveja errado algumas outras, consideraremos o recall como métrica mais importante nesse caso, e o Knn se mostrou mais robusto nesse sentido."
   ]
  },
  {
   "cell_type": "code",
   "execution_count": 194,
   "metadata": {},
   "outputs": [
    {
     "data": {
      "image/png": "[encoded data removed]",
      "text/plain": [
       "<Figure size 800x600 with 2 Axes>"
      ]
     },
     "metadata": {},
     "output_type": "display_data"
    }
   ],
   "source": [
    "# Mostrando a matriz de confusão para o melhor modelo\n",
    "import matplotlib.pyplot as plt\n",
    "import seaborn as sns\n",
    "from sklearn.metrics import confusion_matrix\n",
    "\n",
    "y_true = predictions_per_model['kNN'][4]['actual']\n",
    "y_pred = predictions_per_model['kNN'][4]['predicted']\n",
    "\n",
    "cm = confusion_matrix(y_true, y_pred)\n",
    "plt.figure(figsize=(8, 6))\n",
    "sns.heatmap(cm, annot=True, fmt='d', cmap='Blues', xticklabels=['Cura', 'Óbito'], yticklabels=['Cura', 'Óbito'])\n",
    "plt.xlabel('Previsão do modelo')\n",
    "plt.ylabel('Classificação real')\n",
    "plt.title('Matriz de Confusão para o melhor modelo na validação após balanceamento considerando as classes de fairness')\n",
    "plt.savefig('./source/images/matriz_confusao_validacao_fairness.png')\n"
   ]
  },
  {
   "cell_type": "markdown",
   "metadata": {},
   "source": [
    "## Testando o melhor modelo"
   ]
  },
  {
   "cell_type": "code",
   "execution_count": 195,
   "metadata": {},
   "outputs": [],
   "source": [
    "melhor_modelo = save_best_models['kNN'][4]\n",
    "y_pred = melhor_modelo.predict(X_test)\n"
   ]
  },
  {
   "cell_type": "markdown",
   "metadata": {},
   "source": [
    "Calculando as métricas para o melhor modelo no conjunto de testes:"
   ]
  },
  {
   "cell_type": "code",
   "execution_count": 196,
   "metadata": {},
   "outputs": [
    {
     "data": {
      "text/html": [
       "<div>\n",
       "<style scoped>\n",
       "    .dataframe tbody tr th:only-of-type {\n",
       "        vertical-align: middle;\n",
       "    }\n",
       "\n",
       "    .dataframe tbody tr th {\n",
       "        vertical-align: top;\n",
       "    }\n",
       "\n",
       "    .dataframe thead th {\n",
       "        text-align: right;\n",
       "    }\n",
       "</style>\n",
       "<table border=\"1\" class=\"dataframe\">\n",
       "  <thead>\n",
       "    <tr style=\"text-align: right;\">\n",
       "      <th></th>\n",
       "      <th>precision</th>\n",
       "      <th>recall</th>\n",
       "      <th>f1_score</th>\n",
       "    </tr>\n",
       "  </thead>\n",
       "  <tbody>\n",
       "    <tr>\n",
       "      <th>0</th>\n",
       "      <td>0.211538</td>\n",
       "      <td>0.6875</td>\n",
       "      <td>0.323529</td>\n",
       "    </tr>\n",
       "  </tbody>\n",
       "</table>\n",
       "</div>"
      ],
      "text/plain": [
       "   precision  recall  f1_score\n",
       "0   0.211538  0.6875  0.323529"
      ]
     },
     "execution_count": 196,
     "metadata": {},
     "output_type": "execute_result"
    }
   ],
   "source": [
    "results = pd.DataFrame({'precision': [precision_score(y_test, y_pred)],\n",
    "              'recall': [recall_score(y_test, y_pred)],\n",
    "              'f1_score': [f1_score(y_test, y_pred)]})\n",
    "\n",
    "results\n",
    "\n"
   ]
  },
  {
   "cell_type": "code",
   "execution_count": 197,
   "metadata": {},
   "outputs": [
    {
     "data": {
      "image/png": "[encoded data removed]",
      "text/plain": [
       "<Figure size 800x600 with 2 Axes>"
      ]
     },
     "metadata": {},
     "output_type": "display_data"
    }
   ],
   "source": [
    "\n",
    "# Mostrando a matriz de confusão para o melhor modelo\n",
    "cm = confusion_matrix(y_test, y_pred)\n",
    "plt.figure(figsize=(8, 6))\n",
    "sns.heatmap(cm, annot=True, fmt='d', cmap='Blues', xticklabels=['Cura', 'Óbito'], yticklabels=['Cura', 'Óbito'])\n",
    "plt.xlabel('Previsão do modelo')\n",
    "plt.ylabel('Classificação real')\n",
    "plt.title('Matriz de Confusão no conjunto de testes aplicando métricas de Fairness')\n",
    "plt.savefig('./source/images/matriz_confusao_teste_fairness.png')"
   ]
  },
  {
   "cell_type": "markdown",
   "metadata": {},
   "source": [
    "### Salvando o melhor modelo"
   ]
  },
  {
   "cell_type": "code",
   "execution_count": 198,
   "metadata": {},
   "outputs": [],
   "source": [
    "import pickle\n",
    "\n",
    "melhor_modelo = save_best_models['kNN'][4]\n",
    "with open('./source/models/best_model_fairness_sexo.pkl', 'wb') as f:\n",
    "    pickle.dump(melhor_modelo, f)\n"
   ]
  }
 ],
 "metadata": {
  "kernelspec": {
   "display_name": "Python 3",
   "language": "python",
   "name": "python3"
  },
  "language_info": {
   "codemirror_mode": {
    "name": "ipython",
    "version": 3
   },
   "file_extension": ".py",
   "mimetype": "text/x-python",
   "name": "python",
   "nbconvert_exporter": "python",
   "pygments_lexer": "ipython3",
   "version": "3.10.12"
  }
 },
 "nbformat": 4,
 "nbformat_minor": 2
}
