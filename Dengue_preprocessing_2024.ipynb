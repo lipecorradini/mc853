{
 "cells": [
  {
   "cell_type": "markdown",
   "id": "8f5000f9",
   "metadata": {},
   "source": []
  },
  {
   "cell_type": "code",
   "execution_count": null,
   "id": "a5959ddf",
   "metadata": {
    "id": "a5959ddf",
    "outputId": "00b7240d-c1bf-49e5-86d4-14c6c97b8d94"
   },
   "outputs": [
    {
     "name": "stderr",
     "output_type": "stream",
     "text": [
      "── \u001b[1mAttaching core tidyverse packages\u001b[22m ──────────────────────── tidyverse 2.0.0 ──\n",
      "\u001b[32m✔\u001b[39m \u001b[34mdplyr    \u001b[39m 1.1.4     \u001b[32m✔\u001b[39m \u001b[34mreadr    \u001b[39m 2.1.5\n",
      "\u001b[32m✔\u001b[39m \u001b[34mforcats  \u001b[39m 1.0.0     \u001b[32m✔\u001b[39m \u001b[34mstringr  \u001b[39m 1.5.1\n",
      "\u001b[32m✔\u001b[39m \u001b[34mggplot2  \u001b[39m 3.5.1     \u001b[32m✔\u001b[39m \u001b[34mtibble   \u001b[39m 3.2.1\n",
      "\u001b[32m✔\u001b[39m \u001b[34mlubridate\u001b[39m 1.9.3     \u001b[32m✔\u001b[39m \u001b[34mtidyr    \u001b[39m 1.3.1\n",
      "\u001b[32m✔\u001b[39m \u001b[34mpurrr    \u001b[39m 1.0.2     \n",
      "── \u001b[1mConflicts\u001b[22m ────────────────────────────────────────── tidyverse_conflicts() ──\n",
      "\u001b[31m✖\u001b[39m \u001b[34mdplyr\u001b[39m::\u001b[32mfilter()\u001b[39m masks \u001b[34mstats\u001b[39m::filter()\n",
      "\u001b[31m✖\u001b[39m \u001b[34mdplyr\u001b[39m::\u001b[32mlag()\u001b[39m    masks \u001b[34mstats\u001b[39m::lag()\n",
      "\u001b[36mℹ\u001b[39m Use the conflicted package (\u001b[3m\u001b[34m<http://conflicted.r-lib.org/>\u001b[39m\u001b[23m) to force all conflicts to become errors\n"
     ]
    }
   ],
   "source": [
    "library(tidyverse)"
   ]
  },
  {
   "cell_type": "code",
   "execution_count": 3,
   "id": "976954b3",
   "metadata": {
    "id": "976954b3"
   },
   "outputs": [
    {
     "ename": "NameError",
     "evalue": "name 'data' is not defined",
     "output_type": "error",
     "traceback": [
      "\u001b[0;31m---------------------------------------------------------------------------\u001b[0m",
      "\u001b[0;31mNameError\u001b[0m                                 Traceback (most recent call last)",
      "Cell \u001b[0;32mIn[3], line 2\u001b[0m\n\u001b[1;32m      1\u001b[0m \u001b[38;5;66;03m# read data\u001b[39;00m\n\u001b[0;32m----> 2\u001b[0m \u001b[43mdata\u001b[49m \u001b[38;5;241m<\u001b[39m\u001b[38;5;241m-\u001b[39m read\u001b[38;5;241m.\u001b[39mcsv(\u001b[38;5;124m'\u001b[39m\u001b[38;5;124m./source/csv/ESQUBR21.csv\u001b[39m\u001b[38;5;124m'\u001b[39m)\n",
      "\u001b[0;31mNameError\u001b[0m: name 'data' is not defined"
     ]
    }
   ],
   "source": [
    "# read data\n",
    "data <- read.csv('./source/csv/ESQUBR21.csv')"
   ]
  },
  {
   "cell_type": "code",
   "execution_count": null,
   "id": "5f02f71d",
   "metadata": {
    "id": "5f02f71d",
    "outputId": "6898136c-cbe2-4ca6-b3ee-9e4f24a3d1af"
   },
   "outputs": [
    {
     "data": {
      "text/html": [
       "<table class=\"dataframe\">\n",
       "<caption>A data.frame: 1 × 2</caption>\n",
       "<thead>\n",
       "\t<tr><th scope=col>ID_AGRAVO</th><th scope=col>n</th></tr>\n",
       "\t<tr><th scope=col>&lt;chr&gt;</th><th scope=col>&lt;int&gt;</th></tr>\n",
       "</thead>\n",
       "<tbody>\n",
       "\t<tr><td>A90</td><td>939762</td></tr>\n",
       "</tbody>\n",
       "</table>\n"
      ],
      "text/latex": [
       "A data.frame: 1 × 2\n",
       "\\begin{tabular}{ll}\n",
       " ID\\_AGRAVO & n\\\\\n",
       " <chr> & <int>\\\\\n",
       "\\hline\n",
       "\t A90 & 939762\\\\\n",
       "\\end{tabular}\n"
      ],
      "text/markdown": [
       "\n",
       "A data.frame: 1 × 2\n",
       "\n",
       "| ID_AGRAVO &lt;chr&gt; | n &lt;int&gt; |\n",
       "|---|---|\n",
       "| A90 | 939762 |\n",
       "\n"
      ],
      "text/plain": [
       "  ID_AGRAVO n     \n",
       "1 A90       939762"
      ]
     },
     "metadata": {},
     "output_type": "display_data"
    }
   ],
   "source": [
    "data %>% count(ID_AGRAVO)"
   ]
  },
  {
   "cell_type": "code",
   "execution_count": null,
   "id": "efb159ae",
   "metadata": {
    "id": "efb159ae",
    "outputId": "b588d9af-e182-42ff-d5ae-bad3fe8857b3"
   },
   "outputs": [
    {
     "data": {
      "text/html": [
       "<table class=\"dataframe\">\n",
       "<caption>A data.frame: 6 × 121</caption>\n",
       "<thead>\n",
       "\t<tr><th></th><th scope=col>TP_NOT</th><th scope=col>ID_AGRAVO</th><th scope=col>DT_NOTIFIC</th><th scope=col>SEM_NOT</th><th scope=col>NU_ANO</th><th scope=col>SG_UF_NOT</th><th scope=col>ID_MUNICIP</th><th scope=col>ID_REGIONA</th><th scope=col>ID_UNIDADE</th><th scope=col>DT_SIN_PRI</th><th scope=col>⋯</th><th scope=col>EVIDENCIA</th><th scope=col>PLAQ_MENOR</th><th scope=col>CON_FHD</th><th scope=col>COMPLICA</th><th scope=col>TP_SISTEMA</th><th scope=col>NDUPLIC_N</th><th scope=col>DT_DIGITA</th><th scope=col>CS_FLXRET</th><th scope=col>FLXRECEBI</th><th scope=col>MIGRADO_W</th></tr>\n",
       "\t<tr><th></th><th scope=col>&lt;int&gt;</th><th scope=col>&lt;chr&gt;</th><th scope=col>&lt;chr&gt;</th><th scope=col>&lt;int&gt;</th><th scope=col>&lt;int&gt;</th><th scope=col>&lt;int&gt;</th><th scope=col>&lt;int&gt;</th><th scope=col>&lt;int&gt;</th><th scope=col>&lt;int&gt;</th><th scope=col>&lt;chr&gt;</th><th scope=col>⋯</th><th scope=col>&lt;lgl&gt;</th><th scope=col>&lt;lgl&gt;</th><th scope=col>&lt;lgl&gt;</th><th scope=col>&lt;lgl&gt;</th><th scope=col>&lt;int&gt;</th><th scope=col>&lt;int&gt;</th><th scope=col>&lt;chr&gt;</th><th scope=col>&lt;int&gt;</th><th scope=col>&lt;int&gt;</th><th scope=col>&lt;lgl&gt;</th></tr>\n",
       "</thead>\n",
       "<tbody>\n",
       "\t<tr><th scope=row>1</th><td>2</td><td>A90</td><td>2024-01-05</td><td>202401</td><td>2024</td><td>12</td><td>120020</td><td>1941</td><td>9966501</td><td>2024-01-01</td><td>⋯</td><td>NA</td><td>NA</td><td>NA</td><td>NA</td><td>2</td><td>NA</td><td>2024-01-18</td><td>0</td><td>NA</td><td>NA</td></tr>\n",
       "\t<tr><th scope=row>2</th><td>2</td><td>A90</td><td>2024-01-18</td><td>202403</td><td>2024</td><td>12</td><td>120020</td><td>1941</td><td>5336171</td><td>2024-01-17</td><td>⋯</td><td>NA</td><td>NA</td><td>NA</td><td>NA</td><td>2</td><td>NA</td><td>2024-02-23</td><td>0</td><td>NA</td><td>NA</td></tr>\n",
       "\t<tr><th scope=row>3</th><td>2</td><td>A90</td><td>2024-01-24</td><td>202404</td><td>2024</td><td>12</td><td>120020</td><td>1941</td><td>6788637</td><td>2024-01-17</td><td>⋯</td><td>NA</td><td>NA</td><td>NA</td><td>NA</td><td>2</td><td>NA</td><td>2024-02-22</td><td>0</td><td>NA</td><td>NA</td></tr>\n",
       "\t<tr><th scope=row>4</th><td>2</td><td>A90</td><td>2024-01-03</td><td>202401</td><td>2024</td><td>12</td><td>120033</td><td>1941</td><td>2000083</td><td>2024-01-02</td><td>⋯</td><td>NA</td><td>NA</td><td>NA</td><td>NA</td><td>2</td><td>NA</td><td>2024-01-10</td><td>0</td><td>NA</td><td>NA</td></tr>\n",
       "\t<tr><th scope=row>5</th><td>2</td><td>A90</td><td>2024-01-14</td><td>202403</td><td>2024</td><td>12</td><td>120033</td><td>1941</td><td>2000083</td><td>2024-01-12</td><td>⋯</td><td>NA</td><td>NA</td><td>NA</td><td>NA</td><td>2</td><td>NA</td><td>2024-01-25</td><td>0</td><td>NA</td><td>NA</td></tr>\n",
       "\t<tr><th scope=row>6</th><td>2</td><td>A90</td><td>2024-02-16</td><td>202407</td><td>2024</td><td>12</td><td>120042</td><td>1941</td><td>2000016</td><td>2024-02-10</td><td>⋯</td><td>NA</td><td>NA</td><td>NA</td><td>NA</td><td>2</td><td>NA</td><td>2024-02-26</td><td>0</td><td>NA</td><td>NA</td></tr>\n",
       "</tbody>\n",
       "</table>\n"
      ],
      "text/latex": [
       "A data.frame: 6 × 121\n",
       "\\begin{tabular}{r|lllllllllllllllllllll}\n",
       "  & TP\\_NOT & ID\\_AGRAVO & DT\\_NOTIFIC & SEM\\_NOT & NU\\_ANO & SG\\_UF\\_NOT & ID\\_MUNICIP & ID\\_REGIONA & ID\\_UNIDADE & DT\\_SIN\\_PRI & ⋯ & EVIDENCIA & PLAQ\\_MENOR & CON\\_FHD & COMPLICA & TP\\_SISTEMA & NDUPLIC\\_N & DT\\_DIGITA & CS\\_FLXRET & FLXRECEBI & MIGRADO\\_W\\\\\n",
       "  & <int> & <chr> & <chr> & <int> & <int> & <int> & <int> & <int> & <int> & <chr> & ⋯ & <lgl> & <lgl> & <lgl> & <lgl> & <int> & <int> & <chr> & <int> & <int> & <lgl>\\\\\n",
       "\\hline\n",
       "\t1 & 2 & A90 & 2024-01-05 & 202401 & 2024 & 12 & 120020 & 1941 & 9966501 & 2024-01-01 & ⋯ & NA & NA & NA & NA & 2 & NA & 2024-01-18 & 0 & NA & NA\\\\\n",
       "\t2 & 2 & A90 & 2024-01-18 & 202403 & 2024 & 12 & 120020 & 1941 & 5336171 & 2024-01-17 & ⋯ & NA & NA & NA & NA & 2 & NA & 2024-02-23 & 0 & NA & NA\\\\\n",
       "\t3 & 2 & A90 & 2024-01-24 & 202404 & 2024 & 12 & 120020 & 1941 & 6788637 & 2024-01-17 & ⋯ & NA & NA & NA & NA & 2 & NA & 2024-02-22 & 0 & NA & NA\\\\\n",
       "\t4 & 2 & A90 & 2024-01-03 & 202401 & 2024 & 12 & 120033 & 1941 & 2000083 & 2024-01-02 & ⋯ & NA & NA & NA & NA & 2 & NA & 2024-01-10 & 0 & NA & NA\\\\\n",
       "\t5 & 2 & A90 & 2024-01-14 & 202403 & 2024 & 12 & 120033 & 1941 & 2000083 & 2024-01-12 & ⋯ & NA & NA & NA & NA & 2 & NA & 2024-01-25 & 0 & NA & NA\\\\\n",
       "\t6 & 2 & A90 & 2024-02-16 & 202407 & 2024 & 12 & 120042 & 1941 & 2000016 & 2024-02-10 & ⋯ & NA & NA & NA & NA & 2 & NA & 2024-02-26 & 0 & NA & NA\\\\\n",
       "\\end{tabular}\n"
      ],
      "text/markdown": [
       "\n",
       "A data.frame: 6 × 121\n",
       "\n",
       "| <!--/--> | TP_NOT &lt;int&gt; | ID_AGRAVO &lt;chr&gt; | DT_NOTIFIC &lt;chr&gt; | SEM_NOT &lt;int&gt; | NU_ANO &lt;int&gt; | SG_UF_NOT &lt;int&gt; | ID_MUNICIP &lt;int&gt; | ID_REGIONA &lt;int&gt; | ID_UNIDADE &lt;int&gt; | DT_SIN_PRI &lt;chr&gt; | ⋯ ⋯ | EVIDENCIA &lt;lgl&gt; | PLAQ_MENOR &lt;lgl&gt; | CON_FHD &lt;lgl&gt; | COMPLICA &lt;lgl&gt; | TP_SISTEMA &lt;int&gt; | NDUPLIC_N &lt;int&gt; | DT_DIGITA &lt;chr&gt; | CS_FLXRET &lt;int&gt; | FLXRECEBI &lt;int&gt; | MIGRADO_W &lt;lgl&gt; |\n",
       "|---|---|---|---|---|---|---|---|---|---|---|---|---|---|---|---|---|---|---|---|---|---|\n",
       "| 1 | 2 | A90 | 2024-01-05 | 202401 | 2024 | 12 | 120020 | 1941 | 9966501 | 2024-01-01 | ⋯ | NA | NA | NA | NA | 2 | NA | 2024-01-18 | 0 | NA | NA |\n",
       "| 2 | 2 | A90 | 2024-01-18 | 202403 | 2024 | 12 | 120020 | 1941 | 5336171 | 2024-01-17 | ⋯ | NA | NA | NA | NA | 2 | NA | 2024-02-23 | 0 | NA | NA |\n",
       "| 3 | 2 | A90 | 2024-01-24 | 202404 | 2024 | 12 | 120020 | 1941 | 6788637 | 2024-01-17 | ⋯ | NA | NA | NA | NA | 2 | NA | 2024-02-22 | 0 | NA | NA |\n",
       "| 4 | 2 | A90 | 2024-01-03 | 202401 | 2024 | 12 | 120033 | 1941 | 2000083 | 2024-01-02 | ⋯ | NA | NA | NA | NA | 2 | NA | 2024-01-10 | 0 | NA | NA |\n",
       "| 5 | 2 | A90 | 2024-01-14 | 202403 | 2024 | 12 | 120033 | 1941 | 2000083 | 2024-01-12 | ⋯ | NA | NA | NA | NA | 2 | NA | 2024-01-25 | 0 | NA | NA |\n",
       "| 6 | 2 | A90 | 2024-02-16 | 202407 | 2024 | 12 | 120042 | 1941 | 2000016 | 2024-02-10 | ⋯ | NA | NA | NA | NA | 2 | NA | 2024-02-26 | 0 | NA | NA |\n",
       "\n"
      ],
      "text/plain": [
       "  TP_NOT ID_AGRAVO DT_NOTIFIC SEM_NOT NU_ANO SG_UF_NOT ID_MUNICIP ID_REGIONA\n",
       "1 2      A90       2024-01-05 202401  2024   12        120020     1941      \n",
       "2 2      A90       2024-01-18 202403  2024   12        120020     1941      \n",
       "3 2      A90       2024-01-24 202404  2024   12        120020     1941      \n",
       "4 2      A90       2024-01-03 202401  2024   12        120033     1941      \n",
       "5 2      A90       2024-01-14 202403  2024   12        120033     1941      \n",
       "6 2      A90       2024-02-16 202407  2024   12        120042     1941      \n",
       "  ID_UNIDADE DT_SIN_PRI ⋯ EVIDENCIA PLAQ_MENOR CON_FHD COMPLICA TP_SISTEMA\n",
       "1 9966501    2024-01-01 ⋯ NA        NA         NA      NA       2         \n",
       "2 5336171    2024-01-17 ⋯ NA        NA         NA      NA       2         \n",
       "3 6788637    2024-01-17 ⋯ NA        NA         NA      NA       2         \n",
       "4 2000083    2024-01-02 ⋯ NA        NA         NA      NA       2         \n",
       "5 2000083    2024-01-12 ⋯ NA        NA         NA      NA       2         \n",
       "6 2000016    2024-02-10 ⋯ NA        NA         NA      NA       2         \n",
       "  NDUPLIC_N DT_DIGITA  CS_FLXRET FLXRECEBI MIGRADO_W\n",
       "1 NA        2024-01-18 0         NA        NA       \n",
       "2 NA        2024-02-23 0         NA        NA       \n",
       "3 NA        2024-02-22 0         NA        NA       \n",
       "4 NA        2024-01-10 0         NA        NA       \n",
       "5 NA        2024-01-25 0         NA        NA       \n",
       "6 NA        2024-02-26 0         NA        NA       "
      ]
     },
     "metadata": {},
     "output_type": "display_data"
    },
    {
     "data": {
      "text/html": [
       "<style>\n",
       ".list-inline {list-style: none; margin:0; padding: 0}\n",
       ".list-inline>li {display: inline-block}\n",
       ".list-inline>li:not(:last-child)::after {content: \"\\00b7\"; padding: 0 .5ex}\n",
       "</style>\n",
       "<ol class=list-inline><li>'TP_NOT'</li><li>'ID_AGRAVO'</li><li>'DT_NOTIFIC'</li><li>'SEM_NOT'</li><li>'NU_ANO'</li><li>'SG_UF_NOT'</li><li>'ID_MUNICIP'</li><li>'ID_REGIONA'</li><li>'ID_UNIDADE'</li><li>'DT_SIN_PRI'</li><li>'SEM_PRI'</li><li>'ANO_NASC'</li><li>'NU_IDADE_N'</li><li>'CS_SEXO'</li><li>'CS_GESTANT'</li><li>'CS_RACA'</li><li>'CS_ESCOL_N'</li><li>'SG_UF'</li><li>'ID_MN_RESI'</li><li>'ID_RG_RESI'</li><li>'ID_PAIS'</li><li>'DT_INVEST'</li><li>'ID_OCUPA_N'</li><li>'FEBRE'</li><li>'MIALGIA'</li><li>'CEFALEIA'</li><li>'EXANTEMA'</li><li>'VOMITO'</li><li>'NAUSEA'</li><li>'DOR_COSTAS'</li><li>'CONJUNTVIT'</li><li>'ARTRITE'</li><li>'ARTRALGIA'</li><li>'PETEQUIA_N'</li><li>'LEUCOPENIA'</li><li>'LACO'</li><li>'DOR_RETRO'</li><li>'DIABETES'</li><li>'HEMATOLOG'</li><li>'HEPATOPAT'</li><li>'RENAL'</li><li>'HIPERTENSA'</li><li>'ACIDO_PEPT'</li><li>'AUTO_IMUNE'</li><li>'DT_CHIK_S1'</li><li>'DT_CHIK_S2'</li><li>'DT_PRNT'</li><li>'RES_CHIKS1'</li><li>'RES_CHIKS2'</li><li>'RESUL_PRNT'</li><li>'DT_SORO'</li><li>'RESUL_SORO'</li><li>'DT_NS1'</li><li>'RESUL_NS1'</li><li>'DT_VIRAL'</li><li>'RESUL_VI_N'</li><li>'DT_PCR'</li><li>'RESUL_PCR_'</li><li>'SOROTIPO'</li><li>'HISTOPA_N'</li><li>'IMUNOH_N'</li><li>'HOSPITALIZ'</li><li>'DT_INTERNA'</li><li>'UF'</li><li>'MUNICIPIO'</li><li>'TPAUTOCTO'</li><li>'COUFINF'</li><li>'COPAISINF'</li><li>'COMUNINF'</li><li>'CLASSI_FIN'</li><li>'CRITERIO'</li><li>'DOENCA_TRA'</li><li>'CLINC_CHIK'</li><li>'EVOLUCAO'</li><li>'DT_OBITO'</li><li>'DT_ENCERRA'</li><li>'ALRM_HIPOT'</li><li>'ALRM_PLAQ'</li><li>'ALRM_VOM'</li><li>'ALRM_SANG'</li><li>'ALRM_HEMAT'</li><li>'ALRM_ABDOM'</li><li>'ALRM_LETAR'</li><li>'ALRM_HEPAT'</li><li>'ALRM_LIQ'</li><li>'DT_ALRM'</li><li>'GRAV_PULSO'</li><li>'GRAV_CONV'</li><li>'GRAV_ENCH'</li><li>'GRAV_INSUF'</li><li>'GRAV_TAQUI'</li><li>'GRAV_EXTRE'</li><li>'GRAV_HIPOT'</li><li>'GRAV_HEMAT'</li><li>'GRAV_MELEN'</li><li>'GRAV_METRO'</li><li>'GRAV_SANG'</li><li>'GRAV_AST'</li><li>'GRAV_MIOC'</li><li>'GRAV_CONSC'</li><li>'GRAV_ORGAO'</li><li>'DT_GRAV'</li><li>'MANI_HEMOR'</li><li>'EPISTAXE'</li><li>'GENGIVO'</li><li>'METRO'</li><li>'PETEQUIAS'</li><li>'HEMATURA'</li><li>'SANGRAM'</li><li>'LACO_N'</li><li>'PLASMATICO'</li><li>'EVIDENCIA'</li><li>'PLAQ_MENOR'</li><li>'CON_FHD'</li><li>'COMPLICA'</li><li>'TP_SISTEMA'</li><li>'NDUPLIC_N'</li><li>'DT_DIGITA'</li><li>'CS_FLXRET'</li><li>'FLXRECEBI'</li><li>'MIGRADO_W'</li></ol>\n"
      ],
      "text/latex": [
       "\\begin{enumerate*}\n",
       "\\item 'TP\\_NOT'\n",
       "\\item 'ID\\_AGRAVO'\n",
       "\\item 'DT\\_NOTIFIC'\n",
       "\\item 'SEM\\_NOT'\n",
       "\\item 'NU\\_ANO'\n",
       "\\item 'SG\\_UF\\_NOT'\n",
       "\\item 'ID\\_MUNICIP'\n",
       "\\item 'ID\\_REGIONA'\n",
       "\\item 'ID\\_UNIDADE'\n",
       "\\item 'DT\\_SIN\\_PRI'\n",
       "\\item 'SEM\\_PRI'\n",
       "\\item 'ANO\\_NASC'\n",
       "\\item 'NU\\_IDADE\\_N'\n",
       "\\item 'CS\\_SEXO'\n",
       "\\item 'CS\\_GESTANT'\n",
       "\\item 'CS\\_RACA'\n",
       "\\item 'CS\\_ESCOL\\_N'\n",
       "\\item 'SG\\_UF'\n",
       "\\item 'ID\\_MN\\_RESI'\n",
       "\\item 'ID\\_RG\\_RESI'\n",
       "\\item 'ID\\_PAIS'\n",
       "\\item 'DT\\_INVEST'\n",
       "\\item 'ID\\_OCUPA\\_N'\n",
       "\\item 'FEBRE'\n",
       "\\item 'MIALGIA'\n",
       "\\item 'CEFALEIA'\n",
       "\\item 'EXANTEMA'\n",
       "\\item 'VOMITO'\n",
       "\\item 'NAUSEA'\n",
       "\\item 'DOR\\_COSTAS'\n",
       "\\item 'CONJUNTVIT'\n",
       "\\item 'ARTRITE'\n",
       "\\item 'ARTRALGIA'\n",
       "\\item 'PETEQUIA\\_N'\n",
       "\\item 'LEUCOPENIA'\n",
       "\\item 'LACO'\n",
       "\\item 'DOR\\_RETRO'\n",
       "\\item 'DIABETES'\n",
       "\\item 'HEMATOLOG'\n",
       "\\item 'HEPATOPAT'\n",
       "\\item 'RENAL'\n",
       "\\item 'HIPERTENSA'\n",
       "\\item 'ACIDO\\_PEPT'\n",
       "\\item 'AUTO\\_IMUNE'\n",
       "\\item 'DT\\_CHIK\\_S1'\n",
       "\\item 'DT\\_CHIK\\_S2'\n",
       "\\item 'DT\\_PRNT'\n",
       "\\item 'RES\\_CHIKS1'\n",
       "\\item 'RES\\_CHIKS2'\n",
       "\\item 'RESUL\\_PRNT'\n",
       "\\item 'DT\\_SORO'\n",
       "\\item 'RESUL\\_SORO'\n",
       "\\item 'DT\\_NS1'\n",
       "\\item 'RESUL\\_NS1'\n",
       "\\item 'DT\\_VIRAL'\n",
       "\\item 'RESUL\\_VI\\_N'\n",
       "\\item 'DT\\_PCR'\n",
       "\\item 'RESUL\\_PCR\\_'\n",
       "\\item 'SOROTIPO'\n",
       "\\item 'HISTOPA\\_N'\n",
       "\\item 'IMUNOH\\_N'\n",
       "\\item 'HOSPITALIZ'\n",
       "\\item 'DT\\_INTERNA'\n",
       "\\item 'UF'\n",
       "\\item 'MUNICIPIO'\n",
       "\\item 'TPAUTOCTO'\n",
       "\\item 'COUFINF'\n",
       "\\item 'COPAISINF'\n",
       "\\item 'COMUNINF'\n",
       "\\item 'CLASSI\\_FIN'\n",
       "\\item 'CRITERIO'\n",
       "\\item 'DOENCA\\_TRA'\n",
       "\\item 'CLINC\\_CHIK'\n",
       "\\item 'EVOLUCAO'\n",
       "\\item 'DT\\_OBITO'\n",
       "\\item 'DT\\_ENCERRA'\n",
       "\\item 'ALRM\\_HIPOT'\n",
       "\\item 'ALRM\\_PLAQ'\n",
       "\\item 'ALRM\\_VOM'\n",
       "\\item 'ALRM\\_SANG'\n",
       "\\item 'ALRM\\_HEMAT'\n",
       "\\item 'ALRM\\_ABDOM'\n",
       "\\item 'ALRM\\_LETAR'\n",
       "\\item 'ALRM\\_HEPAT'\n",
       "\\item 'ALRM\\_LIQ'\n",
       "\\item 'DT\\_ALRM'\n",
       "\\item 'GRAV\\_PULSO'\n",
       "\\item 'GRAV\\_CONV'\n",
       "\\item 'GRAV\\_ENCH'\n",
       "\\item 'GRAV\\_INSUF'\n",
       "\\item 'GRAV\\_TAQUI'\n",
       "\\item 'GRAV\\_EXTRE'\n",
       "\\item 'GRAV\\_HIPOT'\n",
       "\\item 'GRAV\\_HEMAT'\n",
       "\\item 'GRAV\\_MELEN'\n",
       "\\item 'GRAV\\_METRO'\n",
       "\\item 'GRAV\\_SANG'\n",
       "\\item 'GRAV\\_AST'\n",
       "\\item 'GRAV\\_MIOC'\n",
       "\\item 'GRAV\\_CONSC'\n",
       "\\item 'GRAV\\_ORGAO'\n",
       "\\item 'DT\\_GRAV'\n",
       "\\item 'MANI\\_HEMOR'\n",
       "\\item 'EPISTAXE'\n",
       "\\item 'GENGIVO'\n",
       "\\item 'METRO'\n",
       "\\item 'PETEQUIAS'\n",
       "\\item 'HEMATURA'\n",
       "\\item 'SANGRAM'\n",
       "\\item 'LACO\\_N'\n",
       "\\item 'PLASMATICO'\n",
       "\\item 'EVIDENCIA'\n",
       "\\item 'PLAQ\\_MENOR'\n",
       "\\item 'CON\\_FHD'\n",
       "\\item 'COMPLICA'\n",
       "\\item 'TP\\_SISTEMA'\n",
       "\\item 'NDUPLIC\\_N'\n",
       "\\item 'DT\\_DIGITA'\n",
       "\\item 'CS\\_FLXRET'\n",
       "\\item 'FLXRECEBI'\n",
       "\\item 'MIGRADO\\_W'\n",
       "\\end{enumerate*}\n"
      ],
      "text/markdown": [
       "1. 'TP_NOT'\n",
       "2. 'ID_AGRAVO'\n",
       "3. 'DT_NOTIFIC'\n",
       "4. 'SEM_NOT'\n",
       "5. 'NU_ANO'\n",
       "6. 'SG_UF_NOT'\n",
       "7. 'ID_MUNICIP'\n",
       "8. 'ID_REGIONA'\n",
       "9. 'ID_UNIDADE'\n",
       "10. 'DT_SIN_PRI'\n",
       "11. 'SEM_PRI'\n",
       "12. 'ANO_NASC'\n",
       "13. 'NU_IDADE_N'\n",
       "14. 'CS_SEXO'\n",
       "15. 'CS_GESTANT'\n",
       "16. 'CS_RACA'\n",
       "17. 'CS_ESCOL_N'\n",
       "18. 'SG_UF'\n",
       "19. 'ID_MN_RESI'\n",
       "20. 'ID_RG_RESI'\n",
       "21. 'ID_PAIS'\n",
       "22. 'DT_INVEST'\n",
       "23. 'ID_OCUPA_N'\n",
       "24. 'FEBRE'\n",
       "25. 'MIALGIA'\n",
       "26. 'CEFALEIA'\n",
       "27. 'EXANTEMA'\n",
       "28. 'VOMITO'\n",
       "29. 'NAUSEA'\n",
       "30. 'DOR_COSTAS'\n",
       "31. 'CONJUNTVIT'\n",
       "32. 'ARTRITE'\n",
       "33. 'ARTRALGIA'\n",
       "34. 'PETEQUIA_N'\n",
       "35. 'LEUCOPENIA'\n",
       "36. 'LACO'\n",
       "37. 'DOR_RETRO'\n",
       "38. 'DIABETES'\n",
       "39. 'HEMATOLOG'\n",
       "40. 'HEPATOPAT'\n",
       "41. 'RENAL'\n",
       "42. 'HIPERTENSA'\n",
       "43. 'ACIDO_PEPT'\n",
       "44. 'AUTO_IMUNE'\n",
       "45. 'DT_CHIK_S1'\n",
       "46. 'DT_CHIK_S2'\n",
       "47. 'DT_PRNT'\n",
       "48. 'RES_CHIKS1'\n",
       "49. 'RES_CHIKS2'\n",
       "50. 'RESUL_PRNT'\n",
       "51. 'DT_SORO'\n",
       "52. 'RESUL_SORO'\n",
       "53. 'DT_NS1'\n",
       "54. 'RESUL_NS1'\n",
       "55. 'DT_VIRAL'\n",
       "56. 'RESUL_VI_N'\n",
       "57. 'DT_PCR'\n",
       "58. 'RESUL_PCR_'\n",
       "59. 'SOROTIPO'\n",
       "60. 'HISTOPA_N'\n",
       "61. 'IMUNOH_N'\n",
       "62. 'HOSPITALIZ'\n",
       "63. 'DT_INTERNA'\n",
       "64. 'UF'\n",
       "65. 'MUNICIPIO'\n",
       "66. 'TPAUTOCTO'\n",
       "67. 'COUFINF'\n",
       "68. 'COPAISINF'\n",
       "69. 'COMUNINF'\n",
       "70. 'CLASSI_FIN'\n",
       "71. 'CRITERIO'\n",
       "72. 'DOENCA_TRA'\n",
       "73. 'CLINC_CHIK'\n",
       "74. 'EVOLUCAO'\n",
       "75. 'DT_OBITO'\n",
       "76. 'DT_ENCERRA'\n",
       "77. 'ALRM_HIPOT'\n",
       "78. 'ALRM_PLAQ'\n",
       "79. 'ALRM_VOM'\n",
       "80. 'ALRM_SANG'\n",
       "81. 'ALRM_HEMAT'\n",
       "82. 'ALRM_ABDOM'\n",
       "83. 'ALRM_LETAR'\n",
       "84. 'ALRM_HEPAT'\n",
       "85. 'ALRM_LIQ'\n",
       "86. 'DT_ALRM'\n",
       "87. 'GRAV_PULSO'\n",
       "88. 'GRAV_CONV'\n",
       "89. 'GRAV_ENCH'\n",
       "90. 'GRAV_INSUF'\n",
       "91. 'GRAV_TAQUI'\n",
       "92. 'GRAV_EXTRE'\n",
       "93. 'GRAV_HIPOT'\n",
       "94. 'GRAV_HEMAT'\n",
       "95. 'GRAV_MELEN'\n",
       "96. 'GRAV_METRO'\n",
       "97. 'GRAV_SANG'\n",
       "98. 'GRAV_AST'\n",
       "99. 'GRAV_MIOC'\n",
       "100. 'GRAV_CONSC'\n",
       "101. 'GRAV_ORGAO'\n",
       "102. 'DT_GRAV'\n",
       "103. 'MANI_HEMOR'\n",
       "104. 'EPISTAXE'\n",
       "105. 'GENGIVO'\n",
       "106. 'METRO'\n",
       "107. 'PETEQUIAS'\n",
       "108. 'HEMATURA'\n",
       "109. 'SANGRAM'\n",
       "110. 'LACO_N'\n",
       "111. 'PLASMATICO'\n",
       "112. 'EVIDENCIA'\n",
       "113. 'PLAQ_MENOR'\n",
       "114. 'CON_FHD'\n",
       "115. 'COMPLICA'\n",
       "116. 'TP_SISTEMA'\n",
       "117. 'NDUPLIC_N'\n",
       "118. 'DT_DIGITA'\n",
       "119. 'CS_FLXRET'\n",
       "120. 'FLXRECEBI'\n",
       "121. 'MIGRADO_W'\n",
       "\n",
       "\n"
      ],
      "text/plain": [
       "  [1] \"TP_NOT\"     \"ID_AGRAVO\"  \"DT_NOTIFIC\" \"SEM_NOT\"    \"NU_ANO\"    \n",
       "  [6] \"SG_UF_NOT\"  \"ID_MUNICIP\" \"ID_REGIONA\" \"ID_UNIDADE\" \"DT_SIN_PRI\"\n",
       " [11] \"SEM_PRI\"    \"ANO_NASC\"   \"NU_IDADE_N\" \"CS_SEXO\"    \"CS_GESTANT\"\n",
       " [16] \"CS_RACA\"    \"CS_ESCOL_N\" \"SG_UF\"      \"ID_MN_RESI\" \"ID_RG_RESI\"\n",
       " [21] \"ID_PAIS\"    \"DT_INVEST\"  \"ID_OCUPA_N\" \"FEBRE\"      \"MIALGIA\"   \n",
       " [26] \"CEFALEIA\"   \"EXANTEMA\"   \"VOMITO\"     \"NAUSEA\"     \"DOR_COSTAS\"\n",
       " [31] \"CONJUNTVIT\" \"ARTRITE\"    \"ARTRALGIA\"  \"PETEQUIA_N\" \"LEUCOPENIA\"\n",
       " [36] \"LACO\"       \"DOR_RETRO\"  \"DIABETES\"   \"HEMATOLOG\"  \"HEPATOPAT\" \n",
       " [41] \"RENAL\"      \"HIPERTENSA\" \"ACIDO_PEPT\" \"AUTO_IMUNE\" \"DT_CHIK_S1\"\n",
       " [46] \"DT_CHIK_S2\" \"DT_PRNT\"    \"RES_CHIKS1\" \"RES_CHIKS2\" \"RESUL_PRNT\"\n",
       " [51] \"DT_SORO\"    \"RESUL_SORO\" \"DT_NS1\"     \"RESUL_NS1\"  \"DT_VIRAL\"  \n",
       " [56] \"RESUL_VI_N\" \"DT_PCR\"     \"RESUL_PCR_\" \"SOROTIPO\"   \"HISTOPA_N\" \n",
       " [61] \"IMUNOH_N\"   \"HOSPITALIZ\" \"DT_INTERNA\" \"UF\"         \"MUNICIPIO\" \n",
       " [66] \"TPAUTOCTO\"  \"COUFINF\"    \"COPAISINF\"  \"COMUNINF\"   \"CLASSI_FIN\"\n",
       " [71] \"CRITERIO\"   \"DOENCA_TRA\" \"CLINC_CHIK\" \"EVOLUCAO\"   \"DT_OBITO\"  \n",
       " [76] \"DT_ENCERRA\" \"ALRM_HIPOT\" \"ALRM_PLAQ\"  \"ALRM_VOM\"   \"ALRM_SANG\" \n",
       " [81] \"ALRM_HEMAT\" \"ALRM_ABDOM\" \"ALRM_LETAR\" \"ALRM_HEPAT\" \"ALRM_LIQ\"  \n",
       " [86] \"DT_ALRM\"    \"GRAV_PULSO\" \"GRAV_CONV\"  \"GRAV_ENCH\"  \"GRAV_INSUF\"\n",
       " [91] \"GRAV_TAQUI\" \"GRAV_EXTRE\" \"GRAV_HIPOT\" \"GRAV_HEMAT\" \"GRAV_MELEN\"\n",
       " [96] \"GRAV_METRO\" \"GRAV_SANG\"  \"GRAV_AST\"   \"GRAV_MIOC\"  \"GRAV_CONSC\"\n",
       "[101] \"GRAV_ORGAO\" \"DT_GRAV\"    \"MANI_HEMOR\" \"EPISTAXE\"   \"GENGIVO\"   \n",
       "[106] \"METRO\"      \"PETEQUIAS\"  \"HEMATURA\"   \"SANGRAM\"    \"LACO_N\"    \n",
       "[111] \"PLASMATICO\" \"EVIDENCIA\"  \"PLAQ_MENOR\" \"CON_FHD\"    \"COMPLICA\"  \n",
       "[116] \"TP_SISTEMA\" \"NDUPLIC_N\"  \"DT_DIGITA\"  \"CS_FLXRET\"  \"FLXRECEBI\" \n",
       "[121] \"MIGRADO_W\" "
      ]
     },
     "metadata": {},
     "output_type": "display_data"
    }
   ],
   "source": [
    "# visualize data\n",
    "data %>% head\n",
    "data %>% colnames"
   ]
  },
  {
   "cell_type": "code",
   "execution_count": null,
   "id": "a6e5f51a-6907-4d96-b8a7-e74966dbd795",
   "metadata": {
    "id": "a6e5f51a-6907-4d96-b8a7-e74966dbd795"
   },
   "outputs": [],
   "source": [
    "# remove information abount date and test\n",
    "data %>% select(-c(DT_CHIK_S1:IMUNOH_N)) -> data\n",
    "\n",
    "# remove information about place\n",
    "data %>% select(-c(MUNICIPIO:COMUNINF)) -> data\n",
    "data %>% select(-c(CRITERIO:CLINC_CHIK)) -> data\n",
    "\n",
    "#remove several information, not needed\n",
    "data %>% select(-c(TP_NOT:SEM_NOT)) -> data\n",
    "\n",
    "# remove alarm since we are going to work with severe cases\n",
    "data %>% select(-c(DT_ENCERRA:DT_ALRM)) -> data\n",
    "\n"
   ]
  },
  {
   "cell_type": "code",
   "execution_count": null,
   "id": "6176b9f3-99f6-45e3-97c8-7f29e0a27cdc",
   "metadata": {
    "id": "6176b9f3-99f6-45e3-97c8-7f29e0a27cdc",
    "outputId": "6b485775-0eba-42e1-a253-c3fb0b4bab9b"
   },
   "outputs": [
    {
     "data": {
      "text/html": [
       "<table class=\"dataframe\">\n",
       "<caption>A data.frame: 5 × 2</caption>\n",
       "<thead>\n",
       "\t<tr><th scope=col>CLASSI_FIN</th><th scope=col>n</th></tr>\n",
       "\t<tr><th scope=col>&lt;int&gt;</th><th scope=col>&lt;int&gt;</th></tr>\n",
       "</thead>\n",
       "<tbody>\n",
       "\t<tr><td> 1</td><td>     1</td></tr>\n",
       "\t<tr><td>10</td><td>426334</td></tr>\n",
       "\t<tr><td>11</td><td>  9474</td></tr>\n",
       "\t<tr><td>12</td><td>   735</td></tr>\n",
       "\t<tr><td>NA</td><td>503218</td></tr>\n",
       "</tbody>\n",
       "</table>\n"
      ],
      "text/latex": [
       "A data.frame: 5 × 2\n",
       "\\begin{tabular}{ll}\n",
       " CLASSI\\_FIN & n\\\\\n",
       " <int> & <int>\\\\\n",
       "\\hline\n",
       "\t  1 &      1\\\\\n",
       "\t 10 & 426334\\\\\n",
       "\t 11 &   9474\\\\\n",
       "\t 12 &    735\\\\\n",
       "\t NA & 503218\\\\\n",
       "\\end{tabular}\n"
      ],
      "text/markdown": [
       "\n",
       "A data.frame: 5 × 2\n",
       "\n",
       "| CLASSI_FIN &lt;int&gt; | n &lt;int&gt; |\n",
       "|---|---|\n",
       "|  1 |      1 |\n",
       "| 10 | 426334 |\n",
       "| 11 |   9474 |\n",
       "| 12 |    735 |\n",
       "| NA | 503218 |\n",
       "\n"
      ],
      "text/plain": [
       "  CLASSI_FIN n     \n",
       "1  1              1\n",
       "2 10         426334\n",
       "3 11           9474\n",
       "4 12            735\n",
       "5 NA         503218"
      ]
     },
     "metadata": {},
     "output_type": "display_data"
    },
    {
     "data": {
      "text/html": [
       "<table class=\"dataframe\">\n",
       "<caption>A data.frame: 6 × 2</caption>\n",
       "<thead>\n",
       "\t<tr><th scope=col>EVOLUCAO</th><th scope=col>n</th></tr>\n",
       "\t<tr><th scope=col>&lt;int&gt;</th><th scope=col>&lt;int&gt;</th></tr>\n",
       "</thead>\n",
       "<tbody>\n",
       "\t<tr><td> 1</td><td>203</td></tr>\n",
       "\t<tr><td> 2</td><td>111</td></tr>\n",
       "\t<tr><td> 3</td><td>  8</td></tr>\n",
       "\t<tr><td> 4</td><td>165</td></tr>\n",
       "\t<tr><td> 9</td><td> 60</td></tr>\n",
       "\t<tr><td>NA</td><td>188</td></tr>\n",
       "</tbody>\n",
       "</table>\n"
      ],
      "text/latex": [
       "A data.frame: 6 × 2\n",
       "\\begin{tabular}{ll}\n",
       " EVOLUCAO & n\\\\\n",
       " <int> & <int>\\\\\n",
       "\\hline\n",
       "\t  1 & 203\\\\\n",
       "\t  2 & 111\\\\\n",
       "\t  3 &   8\\\\\n",
       "\t  4 & 165\\\\\n",
       "\t  9 &  60\\\\\n",
       "\t NA & 188\\\\\n",
       "\\end{tabular}\n"
      ],
      "text/markdown": [
       "\n",
       "A data.frame: 6 × 2\n",
       "\n",
       "| EVOLUCAO &lt;int&gt; | n &lt;int&gt; |\n",
       "|---|---|\n",
       "|  1 | 203 |\n",
       "|  2 | 111 |\n",
       "|  3 |   8 |\n",
       "|  4 | 165 |\n",
       "|  9 |  60 |\n",
       "| NA | 188 |\n",
       "\n"
      ],
      "text/plain": [
       "  EVOLUCAO n  \n",
       "1  1       203\n",
       "2  2       111\n",
       "3  3         8\n",
       "4  4       165\n",
       "5  9        60\n",
       "6 NA       188"
      ]
     },
     "metadata": {},
     "output_type": "display_data"
    },
    {
     "data": {
      "text/html": [
       "<style>\n",
       ".list-inline {list-style: none; margin:0; padding: 0}\n",
       ".list-inline>li {display: inline-block}\n",
       ".list-inline>li:not(:last-child)::after {content: \"\\00b7\"; padding: 0 .5ex}\n",
       "</style>\n",
       "<ol class=list-inline><li>479</li><li>81</li></ol>\n"
      ],
      "text/latex": [
       "\\begin{enumerate*}\n",
       "\\item 479\n",
       "\\item 81\n",
       "\\end{enumerate*}\n"
      ],
      "text/markdown": [
       "1. 479\n",
       "2. 81\n",
       "\n",
       "\n"
      ],
      "text/plain": [
       "[1] 479  81"
      ]
     },
     "metadata": {},
     "output_type": "display_data"
    },
    {
     "data": {
      "text/html": [
       "<table class=\"dataframe\">\n",
       "<caption>A data.frame: 2 × 2</caption>\n",
       "<thead>\n",
       "\t<tr><th scope=col>death</th><th scope=col>n</th></tr>\n",
       "\t<tr><th scope=col>&lt;dbl&gt;</th><th scope=col>&lt;int&gt;</th></tr>\n",
       "</thead>\n",
       "<tbody>\n",
       "\t<tr><td>0</td><td>203</td></tr>\n",
       "\t<tr><td>1</td><td>276</td></tr>\n",
       "</tbody>\n",
       "</table>\n"
      ],
      "text/latex": [
       "A data.frame: 2 × 2\n",
       "\\begin{tabular}{ll}\n",
       " death & n\\\\\n",
       " <dbl> & <int>\\\\\n",
       "\\hline\n",
       "\t 0 & 203\\\\\n",
       "\t 1 & 276\\\\\n",
       "\\end{tabular}\n"
      ],
      "text/markdown": [
       "\n",
       "A data.frame: 2 × 2\n",
       "\n",
       "| death &lt;dbl&gt; | n &lt;int&gt; |\n",
       "|---|---|\n",
       "| 0 | 203 |\n",
       "| 1 | 276 |\n",
       "\n"
      ],
      "text/plain": [
       "  death n  \n",
       "1 0     203\n",
       "2 1     276"
      ]
     },
     "metadata": {},
     "output_type": "display_data"
    }
   ],
   "source": [
    "# filter only severe cases\n",
    "data %>% count(CLASSI_FIN)\n",
    "data %>% filter(CLASSI_FIN == 12) %>% count(EVOLUCAO)\n",
    "data %>% filter(CLASSI_FIN == 12) -> data\n",
    "\n",
    "# filter only cases of cure or death\n",
    "data %>% filter(EVOLUCAO == 1  | EVOLUCAO == 2  | EVOLUCAO == 4 ) -> data\n",
    "data %>% dim\n",
    "\n",
    "# change evolucao to binary\n",
    "data %>% mutate(death = if_else(EVOLUCAO == 1, 0, 1)) -> data\n",
    "data %>% count(death)\n"
   ]
  },
  {
   "cell_type": "code",
   "execution_count": null,
   "id": "f43d2b21-e698-436b-b512-a03d2ea8b0de",
   "metadata": {
    "id": "f43d2b21-e698-436b-b512-a03d2ea8b0de",
    "outputId": "fde7f049-14ab-4020-f3b0-34ec2a86be0a"
   },
   "outputs": [
    {
     "data": {
      "text/html": [
       "<style>\n",
       ".list-inline {list-style: none; margin:0; padding: 0}\n",
       ".list-inline>li {display: inline-block}\n",
       ".list-inline>li:not(:last-child)::after {content: \"\\00b7\"; padding: 0 .5ex}\n",
       "</style>\n",
       "<ol class=list-inline><li>'NU_ANO'</li><li>'SG_UF_NOT'</li><li>'ID_MUNICIP'</li><li>'ID_REGIONA'</li><li>'ID_UNIDADE'</li><li>'DT_SIN_PRI'</li><li>'SEM_PRI'</li><li>'ANO_NASC'</li><li>'NU_IDADE_N'</li><li>'CS_SEXO'</li><li>'CS_GESTANT'</li><li>'CS_RACA'</li><li>'CS_ESCOL_N'</li><li>'SG_UF'</li><li>'ID_MN_RESI'</li><li>'ID_RG_RESI'</li><li>'ID_PAIS'</li><li>'DT_INVEST'</li><li>'ID_OCUPA_N'</li><li>'FEBRE'</li><li>'MIALGIA'</li><li>'CEFALEIA'</li><li>'EXANTEMA'</li><li>'VOMITO'</li><li>'NAUSEA'</li><li>'DOR_COSTAS'</li><li>'CONJUNTVIT'</li><li>'ARTRITE'</li><li>'ARTRALGIA'</li><li>'PETEQUIA_N'</li><li>'LEUCOPENIA'</li><li>'LACO'</li><li>'DOR_RETRO'</li><li>'DIABETES'</li><li>'HEMATOLOG'</li><li>'HEPATOPAT'</li><li>'RENAL'</li><li>'HIPERTENSA'</li><li>'ACIDO_PEPT'</li><li>'AUTO_IMUNE'</li><li>'HOSPITALIZ'</li><li>'DT_INTERNA'</li><li>'UF'</li><li>'CLASSI_FIN'</li><li>'EVOLUCAO'</li><li>'DT_OBITO'</li><li>'GRAV_PULSO'</li><li>'GRAV_CONV'</li><li>'GRAV_ENCH'</li><li>'GRAV_INSUF'</li><li>'GRAV_TAQUI'</li><li>'GRAV_EXTRE'</li><li>'GRAV_HIPOT'</li><li>'GRAV_HEMAT'</li><li>'GRAV_MELEN'</li><li>'GRAV_METRO'</li><li>'GRAV_SANG'</li><li>'GRAV_AST'</li><li>'GRAV_MIOC'</li><li>'GRAV_CONSC'</li><li>'GRAV_ORGAO'</li><li>'DT_GRAV'</li><li>'MANI_HEMOR'</li><li>'EPISTAXE'</li><li>'GENGIVO'</li><li>'METRO'</li><li>'PETEQUIAS'</li><li>'HEMATURA'</li><li>'SANGRAM'</li><li>'LACO_N'</li><li>'PLASMATICO'</li><li>'EVIDENCIA'</li><li>'PLAQ_MENOR'</li><li>'CON_FHD'</li><li>'COMPLICA'</li><li>'TP_SISTEMA'</li><li>'NDUPLIC_N'</li><li>'DT_DIGITA'</li><li>'CS_FLXRET'</li><li>'FLXRECEBI'</li><li>'MIGRADO_W'</li><li>'death'</li></ol>\n"
      ],
      "text/latex": [
       "\\begin{enumerate*}\n",
       "\\item 'NU\\_ANO'\n",
       "\\item 'SG\\_UF\\_NOT'\n",
       "\\item 'ID\\_MUNICIP'\n",
       "\\item 'ID\\_REGIONA'\n",
       "\\item 'ID\\_UNIDADE'\n",
       "\\item 'DT\\_SIN\\_PRI'\n",
       "\\item 'SEM\\_PRI'\n",
       "\\item 'ANO\\_NASC'\n",
       "\\item 'NU\\_IDADE\\_N'\n",
       "\\item 'CS\\_SEXO'\n",
       "\\item 'CS\\_GESTANT'\n",
       "\\item 'CS\\_RACA'\n",
       "\\item 'CS\\_ESCOL\\_N'\n",
       "\\item 'SG\\_UF'\n",
       "\\item 'ID\\_MN\\_RESI'\n",
       "\\item 'ID\\_RG\\_RESI'\n",
       "\\item 'ID\\_PAIS'\n",
       "\\item 'DT\\_INVEST'\n",
       "\\item 'ID\\_OCUPA\\_N'\n",
       "\\item 'FEBRE'\n",
       "\\item 'MIALGIA'\n",
       "\\item 'CEFALEIA'\n",
       "\\item 'EXANTEMA'\n",
       "\\item 'VOMITO'\n",
       "\\item 'NAUSEA'\n",
       "\\item 'DOR\\_COSTAS'\n",
       "\\item 'CONJUNTVIT'\n",
       "\\item 'ARTRITE'\n",
       "\\item 'ARTRALGIA'\n",
       "\\item 'PETEQUIA\\_N'\n",
       "\\item 'LEUCOPENIA'\n",
       "\\item 'LACO'\n",
       "\\item 'DOR\\_RETRO'\n",
       "\\item 'DIABETES'\n",
       "\\item 'HEMATOLOG'\n",
       "\\item 'HEPATOPAT'\n",
       "\\item 'RENAL'\n",
       "\\item 'HIPERTENSA'\n",
       "\\item 'ACIDO\\_PEPT'\n",
       "\\item 'AUTO\\_IMUNE'\n",
       "\\item 'HOSPITALIZ'\n",
       "\\item 'DT\\_INTERNA'\n",
       "\\item 'UF'\n",
       "\\item 'CLASSI\\_FIN'\n",
       "\\item 'EVOLUCAO'\n",
       "\\item 'DT\\_OBITO'\n",
       "\\item 'GRAV\\_PULSO'\n",
       "\\item 'GRAV\\_CONV'\n",
       "\\item 'GRAV\\_ENCH'\n",
       "\\item 'GRAV\\_INSUF'\n",
       "\\item 'GRAV\\_TAQUI'\n",
       "\\item 'GRAV\\_EXTRE'\n",
       "\\item 'GRAV\\_HIPOT'\n",
       "\\item 'GRAV\\_HEMAT'\n",
       "\\item 'GRAV\\_MELEN'\n",
       "\\item 'GRAV\\_METRO'\n",
       "\\item 'GRAV\\_SANG'\n",
       "\\item 'GRAV\\_AST'\n",
       "\\item 'GRAV\\_MIOC'\n",
       "\\item 'GRAV\\_CONSC'\n",
       "\\item 'GRAV\\_ORGAO'\n",
       "\\item 'DT\\_GRAV'\n",
       "\\item 'MANI\\_HEMOR'\n",
       "\\item 'EPISTAXE'\n",
       "\\item 'GENGIVO'\n",
       "\\item 'METRO'\n",
       "\\item 'PETEQUIAS'\n",
       "\\item 'HEMATURA'\n",
       "\\item 'SANGRAM'\n",
       "\\item 'LACO\\_N'\n",
       "\\item 'PLASMATICO'\n",
       "\\item 'EVIDENCIA'\n",
       "\\item 'PLAQ\\_MENOR'\n",
       "\\item 'CON\\_FHD'\n",
       "\\item 'COMPLICA'\n",
       "\\item 'TP\\_SISTEMA'\n",
       "\\item 'NDUPLIC\\_N'\n",
       "\\item 'DT\\_DIGITA'\n",
       "\\item 'CS\\_FLXRET'\n",
       "\\item 'FLXRECEBI'\n",
       "\\item 'MIGRADO\\_W'\n",
       "\\item 'death'\n",
       "\\end{enumerate*}\n"
      ],
      "text/markdown": [
       "1. 'NU_ANO'\n",
       "2. 'SG_UF_NOT'\n",
       "3. 'ID_MUNICIP'\n",
       "4. 'ID_REGIONA'\n",
       "5. 'ID_UNIDADE'\n",
       "6. 'DT_SIN_PRI'\n",
       "7. 'SEM_PRI'\n",
       "8. 'ANO_NASC'\n",
       "9. 'NU_IDADE_N'\n",
       "10. 'CS_SEXO'\n",
       "11. 'CS_GESTANT'\n",
       "12. 'CS_RACA'\n",
       "13. 'CS_ESCOL_N'\n",
       "14. 'SG_UF'\n",
       "15. 'ID_MN_RESI'\n",
       "16. 'ID_RG_RESI'\n",
       "17. 'ID_PAIS'\n",
       "18. 'DT_INVEST'\n",
       "19. 'ID_OCUPA_N'\n",
       "20. 'FEBRE'\n",
       "21. 'MIALGIA'\n",
       "22. 'CEFALEIA'\n",
       "23. 'EXANTEMA'\n",
       "24. 'VOMITO'\n",
       "25. 'NAUSEA'\n",
       "26. 'DOR_COSTAS'\n",
       "27. 'CONJUNTVIT'\n",
       "28. 'ARTRITE'\n",
       "29. 'ARTRALGIA'\n",
       "30. 'PETEQUIA_N'\n",
       "31. 'LEUCOPENIA'\n",
       "32. 'LACO'\n",
       "33. 'DOR_RETRO'\n",
       "34. 'DIABETES'\n",
       "35. 'HEMATOLOG'\n",
       "36. 'HEPATOPAT'\n",
       "37. 'RENAL'\n",
       "38. 'HIPERTENSA'\n",
       "39. 'ACIDO_PEPT'\n",
       "40. 'AUTO_IMUNE'\n",
       "41. 'HOSPITALIZ'\n",
       "42. 'DT_INTERNA'\n",
       "43. 'UF'\n",
       "44. 'CLASSI_FIN'\n",
       "45. 'EVOLUCAO'\n",
       "46. 'DT_OBITO'\n",
       "47. 'GRAV_PULSO'\n",
       "48. 'GRAV_CONV'\n",
       "49. 'GRAV_ENCH'\n",
       "50. 'GRAV_INSUF'\n",
       "51. 'GRAV_TAQUI'\n",
       "52. 'GRAV_EXTRE'\n",
       "53. 'GRAV_HIPOT'\n",
       "54. 'GRAV_HEMAT'\n",
       "55. 'GRAV_MELEN'\n",
       "56. 'GRAV_METRO'\n",
       "57. 'GRAV_SANG'\n",
       "58. 'GRAV_AST'\n",
       "59. 'GRAV_MIOC'\n",
       "60. 'GRAV_CONSC'\n",
       "61. 'GRAV_ORGAO'\n",
       "62. 'DT_GRAV'\n",
       "63. 'MANI_HEMOR'\n",
       "64. 'EPISTAXE'\n",
       "65. 'GENGIVO'\n",
       "66. 'METRO'\n",
       "67. 'PETEQUIAS'\n",
       "68. 'HEMATURA'\n",
       "69. 'SANGRAM'\n",
       "70. 'LACO_N'\n",
       "71. 'PLASMATICO'\n",
       "72. 'EVIDENCIA'\n",
       "73. 'PLAQ_MENOR'\n",
       "74. 'CON_FHD'\n",
       "75. 'COMPLICA'\n",
       "76. 'TP_SISTEMA'\n",
       "77. 'NDUPLIC_N'\n",
       "78. 'DT_DIGITA'\n",
       "79. 'CS_FLXRET'\n",
       "80. 'FLXRECEBI'\n",
       "81. 'MIGRADO_W'\n",
       "82. 'death'\n",
       "\n",
       "\n"
      ],
      "text/plain": [
       " [1] \"NU_ANO\"     \"SG_UF_NOT\"  \"ID_MUNICIP\" \"ID_REGIONA\" \"ID_UNIDADE\"\n",
       " [6] \"DT_SIN_PRI\" \"SEM_PRI\"    \"ANO_NASC\"   \"NU_IDADE_N\" \"CS_SEXO\"   \n",
       "[11] \"CS_GESTANT\" \"CS_RACA\"    \"CS_ESCOL_N\" \"SG_UF\"      \"ID_MN_RESI\"\n",
       "[16] \"ID_RG_RESI\" \"ID_PAIS\"    \"DT_INVEST\"  \"ID_OCUPA_N\" \"FEBRE\"     \n",
       "[21] \"MIALGIA\"    \"CEFALEIA\"   \"EXANTEMA\"   \"VOMITO\"     \"NAUSEA\"    \n",
       "[26] \"DOR_COSTAS\" \"CONJUNTVIT\" \"ARTRITE\"    \"ARTRALGIA\"  \"PETEQUIA_N\"\n",
       "[31] \"LEUCOPENIA\" \"LACO\"       \"DOR_RETRO\"  \"DIABETES\"   \"HEMATOLOG\" \n",
       "[36] \"HEPATOPAT\"  \"RENAL\"      \"HIPERTENSA\" \"ACIDO_PEPT\" \"AUTO_IMUNE\"\n",
       "[41] \"HOSPITALIZ\" \"DT_INTERNA\" \"UF\"         \"CLASSI_FIN\" \"EVOLUCAO\"  \n",
       "[46] \"DT_OBITO\"   \"GRAV_PULSO\" \"GRAV_CONV\"  \"GRAV_ENCH\"  \"GRAV_INSUF\"\n",
       "[51] \"GRAV_TAQUI\" \"GRAV_EXTRE\" \"GRAV_HIPOT\" \"GRAV_HEMAT\" \"GRAV_MELEN\"\n",
       "[56] \"GRAV_METRO\" \"GRAV_SANG\"  \"GRAV_AST\"   \"GRAV_MIOC\"  \"GRAV_CONSC\"\n",
       "[61] \"GRAV_ORGAO\" \"DT_GRAV\"    \"MANI_HEMOR\" \"EPISTAXE\"   \"GENGIVO\"   \n",
       "[66] \"METRO\"      \"PETEQUIAS\"  \"HEMATURA\"   \"SANGRAM\"    \"LACO_N\"    \n",
       "[71] \"PLASMATICO\" \"EVIDENCIA\"  \"PLAQ_MENOR\" \"CON_FHD\"    \"COMPLICA\"  \n",
       "[76] \"TP_SISTEMA\" \"NDUPLIC_N\"  \"DT_DIGITA\"  \"CS_FLXRET\"  \"FLXRECEBI\" \n",
       "[81] \"MIGRADO_W\"  \"death\"     "
      ]
     },
     "metadata": {},
     "output_type": "display_data"
    }
   ],
   "source": [
    "data %>% colnames"
   ]
  },
  {
   "cell_type": "code",
   "execution_count": null,
   "id": "094e203b-9965-4280-bbcb-c97ac548f2da",
   "metadata": {
    "id": "094e203b-9965-4280-bbcb-c97ac548f2da",
    "outputId": "507f26af-83a7-436d-bc91-de1b543dfd18"
   },
   "outputs": [
    {
     "data": {
      "text/html": [
       "<table class=\"dataframe\">\n",
       "<caption>A data.frame: 19 × 2</caption>\n",
       "<thead>\n",
       "\t<tr><th scope=col>SG_UF_NOT</th><th scope=col>n</th></tr>\n",
       "\t<tr><th scope=col>&lt;int&gt;</th><th scope=col>&lt;int&gt;</th></tr>\n",
       "</thead>\n",
       "<tbody>\n",
       "\t<tr><td>13</td><td>  4</td></tr>\n",
       "\t<tr><td>15</td><td>  2</td></tr>\n",
       "\t<tr><td>22</td><td>  1</td></tr>\n",
       "\t<tr><td>23</td><td>  1</td></tr>\n",
       "\t<tr><td>24</td><td>  2</td></tr>\n",
       "\t<tr><td>25</td><td>  2</td></tr>\n",
       "\t<tr><td>26</td><td>  2</td></tr>\n",
       "\t<tr><td>28</td><td>  1</td></tr>\n",
       "\t<tr><td>29</td><td>  9</td></tr>\n",
       "\t<tr><td>31</td><td>117</td></tr>\n",
       "\t<tr><td>33</td><td> 35</td></tr>\n",
       "\t<tr><td>35</td><td> 97</td></tr>\n",
       "\t<tr><td>41</td><td> 53</td></tr>\n",
       "\t<tr><td>42</td><td> 16</td></tr>\n",
       "\t<tr><td>43</td><td>  5</td></tr>\n",
       "\t<tr><td>50</td><td>  4</td></tr>\n",
       "\t<tr><td>51</td><td> 10</td></tr>\n",
       "\t<tr><td>52</td><td> 53</td></tr>\n",
       "\t<tr><td>53</td><td> 65</td></tr>\n",
       "</tbody>\n",
       "</table>\n"
      ],
      "text/latex": [
       "A data.frame: 19 × 2\n",
       "\\begin{tabular}{ll}\n",
       " SG\\_UF\\_NOT & n\\\\\n",
       " <int> & <int>\\\\\n",
       "\\hline\n",
       "\t 13 &   4\\\\\n",
       "\t 15 &   2\\\\\n",
       "\t 22 &   1\\\\\n",
       "\t 23 &   1\\\\\n",
       "\t 24 &   2\\\\\n",
       "\t 25 &   2\\\\\n",
       "\t 26 &   2\\\\\n",
       "\t 28 &   1\\\\\n",
       "\t 29 &   9\\\\\n",
       "\t 31 & 117\\\\\n",
       "\t 33 &  35\\\\\n",
       "\t 35 &  97\\\\\n",
       "\t 41 &  53\\\\\n",
       "\t 42 &  16\\\\\n",
       "\t 43 &   5\\\\\n",
       "\t 50 &   4\\\\\n",
       "\t 51 &  10\\\\\n",
       "\t 52 &  53\\\\\n",
       "\t 53 &  65\\\\\n",
       "\\end{tabular}\n"
      ],
      "text/markdown": [
       "\n",
       "A data.frame: 19 × 2\n",
       "\n",
       "| SG_UF_NOT &lt;int&gt; | n &lt;int&gt; |\n",
       "|---|---|\n",
       "| 13 |   4 |\n",
       "| 15 |   2 |\n",
       "| 22 |   1 |\n",
       "| 23 |   1 |\n",
       "| 24 |   2 |\n",
       "| 25 |   2 |\n",
       "| 26 |   2 |\n",
       "| 28 |   1 |\n",
       "| 29 |   9 |\n",
       "| 31 | 117 |\n",
       "| 33 |  35 |\n",
       "| 35 |  97 |\n",
       "| 41 |  53 |\n",
       "| 42 |  16 |\n",
       "| 43 |   5 |\n",
       "| 50 |   4 |\n",
       "| 51 |  10 |\n",
       "| 52 |  53 |\n",
       "| 53 |  65 |\n",
       "\n"
      ],
      "text/plain": [
       "   SG_UF_NOT n  \n",
       "1  13          4\n",
       "2  15          2\n",
       "3  22          1\n",
       "4  23          1\n",
       "5  24          2\n",
       "6  25          2\n",
       "7  26          2\n",
       "8  28          1\n",
       "9  29          9\n",
       "10 31        117\n",
       "11 33         35\n",
       "12 35         97\n",
       "13 41         53\n",
       "14 42         16\n",
       "15 43          5\n",
       "16 50          4\n",
       "17 51         10\n",
       "18 52         53\n",
       "19 53         65"
      ]
     },
     "metadata": {},
     "output_type": "display_data"
    }
   ],
   "source": [
    "# inspecting data distribution according to state\n",
    "\n",
    "data %>% count(SG_UF_NOT)"
   ]
  },
  {
   "cell_type": "code",
   "execution_count": null,
   "id": "2bfd322e-d8a3-49ab-90fe-d0c3aa8007fc",
   "metadata": {
    "id": "2bfd322e-d8a3-49ab-90fe-d0c3aa8007fc",
    "outputId": "e661cd8b-2661-4580-dc58-a83c9f2a6cc9"
   },
   "outputs": [
    {
     "data": {
      "text/html": [
       "<table class=\"dataframe\">\n",
       "<caption>A data.frame: 96 × 2</caption>\n",
       "<thead>\n",
       "\t<tr><th scope=col>ANO_NASC</th><th scope=col>n</th></tr>\n",
       "\t<tr><th scope=col>&lt;int&gt;</th><th scope=col>&lt;int&gt;</th></tr>\n",
       "</thead>\n",
       "<tbody>\n",
       "\t<tr><td>1919</td><td> 1</td></tr>\n",
       "\t<tr><td>1925</td><td> 1</td></tr>\n",
       "\t<tr><td>1927</td><td> 3</td></tr>\n",
       "\t<tr><td>1928</td><td> 2</td></tr>\n",
       "\t<tr><td>1929</td><td> 1</td></tr>\n",
       "\t<tr><td>1930</td><td> 2</td></tr>\n",
       "\t<tr><td>1931</td><td> 3</td></tr>\n",
       "\t<tr><td>1933</td><td> 1</td></tr>\n",
       "\t<tr><td>1934</td><td> 8</td></tr>\n",
       "\t<tr><td>1935</td><td> 3</td></tr>\n",
       "\t<tr><td>1936</td><td> 4</td></tr>\n",
       "\t<tr><td>1937</td><td> 4</td></tr>\n",
       "\t<tr><td>1938</td><td> 3</td></tr>\n",
       "\t<tr><td>1939</td><td>13</td></tr>\n",
       "\t<tr><td>1940</td><td> 2</td></tr>\n",
       "\t<tr><td>1941</td><td> 6</td></tr>\n",
       "\t<tr><td>1942</td><td> 6</td></tr>\n",
       "\t<tr><td>1943</td><td> 6</td></tr>\n",
       "\t<tr><td>1944</td><td> 3</td></tr>\n",
       "\t<tr><td>1945</td><td>10</td></tr>\n",
       "\t<tr><td>1946</td><td> 7</td></tr>\n",
       "\t<tr><td>1947</td><td> 9</td></tr>\n",
       "\t<tr><td>1948</td><td> 7</td></tr>\n",
       "\t<tr><td>1949</td><td> 7</td></tr>\n",
       "\t<tr><td>1950</td><td> 5</td></tr>\n",
       "\t<tr><td>1951</td><td> 8</td></tr>\n",
       "\t<tr><td>1952</td><td> 6</td></tr>\n",
       "\t<tr><td>1953</td><td> 7</td></tr>\n",
       "\t<tr><td>1954</td><td> 6</td></tr>\n",
       "\t<tr><td>1955</td><td> 8</td></tr>\n",
       "\t<tr><td>⋮</td><td>⋮</td></tr>\n",
       "\t<tr><td>1992</td><td> 7</td></tr>\n",
       "\t<tr><td>1993</td><td> 8</td></tr>\n",
       "\t<tr><td>1994</td><td> 9</td></tr>\n",
       "\t<tr><td>1995</td><td> 4</td></tr>\n",
       "\t<tr><td>1996</td><td> 2</td></tr>\n",
       "\t<tr><td>1997</td><td> 1</td></tr>\n",
       "\t<tr><td>1998</td><td> 4</td></tr>\n",
       "\t<tr><td>1999</td><td> 6</td></tr>\n",
       "\t<tr><td>2000</td><td> 6</td></tr>\n",
       "\t<tr><td>2001</td><td> 4</td></tr>\n",
       "\t<tr><td>2002</td><td> 5</td></tr>\n",
       "\t<tr><td>2003</td><td> 2</td></tr>\n",
       "\t<tr><td>2004</td><td> 6</td></tr>\n",
       "\t<tr><td>2005</td><td> 1</td></tr>\n",
       "\t<tr><td>2006</td><td> 4</td></tr>\n",
       "\t<tr><td>2007</td><td>10</td></tr>\n",
       "\t<tr><td>2008</td><td> 1</td></tr>\n",
       "\t<tr><td>2009</td><td> 3</td></tr>\n",
       "\t<tr><td>2010</td><td> 5</td></tr>\n",
       "\t<tr><td>2011</td><td> 3</td></tr>\n",
       "\t<tr><td>2012</td><td> 5</td></tr>\n",
       "\t<tr><td>2013</td><td> 2</td></tr>\n",
       "\t<tr><td>2014</td><td> 4</td></tr>\n",
       "\t<tr><td>2015</td><td> 2</td></tr>\n",
       "\t<tr><td>2016</td><td> 1</td></tr>\n",
       "\t<tr><td>2018</td><td> 3</td></tr>\n",
       "\t<tr><td>2020</td><td> 2</td></tr>\n",
       "\t<tr><td>2022</td><td> 1</td></tr>\n",
       "\t<tr><td>2023</td><td> 8</td></tr>\n",
       "\t<tr><td>  NA</td><td> 3</td></tr>\n",
       "</tbody>\n",
       "</table>\n"
      ],
      "text/latex": [
       "A data.frame: 96 × 2\n",
       "\\begin{tabular}{ll}\n",
       " ANO\\_NASC & n\\\\\n",
       " <int> & <int>\\\\\n",
       "\\hline\n",
       "\t 1919 &  1\\\\\n",
       "\t 1925 &  1\\\\\n",
       "\t 1927 &  3\\\\\n",
       "\t 1928 &  2\\\\\n",
       "\t 1929 &  1\\\\\n",
       "\t 1930 &  2\\\\\n",
       "\t 1931 &  3\\\\\n",
       "\t 1933 &  1\\\\\n",
       "\t 1934 &  8\\\\\n",
       "\t 1935 &  3\\\\\n",
       "\t 1936 &  4\\\\\n",
       "\t 1937 &  4\\\\\n",
       "\t 1938 &  3\\\\\n",
       "\t 1939 & 13\\\\\n",
       "\t 1940 &  2\\\\\n",
       "\t 1941 &  6\\\\\n",
       "\t 1942 &  6\\\\\n",
       "\t 1943 &  6\\\\\n",
       "\t 1944 &  3\\\\\n",
       "\t 1945 & 10\\\\\n",
       "\t 1946 &  7\\\\\n",
       "\t 1947 &  9\\\\\n",
       "\t 1948 &  7\\\\\n",
       "\t 1949 &  7\\\\\n",
       "\t 1950 &  5\\\\\n",
       "\t 1951 &  8\\\\\n",
       "\t 1952 &  6\\\\\n",
       "\t 1953 &  7\\\\\n",
       "\t 1954 &  6\\\\\n",
       "\t 1955 &  8\\\\\n",
       "\t ⋮ & ⋮\\\\\n",
       "\t 1992 &  7\\\\\n",
       "\t 1993 &  8\\\\\n",
       "\t 1994 &  9\\\\\n",
       "\t 1995 &  4\\\\\n",
       "\t 1996 &  2\\\\\n",
       "\t 1997 &  1\\\\\n",
       "\t 1998 &  4\\\\\n",
       "\t 1999 &  6\\\\\n",
       "\t 2000 &  6\\\\\n",
       "\t 2001 &  4\\\\\n",
       "\t 2002 &  5\\\\\n",
       "\t 2003 &  2\\\\\n",
       "\t 2004 &  6\\\\\n",
       "\t 2005 &  1\\\\\n",
       "\t 2006 &  4\\\\\n",
       "\t 2007 & 10\\\\\n",
       "\t 2008 &  1\\\\\n",
       "\t 2009 &  3\\\\\n",
       "\t 2010 &  5\\\\\n",
       "\t 2011 &  3\\\\\n",
       "\t 2012 &  5\\\\\n",
       "\t 2013 &  2\\\\\n",
       "\t 2014 &  4\\\\\n",
       "\t 2015 &  2\\\\\n",
       "\t 2016 &  1\\\\\n",
       "\t 2018 &  3\\\\\n",
       "\t 2020 &  2\\\\\n",
       "\t 2022 &  1\\\\\n",
       "\t 2023 &  8\\\\\n",
       "\t   NA &  3\\\\\n",
       "\\end{tabular}\n"
      ],
      "text/markdown": [
       "\n",
       "A data.frame: 96 × 2\n",
       "\n",
       "| ANO_NASC &lt;int&gt; | n &lt;int&gt; |\n",
       "|---|---|\n",
       "| 1919 |  1 |\n",
       "| 1925 |  1 |\n",
       "| 1927 |  3 |\n",
       "| 1928 |  2 |\n",
       "| 1929 |  1 |\n",
       "| 1930 |  2 |\n",
       "| 1931 |  3 |\n",
       "| 1933 |  1 |\n",
       "| 1934 |  8 |\n",
       "| 1935 |  3 |\n",
       "| 1936 |  4 |\n",
       "| 1937 |  4 |\n",
       "| 1938 |  3 |\n",
       "| 1939 | 13 |\n",
       "| 1940 |  2 |\n",
       "| 1941 |  6 |\n",
       "| 1942 |  6 |\n",
       "| 1943 |  6 |\n",
       "| 1944 |  3 |\n",
       "| 1945 | 10 |\n",
       "| 1946 |  7 |\n",
       "| 1947 |  9 |\n",
       "| 1948 |  7 |\n",
       "| 1949 |  7 |\n",
       "| 1950 |  5 |\n",
       "| 1951 |  8 |\n",
       "| 1952 |  6 |\n",
       "| 1953 |  7 |\n",
       "| 1954 |  6 |\n",
       "| 1955 |  8 |\n",
       "| ⋮ | ⋮ |\n",
       "| 1992 |  7 |\n",
       "| 1993 |  8 |\n",
       "| 1994 |  9 |\n",
       "| 1995 |  4 |\n",
       "| 1996 |  2 |\n",
       "| 1997 |  1 |\n",
       "| 1998 |  4 |\n",
       "| 1999 |  6 |\n",
       "| 2000 |  6 |\n",
       "| 2001 |  4 |\n",
       "| 2002 |  5 |\n",
       "| 2003 |  2 |\n",
       "| 2004 |  6 |\n",
       "| 2005 |  1 |\n",
       "| 2006 |  4 |\n",
       "| 2007 | 10 |\n",
       "| 2008 |  1 |\n",
       "| 2009 |  3 |\n",
       "| 2010 |  5 |\n",
       "| 2011 |  3 |\n",
       "| 2012 |  5 |\n",
       "| 2013 |  2 |\n",
       "| 2014 |  4 |\n",
       "| 2015 |  2 |\n",
       "| 2016 |  1 |\n",
       "| 2018 |  3 |\n",
       "| 2020 |  2 |\n",
       "| 2022 |  1 |\n",
       "| 2023 |  8 |\n",
       "|   NA |  3 |\n",
       "\n"
      ],
      "text/plain": [
       "   ANO_NASC n \n",
       "1  1919      1\n",
       "2  1925      1\n",
       "3  1927      3\n",
       "4  1928      2\n",
       "5  1929      1\n",
       "6  1930      2\n",
       "7  1931      3\n",
       "8  1933      1\n",
       "9  1934      8\n",
       "10 1935      3\n",
       "11 1936      4\n",
       "12 1937      4\n",
       "13 1938      3\n",
       "14 1939     13\n",
       "15 1940      2\n",
       "16 1941      6\n",
       "17 1942      6\n",
       "18 1943      6\n",
       "19 1944      3\n",
       "20 1945     10\n",
       "21 1946      7\n",
       "22 1947      9\n",
       "23 1948      7\n",
       "24 1949      7\n",
       "25 1950      5\n",
       "26 1951      8\n",
       "27 1952      6\n",
       "28 1953      7\n",
       "29 1954      6\n",
       "30 1955      8\n",
       "⋮  ⋮        ⋮ \n",
       "67 1992      7\n",
       "68 1993      8\n",
       "69 1994      9\n",
       "70 1995      4\n",
       "71 1996      2\n",
       "72 1997      1\n",
       "73 1998      4\n",
       "74 1999      6\n",
       "75 2000      6\n",
       "76 2001      4\n",
       "77 2002      5\n",
       "78 2003      2\n",
       "79 2004      6\n",
       "80 2005      1\n",
       "81 2006      4\n",
       "82 2007     10\n",
       "83 2008      1\n",
       "84 2009      3\n",
       "85 2010      5\n",
       "86 2011      3\n",
       "87 2012      5\n",
       "88 2013      2\n",
       "89 2014      4\n",
       "90 2015      2\n",
       "91 2016      1\n",
       "92 2018      3\n",
       "93 2020      2\n",
       "94 2022      1\n",
       "95 2023      8\n",
       "96   NA      3"
      ]
     },
     "metadata": {},
     "output_type": "display_data"
    },
    {
     "data": {
      "text/html": [
       "<table class=\"dataframe\">\n",
       "<caption>A data.frame: 15 × 2</caption>\n",
       "<thead>\n",
       "\t<tr><th scope=col>age</th><th scope=col>n</th></tr>\n",
       "\t<tr><th scope=col>&lt;dbl&gt;</th><th scope=col>&lt;int&gt;</th></tr>\n",
       "</thead>\n",
       "<tbody>\n",
       "\t<tr><td> 1</td><td> 8</td></tr>\n",
       "\t<tr><td> 2</td><td> 1</td></tr>\n",
       "\t<tr><td> 4</td><td> 2</td></tr>\n",
       "\t<tr><td> 6</td><td> 3</td></tr>\n",
       "\t<tr><td> 8</td><td> 1</td></tr>\n",
       "\t<tr><td> 9</td><td> 2</td></tr>\n",
       "\t<tr><td>10</td><td> 4</td></tr>\n",
       "\t<tr><td>11</td><td> 2</td></tr>\n",
       "\t<tr><td>12</td><td> 5</td></tr>\n",
       "\t<tr><td>13</td><td> 3</td></tr>\n",
       "\t<tr><td>14</td><td> 5</td></tr>\n",
       "\t<tr><td>15</td><td> 3</td></tr>\n",
       "\t<tr><td>16</td><td> 1</td></tr>\n",
       "\t<tr><td>17</td><td>10</td></tr>\n",
       "\t<tr><td>18</td><td> 4</td></tr>\n",
       "</tbody>\n",
       "</table>\n"
      ],
      "text/latex": [
       "A data.frame: 15 × 2\n",
       "\\begin{tabular}{ll}\n",
       " age & n\\\\\n",
       " <dbl> & <int>\\\\\n",
       "\\hline\n",
       "\t  1 &  8\\\\\n",
       "\t  2 &  1\\\\\n",
       "\t  4 &  2\\\\\n",
       "\t  6 &  3\\\\\n",
       "\t  8 &  1\\\\\n",
       "\t  9 &  2\\\\\n",
       "\t 10 &  4\\\\\n",
       "\t 11 &  2\\\\\n",
       "\t 12 &  5\\\\\n",
       "\t 13 &  3\\\\\n",
       "\t 14 &  5\\\\\n",
       "\t 15 &  3\\\\\n",
       "\t 16 &  1\\\\\n",
       "\t 17 & 10\\\\\n",
       "\t 18 &  4\\\\\n",
       "\\end{tabular}\n"
      ],
      "text/markdown": [
       "\n",
       "A data.frame: 15 × 2\n",
       "\n",
       "| age &lt;dbl&gt; | n &lt;int&gt; |\n",
       "|---|---|\n",
       "|  1 |  8 |\n",
       "|  2 |  1 |\n",
       "|  4 |  2 |\n",
       "|  6 |  3 |\n",
       "|  8 |  1 |\n",
       "|  9 |  2 |\n",
       "| 10 |  4 |\n",
       "| 11 |  2 |\n",
       "| 12 |  5 |\n",
       "| 13 |  3 |\n",
       "| 14 |  5 |\n",
       "| 15 |  3 |\n",
       "| 16 |  1 |\n",
       "| 17 | 10 |\n",
       "| 18 |  4 |\n",
       "\n"
      ],
      "text/plain": [
       "   age n \n",
       "1   1   8\n",
       "2   2   1\n",
       "3   4   2\n",
       "4   6   3\n",
       "5   8   1\n",
       "6   9   2\n",
       "7  10   4\n",
       "8  11   2\n",
       "9  12   5\n",
       "10 13   3\n",
       "11 14   5\n",
       "12 15   3\n",
       "13 16   1\n",
       "14 17  10\n",
       "15 18   4"
      ]
     },
     "metadata": {},
     "output_type": "display_data"
    },
    {
     "data": {
      "text/html": [
       "<table class=\"dataframe\">\n",
       "<caption>A data.frame: 12 × 2</caption>\n",
       "<thead>\n",
       "\t<tr><th></th><th scope=col>age</th><th scope=col>n</th></tr>\n",
       "\t<tr><th></th><th scope=col>&lt;dbl&gt;</th><th scope=col>&lt;int&gt;</th></tr>\n",
       "</thead>\n",
       "<tbody>\n",
       "\t<tr><th scope=row>84</th><td> 87</td><td>4</td></tr>\n",
       "\t<tr><th scope=row>85</th><td> 88</td><td>4</td></tr>\n",
       "\t<tr><th scope=row>86</th><td> 89</td><td>3</td></tr>\n",
       "\t<tr><th scope=row>87</th><td> 90</td><td>8</td></tr>\n",
       "\t<tr><th scope=row>88</th><td> 91</td><td>1</td></tr>\n",
       "\t<tr><th scope=row>89</th><td> 93</td><td>3</td></tr>\n",
       "\t<tr><th scope=row>90</th><td> 94</td><td>2</td></tr>\n",
       "\t<tr><th scope=row>91</th><td> 95</td><td>1</td></tr>\n",
       "\t<tr><th scope=row>92</th><td> 96</td><td>2</td></tr>\n",
       "\t<tr><th scope=row>93</th><td> 97</td><td>3</td></tr>\n",
       "\t<tr><th scope=row>94</th><td> 99</td><td>1</td></tr>\n",
       "\t<tr><th scope=row>95</th><td>105</td><td>1</td></tr>\n",
       "</tbody>\n",
       "</table>\n"
      ],
      "text/latex": [
       "A data.frame: 12 × 2\n",
       "\\begin{tabular}{r|ll}\n",
       "  & age & n\\\\\n",
       "  & <dbl> & <int>\\\\\n",
       "\\hline\n",
       "\t84 &  87 & 4\\\\\n",
       "\t85 &  88 & 4\\\\\n",
       "\t86 &  89 & 3\\\\\n",
       "\t87 &  90 & 8\\\\\n",
       "\t88 &  91 & 1\\\\\n",
       "\t89 &  93 & 3\\\\\n",
       "\t90 &  94 & 2\\\\\n",
       "\t91 &  95 & 1\\\\\n",
       "\t92 &  96 & 2\\\\\n",
       "\t93 &  97 & 3\\\\\n",
       "\t94 &  99 & 1\\\\\n",
       "\t95 & 105 & 1\\\\\n",
       "\\end{tabular}\n"
      ],
      "text/markdown": [
       "\n",
       "A data.frame: 12 × 2\n",
       "\n",
       "| <!--/--> | age &lt;dbl&gt; | n &lt;int&gt; |\n",
       "|---|---|---|\n",
       "| 84 |  87 | 4 |\n",
       "| 85 |  88 | 4 |\n",
       "| 86 |  89 | 3 |\n",
       "| 87 |  90 | 8 |\n",
       "| 88 |  91 | 1 |\n",
       "| 89 |  93 | 3 |\n",
       "| 90 |  94 | 2 |\n",
       "| 91 |  95 | 1 |\n",
       "| 92 |  96 | 2 |\n",
       "| 93 |  97 | 3 |\n",
       "| 94 |  99 | 1 |\n",
       "| 95 | 105 | 1 |\n",
       "\n"
      ],
      "text/plain": [
       "   age n\n",
       "84  87 4\n",
       "85  88 4\n",
       "86  89 3\n",
       "87  90 8\n",
       "88  91 1\n",
       "89  93 3\n",
       "90  94 2\n",
       "91  95 1\n",
       "92  96 2\n",
       "93  97 3\n",
       "94  99 1\n",
       "95 105 1"
      ]
     },
     "metadata": {},
     "output_type": "display_data"
    }
   ],
   "source": [
    "# inspecting data distribution according year of birth\n",
    "data %>% count(ANO_NASC)\n",
    "\n",
    "# remove patients without this information\n",
    "data %>% filter(!is.na(ANO_NASC)) -> data\n",
    "\n",
    "# create a new column with age\n",
    "data %>% mutate(age = 2024 - ANO_NASC) %>% count(age) %>% slice(1:15)\n",
    "data %>% mutate(age = 2024 - ANO_NASC) %>% count(age) %>% tail(12)\n",
    "data %>% mutate(age = 2024 - ANO_NASC) -> data"
   ]
  },
  {
   "cell_type": "code",
   "execution_count": null,
   "id": "80f3ded7-0bff-43fa-8db3-8de028499ed5",
   "metadata": {
    "id": "80f3ded7-0bff-43fa-8db3-8de028499ed5"
   },
   "outputs": [],
   "source": [
    "# remove patients younger than 12 years old\n",
    "data %>% filter(age > 11) -> data"
   ]
  },
  {
   "cell_type": "code",
   "execution_count": null,
   "id": "a4370e7e-83a1-41f5-a8cb-efe818e5eb91",
   "metadata": {
    "id": "a4370e7e-83a1-41f5-a8cb-efe818e5eb91",
    "outputId": "52d631cd-4d60-4514-f120-303437f2430a"
   },
   "outputs": [
    {
     "data": {
      "text/html": [
       "<table class=\"dataframe\">\n",
       "<caption>A data.frame: 2 × 2</caption>\n",
       "<thead>\n",
       "\t<tr><th scope=col>CS_SEXO</th><th scope=col>n</th></tr>\n",
       "\t<tr><th scope=col>&lt;chr&gt;</th><th scope=col>&lt;int&gt;</th></tr>\n",
       "</thead>\n",
       "<tbody>\n",
       "\t<tr><td>F</td><td>235</td></tr>\n",
       "\t<tr><td>M</td><td>218</td></tr>\n",
       "</tbody>\n",
       "</table>\n"
      ],
      "text/latex": [
       "A data.frame: 2 × 2\n",
       "\\begin{tabular}{ll}\n",
       " CS\\_SEXO & n\\\\\n",
       " <chr> & <int>\\\\\n",
       "\\hline\n",
       "\t F & 235\\\\\n",
       "\t M & 218\\\\\n",
       "\\end{tabular}\n"
      ],
      "text/markdown": [
       "\n",
       "A data.frame: 2 × 2\n",
       "\n",
       "| CS_SEXO &lt;chr&gt; | n &lt;int&gt; |\n",
       "|---|---|\n",
       "| F | 235 |\n",
       "| M | 218 |\n",
       "\n"
      ],
      "text/plain": [
       "  CS_SEXO n  \n",
       "1 F       235\n",
       "2 M       218"
      ]
     },
     "metadata": {},
     "output_type": "display_data"
    },
    {
     "data": {
      "text/html": [
       "<table class=\"dataframe\">\n",
       "<caption>A data.frame: 2 × 2</caption>\n",
       "<thead>\n",
       "\t<tr><th scope=col>sex</th><th scope=col>n</th></tr>\n",
       "\t<tr><th scope=col>&lt;dbl&gt;</th><th scope=col>&lt;int&gt;</th></tr>\n",
       "</thead>\n",
       "<tbody>\n",
       "\t<tr><td>0</td><td>218</td></tr>\n",
       "\t<tr><td>1</td><td>235</td></tr>\n",
       "</tbody>\n",
       "</table>\n"
      ],
      "text/latex": [
       "A data.frame: 2 × 2\n",
       "\\begin{tabular}{ll}\n",
       " sex & n\\\\\n",
       " <dbl> & <int>\\\\\n",
       "\\hline\n",
       "\t 0 & 218\\\\\n",
       "\t 1 & 235\\\\\n",
       "\\end{tabular}\n"
      ],
      "text/markdown": [
       "\n",
       "A data.frame: 2 × 2\n",
       "\n",
       "| sex &lt;dbl&gt; | n &lt;int&gt; |\n",
       "|---|---|\n",
       "| 0 | 218 |\n",
       "| 1 | 235 |\n",
       "\n"
      ],
      "text/plain": [
       "  sex n  \n",
       "1 0   218\n",
       "2 1   235"
      ]
     },
     "metadata": {},
     "output_type": "display_data"
    }
   ],
   "source": [
    "data %>% count(CS_SEXO)\n",
    "\n",
    "# create a new column with numeric values\n",
    "data %>% mutate(sex = if_else(CS_SEXO == 'M', 0, 1)) %>% count(sex)\n",
    "data %>% mutate(sex = if_else(CS_SEXO == 'M', 0, 1)) -> data\n",
    "\n",
    "# remove the former column\n",
    "data %>% select(-CS_SEXO) -> data"
   ]
  },
  {
   "cell_type": "code",
   "execution_count": null,
   "id": "7ce6f9d7-a3e3-437a-b227-a8ce76d30338",
   "metadata": {
    "id": "7ce6f9d7-a3e3-437a-b227-a8ce76d30338",
    "outputId": "b602a48a-8c52-4171-c58a-aeb4a552196e"
   },
   "outputs": [
    {
     "data": {
      "text/html": [
       "<table class=\"dataframe\">\n",
       "<caption>A data.frame: 6 × 2</caption>\n",
       "<thead>\n",
       "\t<tr><th scope=col>CS_GESTANT</th><th scope=col>n</th></tr>\n",
       "\t<tr><th scope=col>&lt;int&gt;</th><th scope=col>&lt;int&gt;</th></tr>\n",
       "</thead>\n",
       "<tbody>\n",
       "\t<tr><td>1</td><td>  1</td></tr>\n",
       "\t<tr><td>3</td><td>  3</td></tr>\n",
       "\t<tr><td>4</td><td>  1</td></tr>\n",
       "\t<tr><td>5</td><td>170</td></tr>\n",
       "\t<tr><td>6</td><td>256</td></tr>\n",
       "\t<tr><td>9</td><td> 22</td></tr>\n",
       "</tbody>\n",
       "</table>\n"
      ],
      "text/latex": [
       "A data.frame: 6 × 2\n",
       "\\begin{tabular}{ll}\n",
       " CS\\_GESTANT & n\\\\\n",
       " <int> & <int>\\\\\n",
       "\\hline\n",
       "\t 1 &   1\\\\\n",
       "\t 3 &   3\\\\\n",
       "\t 4 &   1\\\\\n",
       "\t 5 & 170\\\\\n",
       "\t 6 & 256\\\\\n",
       "\t 9 &  22\\\\\n",
       "\\end{tabular}\n"
      ],
      "text/markdown": [
       "\n",
       "A data.frame: 6 × 2\n",
       "\n",
       "| CS_GESTANT &lt;int&gt; | n &lt;int&gt; |\n",
       "|---|---|\n",
       "| 1 |   1 |\n",
       "| 3 |   3 |\n",
       "| 4 |   1 |\n",
       "| 5 | 170 |\n",
       "| 6 | 256 |\n",
       "| 9 |  22 |\n",
       "\n"
      ],
      "text/plain": [
       "  CS_GESTANT n  \n",
       "1 1            1\n",
       "2 3            3\n",
       "3 4            1\n",
       "4 5          170\n",
       "5 6          256\n",
       "6 9           22"
      ]
     },
     "metadata": {},
     "output_type": "display_data"
    }
   ],
   "source": [
    "# check the column pregnancy\n",
    "data %>% count(CS_GESTANT)\n",
    "\n",
    "#data %>% select(-CS_GESTANT) -> data"
   ]
  },
  {
   "cell_type": "code",
   "execution_count": null,
   "id": "34d0763a-0b5e-4290-ae4d-5c2840126b21",
   "metadata": {
    "id": "34d0763a-0b5e-4290-ae4d-5c2840126b21",
    "outputId": "626469bd-f748-4e98-918a-15cbe0c923bc"
   },
   "outputs": [
    {
     "data": {
      "text/html": [
       "<table class=\"dataframe\">\n",
       "<caption>A data.frame: 2 × 2</caption>\n",
       "<thead>\n",
       "\t<tr><th scope=col>pregnant</th><th scope=col>n</th></tr>\n",
       "\t<tr><th scope=col>&lt;dbl&gt;</th><th scope=col>&lt;int&gt;</th></tr>\n",
       "</thead>\n",
       "<tbody>\n",
       "\t<tr><td>0</td><td>448</td></tr>\n",
       "\t<tr><td>1</td><td>  5</td></tr>\n",
       "</tbody>\n",
       "</table>\n"
      ],
      "text/latex": [
       "A data.frame: 2 × 2\n",
       "\\begin{tabular}{ll}\n",
       " pregnant & n\\\\\n",
       " <dbl> & <int>\\\\\n",
       "\\hline\n",
       "\t 0 & 448\\\\\n",
       "\t 1 &   5\\\\\n",
       "\\end{tabular}\n"
      ],
      "text/markdown": [
       "\n",
       "A data.frame: 2 × 2\n",
       "\n",
       "| pregnant &lt;dbl&gt; | n &lt;int&gt; |\n",
       "|---|---|\n",
       "| 0 | 448 |\n",
       "| 1 |   5 |\n",
       "\n"
      ],
      "text/plain": [
       "  pregnant n  \n",
       "1 0        448\n",
       "2 1          5"
      ]
     },
     "metadata": {},
     "output_type": "display_data"
    }
   ],
   "source": [
    "# transform the column pregnant in binary, orignally diferent values refer to difernt stages on pregnancy\n",
    "data %>% mutate(pregnant = if_else((CS_GESTANT == 1 |\n",
    "                               CS_GESTANT == 2 |\n",
    "                               CS_GESTANT == 3 |\n",
    "                               CS_GESTANT == 4), 1, 0)) %>% count(pregnant)\n",
    "\n",
    "\n",
    "data %>% mutate(pregnant = if_else((CS_GESTANT == 1 |\n",
    "                               CS_GESTANT == 2 |\n",
    "                               CS_GESTANT == 3 |\n",
    "                               CS_GESTANT == 4), 1, 0)) -> data\n",
    "\n",
    "data %>% select(-CS_GESTANT) -> data"
   ]
  },
  {
   "cell_type": "code",
   "execution_count": null,
   "id": "6b5618c4-bf70-4245-897b-4d57f5f990c0",
   "metadata": {
    "id": "6b5618c4-bf70-4245-897b-4d57f5f990c0",
    "outputId": "370150e2-53dc-4e10-a8a8-141b31cbb001"
   },
   "outputs": [
    {
     "data": {
      "text/html": [
       "<table class=\"dataframe\">\n",
       "<caption>A data.frame: 6 × 2</caption>\n",
       "<thead>\n",
       "\t<tr><th scope=col>CS_RACA</th><th scope=col>n</th></tr>\n",
       "\t<tr><th scope=col>&lt;int&gt;</th><th scope=col>&lt;int&gt;</th></tr>\n",
       "</thead>\n",
       "<tbody>\n",
       "\t<tr><td>1</td><td>205</td></tr>\n",
       "\t<tr><td>2</td><td> 27</td></tr>\n",
       "\t<tr><td>3</td><td>  3</td></tr>\n",
       "\t<tr><td>4</td><td>173</td></tr>\n",
       "\t<tr><td>5</td><td>  2</td></tr>\n",
       "\t<tr><td>9</td><td> 43</td></tr>\n",
       "</tbody>\n",
       "</table>\n"
      ],
      "text/latex": [
       "A data.frame: 6 × 2\n",
       "\\begin{tabular}{ll}\n",
       " CS\\_RACA & n\\\\\n",
       " <int> & <int>\\\\\n",
       "\\hline\n",
       "\t 1 & 205\\\\\n",
       "\t 2 &  27\\\\\n",
       "\t 3 &   3\\\\\n",
       "\t 4 & 173\\\\\n",
       "\t 5 &   2\\\\\n",
       "\t 9 &  43\\\\\n",
       "\\end{tabular}\n"
      ],
      "text/markdown": [
       "\n",
       "A data.frame: 6 × 2\n",
       "\n",
       "| CS_RACA &lt;int&gt; | n &lt;int&gt; |\n",
       "|---|---|\n",
       "| 1 | 205 |\n",
       "| 2 |  27 |\n",
       "| 3 |   3 |\n",
       "| 4 | 173 |\n",
       "| 5 |   2 |\n",
       "| 9 |  43 |\n",
       "\n"
      ],
      "text/plain": [
       "  CS_RACA n  \n",
       "1 1       205\n",
       "2 2        27\n",
       "3 3         3\n",
       "4 4       173\n",
       "5 5         2\n",
       "6 9        43"
      ]
     },
     "metadata": {},
     "output_type": "display_data"
    },
    {
     "data": {
      "text/html": [
       "<table class=\"dataframe\">\n",
       "<caption>A data.frame: 2 × 2</caption>\n",
       "<thead>\n",
       "\t<tr><th scope=col>white</th><th scope=col>n</th></tr>\n",
       "\t<tr><th scope=col>&lt;dbl&gt;</th><th scope=col>&lt;int&gt;</th></tr>\n",
       "</thead>\n",
       "<tbody>\n",
       "\t<tr><td>0</td><td>248</td></tr>\n",
       "\t<tr><td>1</td><td>205</td></tr>\n",
       "</tbody>\n",
       "</table>\n"
      ],
      "text/latex": [
       "A data.frame: 2 × 2\n",
       "\\begin{tabular}{ll}\n",
       " white & n\\\\\n",
       " <dbl> & <int>\\\\\n",
       "\\hline\n",
       "\t 0 & 248\\\\\n",
       "\t 1 & 205\\\\\n",
       "\\end{tabular}\n"
      ],
      "text/markdown": [
       "\n",
       "A data.frame: 2 × 2\n",
       "\n",
       "| white &lt;dbl&gt; | n &lt;int&gt; |\n",
       "|---|---|\n",
       "| 0 | 248 |\n",
       "| 1 | 205 |\n",
       "\n"
      ],
      "text/plain": [
       "  white n  \n",
       "1 0     248\n",
       "2 1     205"
      ]
     },
     "metadata": {},
     "output_type": "display_data"
    },
    {
     "data": {
      "text/html": [
       "<table class=\"dataframe\">\n",
       "<caption>A data.frame: 2 × 2</caption>\n",
       "<thead>\n",
       "\t<tr><th scope=col>black</th><th scope=col>n</th></tr>\n",
       "\t<tr><th scope=col>&lt;dbl&gt;</th><th scope=col>&lt;int&gt;</th></tr>\n",
       "</thead>\n",
       "<tbody>\n",
       "\t<tr><td>0</td><td>426</td></tr>\n",
       "\t<tr><td>1</td><td> 27</td></tr>\n",
       "</tbody>\n",
       "</table>\n"
      ],
      "text/latex": [
       "A data.frame: 2 × 2\n",
       "\\begin{tabular}{ll}\n",
       " black & n\\\\\n",
       " <dbl> & <int>\\\\\n",
       "\\hline\n",
       "\t 0 & 426\\\\\n",
       "\t 1 &  27\\\\\n",
       "\\end{tabular}\n"
      ],
      "text/markdown": [
       "\n",
       "A data.frame: 2 × 2\n",
       "\n",
       "| black &lt;dbl&gt; | n &lt;int&gt; |\n",
       "|---|---|\n",
       "| 0 | 426 |\n",
       "| 1 |  27 |\n",
       "\n"
      ],
      "text/plain": [
       "  black n  \n",
       "1 0     426\n",
       "2 1      27"
      ]
     },
     "metadata": {},
     "output_type": "display_data"
    },
    {
     "data": {
      "text/html": [
       "<table class=\"dataframe\">\n",
       "<caption>A data.frame: 2 × 2</caption>\n",
       "<thead>\n",
       "\t<tr><th scope=col>parda</th><th scope=col>n</th></tr>\n",
       "\t<tr><th scope=col>&lt;dbl&gt;</th><th scope=col>&lt;int&gt;</th></tr>\n",
       "</thead>\n",
       "<tbody>\n",
       "\t<tr><td>0</td><td>280</td></tr>\n",
       "\t<tr><td>1</td><td>173</td></tr>\n",
       "</tbody>\n",
       "</table>\n"
      ],
      "text/latex": [
       "A data.frame: 2 × 2\n",
       "\\begin{tabular}{ll}\n",
       " parda & n\\\\\n",
       " <dbl> & <int>\\\\\n",
       "\\hline\n",
       "\t 0 & 280\\\\\n",
       "\t 1 & 173\\\\\n",
       "\\end{tabular}\n"
      ],
      "text/markdown": [
       "\n",
       "A data.frame: 2 × 2\n",
       "\n",
       "| parda &lt;dbl&gt; | n &lt;int&gt; |\n",
       "|---|---|\n",
       "| 0 | 280 |\n",
       "| 1 | 173 |\n",
       "\n"
      ],
      "text/plain": [
       "  parda n  \n",
       "1 0     280\n",
       "2 1     173"
      ]
     },
     "metadata": {},
     "output_type": "display_data"
    }
   ],
   "source": [
    "# remove unknown race, or na values\n",
    "data %>% count(CS_RACA)\n",
    "\n",
    "# white\n",
    "data %>% mutate(white = if_else(CS_RACA == 1, 1, 0)) -> data\n",
    "data %>% count(white)\n",
    "\n",
    "# black\n",
    "data %>% mutate(black = if_else(CS_RACA == 2, 1, 0)) -> data\n",
    "data %>% count(black)\n",
    "\n",
    "# parda\n",
    "data %>% mutate(parda = if_else(CS_RACA == 4, 1, 0)) -> data\n",
    "data %>% count(parda)"
   ]
  },
  {
   "cell_type": "code",
   "execution_count": null,
   "id": "191feb54-11d3-4bd3-9f9f-48961f3b46b6",
   "metadata": {
    "id": "191feb54-11d3-4bd3-9f9f-48961f3b46b6",
    "outputId": "1a3cc213-d242-4e77-8193-a63a9080d069"
   },
   "outputs": [
    {
     "data": {
      "text/html": [
       "439"
      ],
      "text/latex": [
       "439"
      ],
      "text/markdown": [
       "439"
      ],
      "text/plain": [
       "[1] 439"
      ]
     },
     "metadata": {},
     "output_type": "display_data"
    }
   ],
   "source": [
    "# how many groups by age, race, city and sex\n",
    "data %>% group_by(age, CS_RACA, ID_MN_RESI, sex) %>% n_groups"
   ]
  },
  {
   "cell_type": "code",
   "execution_count": null,
   "id": "d4813718-60b5-4bb8-87ab-e8edab3aa791",
   "metadata": {
    "id": "d4813718-60b5-4bb8-87ab-e8edab3aa791",
    "outputId": "43ddc47d-95c6-4afe-cbb2-562e2d68e619",
    "scrolled": true
   },
   "outputs": [
    {
     "data": {
      "text/html": [
       "<table class=\"dataframe\">\n",
       "<caption>A data.frame: 11 × 2</caption>\n",
       "<thead>\n",
       "\t<tr><th scope=col>CS_ESCOL_N</th><th scope=col>n</th></tr>\n",
       "\t<tr><th scope=col>&lt;int&gt;</th><th scope=col>&lt;int&gt;</th></tr>\n",
       "</thead>\n",
       "<tbody>\n",
       "\t<tr><td> 0</td><td>  6</td></tr>\n",
       "\t<tr><td> 1</td><td> 24</td></tr>\n",
       "\t<tr><td> 2</td><td> 15</td></tr>\n",
       "\t<tr><td> 3</td><td> 17</td></tr>\n",
       "\t<tr><td> 4</td><td> 22</td></tr>\n",
       "\t<tr><td> 5</td><td> 23</td></tr>\n",
       "\t<tr><td> 6</td><td> 70</td></tr>\n",
       "\t<tr><td> 7</td><td>  4</td></tr>\n",
       "\t<tr><td> 8</td><td> 21</td></tr>\n",
       "\t<tr><td> 9</td><td>194</td></tr>\n",
       "\t<tr><td>NA</td><td> 57</td></tr>\n",
       "</tbody>\n",
       "</table>\n"
      ],
      "text/latex": [
       "A data.frame: 11 × 2\n",
       "\\begin{tabular}{ll}\n",
       " CS\\_ESCOL\\_N & n\\\\\n",
       " <int> & <int>\\\\\n",
       "\\hline\n",
       "\t  0 &   6\\\\\n",
       "\t  1 &  24\\\\\n",
       "\t  2 &  15\\\\\n",
       "\t  3 &  17\\\\\n",
       "\t  4 &  22\\\\\n",
       "\t  5 &  23\\\\\n",
       "\t  6 &  70\\\\\n",
       "\t  7 &   4\\\\\n",
       "\t  8 &  21\\\\\n",
       "\t  9 & 194\\\\\n",
       "\t NA &  57\\\\\n",
       "\\end{tabular}\n"
      ],
      "text/markdown": [
       "\n",
       "A data.frame: 11 × 2\n",
       "\n",
       "| CS_ESCOL_N &lt;int&gt; | n &lt;int&gt; |\n",
       "|---|---|\n",
       "|  0 |   6 |\n",
       "|  1 |  24 |\n",
       "|  2 |  15 |\n",
       "|  3 |  17 |\n",
       "|  4 |  22 |\n",
       "|  5 |  23 |\n",
       "|  6 |  70 |\n",
       "|  7 |   4 |\n",
       "|  8 |  21 |\n",
       "|  9 | 194 |\n",
       "| NA |  57 |\n",
       "\n"
      ],
      "text/plain": [
       "   CS_ESCOL_N n  \n",
       "1   0           6\n",
       "2   1          24\n",
       "3   2          15\n",
       "4   3          17\n",
       "5   4          22\n",
       "6   5          23\n",
       "7   6          70\n",
       "8   7           4\n",
       "9   8          21\n",
       "10  9         194\n",
       "11 NA          57"
      ]
     },
     "metadata": {},
     "output_type": "display_data"
    }
   ],
   "source": [
    "# check year of schooling. 9 = unknown.\n",
    "data %>% count(CS_ESCOL_N)"
   ]
  },
  {
   "cell_type": "code",
   "execution_count": null,
   "id": "4c0ab82f-f1cb-4af5-90aa-1c176d9bb5aa",
   "metadata": {
    "id": "4c0ab82f-f1cb-4af5-90aa-1c176d9bb5aa",
    "outputId": "4643b7fa-87a9-4eb1-8d6b-6f59a9894b40"
   },
   "outputs": [
    {
     "data": {
      "text/html": [
       "439"
      ],
      "text/latex": [
       "439"
      ],
      "text/markdown": [
       "439"
      ],
      "text/plain": [
       "[1] 439"
      ]
     },
     "metadata": {},
     "output_type": "display_data"
    },
    {
     "data": {
      "text/html": [
       "<table class=\"dataframe\">\n",
       "<caption>A tibble: 11 × 2</caption>\n",
       "<thead>\n",
       "\t<tr><th scope=col>CS_ESCOL_N</th><th scope=col>n</th></tr>\n",
       "\t<tr><th scope=col>&lt;dbl&gt;</th><th scope=col>&lt;int&gt;</th></tr>\n",
       "</thead>\n",
       "<tbody>\n",
       "\t<tr><td>  0</td><td>  6</td></tr>\n",
       "\t<tr><td>  1</td><td> 24</td></tr>\n",
       "\t<tr><td>  2</td><td> 15</td></tr>\n",
       "\t<tr><td>  3</td><td> 17</td></tr>\n",
       "\t<tr><td>  4</td><td> 22</td></tr>\n",
       "\t<tr><td>  5</td><td> 23</td></tr>\n",
       "\t<tr><td>  6</td><td> 71</td></tr>\n",
       "\t<tr><td>  7</td><td>  4</td></tr>\n",
       "\t<tr><td>  8</td><td> 21</td></tr>\n",
       "\t<tr><td>  9</td><td>195</td></tr>\n",
       "\t<tr><td>NaN</td><td> 55</td></tr>\n",
       "</tbody>\n",
       "</table>\n"
      ],
      "text/latex": [
       "A tibble: 11 × 2\n",
       "\\begin{tabular}{ll}\n",
       " CS\\_ESCOL\\_N & n\\\\\n",
       " <dbl> & <int>\\\\\n",
       "\\hline\n",
       "\t   0 &   6\\\\\n",
       "\t   1 &  24\\\\\n",
       "\t   2 &  15\\\\\n",
       "\t   3 &  17\\\\\n",
       "\t   4 &  22\\\\\n",
       "\t   5 &  23\\\\\n",
       "\t   6 &  71\\\\\n",
       "\t   7 &   4\\\\\n",
       "\t   8 &  21\\\\\n",
       "\t   9 & 195\\\\\n",
       "\t NaN &  55\\\\\n",
       "\\end{tabular}\n"
      ],
      "text/markdown": [
       "\n",
       "A tibble: 11 × 2\n",
       "\n",
       "| CS_ESCOL_N &lt;dbl&gt; | n &lt;int&gt; |\n",
       "|---|---|\n",
       "|   0 |   6 |\n",
       "|   1 |  24 |\n",
       "|   2 |  15 |\n",
       "|   3 |  17 |\n",
       "|   4 |  22 |\n",
       "|   5 |  23 |\n",
       "|   6 |  71 |\n",
       "|   7 |   4 |\n",
       "|   8 |  21 |\n",
       "|   9 | 195 |\n",
       "| NaN |  55 |\n",
       "\n"
      ],
      "text/plain": [
       "   CS_ESCOL_N n  \n",
       "1    0          6\n",
       "2    1         24\n",
       "3    2         15\n",
       "4    3         17\n",
       "5    4         22\n",
       "6    5         23\n",
       "7    6         71\n",
       "8    7          4\n",
       "9    8         21\n",
       "10   9        195\n",
       "11 NaN         55"
      ]
     },
     "metadata": {},
     "output_type": "display_data"
    },
    {
     "data": {
      "text/html": [
       "<table class=\"dataframe\">\n",
       "<caption>A tibble: 11 × 2</caption>\n",
       "<thead>\n",
       "\t<tr><th scope=col>CS_ESCOL_N</th><th scope=col>n</th></tr>\n",
       "\t<tr><th scope=col>&lt;dbl&gt;</th><th scope=col>&lt;int&gt;</th></tr>\n",
       "</thead>\n",
       "<tbody>\n",
       "\t<tr><td>  0</td><td>  6</td></tr>\n",
       "\t<tr><td>  1</td><td> 26</td></tr>\n",
       "\t<tr><td>  2</td><td> 17</td></tr>\n",
       "\t<tr><td>  3</td><td> 17</td></tr>\n",
       "\t<tr><td>  4</td><td> 25</td></tr>\n",
       "\t<tr><td>  5</td><td> 24</td></tr>\n",
       "\t<tr><td>  6</td><td> 78</td></tr>\n",
       "\t<tr><td>  7</td><td>  6</td></tr>\n",
       "\t<tr><td>  8</td><td> 25</td></tr>\n",
       "\t<tr><td>  9</td><td>202</td></tr>\n",
       "\t<tr><td>NaN</td><td> 27</td></tr>\n",
       "</tbody>\n",
       "</table>\n"
      ],
      "text/latex": [
       "A tibble: 11 × 2\n",
       "\\begin{tabular}{ll}\n",
       " CS\\_ESCOL\\_N & n\\\\\n",
       " <dbl> & <int>\\\\\n",
       "\\hline\n",
       "\t   0 &   6\\\\\n",
       "\t   1 &  26\\\\\n",
       "\t   2 &  17\\\\\n",
       "\t   3 &  17\\\\\n",
       "\t   4 &  25\\\\\n",
       "\t   5 &  24\\\\\n",
       "\t   6 &  78\\\\\n",
       "\t   7 &   6\\\\\n",
       "\t   8 &  25\\\\\n",
       "\t   9 & 202\\\\\n",
       "\t NaN &  27\\\\\n",
       "\\end{tabular}\n"
      ],
      "text/markdown": [
       "\n",
       "A tibble: 11 × 2\n",
       "\n",
       "| CS_ESCOL_N &lt;dbl&gt; | n &lt;int&gt; |\n",
       "|---|---|\n",
       "|   0 |   6 |\n",
       "|   1 |  26 |\n",
       "|   2 |  17 |\n",
       "|   3 |  17 |\n",
       "|   4 |  25 |\n",
       "|   5 |  24 |\n",
       "|   6 |  78 |\n",
       "|   7 |   6 |\n",
       "|   8 |  25 |\n",
       "|   9 | 202 |\n",
       "| NaN |  27 |\n",
       "\n"
      ],
      "text/plain": [
       "   CS_ESCOL_N n  \n",
       "1    0          6\n",
       "2    1         26\n",
       "3    2         17\n",
       "4    3         17\n",
       "5    4         25\n",
       "6    5         24\n",
       "7    6         78\n",
       "8    7          6\n",
       "9    8         25\n",
       "10   9        202\n",
       "11 NaN         27"
      ]
     },
     "metadata": {},
     "output_type": "display_data"
    }
   ],
   "source": [
    "# how many groups by age, race, city and sex\n",
    "data %>% group_by(age, CS_RACA, ID_MN_RESI, sex) %>% n_groups\n",
    "\n",
    "# create a new column with the average\n",
    "data %>% group_by(age, CS_RACA, ID_MN_RESI, sex) %>% mutate(average = mean(CS_ESCOL_N, na.rm=TRUE)) %>%\n",
    "    ungroup -> data\n",
    "\n",
    "# when CS_ESCOL_N is na or 9 change by the average\n",
    "data %>% mutate(CS_ESCOL_N = if_else((is.na(CS_ESCOL_N)), round(average), CS_ESCOL_N)) %>% count(CS_ESCOL_N)\n",
    "data %>% mutate(CS_ESCOL_N = if_else((is.na(CS_ESCOL_N)), round(average), CS_ESCOL_N)) -> data\n",
    "data %>% select(-average) -> data\n",
    "\n",
    "# if is still NA consider groups of age, race and sex\n",
    "# create a new column with the average\n",
    "data %>% group_by(age, CS_RACA, sex) %>% mutate(average = mean(CS_ESCOL_N, na.rm=TRUE)) %>%\n",
    "    ungroup -> data\n",
    "\n",
    "# when CS_ESCOL_N is na change by the average\n",
    "data %>% mutate(CS_ESCOL_N = if_else((is.na(CS_ESCOL_N)), round(average), CS_ESCOL_N)) %>% count(CS_ESCOL_N)\n",
    "data %>% mutate(CS_ESCOL_N = if_else((is.na(CS_ESCOL_N)), round(average), CS_ESCOL_N)) -> data\n",
    "data %>% select(-average) -> data"
   ]
  },
  {
   "cell_type": "code",
   "execution_count": null,
   "id": "42756550-1e42-426f-abc3-1a5d92afae9d",
   "metadata": {
    "id": "42756550-1e42-426f-abc3-1a5d92afae9d",
    "outputId": "6db2b902-1742-4520-90f7-0c099eea3cb2"
   },
   "outputs": [
    {
     "data": {
      "text/html": [
       "<table class=\"dataframe\">\n",
       "<caption>A tibble: 11 × 2</caption>\n",
       "<thead>\n",
       "\t<tr><th scope=col>CS_ESCOL_N</th><th scope=col>n</th></tr>\n",
       "\t<tr><th scope=col>&lt;dbl&gt;</th><th scope=col>&lt;int&gt;</th></tr>\n",
       "</thead>\n",
       "<tbody>\n",
       "\t<tr><td>  0</td><td>  6</td></tr>\n",
       "\t<tr><td>  1</td><td> 26</td></tr>\n",
       "\t<tr><td>  2</td><td> 17</td></tr>\n",
       "\t<tr><td>  3</td><td> 17</td></tr>\n",
       "\t<tr><td>  4</td><td> 25</td></tr>\n",
       "\t<tr><td>  5</td><td> 24</td></tr>\n",
       "\t<tr><td>  6</td><td> 78</td></tr>\n",
       "\t<tr><td>  7</td><td>  6</td></tr>\n",
       "\t<tr><td>  8</td><td> 25</td></tr>\n",
       "\t<tr><td>  9</td><td>202</td></tr>\n",
       "\t<tr><td>NaN</td><td> 27</td></tr>\n",
       "</tbody>\n",
       "</table>\n"
      ],
      "text/latex": [
       "A tibble: 11 × 2\n",
       "\\begin{tabular}{ll}\n",
       " CS\\_ESCOL\\_N & n\\\\\n",
       " <dbl> & <int>\\\\\n",
       "\\hline\n",
       "\t   0 &   6\\\\\n",
       "\t   1 &  26\\\\\n",
       "\t   2 &  17\\\\\n",
       "\t   3 &  17\\\\\n",
       "\t   4 &  25\\\\\n",
       "\t   5 &  24\\\\\n",
       "\t   6 &  78\\\\\n",
       "\t   7 &   6\\\\\n",
       "\t   8 &  25\\\\\n",
       "\t   9 & 202\\\\\n",
       "\t NaN &  27\\\\\n",
       "\\end{tabular}\n"
      ],
      "text/markdown": [
       "\n",
       "A tibble: 11 × 2\n",
       "\n",
       "| CS_ESCOL_N &lt;dbl&gt; | n &lt;int&gt; |\n",
       "|---|---|\n",
       "|   0 |   6 |\n",
       "|   1 |  26 |\n",
       "|   2 |  17 |\n",
       "|   3 |  17 |\n",
       "|   4 |  25 |\n",
       "|   5 |  24 |\n",
       "|   6 |  78 |\n",
       "|   7 |   6 |\n",
       "|   8 |  25 |\n",
       "|   9 | 202 |\n",
       "| NaN |  27 |\n",
       "\n"
      ],
      "text/plain": [
       "   CS_ESCOL_N n  \n",
       "1    0          6\n",
       "2    1         26\n",
       "3    2         17\n",
       "4    3         17\n",
       "5    4         25\n",
       "6    5         24\n",
       "7    6         78\n",
       "8    7          6\n",
       "9    8         25\n",
       "10   9        202\n",
       "11 NaN         27"
      ]
     },
     "metadata": {},
     "output_type": "display_data"
    },
    {
     "data": {
      "text/html": [
       "<table class=\"dataframe\">\n",
       "<caption>A tibble: 3 × 2</caption>\n",
       "<thead>\n",
       "\t<tr><th scope=col>HOSPITALIZ</th><th scope=col>n</th></tr>\n",
       "\t<tr><th scope=col>&lt;int&gt;</th><th scope=col>&lt;int&gt;</th></tr>\n",
       "</thead>\n",
       "<tbody>\n",
       "\t<tr><td> 1</td><td>376</td></tr>\n",
       "\t<tr><td> 2</td><td> 37</td></tr>\n",
       "\t<tr><td>NA</td><td> 13</td></tr>\n",
       "</tbody>\n",
       "</table>\n"
      ],
      "text/latex": [
       "A tibble: 3 × 2\n",
       "\\begin{tabular}{ll}\n",
       " HOSPITALIZ & n\\\\\n",
       " <int> & <int>\\\\\n",
       "\\hline\n",
       "\t  1 & 376\\\\\n",
       "\t  2 &  37\\\\\n",
       "\t NA &  13\\\\\n",
       "\\end{tabular}\n"
      ],
      "text/markdown": [
       "\n",
       "A tibble: 3 × 2\n",
       "\n",
       "| HOSPITALIZ &lt;int&gt; | n &lt;int&gt; |\n",
       "|---|---|\n",
       "|  1 | 376 |\n",
       "|  2 |  37 |\n",
       "| NA |  13 |\n",
       "\n"
      ],
      "text/plain": [
       "  HOSPITALIZ n  \n",
       "1  1         376\n",
       "2  2          37\n",
       "3 NA          13"
      ]
     },
     "metadata": {},
     "output_type": "display_data"
    },
    {
     "data": {
      "text/html": [
       "<style>\n",
       ".list-inline {list-style: none; margin:0; padding: 0}\n",
       ".list-inline>li {display: inline-block}\n",
       ".list-inline>li:not(:last-child)::after {content: \"\\00b7\"; padding: 0 .5ex}\n",
       "</style>\n",
       "<ol class=list-inline><li>426</li><li>86</li></ol>\n"
      ],
      "text/latex": [
       "\\begin{enumerate*}\n",
       "\\item 426\n",
       "\\item 86\n",
       "\\end{enumerate*}\n"
      ],
      "text/markdown": [
       "1. 426\n",
       "2. 86\n",
       "\n",
       "\n"
      ],
      "text/plain": [
       "[1] 426  86"
      ]
     },
     "metadata": {},
     "output_type": "display_data"
    }
   ],
   "source": [
    "# if is still na, drop it\n",
    "data %>% count(CS_ESCOL_N)\n",
    "data %>% filter(!(is.na(CS_ESCOL_N))) -> data\n",
    "data %>% count(HOSPITALIZ)\n",
    "data %>% dim"
   ]
  },
  {
   "cell_type": "code",
   "execution_count": null,
   "id": "a4f8e165-4cc3-43a0-91ca-90f96ebcacda",
   "metadata": {
    "id": "a4f8e165-4cc3-43a0-91ca-90f96ebcacda",
    "outputId": "2067c0a6-45aa-40f2-814d-588962394da2"
   },
   "outputs": [
    {
     "data": {
      "text/html": [
       "<style>\n",
       ".list-inline {list-style: none; margin:0; padding: 0}\n",
       ".list-inline>li {display: inline-block}\n",
       ".list-inline>li:not(:last-child)::after {content: \"\\00b7\"; padding: 0 .5ex}\n",
       "</style>\n",
       "<ol class=list-inline><li>'NU_ANO'</li><li>'SG_UF_NOT'</li><li>'ID_MUNICIP'</li><li>'ID_REGIONA'</li><li>'ID_UNIDADE'</li><li>'DT_SIN_PRI'</li><li>'SEM_PRI'</li><li>'ANO_NASC'</li><li>'NU_IDADE_N'</li><li>'CS_RACA'</li><li>'CS_ESCOL_N'</li><li>'SG_UF'</li><li>'ID_MN_RESI'</li><li>'ID_RG_RESI'</li><li>'ID_PAIS'</li><li>'DT_INVEST'</li><li>'ID_OCUPA_N'</li><li>'FEBRE'</li><li>'MIALGIA'</li><li>'CEFALEIA'</li><li>'EXANTEMA'</li><li>'VOMITO'</li><li>'NAUSEA'</li><li>'DOR_COSTAS'</li><li>'CONJUNTVIT'</li><li>'ARTRITE'</li><li>'ARTRALGIA'</li><li>'PETEQUIA_N'</li><li>'LEUCOPENIA'</li><li>'LACO'</li><li>'DOR_RETRO'</li><li>'DIABETES'</li><li>'HEMATOLOG'</li><li>'HEPATOPAT'</li><li>'RENAL'</li><li>'HIPERTENSA'</li><li>'ACIDO_PEPT'</li><li>'AUTO_IMUNE'</li><li>'HOSPITALIZ'</li><li>'DT_INTERNA'</li><li>'UF'</li><li>'CLASSI_FIN'</li><li>'EVOLUCAO'</li><li>'DT_OBITO'</li><li>'GRAV_PULSO'</li><li>'GRAV_CONV'</li><li>'GRAV_ENCH'</li><li>'GRAV_INSUF'</li><li>'GRAV_TAQUI'</li><li>'GRAV_EXTRE'</li><li>'GRAV_HIPOT'</li><li>'GRAV_HEMAT'</li><li>'GRAV_MELEN'</li><li>'GRAV_METRO'</li><li>'GRAV_SANG'</li><li>'GRAV_AST'</li><li>'GRAV_MIOC'</li><li>'GRAV_CONSC'</li><li>'GRAV_ORGAO'</li><li>'DT_GRAV'</li><li>'MANI_HEMOR'</li><li>'EPISTAXE'</li><li>'GENGIVO'</li><li>'METRO'</li><li>'PETEQUIAS'</li><li>'HEMATURA'</li><li>'SANGRAM'</li><li>'LACO_N'</li><li>'PLASMATICO'</li><li>'EVIDENCIA'</li><li>'PLAQ_MENOR'</li><li>'CON_FHD'</li><li>'COMPLICA'</li><li>'TP_SISTEMA'</li><li>'NDUPLIC_N'</li><li>'DT_DIGITA'</li><li>'CS_FLXRET'</li><li>'FLXRECEBI'</li><li>'MIGRADO_W'</li><li>'death'</li><li>'age'</li><li>'sex'</li><li>'pregnant'</li><li>'white'</li><li>'black'</li><li>'parda'</li></ol>\n"
      ],
      "text/latex": [
       "\\begin{enumerate*}\n",
       "\\item 'NU\\_ANO'\n",
       "\\item 'SG\\_UF\\_NOT'\n",
       "\\item 'ID\\_MUNICIP'\n",
       "\\item 'ID\\_REGIONA'\n",
       "\\item 'ID\\_UNIDADE'\n",
       "\\item 'DT\\_SIN\\_PRI'\n",
       "\\item 'SEM\\_PRI'\n",
       "\\item 'ANO\\_NASC'\n",
       "\\item 'NU\\_IDADE\\_N'\n",
       "\\item 'CS\\_RACA'\n",
       "\\item 'CS\\_ESCOL\\_N'\n",
       "\\item 'SG\\_UF'\n",
       "\\item 'ID\\_MN\\_RESI'\n",
       "\\item 'ID\\_RG\\_RESI'\n",
       "\\item 'ID\\_PAIS'\n",
       "\\item 'DT\\_INVEST'\n",
       "\\item 'ID\\_OCUPA\\_N'\n",
       "\\item 'FEBRE'\n",
       "\\item 'MIALGIA'\n",
       "\\item 'CEFALEIA'\n",
       "\\item 'EXANTEMA'\n",
       "\\item 'VOMITO'\n",
       "\\item 'NAUSEA'\n",
       "\\item 'DOR\\_COSTAS'\n",
       "\\item 'CONJUNTVIT'\n",
       "\\item 'ARTRITE'\n",
       "\\item 'ARTRALGIA'\n",
       "\\item 'PETEQUIA\\_N'\n",
       "\\item 'LEUCOPENIA'\n",
       "\\item 'LACO'\n",
       "\\item 'DOR\\_RETRO'\n",
       "\\item 'DIABETES'\n",
       "\\item 'HEMATOLOG'\n",
       "\\item 'HEPATOPAT'\n",
       "\\item 'RENAL'\n",
       "\\item 'HIPERTENSA'\n",
       "\\item 'ACIDO\\_PEPT'\n",
       "\\item 'AUTO\\_IMUNE'\n",
       "\\item 'HOSPITALIZ'\n",
       "\\item 'DT\\_INTERNA'\n",
       "\\item 'UF'\n",
       "\\item 'CLASSI\\_FIN'\n",
       "\\item 'EVOLUCAO'\n",
       "\\item 'DT\\_OBITO'\n",
       "\\item 'GRAV\\_PULSO'\n",
       "\\item 'GRAV\\_CONV'\n",
       "\\item 'GRAV\\_ENCH'\n",
       "\\item 'GRAV\\_INSUF'\n",
       "\\item 'GRAV\\_TAQUI'\n",
       "\\item 'GRAV\\_EXTRE'\n",
       "\\item 'GRAV\\_HIPOT'\n",
       "\\item 'GRAV\\_HEMAT'\n",
       "\\item 'GRAV\\_MELEN'\n",
       "\\item 'GRAV\\_METRO'\n",
       "\\item 'GRAV\\_SANG'\n",
       "\\item 'GRAV\\_AST'\n",
       "\\item 'GRAV\\_MIOC'\n",
       "\\item 'GRAV\\_CONSC'\n",
       "\\item 'GRAV\\_ORGAO'\n",
       "\\item 'DT\\_GRAV'\n",
       "\\item 'MANI\\_HEMOR'\n",
       "\\item 'EPISTAXE'\n",
       "\\item 'GENGIVO'\n",
       "\\item 'METRO'\n",
       "\\item 'PETEQUIAS'\n",
       "\\item 'HEMATURA'\n",
       "\\item 'SANGRAM'\n",
       "\\item 'LACO\\_N'\n",
       "\\item 'PLASMATICO'\n",
       "\\item 'EVIDENCIA'\n",
       "\\item 'PLAQ\\_MENOR'\n",
       "\\item 'CON\\_FHD'\n",
       "\\item 'COMPLICA'\n",
       "\\item 'TP\\_SISTEMA'\n",
       "\\item 'NDUPLIC\\_N'\n",
       "\\item 'DT\\_DIGITA'\n",
       "\\item 'CS\\_FLXRET'\n",
       "\\item 'FLXRECEBI'\n",
       "\\item 'MIGRADO\\_W'\n",
       "\\item 'death'\n",
       "\\item 'age'\n",
       "\\item 'sex'\n",
       "\\item 'pregnant'\n",
       "\\item 'white'\n",
       "\\item 'black'\n",
       "\\item 'parda'\n",
       "\\end{enumerate*}\n"
      ],
      "text/markdown": [
       "1. 'NU_ANO'\n",
       "2. 'SG_UF_NOT'\n",
       "3. 'ID_MUNICIP'\n",
       "4. 'ID_REGIONA'\n",
       "5. 'ID_UNIDADE'\n",
       "6. 'DT_SIN_PRI'\n",
       "7. 'SEM_PRI'\n",
       "8. 'ANO_NASC'\n",
       "9. 'NU_IDADE_N'\n",
       "10. 'CS_RACA'\n",
       "11. 'CS_ESCOL_N'\n",
       "12. 'SG_UF'\n",
       "13. 'ID_MN_RESI'\n",
       "14. 'ID_RG_RESI'\n",
       "15. 'ID_PAIS'\n",
       "16. 'DT_INVEST'\n",
       "17. 'ID_OCUPA_N'\n",
       "18. 'FEBRE'\n",
       "19. 'MIALGIA'\n",
       "20. 'CEFALEIA'\n",
       "21. 'EXANTEMA'\n",
       "22. 'VOMITO'\n",
       "23. 'NAUSEA'\n",
       "24. 'DOR_COSTAS'\n",
       "25. 'CONJUNTVIT'\n",
       "26. 'ARTRITE'\n",
       "27. 'ARTRALGIA'\n",
       "28. 'PETEQUIA_N'\n",
       "29. 'LEUCOPENIA'\n",
       "30. 'LACO'\n",
       "31. 'DOR_RETRO'\n",
       "32. 'DIABETES'\n",
       "33. 'HEMATOLOG'\n",
       "34. 'HEPATOPAT'\n",
       "35. 'RENAL'\n",
       "36. 'HIPERTENSA'\n",
       "37. 'ACIDO_PEPT'\n",
       "38. 'AUTO_IMUNE'\n",
       "39. 'HOSPITALIZ'\n",
       "40. 'DT_INTERNA'\n",
       "41. 'UF'\n",
       "42. 'CLASSI_FIN'\n",
       "43. 'EVOLUCAO'\n",
       "44. 'DT_OBITO'\n",
       "45. 'GRAV_PULSO'\n",
       "46. 'GRAV_CONV'\n",
       "47. 'GRAV_ENCH'\n",
       "48. 'GRAV_INSUF'\n",
       "49. 'GRAV_TAQUI'\n",
       "50. 'GRAV_EXTRE'\n",
       "51. 'GRAV_HIPOT'\n",
       "52. 'GRAV_HEMAT'\n",
       "53. 'GRAV_MELEN'\n",
       "54. 'GRAV_METRO'\n",
       "55. 'GRAV_SANG'\n",
       "56. 'GRAV_AST'\n",
       "57. 'GRAV_MIOC'\n",
       "58. 'GRAV_CONSC'\n",
       "59. 'GRAV_ORGAO'\n",
       "60. 'DT_GRAV'\n",
       "61. 'MANI_HEMOR'\n",
       "62. 'EPISTAXE'\n",
       "63. 'GENGIVO'\n",
       "64. 'METRO'\n",
       "65. 'PETEQUIAS'\n",
       "66. 'HEMATURA'\n",
       "67. 'SANGRAM'\n",
       "68. 'LACO_N'\n",
       "69. 'PLASMATICO'\n",
       "70. 'EVIDENCIA'\n",
       "71. 'PLAQ_MENOR'\n",
       "72. 'CON_FHD'\n",
       "73. 'COMPLICA'\n",
       "74. 'TP_SISTEMA'\n",
       "75. 'NDUPLIC_N'\n",
       "76. 'DT_DIGITA'\n",
       "77. 'CS_FLXRET'\n",
       "78. 'FLXRECEBI'\n",
       "79. 'MIGRADO_W'\n",
       "80. 'death'\n",
       "81. 'age'\n",
       "82. 'sex'\n",
       "83. 'pregnant'\n",
       "84. 'white'\n",
       "85. 'black'\n",
       "86. 'parda'\n",
       "\n",
       "\n"
      ],
      "text/plain": [
       " [1] \"NU_ANO\"     \"SG_UF_NOT\"  \"ID_MUNICIP\" \"ID_REGIONA\" \"ID_UNIDADE\"\n",
       " [6] \"DT_SIN_PRI\" \"SEM_PRI\"    \"ANO_NASC\"   \"NU_IDADE_N\" \"CS_RACA\"   \n",
       "[11] \"CS_ESCOL_N\" \"SG_UF\"      \"ID_MN_RESI\" \"ID_RG_RESI\" \"ID_PAIS\"   \n",
       "[16] \"DT_INVEST\"  \"ID_OCUPA_N\" \"FEBRE\"      \"MIALGIA\"    \"CEFALEIA\"  \n",
       "[21] \"EXANTEMA\"   \"VOMITO\"     \"NAUSEA\"     \"DOR_COSTAS\" \"CONJUNTVIT\"\n",
       "[26] \"ARTRITE\"    \"ARTRALGIA\"  \"PETEQUIA_N\" \"LEUCOPENIA\" \"LACO\"      \n",
       "[31] \"DOR_RETRO\"  \"DIABETES\"   \"HEMATOLOG\"  \"HEPATOPAT\"  \"RENAL\"     \n",
       "[36] \"HIPERTENSA\" \"ACIDO_PEPT\" \"AUTO_IMUNE\" \"HOSPITALIZ\" \"DT_INTERNA\"\n",
       "[41] \"UF\"         \"CLASSI_FIN\" \"EVOLUCAO\"   \"DT_OBITO\"   \"GRAV_PULSO\"\n",
       "[46] \"GRAV_CONV\"  \"GRAV_ENCH\"  \"GRAV_INSUF\" \"GRAV_TAQUI\" \"GRAV_EXTRE\"\n",
       "[51] \"GRAV_HIPOT\" \"GRAV_HEMAT\" \"GRAV_MELEN\" \"GRAV_METRO\" \"GRAV_SANG\" \n",
       "[56] \"GRAV_AST\"   \"GRAV_MIOC\"  \"GRAV_CONSC\" \"GRAV_ORGAO\" \"DT_GRAV\"   \n",
       "[61] \"MANI_HEMOR\" \"EPISTAXE\"   \"GENGIVO\"    \"METRO\"      \"PETEQUIAS\" \n",
       "[66] \"HEMATURA\"   \"SANGRAM\"    \"LACO_N\"     \"PLASMATICO\" \"EVIDENCIA\" \n",
       "[71] \"PLAQ_MENOR\" \"CON_FHD\"    \"COMPLICA\"   \"TP_SISTEMA\" \"NDUPLIC_N\" \n",
       "[76] \"DT_DIGITA\"  \"CS_FLXRET\"  \"FLXRECEBI\"  \"MIGRADO_W\"  \"death\"     \n",
       "[81] \"age\"        \"sex\"        \"pregnant\"   \"white\"      \"black\"     \n",
       "[86] \"parda\"     "
      ]
     },
     "metadata": {},
     "output_type": "display_data"
    }
   ],
   "source": [
    "data %>% colnames"
   ]
  },
  {
   "cell_type": "code",
   "execution_count": null,
   "id": "d00f7d37-27a3-4276-8546-76b0ac015450",
   "metadata": {
    "id": "d00f7d37-27a3-4276-8546-76b0ac015450",
    "outputId": "4f69ed35-c74d-4679-84ce-225d48efd505"
   },
   "outputs": [
    {
     "data": {
      "text/html": [
       "<table class=\"dataframe\">\n",
       "<caption>A tibble: 8 × 2</caption>\n",
       "<thead>\n",
       "\t<tr><th scope=col>SEM_PRI</th><th scope=col>n</th></tr>\n",
       "\t<tr><th scope=col>&lt;int&gt;</th><th scope=col>&lt;int&gt;</th></tr>\n",
       "</thead>\n",
       "<tbody>\n",
       "\t<tr><td>202401</td><td>43</td></tr>\n",
       "\t<tr><td>202402</td><td>60</td></tr>\n",
       "\t<tr><td>202403</td><td>41</td></tr>\n",
       "\t<tr><td>202404</td><td>77</td></tr>\n",
       "\t<tr><td>202405</td><td>73</td></tr>\n",
       "\t<tr><td>202406</td><td>78</td></tr>\n",
       "\t<tr><td>202407</td><td>43</td></tr>\n",
       "\t<tr><td>202408</td><td>11</td></tr>\n",
       "</tbody>\n",
       "</table>\n"
      ],
      "text/latex": [
       "A tibble: 8 × 2\n",
       "\\begin{tabular}{ll}\n",
       " SEM\\_PRI & n\\\\\n",
       " <int> & <int>\\\\\n",
       "\\hline\n",
       "\t 202401 & 43\\\\\n",
       "\t 202402 & 60\\\\\n",
       "\t 202403 & 41\\\\\n",
       "\t 202404 & 77\\\\\n",
       "\t 202405 & 73\\\\\n",
       "\t 202406 & 78\\\\\n",
       "\t 202407 & 43\\\\\n",
       "\t 202408 & 11\\\\\n",
       "\\end{tabular}\n"
      ],
      "text/markdown": [
       "\n",
       "A tibble: 8 × 2\n",
       "\n",
       "| SEM_PRI &lt;int&gt; | n &lt;int&gt; |\n",
       "|---|---|\n",
       "| 202401 | 43 |\n",
       "| 202402 | 60 |\n",
       "| 202403 | 41 |\n",
       "| 202404 | 77 |\n",
       "| 202405 | 73 |\n",
       "| 202406 | 78 |\n",
       "| 202407 | 43 |\n",
       "| 202408 | 11 |\n",
       "\n"
      ],
      "text/plain": [
       "  SEM_PRI n \n",
       "1 202401  43\n",
       "2 202402  60\n",
       "3 202403  41\n",
       "4 202404  77\n",
       "5 202405  73\n",
       "6 202406  78\n",
       "7 202407  43\n",
       "8 202408  11"
      ]
     },
     "metadata": {},
     "output_type": "display_data"
    }
   ],
   "source": [
    "data %>% count(SEM_PRI)\n",
    "data %>% mutate(week = SEM_PRI - 202400) -> data"
   ]
  },
  {
   "cell_type": "code",
   "execution_count": null,
   "id": "da28ed7c-18b1-487b-bbe6-1a37dfc0b433",
   "metadata": {
    "id": "da28ed7c-18b1-487b-bbe6-1a37dfc0b433",
    "outputId": "d374175c-94cb-45ef-9568-94574eeba00e"
   },
   "outputs": [
    {
     "data": {
      "text/html": [
       "<table class=\"dataframe\">\n",
       "<caption>A tibble: 26 × 2</caption>\n",
       "<thead>\n",
       "\t<tr><th scope=col>days</th><th scope=col>n</th></tr>\n",
       "\t<tr><th scope=col>&lt;dbl&gt;</th><th scope=col>&lt;int&gt;</th></tr>\n",
       "</thead>\n",
       "<tbody>\n",
       "\t<tr><td>-1456</td><td>  1</td></tr>\n",
       "\t<tr><td>-1087</td><td>  1</td></tr>\n",
       "\t<tr><td> -181</td><td>  1</td></tr>\n",
       "\t<tr><td>  -31</td><td>  1</td></tr>\n",
       "\t<tr><td>  -27</td><td>  1</td></tr>\n",
       "\t<tr><td>   -8</td><td>  1</td></tr>\n",
       "\t<tr><td>    0</td><td> 61</td></tr>\n",
       "\t<tr><td>    1</td><td> 55</td></tr>\n",
       "\t<tr><td>    2</td><td> 35</td></tr>\n",
       "\t<tr><td>    3</td><td> 21</td></tr>\n",
       "\t<tr><td>    4</td><td>  3</td></tr>\n",
       "\t<tr><td>    5</td><td>  7</td></tr>\n",
       "\t<tr><td>    6</td><td> 12</td></tr>\n",
       "\t<tr><td>    7</td><td>  8</td></tr>\n",
       "\t<tr><td>    8</td><td>  6</td></tr>\n",
       "\t<tr><td>    9</td><td>  7</td></tr>\n",
       "\t<tr><td>   10</td><td>  6</td></tr>\n",
       "\t<tr><td>   11</td><td>  2</td></tr>\n",
       "\t<tr><td>   12</td><td>  1</td></tr>\n",
       "\t<tr><td>   15</td><td>  1</td></tr>\n",
       "\t<tr><td>   17</td><td>  2</td></tr>\n",
       "\t<tr><td>   18</td><td>  1</td></tr>\n",
       "\t<tr><td>   19</td><td>  1</td></tr>\n",
       "\t<tr><td>   22</td><td>  1</td></tr>\n",
       "\t<tr><td>   40</td><td>  1</td></tr>\n",
       "\t<tr><td>   NA</td><td>189</td></tr>\n",
       "</tbody>\n",
       "</table>\n"
      ],
      "text/latex": [
       "A tibble: 26 × 2\n",
       "\\begin{tabular}{ll}\n",
       " days & n\\\\\n",
       " <dbl> & <int>\\\\\n",
       "\\hline\n",
       "\t -1456 &   1\\\\\n",
       "\t -1087 &   1\\\\\n",
       "\t  -181 &   1\\\\\n",
       "\t   -31 &   1\\\\\n",
       "\t   -27 &   1\\\\\n",
       "\t    -8 &   1\\\\\n",
       "\t     0 &  61\\\\\n",
       "\t     1 &  55\\\\\n",
       "\t     2 &  35\\\\\n",
       "\t     3 &  21\\\\\n",
       "\t     4 &   3\\\\\n",
       "\t     5 &   7\\\\\n",
       "\t     6 &  12\\\\\n",
       "\t     7 &   8\\\\\n",
       "\t     8 &   6\\\\\n",
       "\t     9 &   7\\\\\n",
       "\t    10 &   6\\\\\n",
       "\t    11 &   2\\\\\n",
       "\t    12 &   1\\\\\n",
       "\t    15 &   1\\\\\n",
       "\t    17 &   2\\\\\n",
       "\t    18 &   1\\\\\n",
       "\t    19 &   1\\\\\n",
       "\t    22 &   1\\\\\n",
       "\t    40 &   1\\\\\n",
       "\t    NA & 189\\\\\n",
       "\\end{tabular}\n"
      ],
      "text/markdown": [
       "\n",
       "A tibble: 26 × 2\n",
       "\n",
       "| days &lt;dbl&gt; | n &lt;int&gt; |\n",
       "|---|---|\n",
       "| -1456 |   1 |\n",
       "| -1087 |   1 |\n",
       "|  -181 |   1 |\n",
       "|   -31 |   1 |\n",
       "|   -27 |   1 |\n",
       "|    -8 |   1 |\n",
       "|     0 |  61 |\n",
       "|     1 |  55 |\n",
       "|     2 |  35 |\n",
       "|     3 |  21 |\n",
       "|     4 |   3 |\n",
       "|     5 |   7 |\n",
       "|     6 |  12 |\n",
       "|     7 |   8 |\n",
       "|     8 |   6 |\n",
       "|     9 |   7 |\n",
       "|    10 |   6 |\n",
       "|    11 |   2 |\n",
       "|    12 |   1 |\n",
       "|    15 |   1 |\n",
       "|    17 |   2 |\n",
       "|    18 |   1 |\n",
       "|    19 |   1 |\n",
       "|    22 |   1 |\n",
       "|    40 |   1 |\n",
       "|    NA | 189 |\n",
       "\n"
      ],
      "text/plain": [
       "   days  n  \n",
       "1  -1456   1\n",
       "2  -1087   1\n",
       "3   -181   1\n",
       "4    -31   1\n",
       "5    -27   1\n",
       "6     -8   1\n",
       "7      0  61\n",
       "8      1  55\n",
       "9      2  35\n",
       "10     3  21\n",
       "11     4   3\n",
       "12     5   7\n",
       "13     6  12\n",
       "14     7   8\n",
       "15     8   6\n",
       "16     9   7\n",
       "17    10   6\n",
       "18    11   2\n",
       "19    12   1\n",
       "20    15   1\n",
       "21    17   2\n",
       "22    18   1\n",
       "23    19   1\n",
       "24    22   1\n",
       "25    40   1\n",
       "26    NA 189"
      ]
     },
     "metadata": {},
     "output_type": "display_data"
    }
   ],
   "source": [
    "data$dt_severity <- as.Date(data$DT_GRAV)\n",
    "data$dt_death <- as.Date(data$DT_OBITO)\n",
    "data %>% mutate(days = difftime(dt_death, dt_severity, units = 'days')) -> data\n",
    "data$days <- as.numeric(data$days)\n",
    "data %>% count(days)"
   ]
  },
  {
   "cell_type": "code",
   "execution_count": null,
   "id": "23d50f52-b1ae-4c2f-8612-06920d69188b",
   "metadata": {
    "id": "23d50f52-b1ae-4c2f-8612-06920d69188b",
    "outputId": "3d920308-331c-4995-a9ed-c225d5f76d8d"
   },
   "outputs": [
    {
     "data": {
      "text/html": [
       "<table class=\"dataframe\">\n",
       "<caption>A tibble: 6 × 2</caption>\n",
       "<thead>\n",
       "\t<tr><th scope=col>dt_death</th><th scope=col>dt_severity</th></tr>\n",
       "\t<tr><th scope=col>&lt;date&gt;</th><th scope=col>&lt;date&gt;</th></tr>\n",
       "</thead>\n",
       "<tbody>\n",
       "\t<tr><td>2024-02-07</td><td>2027-01-29</td></tr>\n",
       "\t<tr><td>2024-01-23</td><td>2024-01-31</td></tr>\n",
       "\t<tr><td>2024-01-28</td><td>2024-07-27</td></tr>\n",
       "\t<tr><td>2024-02-02</td><td>2024-02-29</td></tr>\n",
       "\t<tr><td>2024-01-24</td><td>2024-02-24</td></tr>\n",
       "\t<tr><td>2024-02-14</td><td>2028-02-09</td></tr>\n",
       "</tbody>\n",
       "</table>\n"
      ],
      "text/latex": [
       "A tibble: 6 × 2\n",
       "\\begin{tabular}{ll}\n",
       " dt\\_death & dt\\_severity\\\\\n",
       " <date> & <date>\\\\\n",
       "\\hline\n",
       "\t 2024-02-07 & 2027-01-29\\\\\n",
       "\t 2024-01-23 & 2024-01-31\\\\\n",
       "\t 2024-01-28 & 2024-07-27\\\\\n",
       "\t 2024-02-02 & 2024-02-29\\\\\n",
       "\t 2024-01-24 & 2024-02-24\\\\\n",
       "\t 2024-02-14 & 2028-02-09\\\\\n",
       "\\end{tabular}\n"
      ],
      "text/markdown": [
       "\n",
       "A tibble: 6 × 2\n",
       "\n",
       "| dt_death &lt;date&gt; | dt_severity &lt;date&gt; |\n",
       "|---|---|\n",
       "| 2024-02-07 | 2027-01-29 |\n",
       "| 2024-01-23 | 2024-01-31 |\n",
       "| 2024-01-28 | 2024-07-27 |\n",
       "| 2024-02-02 | 2024-02-29 |\n",
       "| 2024-01-24 | 2024-02-24 |\n",
       "| 2024-02-14 | 2028-02-09 |\n",
       "\n"
      ],
      "text/plain": [
       "  dt_death   dt_severity\n",
       "1 2024-02-07 2027-01-29 \n",
       "2 2024-01-23 2024-01-31 \n",
       "3 2024-01-28 2024-07-27 \n",
       "4 2024-02-02 2024-02-29 \n",
       "5 2024-01-24 2024-02-24 \n",
       "6 2024-02-14 2028-02-09 "
      ]
     },
     "metadata": {},
     "output_type": "display_data"
    }
   ],
   "source": [
    "data %>% filter (days < 0) %>% select(dt_death, dt_severity)"
   ]
  },
  {
   "cell_type": "code",
   "execution_count": null,
   "id": "e0549708-fd53-4f50-8d99-0397f908a858",
   "metadata": {
    "id": "e0549708-fd53-4f50-8d99-0397f908a858"
   },
   "outputs": [],
   "source": [
    "data %>% select(-c(NU_ANO, ID_MUNICIP:CS_RACA, SG_UF:ID_OCUPA_N, HOSPITALIZ, DT_OBITO, MANI_HEMOR:MIGRADO_W,\n",
    "                   DT_INTERNA:EVOLUCAO, dt_severity, dt_death, DT_GRAV, DT_OBITO)) -> data"
   ]
  },
  {
   "cell_type": "code",
   "execution_count": null,
   "id": "7d238dd2-f607-43a7-a548-bebc33e5b00e",
   "metadata": {
    "id": "7d238dd2-f607-43a7-a548-bebc33e5b00e",
    "outputId": "60153a54-0ceb-4310-c884-bff64008494c"
   },
   "outputs": [
    {
     "data": {
      "text/html": [
       "<style>\n",
       ".list-inline {list-style: none; margin:0; padding: 0}\n",
       ".list-inline>li {display: inline-block}\n",
       ".list-inline>li:not(:last-child)::after {content: \"\\00b7\"; padding: 0 .5ex}\n",
       "</style>\n",
       "<ol class=list-inline><li>426</li><li>47</li></ol>\n"
      ],
      "text/latex": [
       "\\begin{enumerate*}\n",
       "\\item 426\n",
       "\\item 47\n",
       "\\end{enumerate*}\n"
      ],
      "text/markdown": [
       "1. 426\n",
       "2. 47\n",
       "\n",
       "\n"
      ],
      "text/plain": [
       "[1] 426  47"
      ]
     },
     "metadata": {},
     "output_type": "display_data"
    }
   ],
   "source": [
    "data %>% dim"
   ]
  },
  {
   "cell_type": "code",
   "execution_count": null,
   "id": "8626fc44-7fc2-481b-9841-438738386f08",
   "metadata": {
    "id": "8626fc44-7fc2-481b-9841-438738386f08",
    "outputId": "b4f1bdea-a078-449b-a4db-94e0c411c10f"
   },
   "outputs": [
    {
     "data": {
      "text/html": [
       "<table class=\"dataframe\">\n",
       "<caption>A tibble: 17 × 2</caption>\n",
       "<thead>\n",
       "\t<tr><th scope=col>SG_UF_NOT</th><th scope=col>n</th></tr>\n",
       "\t<tr><th scope=col>&lt;int&gt;</th><th scope=col>&lt;int&gt;</th></tr>\n",
       "</thead>\n",
       "<tbody>\n",
       "\t<tr><td>13</td><td>  3</td></tr>\n",
       "\t<tr><td>15</td><td>  2</td></tr>\n",
       "\t<tr><td>23</td><td>  1</td></tr>\n",
       "\t<tr><td>24</td><td>  1</td></tr>\n",
       "\t<tr><td>25</td><td>  2</td></tr>\n",
       "\t<tr><td>26</td><td>  2</td></tr>\n",
       "\t<tr><td>29</td><td>  8</td></tr>\n",
       "\t<tr><td>31</td><td>103</td></tr>\n",
       "\t<tr><td>33</td><td> 21</td></tr>\n",
       "\t<tr><td>35</td><td> 93</td></tr>\n",
       "\t<tr><td>41</td><td> 51</td></tr>\n",
       "\t<tr><td>42</td><td> 14</td></tr>\n",
       "\t<tr><td>43</td><td>  4</td></tr>\n",
       "\t<tr><td>50</td><td>  3</td></tr>\n",
       "\t<tr><td>51</td><td> 10</td></tr>\n",
       "\t<tr><td>52</td><td> 51</td></tr>\n",
       "\t<tr><td>53</td><td> 57</td></tr>\n",
       "</tbody>\n",
       "</table>\n"
      ],
      "text/latex": [
       "A tibble: 17 × 2\n",
       "\\begin{tabular}{ll}\n",
       " SG\\_UF\\_NOT & n\\\\\n",
       " <int> & <int>\\\\\n",
       "\\hline\n",
       "\t 13 &   3\\\\\n",
       "\t 15 &   2\\\\\n",
       "\t 23 &   1\\\\\n",
       "\t 24 &   1\\\\\n",
       "\t 25 &   2\\\\\n",
       "\t 26 &   2\\\\\n",
       "\t 29 &   8\\\\\n",
       "\t 31 & 103\\\\\n",
       "\t 33 &  21\\\\\n",
       "\t 35 &  93\\\\\n",
       "\t 41 &  51\\\\\n",
       "\t 42 &  14\\\\\n",
       "\t 43 &   4\\\\\n",
       "\t 50 &   3\\\\\n",
       "\t 51 &  10\\\\\n",
       "\t 52 &  51\\\\\n",
       "\t 53 &  57\\\\\n",
       "\\end{tabular}\n"
      ],
      "text/markdown": [
       "\n",
       "A tibble: 17 × 2\n",
       "\n",
       "| SG_UF_NOT &lt;int&gt; | n &lt;int&gt; |\n",
       "|---|---|\n",
       "| 13 |   3 |\n",
       "| 15 |   2 |\n",
       "| 23 |   1 |\n",
       "| 24 |   1 |\n",
       "| 25 |   2 |\n",
       "| 26 |   2 |\n",
       "| 29 |   8 |\n",
       "| 31 | 103 |\n",
       "| 33 |  21 |\n",
       "| 35 |  93 |\n",
       "| 41 |  51 |\n",
       "| 42 |  14 |\n",
       "| 43 |   4 |\n",
       "| 50 |   3 |\n",
       "| 51 |  10 |\n",
       "| 52 |  51 |\n",
       "| 53 |  57 |\n",
       "\n"
      ],
      "text/plain": [
       "   SG_UF_NOT n  \n",
       "1  13          3\n",
       "2  15          2\n",
       "3  23          1\n",
       "4  24          1\n",
       "5  25          2\n",
       "6  26          2\n",
       "7  29          8\n",
       "8  31        103\n",
       "9  33         21\n",
       "10 35         93\n",
       "11 41         51\n",
       "12 42         14\n",
       "13 43          4\n",
       "14 50          3\n",
       "15 51         10\n",
       "16 52         51\n",
       "17 53         57"
      ]
     },
     "metadata": {},
     "output_type": "display_data"
    }
   ],
   "source": [
    "data %>% count(SG_UF_NOT)"
   ]
  },
  {
   "cell_type": "code",
   "execution_count": null,
   "id": "0fc21509-2066-47ab-8744-40d8bcf44f14",
   "metadata": {
    "id": "0fc21509-2066-47ab-8744-40d8bcf44f14",
    "outputId": "2ce343c7-f65d-4e17-9de7-65af46bbeedd"
   },
   "outputs": [
    {
     "data": {
      "text/html": [
       "<table class=\"dataframe\">\n",
       "<caption>A tibble: 2 × 2</caption>\n",
       "<thead>\n",
       "\t<tr><th scope=col>south</th><th scope=col>n</th></tr>\n",
       "\t<tr><th scope=col>&lt;dbl&gt;</th><th scope=col>&lt;int&gt;</th></tr>\n",
       "</thead>\n",
       "<tbody>\n",
       "\t<tr><td>0</td><td>357</td></tr>\n",
       "\t<tr><td>1</td><td> 69</td></tr>\n",
       "</tbody>\n",
       "</table>\n"
      ],
      "text/latex": [
       "A tibble: 2 × 2\n",
       "\\begin{tabular}{ll}\n",
       " south & n\\\\\n",
       " <dbl> & <int>\\\\\n",
       "\\hline\n",
       "\t 0 & 357\\\\\n",
       "\t 1 &  69\\\\\n",
       "\\end{tabular}\n"
      ],
      "text/markdown": [
       "\n",
       "A tibble: 2 × 2\n",
       "\n",
       "| south &lt;dbl&gt; | n &lt;int&gt; |\n",
       "|---|---|\n",
       "| 0 | 357 |\n",
       "| 1 |  69 |\n",
       "\n"
      ],
      "text/plain": [
       "  south n  \n",
       "1 0     357\n",
       "2 1      69"
      ]
     },
     "metadata": {},
     "output_type": "display_data"
    },
    {
     "data": {
      "text/html": [
       "<table class=\"dataframe\">\n",
       "<caption>A tibble: 2 × 2</caption>\n",
       "<thead>\n",
       "\t<tr><th scope=col>south_e</th><th scope=col>n</th></tr>\n",
       "\t<tr><th scope=col>&lt;dbl&gt;</th><th scope=col>&lt;int&gt;</th></tr>\n",
       "</thead>\n",
       "<tbody>\n",
       "\t<tr><td>0</td><td>209</td></tr>\n",
       "\t<tr><td>1</td><td>217</td></tr>\n",
       "</tbody>\n",
       "</table>\n"
      ],
      "text/latex": [
       "A tibble: 2 × 2\n",
       "\\begin{tabular}{ll}\n",
       " south\\_e & n\\\\\n",
       " <dbl> & <int>\\\\\n",
       "\\hline\n",
       "\t 0 & 209\\\\\n",
       "\t 1 & 217\\\\\n",
       "\\end{tabular}\n"
      ],
      "text/markdown": [
       "\n",
       "A tibble: 2 × 2\n",
       "\n",
       "| south_e &lt;dbl&gt; | n &lt;int&gt; |\n",
       "|---|---|\n",
       "| 0 | 209 |\n",
       "| 1 | 217 |\n",
       "\n"
      ],
      "text/plain": [
       "  south_e n  \n",
       "1 0       209\n",
       "2 1       217"
      ]
     },
     "metadata": {},
     "output_type": "display_data"
    },
    {
     "data": {
      "text/html": [
       "<table class=\"dataframe\">\n",
       "<caption>A tibble: 2 × 2</caption>\n",
       "<thead>\n",
       "\t<tr><th scope=col>north</th><th scope=col>n</th></tr>\n",
       "\t<tr><th scope=col>&lt;dbl&gt;</th><th scope=col>&lt;int&gt;</th></tr>\n",
       "</thead>\n",
       "<tbody>\n",
       "\t<tr><td>0</td><td>421</td></tr>\n",
       "\t<tr><td>1</td><td>  5</td></tr>\n",
       "</tbody>\n",
       "</table>\n"
      ],
      "text/latex": [
       "A tibble: 2 × 2\n",
       "\\begin{tabular}{ll}\n",
       " north & n\\\\\n",
       " <dbl> & <int>\\\\\n",
       "\\hline\n",
       "\t 0 & 421\\\\\n",
       "\t 1 &   5\\\\\n",
       "\\end{tabular}\n"
      ],
      "text/markdown": [
       "\n",
       "A tibble: 2 × 2\n",
       "\n",
       "| north &lt;dbl&gt; | n &lt;int&gt; |\n",
       "|---|---|\n",
       "| 0 | 421 |\n",
       "| 1 |   5 |\n",
       "\n"
      ],
      "text/plain": [
       "  north n  \n",
       "1 0     421\n",
       "2 1       5"
      ]
     },
     "metadata": {},
     "output_type": "display_data"
    },
    {
     "data": {
      "text/html": [
       "<table class=\"dataframe\">\n",
       "<caption>A tibble: 2 × 2</caption>\n",
       "<thead>\n",
       "\t<tr><th scope=col>north_e</th><th scope=col>n</th></tr>\n",
       "\t<tr><th scope=col>&lt;dbl&gt;</th><th scope=col>&lt;int&gt;</th></tr>\n",
       "</thead>\n",
       "<tbody>\n",
       "\t<tr><td>0</td><td>412</td></tr>\n",
       "\t<tr><td>1</td><td> 14</td></tr>\n",
       "</tbody>\n",
       "</table>\n"
      ],
      "text/latex": [
       "A tibble: 2 × 2\n",
       "\\begin{tabular}{ll}\n",
       " north\\_e & n\\\\\n",
       " <dbl> & <int>\\\\\n",
       "\\hline\n",
       "\t 0 & 412\\\\\n",
       "\t 1 &  14\\\\\n",
       "\\end{tabular}\n"
      ],
      "text/markdown": [
       "\n",
       "A tibble: 2 × 2\n",
       "\n",
       "| north_e &lt;dbl&gt; | n &lt;int&gt; |\n",
       "|---|---|\n",
       "| 0 | 412 |\n",
       "| 1 |  14 |\n",
       "\n"
      ],
      "text/plain": [
       "  north_e n  \n",
       "1 0       412\n",
       "2 1        14"
      ]
     },
     "metadata": {},
     "output_type": "display_data"
    },
    {
     "data": {
      "text/html": [
       "<table class=\"dataframe\">\n",
       "<caption>A tibble: 2 × 2</caption>\n",
       "<thead>\n",
       "\t<tr><th scope=col>center_w</th><th scope=col>n</th></tr>\n",
       "\t<tr><th scope=col>&lt;dbl&gt;</th><th scope=col>&lt;int&gt;</th></tr>\n",
       "</thead>\n",
       "<tbody>\n",
       "\t<tr><td>0</td><td>305</td></tr>\n",
       "\t<tr><td>1</td><td>121</td></tr>\n",
       "</tbody>\n",
       "</table>\n"
      ],
      "text/latex": [
       "A tibble: 2 × 2\n",
       "\\begin{tabular}{ll}\n",
       " center\\_w & n\\\\\n",
       " <dbl> & <int>\\\\\n",
       "\\hline\n",
       "\t 0 & 305\\\\\n",
       "\t 1 & 121\\\\\n",
       "\\end{tabular}\n"
      ],
      "text/markdown": [
       "\n",
       "A tibble: 2 × 2\n",
       "\n",
       "| center_w &lt;dbl&gt; | n &lt;int&gt; |\n",
       "|---|---|\n",
       "| 0 | 305 |\n",
       "| 1 | 121 |\n",
       "\n"
      ],
      "text/plain": [
       "  center_w n  \n",
       "1 0        305\n",
       "2 1        121"
      ]
     },
     "metadata": {},
     "output_type": "display_data"
    }
   ],
   "source": [
    "# south\n",
    "data %>% mutate(south = if_else((SG_UF_NOT >= 41  & SG_UF_NOT <= 43), 1, 0)) -> data\n",
    "data %>% count(south)\n",
    "\n",
    "# south_e\n",
    "data %>% mutate(south_e = if_else((SG_UF_NOT >= 31  & SG_UF_NOT <= 35), 1, 0)) -> data\n",
    "data %>% count(south_e)\n",
    "\n",
    "\n",
    "# north\n",
    "data %>% mutate(north = if_else((SG_UF_NOT < 18), 1, 0)) -> data\n",
    "data %>% count(north)\n",
    "\n",
    "# north_e\n",
    "data %>% mutate(north_e = if_else((SG_UF_NOT >= 20  & SG_UF_NOT <= 30), 1, 0)) -> data\n",
    "data %>% count(north_e)\n",
    "\n",
    "# center_w\n",
    "data %>% mutate(center_w = if_else((SG_UF_NOT > 49), 1, 0)) -> data\n",
    "data %>% count(center_w)\n",
    "\n",
    "data %>% select(-c(SG_UF_NOT)) -> data"
   ]
  },
  {
   "cell_type": "code",
   "execution_count": null,
   "id": "21df467a-d54e-4aa9-a091-69723efdc329",
   "metadata": {
    "id": "21df467a-d54e-4aa9-a091-69723efdc329",
    "outputId": "d0fdaafa-f257-4b01-b095-0f3b061a7cc9"
   },
   "outputs": [
    {
     "data": {
      "text/html": [
       "<style>\n",
       ".list-inline {list-style: none; margin:0; padding: 0}\n",
       ".list-inline>li {display: inline-block}\n",
       ".list-inline>li:not(:last-child)::after {content: \"\\00b7\"; padding: 0 .5ex}\n",
       "</style>\n",
       "<ol class=list-inline><li>'CS_ESCOL_N'</li><li>'FEBRE'</li><li>'MIALGIA'</li><li>'CEFALEIA'</li><li>'EXANTEMA'</li><li>'VOMITO'</li><li>'NAUSEA'</li><li>'DOR_COSTAS'</li><li>'CONJUNTVIT'</li><li>'ARTRITE'</li><li>'ARTRALGIA'</li><li>'PETEQUIA_N'</li><li>'LEUCOPENIA'</li><li>'LACO'</li><li>'DOR_RETRO'</li><li>'DIABETES'</li><li>'HEMATOLOG'</li><li>'HEPATOPAT'</li><li>'RENAL'</li><li>'HIPERTENSA'</li><li>'ACIDO_PEPT'</li><li>'AUTO_IMUNE'</li><li>'GRAV_PULSO'</li><li>'GRAV_CONV'</li><li>'GRAV_ENCH'</li><li>'GRAV_INSUF'</li><li>'GRAV_TAQUI'</li><li>'GRAV_EXTRE'</li><li>'GRAV_HIPOT'</li><li>'GRAV_HEMAT'</li><li>'GRAV_MELEN'</li><li>'GRAV_METRO'</li><li>'GRAV_SANG'</li><li>'GRAV_AST'</li><li>'GRAV_MIOC'</li><li>'GRAV_CONSC'</li><li>'GRAV_ORGAO'</li><li>'death'</li><li>'age'</li><li>'sex'</li><li>'pregnant'</li><li>'white'</li><li>'black'</li><li>'parda'</li><li>'week'</li><li>'days'</li><li>'south'</li><li>'south_e'</li><li>'north'</li><li>'north_e'</li><li>'center_w'</li></ol>\n"
      ],
      "text/latex": [
       "\\begin{enumerate*}\n",
       "\\item 'CS\\_ESCOL\\_N'\n",
       "\\item 'FEBRE'\n",
       "\\item 'MIALGIA'\n",
       "\\item 'CEFALEIA'\n",
       "\\item 'EXANTEMA'\n",
       "\\item 'VOMITO'\n",
       "\\item 'NAUSEA'\n",
       "\\item 'DOR\\_COSTAS'\n",
       "\\item 'CONJUNTVIT'\n",
       "\\item 'ARTRITE'\n",
       "\\item 'ARTRALGIA'\n",
       "\\item 'PETEQUIA\\_N'\n",
       "\\item 'LEUCOPENIA'\n",
       "\\item 'LACO'\n",
       "\\item 'DOR\\_RETRO'\n",
       "\\item 'DIABETES'\n",
       "\\item 'HEMATOLOG'\n",
       "\\item 'HEPATOPAT'\n",
       "\\item 'RENAL'\n",
       "\\item 'HIPERTENSA'\n",
       "\\item 'ACIDO\\_PEPT'\n",
       "\\item 'AUTO\\_IMUNE'\n",
       "\\item 'GRAV\\_PULSO'\n",
       "\\item 'GRAV\\_CONV'\n",
       "\\item 'GRAV\\_ENCH'\n",
       "\\item 'GRAV\\_INSUF'\n",
       "\\item 'GRAV\\_TAQUI'\n",
       "\\item 'GRAV\\_EXTRE'\n",
       "\\item 'GRAV\\_HIPOT'\n",
       "\\item 'GRAV\\_HEMAT'\n",
       "\\item 'GRAV\\_MELEN'\n",
       "\\item 'GRAV\\_METRO'\n",
       "\\item 'GRAV\\_SANG'\n",
       "\\item 'GRAV\\_AST'\n",
       "\\item 'GRAV\\_MIOC'\n",
       "\\item 'GRAV\\_CONSC'\n",
       "\\item 'GRAV\\_ORGAO'\n",
       "\\item 'death'\n",
       "\\item 'age'\n",
       "\\item 'sex'\n",
       "\\item 'pregnant'\n",
       "\\item 'white'\n",
       "\\item 'black'\n",
       "\\item 'parda'\n",
       "\\item 'week'\n",
       "\\item 'days'\n",
       "\\item 'south'\n",
       "\\item 'south\\_e'\n",
       "\\item 'north'\n",
       "\\item 'north\\_e'\n",
       "\\item 'center\\_w'\n",
       "\\end{enumerate*}\n"
      ],
      "text/markdown": [
       "1. 'CS_ESCOL_N'\n",
       "2. 'FEBRE'\n",
       "3. 'MIALGIA'\n",
       "4. 'CEFALEIA'\n",
       "5. 'EXANTEMA'\n",
       "6. 'VOMITO'\n",
       "7. 'NAUSEA'\n",
       "8. 'DOR_COSTAS'\n",
       "9. 'CONJUNTVIT'\n",
       "10. 'ARTRITE'\n",
       "11. 'ARTRALGIA'\n",
       "12. 'PETEQUIA_N'\n",
       "13. 'LEUCOPENIA'\n",
       "14. 'LACO'\n",
       "15. 'DOR_RETRO'\n",
       "16. 'DIABETES'\n",
       "17. 'HEMATOLOG'\n",
       "18. 'HEPATOPAT'\n",
       "19. 'RENAL'\n",
       "20. 'HIPERTENSA'\n",
       "21. 'ACIDO_PEPT'\n",
       "22. 'AUTO_IMUNE'\n",
       "23. 'GRAV_PULSO'\n",
       "24. 'GRAV_CONV'\n",
       "25. 'GRAV_ENCH'\n",
       "26. 'GRAV_INSUF'\n",
       "27. 'GRAV_TAQUI'\n",
       "28. 'GRAV_EXTRE'\n",
       "29. 'GRAV_HIPOT'\n",
       "30. 'GRAV_HEMAT'\n",
       "31. 'GRAV_MELEN'\n",
       "32. 'GRAV_METRO'\n",
       "33. 'GRAV_SANG'\n",
       "34. 'GRAV_AST'\n",
       "35. 'GRAV_MIOC'\n",
       "36. 'GRAV_CONSC'\n",
       "37. 'GRAV_ORGAO'\n",
       "38. 'death'\n",
       "39. 'age'\n",
       "40. 'sex'\n",
       "41. 'pregnant'\n",
       "42. 'white'\n",
       "43. 'black'\n",
       "44. 'parda'\n",
       "45. 'week'\n",
       "46. 'days'\n",
       "47. 'south'\n",
       "48. 'south_e'\n",
       "49. 'north'\n",
       "50. 'north_e'\n",
       "51. 'center_w'\n",
       "\n",
       "\n"
      ],
      "text/plain": [
       " [1] \"CS_ESCOL_N\" \"FEBRE\"      \"MIALGIA\"    \"CEFALEIA\"   \"EXANTEMA\"  \n",
       " [6] \"VOMITO\"     \"NAUSEA\"     \"DOR_COSTAS\" \"CONJUNTVIT\" \"ARTRITE\"   \n",
       "[11] \"ARTRALGIA\"  \"PETEQUIA_N\" \"LEUCOPENIA\" \"LACO\"       \"DOR_RETRO\" \n",
       "[16] \"DIABETES\"   \"HEMATOLOG\"  \"HEPATOPAT\"  \"RENAL\"      \"HIPERTENSA\"\n",
       "[21] \"ACIDO_PEPT\" \"AUTO_IMUNE\" \"GRAV_PULSO\" \"GRAV_CONV\"  \"GRAV_ENCH\" \n",
       "[26] \"GRAV_INSUF\" \"GRAV_TAQUI\" \"GRAV_EXTRE\" \"GRAV_HIPOT\" \"GRAV_HEMAT\"\n",
       "[31] \"GRAV_MELEN\" \"GRAV_METRO\" \"GRAV_SANG\"  \"GRAV_AST\"   \"GRAV_MIOC\" \n",
       "[36] \"GRAV_CONSC\" \"GRAV_ORGAO\" \"death\"      \"age\"        \"sex\"       \n",
       "[41] \"pregnant\"   \"white\"      \"black\"      \"parda\"      \"week\"      \n",
       "[46] \"days\"       \"south\"      \"south_e\"    \"north\"      \"north_e\"   \n",
       "[51] \"center_w\"  "
      ]
     },
     "metadata": {},
     "output_type": "display_data"
    }
   ],
   "source": [
    "data %>% colnames"
   ]
  },
  {
   "cell_type": "code",
   "execution_count": null,
   "id": "0e0319c8-1f9f-41e6-b460-df377fa5c317",
   "metadata": {
    "id": "0e0319c8-1f9f-41e6-b460-df377fa5c317",
    "outputId": "16e2130a-392b-4e60-99b4-bdca2b7475ac"
   },
   "outputs": [
    {
     "data": {
      "text/html": [
       "<table class=\"dataframe\">\n",
       "<caption>A tibble: 2 × 2</caption>\n",
       "<thead>\n",
       "\t<tr><th scope=col>death</th><th scope=col>n</th></tr>\n",
       "\t<tr><th scope=col>&lt;dbl&gt;</th><th scope=col>&lt;int&gt;</th></tr>\n",
       "</thead>\n",
       "<tbody>\n",
       "\t<tr><td>0</td><td>178</td></tr>\n",
       "\t<tr><td>1</td><td>248</td></tr>\n",
       "</tbody>\n",
       "</table>\n"
      ],
      "text/latex": [
       "A tibble: 2 × 2\n",
       "\\begin{tabular}{ll}\n",
       " death & n\\\\\n",
       " <dbl> & <int>\\\\\n",
       "\\hline\n",
       "\t 0 & 178\\\\\n",
       "\t 1 & 248\\\\\n",
       "\\end{tabular}\n"
      ],
      "text/markdown": [
       "\n",
       "A tibble: 2 × 2\n",
       "\n",
       "| death &lt;dbl&gt; | n &lt;int&gt; |\n",
       "|---|---|\n",
       "| 0 | 178 |\n",
       "| 1 | 248 |\n",
       "\n"
      ],
      "text/plain": [
       "  death n  \n",
       "1 0     178\n",
       "2 1     248"
      ]
     },
     "metadata": {},
     "output_type": "display_data"
    }
   ],
   "source": [
    "data %>% select(-days) -> data\n",
    "data %>% count(death)"
   ]
  },
  {
   "cell_type": "code",
   "execution_count": null,
   "id": "5b0ef869-9ac2-471b-b4ae-ea42d6129141",
   "metadata": {
    "id": "5b0ef869-9ac2-471b-b4ae-ea42d6129141",
    "outputId": "14b938ad-a3b9-4a19-9c29-cc9c6ff477cf"
   },
   "outputs": [
    {
     "data": {
      "text/html": [
       "<table class=\"dataframe\">\n",
       "<caption>A tibble: 6 × 36</caption>\n",
       "<thead>\n",
       "\t<tr><th scope=col>FEBRE</th><th scope=col>MIALGIA</th><th scope=col>CEFALEIA</th><th scope=col>EXANTEMA</th><th scope=col>VOMITO</th><th scope=col>NAUSEA</th><th scope=col>DOR_COSTAS</th><th scope=col>CONJUNTVIT</th><th scope=col>ARTRITE</th><th scope=col>ARTRALGIA</th><th scope=col>⋯</th><th scope=col>GRAV_EXTRE</th><th scope=col>GRAV_HIPOT</th><th scope=col>GRAV_HEMAT</th><th scope=col>GRAV_MELEN</th><th scope=col>GRAV_METRO</th><th scope=col>GRAV_SANG</th><th scope=col>GRAV_AST</th><th scope=col>GRAV_MIOC</th><th scope=col>GRAV_CONSC</th><th scope=col>GRAV_ORGAO</th></tr>\n",
       "\t<tr><th scope=col>&lt;int&gt;</th><th scope=col>&lt;int&gt;</th><th scope=col>&lt;int&gt;</th><th scope=col>&lt;int&gt;</th><th scope=col>&lt;int&gt;</th><th scope=col>&lt;int&gt;</th><th scope=col>&lt;int&gt;</th><th scope=col>&lt;int&gt;</th><th scope=col>&lt;int&gt;</th><th scope=col>&lt;int&gt;</th><th scope=col>⋯</th><th scope=col>&lt;int&gt;</th><th scope=col>&lt;int&gt;</th><th scope=col>&lt;int&gt;</th><th scope=col>&lt;int&gt;</th><th scope=col>&lt;int&gt;</th><th scope=col>&lt;int&gt;</th><th scope=col>&lt;int&gt;</th><th scope=col>&lt;int&gt;</th><th scope=col>&lt;int&gt;</th><th scope=col>&lt;int&gt;</th></tr>\n",
       "</thead>\n",
       "<tbody>\n",
       "\t<tr><td>1</td><td>1</td><td>1</td><td>1</td><td>1</td><td>1</td><td>1</td><td>2</td><td>2</td><td>2</td><td>⋯</td><td>2</td><td>2</td><td>2</td><td>2</td><td>2</td><td>2</td><td>2</td><td>2</td><td>2</td><td>2</td></tr>\n",
       "\t<tr><td>1</td><td>1</td><td>2</td><td>2</td><td>1</td><td>2</td><td>2</td><td>2</td><td>2</td><td>2</td><td>⋯</td><td>2</td><td>2</td><td>1</td><td>2</td><td>2</td><td>2</td><td>2</td><td>2</td><td>2</td><td>2</td></tr>\n",
       "\t<tr><td>1</td><td>2</td><td>1</td><td>2</td><td>2</td><td>2</td><td>2</td><td>2</td><td>2</td><td>2</td><td>⋯</td><td>2</td><td>2</td><td>2</td><td>2</td><td>2</td><td>2</td><td>2</td><td>2</td><td>2</td><td>2</td></tr>\n",
       "\t<tr><td>1</td><td>1</td><td>1</td><td>2</td><td>1</td><td>1</td><td>1</td><td>2</td><td>2</td><td>2</td><td>⋯</td><td>2</td><td>2</td><td>2</td><td>1</td><td>2</td><td>2</td><td>2</td><td>2</td><td>2</td><td>2</td></tr>\n",
       "\t<tr><td>1</td><td>1</td><td>2</td><td>2</td><td>1</td><td>2</td><td>2</td><td>1</td><td>2</td><td>2</td><td>⋯</td><td>2</td><td>2</td><td>2</td><td>2</td><td>2</td><td>2</td><td>1</td><td>2</td><td>2</td><td>1</td></tr>\n",
       "\t<tr><td>2</td><td>1</td><td>2</td><td>2</td><td>1</td><td>1</td><td>2</td><td>2</td><td>2</td><td>1</td><td>⋯</td><td>2</td><td>1</td><td>2</td><td>2</td><td>2</td><td>2</td><td>2</td><td>2</td><td>1</td><td>2</td></tr>\n",
       "</tbody>\n",
       "</table>\n"
      ],
      "text/latex": [
       "A tibble: 6 × 36\n",
       "\\begin{tabular}{lllllllllllllllllllll}\n",
       " FEBRE & MIALGIA & CEFALEIA & EXANTEMA & VOMITO & NAUSEA & DOR\\_COSTAS & CONJUNTVIT & ARTRITE & ARTRALGIA & ⋯ & GRAV\\_EXTRE & GRAV\\_HIPOT & GRAV\\_HEMAT & GRAV\\_MELEN & GRAV\\_METRO & GRAV\\_SANG & GRAV\\_AST & GRAV\\_MIOC & GRAV\\_CONSC & GRAV\\_ORGAO\\\\\n",
       " <int> & <int> & <int> & <int> & <int> & <int> & <int> & <int> & <int> & <int> & ⋯ & <int> & <int> & <int> & <int> & <int> & <int> & <int> & <int> & <int> & <int>\\\\\n",
       "\\hline\n",
       "\t 1 & 1 & 1 & 1 & 1 & 1 & 1 & 2 & 2 & 2 & ⋯ & 2 & 2 & 2 & 2 & 2 & 2 & 2 & 2 & 2 & 2\\\\\n",
       "\t 1 & 1 & 2 & 2 & 1 & 2 & 2 & 2 & 2 & 2 & ⋯ & 2 & 2 & 1 & 2 & 2 & 2 & 2 & 2 & 2 & 2\\\\\n",
       "\t 1 & 2 & 1 & 2 & 2 & 2 & 2 & 2 & 2 & 2 & ⋯ & 2 & 2 & 2 & 2 & 2 & 2 & 2 & 2 & 2 & 2\\\\\n",
       "\t 1 & 1 & 1 & 2 & 1 & 1 & 1 & 2 & 2 & 2 & ⋯ & 2 & 2 & 2 & 1 & 2 & 2 & 2 & 2 & 2 & 2\\\\\n",
       "\t 1 & 1 & 2 & 2 & 1 & 2 & 2 & 1 & 2 & 2 & ⋯ & 2 & 2 & 2 & 2 & 2 & 2 & 1 & 2 & 2 & 1\\\\\n",
       "\t 2 & 1 & 2 & 2 & 1 & 1 & 2 & 2 & 2 & 1 & ⋯ & 2 & 1 & 2 & 2 & 2 & 2 & 2 & 2 & 1 & 2\\\\\n",
       "\\end{tabular}\n"
      ],
      "text/markdown": [
       "\n",
       "A tibble: 6 × 36\n",
       "\n",
       "| FEBRE &lt;int&gt; | MIALGIA &lt;int&gt; | CEFALEIA &lt;int&gt; | EXANTEMA &lt;int&gt; | VOMITO &lt;int&gt; | NAUSEA &lt;int&gt; | DOR_COSTAS &lt;int&gt; | CONJUNTVIT &lt;int&gt; | ARTRITE &lt;int&gt; | ARTRALGIA &lt;int&gt; | ⋯ ⋯ | GRAV_EXTRE &lt;int&gt; | GRAV_HIPOT &lt;int&gt; | GRAV_HEMAT &lt;int&gt; | GRAV_MELEN &lt;int&gt; | GRAV_METRO &lt;int&gt; | GRAV_SANG &lt;int&gt; | GRAV_AST &lt;int&gt; | GRAV_MIOC &lt;int&gt; | GRAV_CONSC &lt;int&gt; | GRAV_ORGAO &lt;int&gt; |\n",
       "|---|---|---|---|---|---|---|---|---|---|---|---|---|---|---|---|---|---|---|---|---|\n",
       "| 1 | 1 | 1 | 1 | 1 | 1 | 1 | 2 | 2 | 2 | ⋯ | 2 | 2 | 2 | 2 | 2 | 2 | 2 | 2 | 2 | 2 |\n",
       "| 1 | 1 | 2 | 2 | 1 | 2 | 2 | 2 | 2 | 2 | ⋯ | 2 | 2 | 1 | 2 | 2 | 2 | 2 | 2 | 2 | 2 |\n",
       "| 1 | 2 | 1 | 2 | 2 | 2 | 2 | 2 | 2 | 2 | ⋯ | 2 | 2 | 2 | 2 | 2 | 2 | 2 | 2 | 2 | 2 |\n",
       "| 1 | 1 | 1 | 2 | 1 | 1 | 1 | 2 | 2 | 2 | ⋯ | 2 | 2 | 2 | 1 | 2 | 2 | 2 | 2 | 2 | 2 |\n",
       "| 1 | 1 | 2 | 2 | 1 | 2 | 2 | 1 | 2 | 2 | ⋯ | 2 | 2 | 2 | 2 | 2 | 2 | 1 | 2 | 2 | 1 |\n",
       "| 2 | 1 | 2 | 2 | 1 | 1 | 2 | 2 | 2 | 1 | ⋯ | 2 | 1 | 2 | 2 | 2 | 2 | 2 | 2 | 1 | 2 |\n",
       "\n"
      ],
      "text/plain": [
       "  FEBRE MIALGIA CEFALEIA EXANTEMA VOMITO NAUSEA DOR_COSTAS CONJUNTVIT ARTRITE\n",
       "1 1     1       1        1        1      1      1          2          2      \n",
       "2 1     1       2        2        1      2      2          2          2      \n",
       "3 1     2       1        2        2      2      2          2          2      \n",
       "4 1     1       1        2        1      1      1          2          2      \n",
       "5 1     1       2        2        1      2      2          1          2      \n",
       "6 2     1       2        2        1      1      2          2          2      \n",
       "  ARTRALGIA ⋯ GRAV_EXTRE GRAV_HIPOT GRAV_HEMAT GRAV_MELEN GRAV_METRO GRAV_SANG\n",
       "1 2         ⋯ 2          2          2          2          2          2        \n",
       "2 2         ⋯ 2          2          1          2          2          2        \n",
       "3 2         ⋯ 2          2          2          2          2          2        \n",
       "4 2         ⋯ 2          2          2          1          2          2        \n",
       "5 2         ⋯ 2          2          2          2          2          2        \n",
       "6 1         ⋯ 2          1          2          2          2          2        \n",
       "  GRAV_AST GRAV_MIOC GRAV_CONSC GRAV_ORGAO\n",
       "1 2        2         2          2         \n",
       "2 2        2         2          2         \n",
       "3 2        2         2          2         \n",
       "4 2        2         2          2         \n",
       "5 1        2         2          1         \n",
       "6 2        2         1          2         "
      ]
     },
     "metadata": {},
     "output_type": "display_data"
    },
    {
     "data": {
      "text/html": [
       "<table class=\"dataframe\">\n",
       "<caption>A tibble: 6 × 36</caption>\n",
       "<thead>\n",
       "\t<tr><th scope=col>FEBRE</th><th scope=col>MIALGIA</th><th scope=col>CEFALEIA</th><th scope=col>EXANTEMA</th><th scope=col>VOMITO</th><th scope=col>NAUSEA</th><th scope=col>DOR_COSTAS</th><th scope=col>CONJUNTVIT</th><th scope=col>ARTRITE</th><th scope=col>ARTRALGIA</th><th scope=col>⋯</th><th scope=col>GRAV_EXTRE</th><th scope=col>GRAV_HIPOT</th><th scope=col>GRAV_HEMAT</th><th scope=col>GRAV_MELEN</th><th scope=col>GRAV_METRO</th><th scope=col>GRAV_SANG</th><th scope=col>GRAV_AST</th><th scope=col>GRAV_MIOC</th><th scope=col>GRAV_CONSC</th><th scope=col>GRAV_ORGAO</th></tr>\n",
       "\t<tr><th scope=col>&lt;dbl&gt;</th><th scope=col>&lt;dbl&gt;</th><th scope=col>&lt;dbl&gt;</th><th scope=col>&lt;dbl&gt;</th><th scope=col>&lt;dbl&gt;</th><th scope=col>&lt;dbl&gt;</th><th scope=col>&lt;dbl&gt;</th><th scope=col>&lt;dbl&gt;</th><th scope=col>&lt;dbl&gt;</th><th scope=col>&lt;dbl&gt;</th><th scope=col>⋯</th><th scope=col>&lt;dbl&gt;</th><th scope=col>&lt;dbl&gt;</th><th scope=col>&lt;dbl&gt;</th><th scope=col>&lt;dbl&gt;</th><th scope=col>&lt;dbl&gt;</th><th scope=col>&lt;dbl&gt;</th><th scope=col>&lt;dbl&gt;</th><th scope=col>&lt;dbl&gt;</th><th scope=col>&lt;dbl&gt;</th><th scope=col>&lt;dbl&gt;</th></tr>\n",
       "</thead>\n",
       "<tbody>\n",
       "\t<tr><td>1</td><td>1</td><td>1</td><td>1</td><td>1</td><td>1</td><td>1</td><td>0</td><td>0</td><td>0</td><td>⋯</td><td>0</td><td>0</td><td>0</td><td>0</td><td>0</td><td>0</td><td>0</td><td>0</td><td>0</td><td>0</td></tr>\n",
       "\t<tr><td>1</td><td>1</td><td>0</td><td>0</td><td>1</td><td>0</td><td>0</td><td>0</td><td>0</td><td>0</td><td>⋯</td><td>0</td><td>0</td><td>1</td><td>0</td><td>0</td><td>0</td><td>0</td><td>0</td><td>0</td><td>0</td></tr>\n",
       "\t<tr><td>1</td><td>0</td><td>1</td><td>0</td><td>0</td><td>0</td><td>0</td><td>0</td><td>0</td><td>0</td><td>⋯</td><td>0</td><td>0</td><td>0</td><td>0</td><td>0</td><td>0</td><td>0</td><td>0</td><td>0</td><td>0</td></tr>\n",
       "\t<tr><td>1</td><td>1</td><td>1</td><td>0</td><td>1</td><td>1</td><td>1</td><td>0</td><td>0</td><td>0</td><td>⋯</td><td>0</td><td>0</td><td>0</td><td>1</td><td>0</td><td>0</td><td>0</td><td>0</td><td>0</td><td>0</td></tr>\n",
       "\t<tr><td>1</td><td>1</td><td>0</td><td>0</td><td>1</td><td>0</td><td>0</td><td>1</td><td>0</td><td>0</td><td>⋯</td><td>0</td><td>0</td><td>0</td><td>0</td><td>0</td><td>0</td><td>1</td><td>0</td><td>0</td><td>1</td></tr>\n",
       "\t<tr><td>0</td><td>1</td><td>0</td><td>0</td><td>1</td><td>1</td><td>0</td><td>0</td><td>0</td><td>1</td><td>⋯</td><td>0</td><td>1</td><td>0</td><td>0</td><td>0</td><td>0</td><td>0</td><td>0</td><td>1</td><td>0</td></tr>\n",
       "</tbody>\n",
       "</table>\n"
      ],
      "text/latex": [
       "A tibble: 6 × 36\n",
       "\\begin{tabular}{lllllllllllllllllllll}\n",
       " FEBRE & MIALGIA & CEFALEIA & EXANTEMA & VOMITO & NAUSEA & DOR\\_COSTAS & CONJUNTVIT & ARTRITE & ARTRALGIA & ⋯ & GRAV\\_EXTRE & GRAV\\_HIPOT & GRAV\\_HEMAT & GRAV\\_MELEN & GRAV\\_METRO & GRAV\\_SANG & GRAV\\_AST & GRAV\\_MIOC & GRAV\\_CONSC & GRAV\\_ORGAO\\\\\n",
       " <dbl> & <dbl> & <dbl> & <dbl> & <dbl> & <dbl> & <dbl> & <dbl> & <dbl> & <dbl> & ⋯ & <dbl> & <dbl> & <dbl> & <dbl> & <dbl> & <dbl> & <dbl> & <dbl> & <dbl> & <dbl>\\\\\n",
       "\\hline\n",
       "\t 1 & 1 & 1 & 1 & 1 & 1 & 1 & 0 & 0 & 0 & ⋯ & 0 & 0 & 0 & 0 & 0 & 0 & 0 & 0 & 0 & 0\\\\\n",
       "\t 1 & 1 & 0 & 0 & 1 & 0 & 0 & 0 & 0 & 0 & ⋯ & 0 & 0 & 1 & 0 & 0 & 0 & 0 & 0 & 0 & 0\\\\\n",
       "\t 1 & 0 & 1 & 0 & 0 & 0 & 0 & 0 & 0 & 0 & ⋯ & 0 & 0 & 0 & 0 & 0 & 0 & 0 & 0 & 0 & 0\\\\\n",
       "\t 1 & 1 & 1 & 0 & 1 & 1 & 1 & 0 & 0 & 0 & ⋯ & 0 & 0 & 0 & 1 & 0 & 0 & 0 & 0 & 0 & 0\\\\\n",
       "\t 1 & 1 & 0 & 0 & 1 & 0 & 0 & 1 & 0 & 0 & ⋯ & 0 & 0 & 0 & 0 & 0 & 0 & 1 & 0 & 0 & 1\\\\\n",
       "\t 0 & 1 & 0 & 0 & 1 & 1 & 0 & 0 & 0 & 1 & ⋯ & 0 & 1 & 0 & 0 & 0 & 0 & 0 & 0 & 1 & 0\\\\\n",
       "\\end{tabular}\n"
      ],
      "text/markdown": [
       "\n",
       "A tibble: 6 × 36\n",
       "\n",
       "| FEBRE &lt;dbl&gt; | MIALGIA &lt;dbl&gt; | CEFALEIA &lt;dbl&gt; | EXANTEMA &lt;dbl&gt; | VOMITO &lt;dbl&gt; | NAUSEA &lt;dbl&gt; | DOR_COSTAS &lt;dbl&gt; | CONJUNTVIT &lt;dbl&gt; | ARTRITE &lt;dbl&gt; | ARTRALGIA &lt;dbl&gt; | ⋯ ⋯ | GRAV_EXTRE &lt;dbl&gt; | GRAV_HIPOT &lt;dbl&gt; | GRAV_HEMAT &lt;dbl&gt; | GRAV_MELEN &lt;dbl&gt; | GRAV_METRO &lt;dbl&gt; | GRAV_SANG &lt;dbl&gt; | GRAV_AST &lt;dbl&gt; | GRAV_MIOC &lt;dbl&gt; | GRAV_CONSC &lt;dbl&gt; | GRAV_ORGAO &lt;dbl&gt; |\n",
       "|---|---|---|---|---|---|---|---|---|---|---|---|---|---|---|---|---|---|---|---|---|\n",
       "| 1 | 1 | 1 | 1 | 1 | 1 | 1 | 0 | 0 | 0 | ⋯ | 0 | 0 | 0 | 0 | 0 | 0 | 0 | 0 | 0 | 0 |\n",
       "| 1 | 1 | 0 | 0 | 1 | 0 | 0 | 0 | 0 | 0 | ⋯ | 0 | 0 | 1 | 0 | 0 | 0 | 0 | 0 | 0 | 0 |\n",
       "| 1 | 0 | 1 | 0 | 0 | 0 | 0 | 0 | 0 | 0 | ⋯ | 0 | 0 | 0 | 0 | 0 | 0 | 0 | 0 | 0 | 0 |\n",
       "| 1 | 1 | 1 | 0 | 1 | 1 | 1 | 0 | 0 | 0 | ⋯ | 0 | 0 | 0 | 1 | 0 | 0 | 0 | 0 | 0 | 0 |\n",
       "| 1 | 1 | 0 | 0 | 1 | 0 | 0 | 1 | 0 | 0 | ⋯ | 0 | 0 | 0 | 0 | 0 | 0 | 1 | 0 | 0 | 1 |\n",
       "| 0 | 1 | 0 | 0 | 1 | 1 | 0 | 0 | 0 | 1 | ⋯ | 0 | 1 | 0 | 0 | 0 | 0 | 0 | 0 | 1 | 0 |\n",
       "\n"
      ],
      "text/plain": [
       "  FEBRE MIALGIA CEFALEIA EXANTEMA VOMITO NAUSEA DOR_COSTAS CONJUNTVIT ARTRITE\n",
       "1 1     1       1        1        1      1      1          0          0      \n",
       "2 1     1       0        0        1      0      0          0          0      \n",
       "3 1     0       1        0        0      0      0          0          0      \n",
       "4 1     1       1        0        1      1      1          0          0      \n",
       "5 1     1       0        0        1      0      0          1          0      \n",
       "6 0     1       0        0        1      1      0          0          0      \n",
       "  ARTRALGIA ⋯ GRAV_EXTRE GRAV_HIPOT GRAV_HEMAT GRAV_MELEN GRAV_METRO GRAV_SANG\n",
       "1 0         ⋯ 0          0          0          0          0          0        \n",
       "2 0         ⋯ 0          0          1          0          0          0        \n",
       "3 0         ⋯ 0          0          0          0          0          0        \n",
       "4 0         ⋯ 0          0          0          1          0          0        \n",
       "5 0         ⋯ 0          0          0          0          0          0        \n",
       "6 1         ⋯ 0          1          0          0          0          0        \n",
       "  GRAV_AST GRAV_MIOC GRAV_CONSC GRAV_ORGAO\n",
       "1 0        0         0          0         \n",
       "2 0        0         0          0         \n",
       "3 0        0         0          0         \n",
       "4 0        0         0          0         \n",
       "5 1        0         0          1         \n",
       "6 0        0         1          0         "
      ]
     },
     "metadata": {},
     "output_type": "display_data"
    }
   ],
   "source": [
    "# the value 2 means the non-occurrence of a symptom, change this to 0\n",
    "data %>% select(FEBRE:GRAV_ORGAO) -> symptoms\n",
    "data %>% select(!(FEBRE:GRAV_ORGAO)) -> others\n",
    "\n",
    "symptoms %>% head\n",
    "\n",
    "symptoms <- symptoms %>%\n",
    "  mutate_all(~ ifelse(. == 2, 0, .))\n",
    "\n",
    "symptoms %>% head\n",
    "\n",
    "symptoms %>% cbind(others) -> data"
   ]
  },
  {
   "cell_type": "code",
   "execution_count": null,
   "id": "04ba216b-76ca-44e9-80ac-6e318f6e6dc5",
   "metadata": {
    "id": "04ba216b-76ca-44e9-80ac-6e318f6e6dc5",
    "outputId": "219ad946-875f-4c5b-82f5-80939a07b2e3"
   },
   "outputs": [
    {
     "data": {
      "text/html": [
       "21"
      ],
      "text/latex": [
       "21"
      ],
      "text/markdown": [
       "21"
      ],
      "text/plain": [
       "[1] 21"
      ]
     },
     "metadata": {},
     "output_type": "display_data"
    }
   ],
   "source": [
    "sum(!complete.cases(data))"
   ]
  },
  {
   "cell_type": "code",
   "execution_count": null,
   "id": "cef4f621-e35a-4f59-8cb0-2b07e5ec2a4c",
   "metadata": {
    "id": "cef4f621-e35a-4f59-8cb0-2b07e5ec2a4c"
   },
   "outputs": [],
   "source": [
    "data <- na.omit(data)"
   ]
  },
  {
   "cell_type": "code",
   "execution_count": null,
   "id": "208059bc-ef0a-472c-8be8-3bb1f0845e44",
   "metadata": {
    "id": "208059bc-ef0a-472c-8be8-3bb1f0845e44",
    "outputId": "00d876cd-72c7-4f3a-c968-8dcf6b307ec4"
   },
   "outputs": [
    {
     "data": {
      "text/html": [
       "<style>\n",
       ".list-inline {list-style: none; margin:0; padding: 0}\n",
       ".list-inline>li {display: inline-block}\n",
       ".list-inline>li:not(:last-child)::after {content: \"\\00b7\"; padding: 0 .5ex}\n",
       "</style>\n",
       "<ol class=list-inline><li>405</li><li>50</li></ol>\n"
      ],
      "text/latex": [
       "\\begin{enumerate*}\n",
       "\\item 405\n",
       "\\item 50\n",
       "\\end{enumerate*}\n"
      ],
      "text/markdown": [
       "1. 405\n",
       "2. 50\n",
       "\n",
       "\n"
      ],
      "text/plain": [
       "[1] 405  50"
      ]
     },
     "metadata": {},
     "output_type": "display_data"
    },
    {
     "data": {
      "text/html": [
       "<style>\n",
       ".list-inline {list-style: none; margin:0; padding: 0}\n",
       ".list-inline>li {display: inline-block}\n",
       ".list-inline>li:not(:last-child)::after {content: \"\\00b7\"; padding: 0 .5ex}\n",
       "</style>\n",
       "<ol class=list-inline><li>405</li><li>50</li></ol>\n"
      ],
      "text/latex": [
       "\\begin{enumerate*}\n",
       "\\item 405\n",
       "\\item 50\n",
       "\\end{enumerate*}\n"
      ],
      "text/markdown": [
       "1. 405\n",
       "2. 50\n",
       "\n",
       "\n"
      ],
      "text/plain": [
       "[1] 405  50"
      ]
     },
     "metadata": {},
     "output_type": "display_data"
    }
   ],
   "source": [
    "data %>% dim\n",
    "data %>% unique %>% dim"
   ]
  },
  {
   "cell_type": "code",
   "execution_count": null,
   "id": "7453b11d-d27e-4cef-ab3a-69cb679a5e09",
   "metadata": {
    "id": "7453b11d-d27e-4cef-ab3a-69cb679a5e09",
    "outputId": "4c430540-715a-4fb4-9573-8193a5f9ad2a"
   },
   "outputs": [
    {
     "data": {
      "text/html": [
       "<style>\n",
       ".list-inline {list-style: none; margin:0; padding: 0}\n",
       ".list-inline>li {display: inline-block}\n",
       ".list-inline>li:not(:last-child)::after {content: \"\\00b7\"; padding: 0 .5ex}\n",
       "</style>\n",
       "<ol class=list-inline><li>405</li><li>50</li></ol>\n"
      ],
      "text/latex": [
       "\\begin{enumerate*}\n",
       "\\item 405\n",
       "\\item 50\n",
       "\\end{enumerate*}\n"
      ],
      "text/markdown": [
       "1. 405\n",
       "2. 50\n",
       "\n",
       "\n"
      ],
      "text/plain": [
       "[1] 405  50"
      ]
     },
     "metadata": {},
     "output_type": "display_data"
    },
    {
     "data": {
      "text/html": [
       "<table class=\"dataframe\">\n",
       "<caption>A data.frame: 2 × 2</caption>\n",
       "<thead>\n",
       "\t<tr><th scope=col>death</th><th scope=col>n</th></tr>\n",
       "\t<tr><th scope=col>&lt;dbl&gt;</th><th scope=col>&lt;int&gt;</th></tr>\n",
       "</thead>\n",
       "<tbody>\n",
       "\t<tr><td>0</td><td>176</td></tr>\n",
       "\t<tr><td>1</td><td>229</td></tr>\n",
       "</tbody>\n",
       "</table>\n"
      ],
      "text/latex": [
       "A data.frame: 2 × 2\n",
       "\\begin{tabular}{ll}\n",
       " death & n\\\\\n",
       " <dbl> & <int>\\\\\n",
       "\\hline\n",
       "\t 0 & 176\\\\\n",
       "\t 1 & 229\\\\\n",
       "\\end{tabular}\n"
      ],
      "text/markdown": [
       "\n",
       "A data.frame: 2 × 2\n",
       "\n",
       "| death &lt;dbl&gt; | n &lt;int&gt; |\n",
       "|---|---|\n",
       "| 0 | 176 |\n",
       "| 1 | 229 |\n",
       "\n"
      ],
      "text/plain": [
       "  death n  \n",
       "1 0     176\n",
       "2 1     229"
      ]
     },
     "metadata": {},
     "output_type": "display_data"
    }
   ],
   "source": [
    "data %>% dim\n",
    "data %>% count(death)"
   ]
  },
  {
   "cell_type": "code",
   "execution_count": null,
   "id": "8248e7e1-7c3c-47da-ab97-5afb1ec3e555",
   "metadata": {
    "id": "8248e7e1-7c3c-47da-ab97-5afb1ec3e555",
    "outputId": "5d392dce-4ebd-44c7-82b4-c055be689634"
   },
   "outputs": [
    {
     "data": {
      "text/html": [
       "<style>\n",
       ".dl-inline {width: auto; margin:0; padding: 0}\n",
       ".dl-inline>dt, .dl-inline>dd {float: none; width: auto; display: inline-block}\n",
       ".dl-inline>dt::after {content: \":\\0020\"; padding-right: .5ex}\n",
       ".dl-inline>dt:not(:first-of-type) {padding-left: .5ex}\n",
       "</style><dl class=dl-inline><dt>FEBRE</dt><dd>317</dd><dt>MIALGIA</dt><dd>295</dd><dt>CEFALEIA</dt><dd>250</dd><dt>EXANTEMA</dt><dd>37</dd><dt>VOMITO</dt><dd>181</dd><dt>NAUSEA</dt><dd>185</dd><dt>DOR_COSTAS</dt><dd>96</dd><dt>CONJUNTVIT</dt><dd>8</dd><dt>ARTRITE</dt><dd>36</dd><dt>ARTRALGIA</dt><dd>87</dd><dt>PETEQUIA_N</dt><dd>46</dd><dt>LEUCOPENIA</dt><dd>79</dd><dt>LACO</dt><dd>22</dd><dt>DOR_RETRO</dt><dd>84</dd><dt>DIABETES</dt><dd>67</dd><dt>HEMATOLOG</dt><dd>15</dd><dt>HEPATOPAT</dt><dd>9</dd><dt>RENAL</dt><dd>20</dd><dt>HIPERTENSA</dt><dd>138</dd><dt>ACIDO_PEPT</dt><dd>0</dd><dt>AUTO_IMUNE</dt><dd>12</dd><dt>GRAV_PULSO</dt><dd>96</dd><dt>GRAV_CONV</dt><dd>52</dd><dt>GRAV_ENCH</dt><dd>64</dd><dt>GRAV_INSUF</dt><dd>87</dd><dt>GRAV_TAQUI</dt><dd>145</dd><dt>GRAV_EXTRE</dt><dd>156</dd><dt>GRAV_HIPOT</dt><dd>124</dd><dt>GRAV_HEMAT</dt><dd>57</dd><dt>GRAV_MELEN</dt><dd>63</dd><dt>GRAV_METRO</dt><dd>29</dd><dt>GRAV_SANG</dt><dd>15</dd><dt>GRAV_AST</dt><dd>33</dd><dt>GRAV_MIOC</dt><dd>16</dd><dt>GRAV_CONSC</dt><dd>133</dd><dt>GRAV_ORGAO</dt><dd>39</dd><dt>CS_ESCOL_N</dt><dd>2721</dd><dt>death</dt><dd>229</dd><dt>age</dt><dd>22591</dd><dt>sex</dt><dd>211</dd><dt>pregnant</dt><dd>5</dd><dt>white</dt><dd>188</dd><dt>black</dt><dd>25</dd><dt>parda</dt><dd>152</dd><dt>week</dt><dd>1706</dd><dt>south</dt><dd>69</dd><dt>south_e</dt><dd>206</dd><dt>north</dt><dd>5</dd><dt>north_e</dt><dd>11</dd><dt>center_w</dt><dd>114</dd></dl>\n"
      ],
      "text/latex": [
       "\\begin{description*}\n",
       "\\item[FEBRE] 317\n",
       "\\item[MIALGIA] 295\n",
       "\\item[CEFALEIA] 250\n",
       "\\item[EXANTEMA] 37\n",
       "\\item[VOMITO] 181\n",
       "\\item[NAUSEA] 185\n",
       "\\item[DOR\\textbackslash{}\\_COSTAS] 96\n",
       "\\item[CONJUNTVIT] 8\n",
       "\\item[ARTRITE] 36\n",
       "\\item[ARTRALGIA] 87\n",
       "\\item[PETEQUIA\\textbackslash{}\\_N] 46\n",
       "\\item[LEUCOPENIA] 79\n",
       "\\item[LACO] 22\n",
       "\\item[DOR\\textbackslash{}\\_RETRO] 84\n",
       "\\item[DIABETES] 67\n",
       "\\item[HEMATOLOG] 15\n",
       "\\item[HEPATOPAT] 9\n",
       "\\item[RENAL] 20\n",
       "\\item[HIPERTENSA] 138\n",
       "\\item[ACIDO\\textbackslash{}\\_PEPT] 0\n",
       "\\item[AUTO\\textbackslash{}\\_IMUNE] 12\n",
       "\\item[GRAV\\textbackslash{}\\_PULSO] 96\n",
       "\\item[GRAV\\textbackslash{}\\_CONV] 52\n",
       "\\item[GRAV\\textbackslash{}\\_ENCH] 64\n",
       "\\item[GRAV\\textbackslash{}\\_INSUF] 87\n",
       "\\item[GRAV\\textbackslash{}\\_TAQUI] 145\n",
       "\\item[GRAV\\textbackslash{}\\_EXTRE] 156\n",
       "\\item[GRAV\\textbackslash{}\\_HIPOT] 124\n",
       "\\item[GRAV\\textbackslash{}\\_HEMAT] 57\n",
       "\\item[GRAV\\textbackslash{}\\_MELEN] 63\n",
       "\\item[GRAV\\textbackslash{}\\_METRO] 29\n",
       "\\item[GRAV\\textbackslash{}\\_SANG] 15\n",
       "\\item[GRAV\\textbackslash{}\\_AST] 33\n",
       "\\item[GRAV\\textbackslash{}\\_MIOC] 16\n",
       "\\item[GRAV\\textbackslash{}\\_CONSC] 133\n",
       "\\item[GRAV\\textbackslash{}\\_ORGAO] 39\n",
       "\\item[CS\\textbackslash{}\\_ESCOL\\textbackslash{}\\_N] 2721\n",
       "\\item[death] 229\n",
       "\\item[age] 22591\n",
       "\\item[sex] 211\n",
       "\\item[pregnant] 5\n",
       "\\item[white] 188\n",
       "\\item[black] 25\n",
       "\\item[parda] 152\n",
       "\\item[week] 1706\n",
       "\\item[south] 69\n",
       "\\item[south\\textbackslash{}\\_e] 206\n",
       "\\item[north] 5\n",
       "\\item[north\\textbackslash{}\\_e] 11\n",
       "\\item[center\\textbackslash{}\\_w] 114\n",
       "\\end{description*}\n"
      ],
      "text/markdown": [
       "FEBRE\n",
       ":   317MIALGIA\n",
       ":   295CEFALEIA\n",
       ":   250EXANTEMA\n",
       ":   37VOMITO\n",
       ":   181NAUSEA\n",
       ":   185DOR_COSTAS\n",
       ":   96CONJUNTVIT\n",
       ":   8ARTRITE\n",
       ":   36ARTRALGIA\n",
       ":   87PETEQUIA_N\n",
       ":   46LEUCOPENIA\n",
       ":   79LACO\n",
       ":   22DOR_RETRO\n",
       ":   84DIABETES\n",
       ":   67HEMATOLOG\n",
       ":   15HEPATOPAT\n",
       ":   9RENAL\n",
       ":   20HIPERTENSA\n",
       ":   138ACIDO_PEPT\n",
       ":   0AUTO_IMUNE\n",
       ":   12GRAV_PULSO\n",
       ":   96GRAV_CONV\n",
       ":   52GRAV_ENCH\n",
       ":   64GRAV_INSUF\n",
       ":   87GRAV_TAQUI\n",
       ":   145GRAV_EXTRE\n",
       ":   156GRAV_HIPOT\n",
       ":   124GRAV_HEMAT\n",
       ":   57GRAV_MELEN\n",
       ":   63GRAV_METRO\n",
       ":   29GRAV_SANG\n",
       ":   15GRAV_AST\n",
       ":   33GRAV_MIOC\n",
       ":   16GRAV_CONSC\n",
       ":   133GRAV_ORGAO\n",
       ":   39CS_ESCOL_N\n",
       ":   2721death\n",
       ":   229age\n",
       ":   22591sex\n",
       ":   211pregnant\n",
       ":   5white\n",
       ":   188black\n",
       ":   25parda\n",
       ":   152week\n",
       ":   1706south\n",
       ":   69south_e\n",
       ":   206north\n",
       ":   5north_e\n",
       ":   11center_w\n",
       ":   114\n",
       "\n"
      ],
      "text/plain": [
       "     FEBRE    MIALGIA   CEFALEIA   EXANTEMA     VOMITO     NAUSEA DOR_COSTAS \n",
       "       317        295        250         37        181        185         96 \n",
       "CONJUNTVIT    ARTRITE  ARTRALGIA PETEQUIA_N LEUCOPENIA       LACO  DOR_RETRO \n",
       "         8         36         87         46         79         22         84 \n",
       "  DIABETES  HEMATOLOG  HEPATOPAT      RENAL HIPERTENSA ACIDO_PEPT AUTO_IMUNE \n",
       "        67         15          9         20        138          0         12 \n",
       "GRAV_PULSO  GRAV_CONV  GRAV_ENCH GRAV_INSUF GRAV_TAQUI GRAV_EXTRE GRAV_HIPOT \n",
       "        96         52         64         87        145        156        124 \n",
       "GRAV_HEMAT GRAV_MELEN GRAV_METRO  GRAV_SANG   GRAV_AST  GRAV_MIOC GRAV_CONSC \n",
       "        57         63         29         15         33         16        133 \n",
       "GRAV_ORGAO CS_ESCOL_N      death        age        sex   pregnant      white \n",
       "        39       2721        229      22591        211          5        188 \n",
       "     black      parda       week      south    south_e      north    north_e \n",
       "        25        152       1706         69        206          5         11 \n",
       "  center_w \n",
       "       114 "
      ]
     },
     "metadata": {},
     "output_type": "display_data"
    }
   ],
   "source": [
    "colSums(data, na.rm = TRUE)\n",
    "data %>% select(-ACIDO_PEPT) -> data"
   ]
  },
  {
   "cell_type": "code",
   "execution_count": null,
   "id": "91341cce-8a8d-4314-8cb5-5f6439ee351f",
   "metadata": {
    "id": "91341cce-8a8d-4314-8cb5-5f6439ee351f"
   },
   "outputs": [],
   "source": [
    "data %>% select(FEBRE:CS_ESCOL_N, age:center_w, death) -> data"
   ]
  },
  {
   "cell_type": "code",
   "execution_count": null,
   "id": "886ce08f-2269-436f-8d54-7c6b0fa447ea",
   "metadata": {
    "id": "886ce08f-2269-436f-8d54-7c6b0fa447ea"
   },
   "outputs": [],
   "source": [
    "# Assuming df is your data frame\n",
    "colnames(data) <- c(\"fever\", \"myalgia\", \"headache\",\n",
    "                  \"rash\", \"vomiting\", \"nausea\",\n",
    "                  \"back_pain\", \"conjunctivitis\", \"arthritis\",\n",
    "                  \"arthralgia\", \"petechiae_n\", \"leukopenia\",\n",
    "                  \"lace\", \"retroorbital_pain\", \"diabetes\",\n",
    "                  \"hematological_diseases\", \"hepatopathy\", \"chronic_kidney_disease\",\n",
    "                  \"hypertension\", \"autoimmune_disease\", \"weak_pulse\",\n",
    "                  \"convergent_pressure\", \"capillary_time\", \"fluid_accumulation\",\n",
    "                  \"tachycardia\", \"cold_extremities\", \"hypotension\",\n",
    "                  \"hematemesis\", \"melena\", \"metrorrhagia\",\n",
    "                  \"cns_bleeding\", \"AST/ALT_ratio\", \"myocarditis\",\n",
    "                  \"consciousness\", \"other_organs\", \"education\", \"age\",\n",
    "                  \"sex\", \"pregnant\", \"white\",\n",
    "                  \"black\", \"parda\", \"week\",\n",
    "                  \"south\", \"southeast\", \"north\",\n",
    "                  \"northeast\", \"central_west\", \"death\")"
   ]
  },
  {
   "cell_type": "code",
   "execution_count": null,
   "id": "fd005b36-1252-4fd4-942b-0dadb691b4b8",
   "metadata": {
    "id": "fd005b36-1252-4fd4-942b-0dadb691b4b8"
   },
   "outputs": [],
   "source": [
    "data %>% select(-c(fever: retroorbital_pain)) -> data"
   ]
  },
  {
   "cell_type": "code",
   "execution_count": null,
   "id": "cfdb951f-8d50-4c8d-b1c2-3330406a11d1",
   "metadata": {
    "id": "cfdb951f-8d50-4c8d-b1c2-3330406a11d1"
   },
   "outputs": [],
   "source": [
    "data %>% write_csv('death_dengue_24.csv')"
   ]
  },
  {
   "cell_type": "code",
   "execution_count": null,
   "id": "c5f7817f-deb3-4b62-b41f-e4f0e20f145f",
   "metadata": {
    "id": "c5f7817f-deb3-4b62-b41f-e4f0e20f145f",
    "outputId": "0f0977cc-f5f6-4c38-eb56-4001e5408ca2"
   },
   "outputs": [
    {
     "data": {
      "text/html": [
       "<style>\n",
       ".list-inline {list-style: none; margin:0; padding: 0}\n",
       ".list-inline>li {display: inline-block}\n",
       ".list-inline>li:not(:last-child)::after {content: \"\\00b7\"; padding: 0 .5ex}\n",
       "</style>\n",
       "<ol class=list-inline><li>405</li><li>35</li></ol>\n"
      ],
      "text/latex": [
       "\\begin{enumerate*}\n",
       "\\item 405\n",
       "\\item 35\n",
       "\\end{enumerate*}\n"
      ],
      "text/markdown": [
       "1. 405\n",
       "2. 35\n",
       "\n",
       "\n"
      ],
      "text/plain": [
       "[1] 405  35"
      ]
     },
     "metadata": {},
     "output_type": "display_data"
    }
   ],
   "source": [
    "data %>% dim"
   ]
  }
 ],
 "metadata": {
  "colab": {
   "provenance": []
  },
  "kernelspec": {
   "display_name": "Python 3",
   "language": "python",
   "name": "python3"
  },
  "language_info": {
   "codemirror_mode": {
    "name": "ipython",
    "version": 3
   },
   "file_extension": ".py",
   "mimetype": "text/x-python",
   "name": "python",
   "nbconvert_exporter": "python",
   "pygments_lexer": "ipython3",
   "version": "3.10.12"
  }
 },
 "nbformat": 4,
 "nbformat_minor": 5
}
